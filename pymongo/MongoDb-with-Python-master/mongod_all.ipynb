{
 "cells": [
  {
   "cell_type": "code",
   "execution_count": 50,
   "metadata": {},
   "outputs": [],
   "source": [
    "import pymongo"
   ]
  },
  {
   "cell_type": "code",
   "execution_count": 51,
   "metadata": {},
   "outputs": [],
   "source": [
    "client = pymongo.MongoClient(\"mongodb://127.0.0.1:27017/\")"
   ]
  },
  {
   "cell_type": "code",
   "execution_count": 52,
   "metadata": {},
   "outputs": [],
   "source": [
    "db = client.test"
   ]
  },
  {
   "cell_type": "code",
   "execution_count": 53,
   "metadata": {},
   "outputs": [
    {
     "name": "stdout",
     "output_type": "stream",
     "text": [
      "Database(MongoClient(host=['127.0.0.1:27017'], document_class=dict, tz_aware=False, connect=True), 'test')\n"
     ]
    }
   ],
   "source": [
    "print(db)"
   ]
  },
  {
   "cell_type": "code",
   "execution_count": 54,
   "metadata": {},
   "outputs": [],
   "source": [
    "db = client['swetanshu']"
   ]
  },
  {
   "cell_type": "code",
   "execution_count": 55,
   "metadata": {},
   "outputs": [],
   "source": [
    "coll1 = db['ineuron_collection']"
   ]
  },
  {
   "cell_type": "code",
   "execution_count": 56,
   "metadata": {},
   "outputs": [],
   "source": [
    "dict1 = {\n",
    "    \"name\":\"swetanshu\",\n",
    "    \"email_id\":\"swetanshu1722@gmail.com\",\n",
    "    \"product\":[\"machine_learning\",\"deep_learning\",\"ml_ops\",\"ai_ops\"],\n",
    "    \"company\":\"adbrew\"\n",
    "}"
   ]
  },
  {
   "cell_type": "code",
   "execution_count": 57,
   "metadata": {},
   "outputs": [
    {
     "data": {
      "text/plain": [
       "<pymongo.results.InsertOneResult at 0x17b91eb7850>"
      ]
     },
     "execution_count": 57,
     "metadata": {},
     "output_type": "execute_result"
    }
   ],
   "source": [
    "coll1.insert_one(dict1)"
   ]
  },
  {
   "cell_type": "code",
   "execution_count": 58,
   "metadata": {},
   "outputs": [],
   "source": [
    "dict2 = {\n",
    "    \"name\":\"swetanshu\",\n",
    "    \"email_id\":\"swetanshu1722@gmail.com\",\n",
    "    \"product\":[\"machine_learning\",\"deep_learning\",\"ml_ops\",\"ai_ops\"],\n",
    "    \"company\":\"adbrew\",\n",
    "    \"phone_number\":\"3278879312\"\n",
    "}"
   ]
  },
  {
   "cell_type": "code",
   "execution_count": 59,
   "metadata": {},
   "outputs": [
    {
     "data": {
      "text/plain": [
       "<pymongo.results.InsertOneResult at 0x17b8fd962e0>"
      ]
     },
     "execution_count": 59,
     "metadata": {},
     "output_type": "execute_result"
    }
   ],
   "source": [
    "coll1.insert_one(dict2)"
   ]
  },
  {
   "cell_type": "code",
   "execution_count": 60,
   "metadata": {},
   "outputs": [],
   "source": [
    "dict3 = {\n",
    "    \"_id\":\"ahdjckijqaanadikooaiud\",\n",
    "    \"name\":\"swetanshu\",\n",
    "    \"email_id\":\"swetanshu1722@gmailudiaad.com\",\n",
    "    \"product\":[\"machine_learning\",\"deep_learning\",\"ml_ops\",\"ai_ops\"],\n",
    "    \"company\":\"adbrew\",\n",
    "    \"phone_number\":\"3278879312\"\n",
    "}"
   ]
  },
  {
   "cell_type": "code",
   "execution_count": 61,
   "metadata": {},
   "outputs": [
    {
     "data": {
      "text/plain": [
       "<pymongo.results.InsertOneResult at 0x17b91ed6340>"
      ]
     },
     "execution_count": 61,
     "metadata": {},
     "output_type": "execute_result"
    }
   ],
   "source": [
    "coll1.insert_one(dict3)"
   ]
  },
  {
   "cell_type": "code",
   "execution_count": 62,
   "metadata": {},
   "outputs": [],
   "source": [
    "list1 = [\n",
    "        {\n",
    "            \"item\": \"canvas\",\n",
    "            \"qty\": 100,\n",
    "            \"size\": {\"h\": 28, \"w\": 35.5, \"uom\": \"cm\"},\n",
    "            \"status\": \"A\",\n",
    "        },\n",
    "        {\n",
    "            \"item\": \"journal\",\n",
    "            \"qty\": 25,\n",
    "            \"size\": {\"h\": 14, \"w\": 21, \"uom\": \"cm\"},\n",
    "            \"status\": \"A\",\n",
    "        },\n",
    "        {\n",
    "            \"item\": \"mat\",\n",
    "            \"qty\": 85,\n",
    "            \"size\": {\"h\": 27.9, \"w\": 35.5, \"uom\": \"cm\"},\n",
    "            \"status\": \"A\",\n",
    "        },\n",
    "        {\n",
    "            \"item\": \"mousepad\",\n",
    "            \"qty\": 25,\n",
    "            \"size\": {\"h\": 19, \"w\": 22.85, \"uom\": \"cm\"},\n",
    "            \"status\": \"P\",\n",
    "        },\n",
    "        {\n",
    "            \"item\": \"notebook\",\n",
    "            \"qty\": 50,\n",
    "            \"size\": {\"h\": 8.5, \"w\": 11, \"uom\": \"in\"},\n",
    "            \"status\": \"P\",\n",
    "        },\n",
    "        {\n",
    "            \"item\": \"paper\",\n",
    "            \"qty\": 100,\n",
    "            \"size\": {\"h\": 8.5, \"w\": 11, \"uom\": \"in\"},\n",
    "            \"status\": \"D\",\n",
    "        },\n",
    "        {\n",
    "            \"item\": \"planner\",\n",
    "            \"qty\": 75,\n",
    "            \"size\": {\"h\": 22.85, \"w\": 30, \"uom\": \"cm\"},\n",
    "            \"status\": \"D\",\n",
    "        },\n",
    "        {\n",
    "            \"item\": \"postcard\",\n",
    "            \"qty\": 45,\n",
    "            \"size\": {\"h\": 10, \"w\": 15.25, \"uom\": \"cm\"},\n",
    "            \"status\": \"A\",\n",
    "        },\n",
    "        {\n",
    "            \"item\": \"sketchbook\",\n",
    "            \"qty\": 80,\n",
    "            \"size\": {\"h\": 14, \"w\": 21, \"uom\": \"cm\"},\n",
    "            \"status\": \"A\",\n",
    "        },\n",
    "        {\n",
    "            \"item\": \"sketch pad\",\n",
    "            \"qty\": 95,\n",
    "            \"size\": {\"h\": 22.85, \"w\": 30.5, \"uom\": \"cm\"},\n",
    "            \"status\": \"A\",\n",
    "        },\n",
    "    ]"
   ]
  },
  {
   "cell_type": "code",
   "execution_count": 63,
   "metadata": {},
   "outputs": [
    {
     "data": {
      "text/plain": [
       "<pymongo.results.InsertManyResult at 0x17b91fdb5b0>"
      ]
     },
     "execution_count": 63,
     "metadata": {},
     "output_type": "execute_result"
    }
   ],
   "source": [
    "coll1.insert_many(list1)"
   ]
  },
  {
   "cell_type": "code",
   "execution_count": 64,
   "metadata": {},
   "outputs": [],
   "source": [
    "list2 = [\n",
    "    {\n",
    "    \"name\" :\"sudhanshu\",\n",
    "    \"email_id\" :\"sudhanshu@ineuron.ai\",\n",
    "    \"product\" : [\"one neuron\" , \"tech neuron\" , \"kids neuron \" , \"drone fleetmatics\"],\n",
    "    \"company\" : \"ineuron intelligence private limited\"\n",
    "},\n",
    "    {\n",
    "    \"name\" :\"sudhanshu\",\n",
    "    \"email_id\" :\"sudhanshu@ineuron.ai\",\n",
    "    \"product\" : [\"one neuron\" , \"tech neuron\" , \"kids neuron \" , \"drone fleetmatics\"],\n",
    "    \"company\" : \"ineuron intelligence private limited\"\n",
    "},\n",
    "    {\n",
    "    \"name\" :\"sudhanshu\",\n",
    "    \"email_id\" :\"sudhanshu@ineuron.ai\",\n",
    "    \"product\" : [\"one neuron\" , \"tech neuron\" , \"kids neuron \" , \"drone fleetmatics\"],\n",
    "    \"company\" : \"ineuron intelligence private limited\"\n",
    "},\n",
    "    {\n",
    "    \"name\" :\"sudhanshu\",\n",
    "    \"email_id\" :\"sudhanshu@ineuron.ai\",\n",
    "    \"product\" : [\"one neuron\" , \"tech neuron\" , \"kids neuron \" , \"drone fleetmatics\"],\n",
    "    \"company\" : \"ineuron intelligence private limited\"\n",
    "},\n",
    "    {\n",
    "    \"name\" :\"sudhanshu\",\n",
    "    \"email_id\" :\"sudhanshu@ineuron.ai\",\n",
    "    \"product\" : [\"one neuron\" , \"tech neuron\" , \"kids neuron \" , \"drone fleetmatics\"],\n",
    "    \"company\" : \"ineuron intelligence private limited\"\n",
    "},\n",
    "]"
   ]
  },
  {
   "cell_type": "code",
   "execution_count": 65,
   "metadata": {},
   "outputs": [
    {
     "data": {
      "text/plain": [
       "<pymongo.results.InsertManyResult at 0x17b91fe66d0>"
      ]
     },
     "execution_count": 65,
     "metadata": {},
     "output_type": "execute_result"
    }
   ],
   "source": [
    "coll1.insert_many(list2)"
   ]
  },
  {
   "cell_type": "code",
   "execution_count": 66,
   "metadata": {},
   "outputs": [
    {
     "name": "stdout",
     "output_type": "stream",
     "text": [
      "{'_id': ObjectId('63d4ce74a4ae7601f0aaedbf'), 'name': 'swetanshu', 'email_id': 'swetanshu1722@gmail.com', 'product': ['machine_learning', 'deep_learning', 'ml_ops', 'ai_ops'], 'company': 'adbrew'}\n",
      "{'_id': ObjectId('63d4ce74a4ae7601f0aaedc0'), 'name': 'swetanshu', 'email_id': 'swetanshu1722@gmail.com', 'product': ['machine_learning', 'deep_learning', 'ml_ops', 'ai_ops'], 'company': 'adbrew', 'phone_number': '3278879312'}\n",
      "{'_id': 'ahdjckijqaanadikooaiud', 'name': 'swetanshu', 'email_id': 'swetanshu1722@gmailudiaad.com', 'product': ['machine_learning', 'deep_learning', 'ml_ops', 'ai_ops'], 'company': 'adbrew', 'phone_number': '3278879312'}\n",
      "{'_id': ObjectId('63d4ce74a4ae7601f0aaedc1'), 'item': 'canvas', 'qty': 100, 'size': {'h': 28, 'w': 35.5, 'uom': 'cm'}, 'status': 'A'}\n",
      "{'_id': ObjectId('63d4ce74a4ae7601f0aaedc2'), 'item': 'journal', 'qty': 25, 'size': {'h': 14, 'w': 21, 'uom': 'cm'}, 'status': 'A'}\n",
      "{'_id': ObjectId('63d4ce74a4ae7601f0aaedc3'), 'item': 'mat', 'qty': 85, 'size': {'h': 27.9, 'w': 35.5, 'uom': 'cm'}, 'status': 'A'}\n",
      "{'_id': ObjectId('63d4ce74a4ae7601f0aaedc4'), 'item': 'mousepad', 'qty': 25, 'size': {'h': 19, 'w': 22.85, 'uom': 'cm'}, 'status': 'P'}\n",
      "{'_id': ObjectId('63d4ce74a4ae7601f0aaedc5'), 'item': 'notebook', 'qty': 50, 'size': {'h': 8.5, 'w': 11, 'uom': 'in'}, 'status': 'P'}\n",
      "{'_id': ObjectId('63d4ce74a4ae7601f0aaedc6'), 'item': 'paper', 'qty': 100, 'size': {'h': 8.5, 'w': 11, 'uom': 'in'}, 'status': 'D'}\n",
      "{'_id': ObjectId('63d4ce74a4ae7601f0aaedc7'), 'item': 'planner', 'qty': 75, 'size': {'h': 22.85, 'w': 30, 'uom': 'cm'}, 'status': 'D'}\n",
      "{'_id': ObjectId('63d4ce74a4ae7601f0aaedc8'), 'item': 'postcard', 'qty': 45, 'size': {'h': 10, 'w': 15.25, 'uom': 'cm'}, 'status': 'A'}\n",
      "{'_id': ObjectId('63d4ce74a4ae7601f0aaedc9'), 'item': 'sketchbook', 'qty': 80, 'size': {'h': 14, 'w': 21, 'uom': 'cm'}, 'status': 'A'}\n",
      "{'_id': ObjectId('63d4ce74a4ae7601f0aaedca'), 'item': 'sketch pad', 'qty': 95, 'size': {'h': 22.85, 'w': 30.5, 'uom': 'cm'}, 'status': 'A'}\n",
      "{'_id': ObjectId('63d4ce74a4ae7601f0aaedcb'), 'name': 'sudhanshu', 'email_id': 'sudhanshu@ineuron.ai', 'product': ['one neuron', 'tech neuron', 'kids neuron ', 'drone fleetmatics'], 'company': 'ineuron intelligence private limited'}\n",
      "{'_id': ObjectId('63d4ce74a4ae7601f0aaedcc'), 'name': 'sudhanshu', 'email_id': 'sudhanshu@ineuron.ai', 'product': ['one neuron', 'tech neuron', 'kids neuron ', 'drone fleetmatics'], 'company': 'ineuron intelligence private limited'}\n",
      "{'_id': ObjectId('63d4ce74a4ae7601f0aaedcd'), 'name': 'sudhanshu', 'email_id': 'sudhanshu@ineuron.ai', 'product': ['one neuron', 'tech neuron', 'kids neuron ', 'drone fleetmatics'], 'company': 'ineuron intelligence private limited'}\n",
      "{'_id': ObjectId('63d4ce74a4ae7601f0aaedce'), 'name': 'sudhanshu', 'email_id': 'sudhanshu@ineuron.ai', 'product': ['one neuron', 'tech neuron', 'kids neuron ', 'drone fleetmatics'], 'company': 'ineuron intelligence private limited'}\n",
      "{'_id': ObjectId('63d4ce74a4ae7601f0aaedcf'), 'name': 'sudhanshu', 'email_id': 'sudhanshu@ineuron.ai', 'product': ['one neuron', 'tech neuron', 'kids neuron ', 'drone fleetmatics'], 'company': 'ineuron intelligence private limited'}\n"
     ]
    }
   ],
   "source": [
    "for i in coll1.find():\n",
    "    print(i)"
   ]
  },
  {
   "cell_type": "code",
   "execution_count": 67,
   "metadata": {},
   "outputs": [
    {
     "name": "stdout",
     "output_type": "stream",
     "text": [
      "{'_id': ObjectId('63d4ce74a4ae7601f0aaedcb'), 'name': 'sudhanshu', 'email_id': 'sudhanshu@ineuron.ai', 'product': ['one neuron', 'tech neuron', 'kids neuron ', 'drone fleetmatics'], 'company': 'ineuron intelligence private limited'}\n",
      "{'_id': ObjectId('63d4ce74a4ae7601f0aaedcc'), 'name': 'sudhanshu', 'email_id': 'sudhanshu@ineuron.ai', 'product': ['one neuron', 'tech neuron', 'kids neuron ', 'drone fleetmatics'], 'company': 'ineuron intelligence private limited'}\n",
      "{'_id': ObjectId('63d4ce74a4ae7601f0aaedcd'), 'name': 'sudhanshu', 'email_id': 'sudhanshu@ineuron.ai', 'product': ['one neuron', 'tech neuron', 'kids neuron ', 'drone fleetmatics'], 'company': 'ineuron intelligence private limited'}\n",
      "{'_id': ObjectId('63d4ce74a4ae7601f0aaedce'), 'name': 'sudhanshu', 'email_id': 'sudhanshu@ineuron.ai', 'product': ['one neuron', 'tech neuron', 'kids neuron ', 'drone fleetmatics'], 'company': 'ineuron intelligence private limited'}\n",
      "{'_id': ObjectId('63d4ce74a4ae7601f0aaedcf'), 'name': 'sudhanshu', 'email_id': 'sudhanshu@ineuron.ai', 'product': ['one neuron', 'tech neuron', 'kids neuron ', 'drone fleetmatics'], 'company': 'ineuron intelligence private limited'}\n"
     ]
    }
   ],
   "source": [
    "for  i in coll1.find({\"name\":\"sudhanshu\"}):\n",
    "    print(i)"
   ]
  },
  {
   "cell_type": "code",
   "execution_count": 68,
   "metadata": {},
   "outputs": [
    {
     "name": "stdout",
     "output_type": "stream",
     "text": [
      "{'_id': ObjectId('63d4ce74a4ae7601f0aaedbf'), 'name': 'swetanshu', 'email_id': 'swetanshu1722@gmail.com', 'product': ['machine_learning', 'deep_learning', 'ml_ops', 'ai_ops'], 'company': 'adbrew'}\n",
      "{'_id': ObjectId('63d4ce74a4ae7601f0aaedc0'), 'name': 'swetanshu', 'email_id': 'swetanshu1722@gmail.com', 'product': ['machine_learning', 'deep_learning', 'ml_ops', 'ai_ops'], 'company': 'adbrew', 'phone_number': '3278879312'}\n",
      "{'_id': 'ahdjckijqaanadikooaiud', 'name': 'swetanshu', 'email_id': 'swetanshu1722@gmailudiaad.com', 'product': ['machine_learning', 'deep_learning', 'ml_ops', 'ai_ops'], 'company': 'adbrew', 'phone_number': '3278879312'}\n",
      "{'_id': ObjectId('63d4ce74a4ae7601f0aaedcb'), 'name': 'sudhanshu', 'email_id': 'sudhanshu@ineuron.ai', 'product': ['one neuron', 'tech neuron', 'kids neuron ', 'drone fleetmatics'], 'company': 'ineuron intelligence private limited'}\n",
      "{'_id': ObjectId('63d4ce74a4ae7601f0aaedcc'), 'name': 'sudhanshu', 'email_id': 'sudhanshu@ineuron.ai', 'product': ['one neuron', 'tech neuron', 'kids neuron ', 'drone fleetmatics'], 'company': 'ineuron intelligence private limited'}\n",
      "{'_id': ObjectId('63d4ce74a4ae7601f0aaedcd'), 'name': 'sudhanshu', 'email_id': 'sudhanshu@ineuron.ai', 'product': ['one neuron', 'tech neuron', 'kids neuron ', 'drone fleetmatics'], 'company': 'ineuron intelligence private limited'}\n",
      "{'_id': ObjectId('63d4ce74a4ae7601f0aaedce'), 'name': 'sudhanshu', 'email_id': 'sudhanshu@ineuron.ai', 'product': ['one neuron', 'tech neuron', 'kids neuron ', 'drone fleetmatics'], 'company': 'ineuron intelligence private limited'}\n",
      "{'_id': ObjectId('63d4ce74a4ae7601f0aaedcf'), 'name': 'sudhanshu', 'email_id': 'sudhanshu@ineuron.ai', 'product': ['one neuron', 'tech neuron', 'kids neuron ', 'drone fleetmatics'], 'company': 'ineuron intelligence private limited'}\n"
     ]
    }
   ],
   "source": [
    "for i in coll1.find({\"name\":{\"$in\":[\"swetanshu\",\"sudh\",\"sudhanshu\"]}}):\n",
    "    print(i)"
   ]
  },
  {
   "cell_type": "code",
   "execution_count": 69,
   "metadata": {},
   "outputs": [
    {
     "name": "stdout",
     "output_type": "stream",
     "text": [
      "{'_id': ObjectId('63d4ce74a4ae7601f0aaedcb'), 'name': 'sudhanshu', 'email_id': 'sudhanshu@ineuron.ai', 'product': ['one neuron', 'tech neuron', 'kids neuron ', 'drone fleetmatics'], 'company': 'ineuron intelligence private limited'}\n",
      "{'_id': ObjectId('63d4ce74a4ae7601f0aaedcc'), 'name': 'sudhanshu', 'email_id': 'sudhanshu@ineuron.ai', 'product': ['one neuron', 'tech neuron', 'kids neuron ', 'drone fleetmatics'], 'company': 'ineuron intelligence private limited'}\n",
      "{'_id': ObjectId('63d4ce74a4ae7601f0aaedcd'), 'name': 'sudhanshu', 'email_id': 'sudhanshu@ineuron.ai', 'product': ['one neuron', 'tech neuron', 'kids neuron ', 'drone fleetmatics'], 'company': 'ineuron intelligence private limited'}\n",
      "{'_id': ObjectId('63d4ce74a4ae7601f0aaedce'), 'name': 'sudhanshu', 'email_id': 'sudhanshu@ineuron.ai', 'product': ['one neuron', 'tech neuron', 'kids neuron ', 'drone fleetmatics'], 'company': 'ineuron intelligence private limited'}\n",
      "{'_id': ObjectId('63d4ce74a4ae7601f0aaedcf'), 'name': 'sudhanshu', 'email_id': 'sudhanshu@ineuron.ai', 'product': ['one neuron', 'tech neuron', 'kids neuron ', 'drone fleetmatics'], 'company': 'ineuron intelligence private limited'}\n"
     ]
    }
   ],
   "source": [
    "for i in coll1.find({\"name\":{\"$in\":[\"swetanshu\",\"sudh\",\"sudhanshu\"]},\"email_id\":\"sudhanshu@ineuron.ai\"}):\n",
    "    print(i) "
   ]
  },
  {
   "cell_type": "code",
   "execution_count": 70,
   "metadata": {},
   "outputs": [
    {
     "data": {
      "text/plain": [
       "{'_id': ObjectId('63d4ce74a4ae7601f0aaedbf'),\n",
       " 'name': 'swetanshu',\n",
       " 'email_id': 'swetanshu1722@gmail.com',\n",
       " 'product': ['machine_learning', 'deep_learning', 'ml_ops', 'ai_ops'],\n",
       " 'company': 'adbrew'}"
      ]
     },
     "execution_count": 70,
     "metadata": {},
     "output_type": "execute_result"
    }
   ],
   "source": [
    "coll1.find_one()"
   ]
  },
  {
   "cell_type": "code",
   "execution_count": 71,
   "metadata": {},
   "outputs": [
    {
     "name": "stdout",
     "output_type": "stream",
     "text": [
      "{'_id': ObjectId('63d4ce74a4ae7601f0aaedc1'), 'item': 'canvas', 'qty': 100, 'size': {'h': 28, 'w': 35.5, 'uom': 'cm'}, 'status': 'A'}\n",
      "{'_id': ObjectId('63d4ce74a4ae7601f0aaedc3'), 'item': 'mat', 'qty': 85, 'size': {'h': 27.9, 'w': 35.5, 'uom': 'cm'}, 'status': 'A'}\n",
      "{'_id': ObjectId('63d4ce74a4ae7601f0aaedc5'), 'item': 'notebook', 'qty': 50, 'size': {'h': 8.5, 'w': 11, 'uom': 'in'}, 'status': 'P'}\n",
      "{'_id': ObjectId('63d4ce74a4ae7601f0aaedc6'), 'item': 'paper', 'qty': 100, 'size': {'h': 8.5, 'w': 11, 'uom': 'in'}, 'status': 'D'}\n",
      "{'_id': ObjectId('63d4ce74a4ae7601f0aaedc7'), 'item': 'planner', 'qty': 75, 'size': {'h': 22.85, 'w': 30, 'uom': 'cm'}, 'status': 'D'}\n",
      "{'_id': ObjectId('63d4ce74a4ae7601f0aaedc8'), 'item': 'postcard', 'qty': 45, 'size': {'h': 10, 'w': 15.25, 'uom': 'cm'}, 'status': 'A'}\n",
      "{'_id': ObjectId('63d4ce74a4ae7601f0aaedc9'), 'item': 'sketchbook', 'qty': 80, 'size': {'h': 14, 'w': 21, 'uom': 'cm'}, 'status': 'A'}\n",
      "{'_id': ObjectId('63d4ce74a4ae7601f0aaedca'), 'item': 'sketch pad', 'qty': 95, 'size': {'h': 22.85, 'w': 30.5, 'uom': 'cm'}, 'status': 'A'}\n"
     ]
    }
   ],
   "source": [
    "for i in coll1.find({\"qty\":{\"$gt\":25}}):\n",
    "    print(i)"
   ]
  },
  {
   "cell_type": "code",
   "execution_count": 72,
   "metadata": {},
   "outputs": [],
   "source": [
    "for i in coll1.find({\"qty\":{\"$lt\":25}}):\n",
    "    print(i)"
   ]
  },
  {
   "cell_type": "code",
   "execution_count": 73,
   "metadata": {},
   "outputs": [
    {
     "name": "stdout",
     "output_type": "stream",
     "text": [
      "{'_id': ObjectId('63d4ce74a4ae7601f0aaedc2'), 'item': 'journal', 'qty': 25, 'size': {'h': 14, 'w': 21, 'uom': 'cm'}, 'status': 'A'}\n",
      "{'_id': ObjectId('63d4ce74a4ae7601f0aaedc4'), 'item': 'mousepad', 'qty': 25, 'size': {'h': 19, 'w': 22.85, 'uom': 'cm'}, 'status': 'P'}\n"
     ]
    }
   ],
   "source": [
    "for i in coll1.find({\"qty\":{\"$lte\":25}}):\n",
    "    print(i)"
   ]
  },
  {
   "cell_type": "code",
   "execution_count": 74,
   "metadata": {},
   "outputs": [
    {
     "name": "stdout",
     "output_type": "stream",
     "text": [
      "{'_id': ObjectId('63d4ce74a4ae7601f0aaedc1'), 'item': 'canvas', 'qty': 100, 'size': {'h': 28, 'w': 35.5, 'uom': 'cm'}, 'status': 'A'}\n",
      "{'_id': ObjectId('63d4ce74a4ae7601f0aaedc2'), 'item': 'journal', 'qty': 25, 'size': {'h': 14, 'w': 21, 'uom': 'cm'}, 'status': 'A'}\n",
      "{'_id': ObjectId('63d4ce74a4ae7601f0aaedc3'), 'item': 'mat', 'qty': 85, 'size': {'h': 27.9, 'w': 35.5, 'uom': 'cm'}, 'status': 'A'}\n",
      "{'_id': ObjectId('63d4ce74a4ae7601f0aaedc4'), 'item': 'mousepad', 'qty': 25, 'size': {'h': 19, 'w': 22.85, 'uom': 'cm'}, 'status': 'P'}\n",
      "{'_id': ObjectId('63d4ce74a4ae7601f0aaedc5'), 'item': 'notebook', 'qty': 50, 'size': {'h': 8.5, 'w': 11, 'uom': 'in'}, 'status': 'P'}\n",
      "{'_id': ObjectId('63d4ce74a4ae7601f0aaedc6'), 'item': 'paper', 'qty': 100, 'size': {'h': 8.5, 'w': 11, 'uom': 'in'}, 'status': 'D'}\n",
      "{'_id': ObjectId('63d4ce74a4ae7601f0aaedc7'), 'item': 'planner', 'qty': 75, 'size': {'h': 22.85, 'w': 30, 'uom': 'cm'}, 'status': 'D'}\n",
      "{'_id': ObjectId('63d4ce74a4ae7601f0aaedc8'), 'item': 'postcard', 'qty': 45, 'size': {'h': 10, 'w': 15.25, 'uom': 'cm'}, 'status': 'A'}\n",
      "{'_id': ObjectId('63d4ce74a4ae7601f0aaedc9'), 'item': 'sketchbook', 'qty': 80, 'size': {'h': 14, 'w': 21, 'uom': 'cm'}, 'status': 'A'}\n",
      "{'_id': ObjectId('63d4ce74a4ae7601f0aaedca'), 'item': 'sketch pad', 'qty': 95, 'size': {'h': 22.85, 'w': 30.5, 'uom': 'cm'}, 'status': 'A'}\n"
     ]
    }
   ],
   "source": [
    "for i in coll1.find({\"qty\":{\"$gte\":25}}):\n",
    "    print(i)"
   ]
  },
  {
   "cell_type": "code",
   "execution_count": 75,
   "metadata": {},
   "outputs": [
    {
     "data": {
      "text/plain": [
       "<pymongo.results.UpdateResult at 0x17b91e99070>"
      ]
     },
     "execution_count": 75,
     "metadata": {},
     "output_type": "execute_result"
    }
   ],
   "source": [
    "coll1.update_many({\"name\":\"sudhanshu\"},{\"$set\":{\"name\":\"sudhanshu kumar\"}})"
   ]
  },
  {
   "cell_type": "code",
   "execution_count": 76,
   "metadata": {},
   "outputs": [
    {
     "name": "stdout",
     "output_type": "stream",
     "text": [
      "{'_id': ObjectId('63d4ce74a4ae7601f0aaedbf'), 'name': 'swetanshu', 'email_id': 'swetanshu1722@gmail.com', 'product': ['machine_learning', 'deep_learning', 'ml_ops', 'ai_ops'], 'company': 'adbrew'}\n",
      "{'_id': ObjectId('63d4ce74a4ae7601f0aaedc0'), 'name': 'swetanshu', 'email_id': 'swetanshu1722@gmail.com', 'product': ['machine_learning', 'deep_learning', 'ml_ops', 'ai_ops'], 'company': 'adbrew', 'phone_number': '3278879312'}\n",
      "{'_id': 'ahdjckijqaanadikooaiud', 'name': 'swetanshu', 'email_id': 'swetanshu1722@gmailudiaad.com', 'product': ['machine_learning', 'deep_learning', 'ml_ops', 'ai_ops'], 'company': 'adbrew', 'phone_number': '3278879312'}\n",
      "{'_id': ObjectId('63d4ce74a4ae7601f0aaedc1'), 'item': 'canvas', 'qty': 100, 'size': {'h': 28, 'w': 35.5, 'uom': 'cm'}, 'status': 'A'}\n",
      "{'_id': ObjectId('63d4ce74a4ae7601f0aaedc2'), 'item': 'journal', 'qty': 25, 'size': {'h': 14, 'w': 21, 'uom': 'cm'}, 'status': 'A'}\n",
      "{'_id': ObjectId('63d4ce74a4ae7601f0aaedc3'), 'item': 'mat', 'qty': 85, 'size': {'h': 27.9, 'w': 35.5, 'uom': 'cm'}, 'status': 'A'}\n",
      "{'_id': ObjectId('63d4ce74a4ae7601f0aaedc4'), 'item': 'mousepad', 'qty': 25, 'size': {'h': 19, 'w': 22.85, 'uom': 'cm'}, 'status': 'P'}\n",
      "{'_id': ObjectId('63d4ce74a4ae7601f0aaedc5'), 'item': 'notebook', 'qty': 50, 'size': {'h': 8.5, 'w': 11, 'uom': 'in'}, 'status': 'P'}\n",
      "{'_id': ObjectId('63d4ce74a4ae7601f0aaedc6'), 'item': 'paper', 'qty': 100, 'size': {'h': 8.5, 'w': 11, 'uom': 'in'}, 'status': 'D'}\n",
      "{'_id': ObjectId('63d4ce74a4ae7601f0aaedc7'), 'item': 'planner', 'qty': 75, 'size': {'h': 22.85, 'w': 30, 'uom': 'cm'}, 'status': 'D'}\n",
      "{'_id': ObjectId('63d4ce74a4ae7601f0aaedc8'), 'item': 'postcard', 'qty': 45, 'size': {'h': 10, 'w': 15.25, 'uom': 'cm'}, 'status': 'A'}\n",
      "{'_id': ObjectId('63d4ce74a4ae7601f0aaedc9'), 'item': 'sketchbook', 'qty': 80, 'size': {'h': 14, 'w': 21, 'uom': 'cm'}, 'status': 'A'}\n",
      "{'_id': ObjectId('63d4ce74a4ae7601f0aaedca'), 'item': 'sketch pad', 'qty': 95, 'size': {'h': 22.85, 'w': 30.5, 'uom': 'cm'}, 'status': 'A'}\n",
      "{'_id': ObjectId('63d4ce74a4ae7601f0aaedcb'), 'name': 'sudhanshu kumar', 'email_id': 'sudhanshu@ineuron.ai', 'product': ['one neuron', 'tech neuron', 'kids neuron ', 'drone fleetmatics'], 'company': 'ineuron intelligence private limited'}\n",
      "{'_id': ObjectId('63d4ce74a4ae7601f0aaedcc'), 'name': 'sudhanshu kumar', 'email_id': 'sudhanshu@ineuron.ai', 'product': ['one neuron', 'tech neuron', 'kids neuron ', 'drone fleetmatics'], 'company': 'ineuron intelligence private limited'}\n",
      "{'_id': ObjectId('63d4ce74a4ae7601f0aaedcd'), 'name': 'sudhanshu kumar', 'email_id': 'sudhanshu@ineuron.ai', 'product': ['one neuron', 'tech neuron', 'kids neuron ', 'drone fleetmatics'], 'company': 'ineuron intelligence private limited'}\n",
      "{'_id': ObjectId('63d4ce74a4ae7601f0aaedce'), 'name': 'sudhanshu kumar', 'email_id': 'sudhanshu@ineuron.ai', 'product': ['one neuron', 'tech neuron', 'kids neuron ', 'drone fleetmatics'], 'company': 'ineuron intelligence private limited'}\n",
      "{'_id': ObjectId('63d4ce74a4ae7601f0aaedcf'), 'name': 'sudhanshu kumar', 'email_id': 'sudhanshu@ineuron.ai', 'product': ['one neuron', 'tech neuron', 'kids neuron ', 'drone fleetmatics'], 'company': 'ineuron intelligence private limited'}\n"
     ]
    }
   ],
   "source": [
    "for i in coll1.find():\n",
    "    print(i)"
   ]
  },
  {
   "cell_type": "code",
   "execution_count": 77,
   "metadata": {},
   "outputs": [
    {
     "name": "stdout",
     "output_type": "stream",
     "text": [
      "{'_id': ObjectId('63d4ce74a4ae7601f0aaedbf'), 'name': 'swetanshu', 'email_id': 'swetanshu1722@gmail.com', 'product': ['machine_learning', 'deep_learning', 'ml_ops', 'ai_ops'], 'company': 'adbrew'}\n",
      "{'_id': ObjectId('63d4ce74a4ae7601f0aaedc0'), 'name': 'swetanshu', 'email_id': 'swetanshu1722@gmail.com', 'product': ['machine_learning', 'deep_learning', 'ml_ops', 'ai_ops'], 'company': 'adbrew', 'phone_number': '3278879312'}\n"
     ]
    }
   ],
   "source": [
    "for i in coll1.find().limit(2):\n",
    "    print(i)"
   ]
  },
  {
   "cell_type": "code",
   "execution_count": 78,
   "metadata": {},
   "outputs": [
    {
     "name": "stdout",
     "output_type": "stream",
     "text": [
      "{'_id': ObjectId('63d4ce74a4ae7601f0aaedbf'), 'name': 'swetanshu', 'email_id': 'swetanshu1722@gmail.com', 'product': ['machine_learning', 'deep_learning', 'ml_ops', 'ai_ops'], 'company': 'adbrew'}\n",
      "{'_id': ObjectId('63d4ce74a4ae7601f0aaedc0'), 'name': 'swetanshu', 'email_id': 'swetanshu1722@gmail.com', 'product': ['machine_learning', 'deep_learning', 'ml_ops', 'ai_ops'], 'company': 'adbrew', 'phone_number': '3278879312'}\n",
      "{'_id': 'ahdjckijqaanadikooaiud', 'name': 'swetanshu', 'email_id': 'swetanshu1722@gmailudiaad.com', 'product': ['machine_learning', 'deep_learning', 'ml_ops', 'ai_ops'], 'company': 'adbrew', 'phone_number': '3278879312'}\n",
      "{'_id': ObjectId('63d4ce74a4ae7601f0aaedc1'), 'item': 'canvas', 'qty': 100, 'size': {'h': 28, 'w': 35.5, 'uom': 'cm'}, 'status': 'A'}\n",
      "{'_id': ObjectId('63d4ce74a4ae7601f0aaedc2'), 'item': 'journal', 'qty': 25, 'size': {'h': 14, 'w': 21, 'uom': 'cm'}, 'status': 'A'}\n",
      "{'_id': ObjectId('63d4ce74a4ae7601f0aaedc3'), 'item': 'mat', 'qty': 85, 'size': {'h': 27.9, 'w': 35.5, 'uom': 'cm'}, 'status': 'A'}\n",
      "{'_id': ObjectId('63d4ce74a4ae7601f0aaedc4'), 'item': 'mousepad', 'qty': 25, 'size': {'h': 19, 'w': 22.85, 'uom': 'cm'}, 'status': 'P'}\n",
      "{'_id': ObjectId('63d4ce74a4ae7601f0aaedc5'), 'item': 'notebook', 'qty': 50, 'size': {'h': 8.5, 'w': 11, 'uom': 'in'}, 'status': 'P'}\n",
      "{'_id': ObjectId('63d4ce74a4ae7601f0aaedc6'), 'item': 'paper', 'qty': 100, 'size': {'h': 8.5, 'w': 11, 'uom': 'in'}, 'status': 'D'}\n",
      "{'_id': ObjectId('63d4ce74a4ae7601f0aaedc7'), 'item': 'planner', 'qty': 75, 'size': {'h': 22.85, 'w': 30, 'uom': 'cm'}, 'status': 'D'}\n",
      "{'_id': ObjectId('63d4ce74a4ae7601f0aaedc8'), 'item': 'postcard', 'qty': 45, 'size': {'h': 10, 'w': 15.25, 'uom': 'cm'}, 'status': 'A'}\n",
      "{'_id': ObjectId('63d4ce74a4ae7601f0aaedc9'), 'item': 'sketchbook', 'qty': 80, 'size': {'h': 14, 'w': 21, 'uom': 'cm'}, 'status': 'A'}\n",
      "{'_id': ObjectId('63d4ce74a4ae7601f0aaedca'), 'item': 'sketch pad', 'qty': 95, 'size': {'h': 22.85, 'w': 30.5, 'uom': 'cm'}, 'status': 'A'}\n",
      "{'_id': ObjectId('63d4ce74a4ae7601f0aaedcb'), 'name': 'sudhanshu kumar', 'email_id': 'sudhanshu@ineuron.ai', 'product': ['one neuron', 'tech neuron', 'kids neuron ', 'drone fleetmatics'], 'company': 'ineuron intelligence private limited'}\n",
      "{'_id': ObjectId('63d4ce74a4ae7601f0aaedcc'), 'name': 'sudhanshu kumar', 'email_id': 'sudhanshu@ineuron.ai', 'product': ['one neuron', 'tech neuron', 'kids neuron ', 'drone fleetmatics'], 'company': 'ineuron intelligence private limited'}\n",
      "{'_id': ObjectId('63d4ce74a4ae7601f0aaedcd'), 'name': 'sudhanshu kumar', 'email_id': 'sudhanshu@ineuron.ai', 'product': ['one neuron', 'tech neuron', 'kids neuron ', 'drone fleetmatics'], 'company': 'ineuron intelligence private limited'}\n",
      "{'_id': ObjectId('63d4ce74a4ae7601f0aaedce'), 'name': 'sudhanshu kumar', 'email_id': 'sudhanshu@ineuron.ai', 'product': ['one neuron', 'tech neuron', 'kids neuron ', 'drone fleetmatics'], 'company': 'ineuron intelligence private limited'}\n",
      "{'_id': ObjectId('63d4ce74a4ae7601f0aaedcf'), 'name': 'sudhanshu kumar', 'email_id': 'sudhanshu@ineuron.ai', 'product': ['one neuron', 'tech neuron', 'kids neuron ', 'drone fleetmatics'], 'company': 'ineuron intelligence private limited'}\n"
     ]
    }
   ],
   "source": [
    "for  i in coll1.find({\"qty\":{\"$not\":{\"$gt\":100}}}):\n",
    "    print(i)"
   ]
  },
  {
   "cell_type": "code",
   "execution_count": 79,
   "metadata": {},
   "outputs": [
    {
     "data": {
      "text/plain": [
       "{'_id': ObjectId('63d4ce74a4ae7601f0aaedc2'),\n",
       " 'item': 'journal',\n",
       " 'qty': 25,\n",
       " 'size': {'h': 14, 'w': 21, 'uom': 'cm'},\n",
       " 'status': 'A'}"
      ]
     },
     "execution_count": 79,
     "metadata": {},
     "output_type": "execute_result"
    }
   ],
   "source": [
    "coll1.find_one_and_update({\"item\":\"journal\"},{\"$set\":{\"qty\":250}})"
   ]
  },
  {
   "cell_type": "code",
   "execution_count": 80,
   "metadata": {},
   "outputs": [
    {
     "data": {
      "text/plain": [
       "<pymongo.results.DeleteResult at 0x17b91ed6460>"
      ]
     },
     "execution_count": 80,
     "metadata": {},
     "output_type": "execute_result"
    }
   ],
   "source": [
    "coll1.delete_one({'name':'sudhanshu kumar'})"
   ]
  },
  {
   "cell_type": "code",
   "execution_count": 81,
   "metadata": {},
   "outputs": [
    {
     "data": {
      "text/plain": [
       "<pymongo.results.DeleteResult at 0x17b91ed65b0>"
      ]
     },
     "execution_count": 81,
     "metadata": {},
     "output_type": "execute_result"
    }
   ],
   "source": [
    "coll1.delete_many({'name':'sudhanshu kumar'})"
   ]
  },
  {
   "cell_type": "code",
   "execution_count": 82,
   "metadata": {},
   "outputs": [
    {
     "name": "stdout",
     "output_type": "stream",
     "text": [
      "{'_id': ObjectId('63d4ce74a4ae7601f0aaedbf'), 'name': 'swetanshu', 'email_id': 'swetanshu1722@gmail.com', 'product': ['machine_learning', 'deep_learning', 'ml_ops', 'ai_ops'], 'company': 'adbrew'}\n",
      "{'_id': ObjectId('63d4ce74a4ae7601f0aaedc0'), 'name': 'swetanshu', 'email_id': 'swetanshu1722@gmail.com', 'product': ['machine_learning', 'deep_learning', 'ml_ops', 'ai_ops'], 'company': 'adbrew', 'phone_number': '3278879312'}\n",
      "{'_id': 'ahdjckijqaanadikooaiud', 'name': 'swetanshu', 'email_id': 'swetanshu1722@gmailudiaad.com', 'product': ['machine_learning', 'deep_learning', 'ml_ops', 'ai_ops'], 'company': 'adbrew', 'phone_number': '3278879312'}\n",
      "{'_id': ObjectId('63d4ce74a4ae7601f0aaedc1'), 'item': 'canvas', 'qty': 100, 'size': {'h': 28, 'w': 35.5, 'uom': 'cm'}, 'status': 'A'}\n",
      "{'_id': ObjectId('63d4ce74a4ae7601f0aaedc2'), 'item': 'journal', 'qty': 250, 'size': {'h': 14, 'w': 21, 'uom': 'cm'}, 'status': 'A'}\n",
      "{'_id': ObjectId('63d4ce74a4ae7601f0aaedc3'), 'item': 'mat', 'qty': 85, 'size': {'h': 27.9, 'w': 35.5, 'uom': 'cm'}, 'status': 'A'}\n",
      "{'_id': ObjectId('63d4ce74a4ae7601f0aaedc4'), 'item': 'mousepad', 'qty': 25, 'size': {'h': 19, 'w': 22.85, 'uom': 'cm'}, 'status': 'P'}\n",
      "{'_id': ObjectId('63d4ce74a4ae7601f0aaedc5'), 'item': 'notebook', 'qty': 50, 'size': {'h': 8.5, 'w': 11, 'uom': 'in'}, 'status': 'P'}\n",
      "{'_id': ObjectId('63d4ce74a4ae7601f0aaedc6'), 'item': 'paper', 'qty': 100, 'size': {'h': 8.5, 'w': 11, 'uom': 'in'}, 'status': 'D'}\n",
      "{'_id': ObjectId('63d4ce74a4ae7601f0aaedc7'), 'item': 'planner', 'qty': 75, 'size': {'h': 22.85, 'w': 30, 'uom': 'cm'}, 'status': 'D'}\n",
      "{'_id': ObjectId('63d4ce74a4ae7601f0aaedc8'), 'item': 'postcard', 'qty': 45, 'size': {'h': 10, 'w': 15.25, 'uom': 'cm'}, 'status': 'A'}\n",
      "{'_id': ObjectId('63d4ce74a4ae7601f0aaedc9'), 'item': 'sketchbook', 'qty': 80, 'size': {'h': 14, 'w': 21, 'uom': 'cm'}, 'status': 'A'}\n",
      "{'_id': ObjectId('63d4ce74a4ae7601f0aaedca'), 'item': 'sketch pad', 'qty': 95, 'size': {'h': 22.85, 'w': 30.5, 'uom': 'cm'}, 'status': 'A'}\n"
     ]
    }
   ],
   "source": [
    "for i in coll1.find():\n",
    "    print(i)"
   ]
  },
  {
   "cell_type": "code",
   "execution_count": 83,
   "metadata": {},
   "outputs": [],
   "source": [
    "db = client.test"
   ]
  },
  {
   "cell_type": "code",
   "execution_count": 84,
   "metadata": {},
   "outputs": [
    {
     "data": {
      "text/plain": [
       "Database(MongoClient(host=['127.0.0.1:27017'], document_class=dict, tz_aware=False, connect=True), 'test')"
      ]
     },
     "execution_count": 84,
     "metadata": {},
     "output_type": "execute_result"
    }
   ],
   "source": [
    "db"
   ]
  },
  {
   "cell_type": "code",
   "execution_count": 85,
   "metadata": {},
   "outputs": [
    {
     "data": {
      "text/plain": [
       "['admin', 'config', 'local', 'swetanshu']"
      ]
     },
     "execution_count": 85,
     "metadata": {},
     "output_type": "execute_result"
    }
   ],
   "source": [
    "client.list_database_names()"
   ]
  },
  {
   "cell_type": "code",
   "execution_count": null,
   "metadata": {},
   "outputs": [],
   "source": []
  },
  {
   "cell_type": "code",
   "execution_count": null,
   "metadata": {},
   "outputs": [],
   "source": []
  },
  {
   "cell_type": "code",
   "execution_count": null,
   "metadata": {},
   "outputs": [],
   "source": []
  },
  {
   "cell_type": "code",
   "execution_count": null,
   "metadata": {},
   "outputs": [],
   "source": []
  },
  {
   "cell_type": "code",
   "execution_count": null,
   "metadata": {},
   "outputs": [],
   "source": []
  },
  {
   "cell_type": "code",
   "execution_count": null,
   "metadata": {},
   "outputs": [],
   "source": []
  },
  {
   "cell_type": "code",
   "execution_count": null,
   "metadata": {},
   "outputs": [],
   "source": []
  },
  {
   "cell_type": "code",
   "execution_count": null,
   "metadata": {},
   "outputs": [],
   "source": []
  },
  {
   "cell_type": "code",
   "execution_count": null,
   "metadata": {},
   "outputs": [],
   "source": []
  },
  {
   "cell_type": "code",
   "execution_count": null,
   "metadata": {},
   "outputs": [],
   "source": []
  }
 ],
 "metadata": {
  "kernelspec": {
   "display_name": "Python 3 (ipykernel)",
   "language": "python",
   "name": "python3"
  },
  "language_info": {
   "codemirror_mode": {
    "name": "ipython",
    "version": 3
   },
   "file_extension": ".py",
   "mimetype": "text/x-python",
   "name": "python",
   "nbconvert_exporter": "python",
   "pygments_lexer": "ipython3",
   "version": "3.9.13"
  },
  "vscode": {
   "interpreter": {
    "hash": "2b9dbffa2dbd1cfeef985c051e6fe86c5e96d46b6a9b2dbe41d0e843a371e727"
   }
  }
 },
 "nbformat": 4,
 "nbformat_minor": 2
}
