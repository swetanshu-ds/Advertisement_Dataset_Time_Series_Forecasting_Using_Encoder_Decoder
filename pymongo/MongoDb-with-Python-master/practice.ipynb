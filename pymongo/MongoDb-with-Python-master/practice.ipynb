{
 "cells": [
  {
   "cell_type": "code",
   "execution_count": 1,
   "metadata": {},
   "outputs": [],
   "source": [
    "import pandas as pd\n",
    "  \n",
    "# creating and initializing a list\n",
    "values= [['Rohan',455],['Elvish',250],['Deepak',495],\n",
    "         ['Soni',400],['Radhika',350],['Vansh',450]]\n",
    " \n",
    "# creating a pandas dataframe\n",
    "df = pd.DataFrame(values,columns=['Name','Total_Marks'])"
   ]
  },
  {
   "cell_type": "code",
   "execution_count": 2,
   "metadata": {},
   "outputs": [
    {
     "data": {
      "text/html": [
       "<div>\n",
       "<style scoped>\n",
       "    .dataframe tbody tr th:only-of-type {\n",
       "        vertical-align: middle;\n",
       "    }\n",
       "\n",
       "    .dataframe tbody tr th {\n",
       "        vertical-align: top;\n",
       "    }\n",
       "\n",
       "    .dataframe thead th {\n",
       "        text-align: right;\n",
       "    }\n",
       "</style>\n",
       "<table border=\"1\" class=\"dataframe\">\n",
       "  <thead>\n",
       "    <tr style=\"text-align: right;\">\n",
       "      <th></th>\n",
       "      <th>Name</th>\n",
       "      <th>Total_Marks</th>\n",
       "    </tr>\n",
       "  </thead>\n",
       "  <tbody>\n",
       "    <tr>\n",
       "      <th>0</th>\n",
       "      <td>Rohan</td>\n",
       "      <td>455</td>\n",
       "    </tr>\n",
       "    <tr>\n",
       "      <th>1</th>\n",
       "      <td>Elvish</td>\n",
       "      <td>250</td>\n",
       "    </tr>\n",
       "    <tr>\n",
       "      <th>2</th>\n",
       "      <td>Deepak</td>\n",
       "      <td>495</td>\n",
       "    </tr>\n",
       "    <tr>\n",
       "      <th>3</th>\n",
       "      <td>Soni</td>\n",
       "      <td>400</td>\n",
       "    </tr>\n",
       "    <tr>\n",
       "      <th>4</th>\n",
       "      <td>Radhika</td>\n",
       "      <td>350</td>\n",
       "    </tr>\n",
       "    <tr>\n",
       "      <th>5</th>\n",
       "      <td>Vansh</td>\n",
       "      <td>450</td>\n",
       "    </tr>\n",
       "  </tbody>\n",
       "</table>\n",
       "</div>"
      ],
      "text/plain": [
       "      Name  Total_Marks\n",
       "0    Rohan          455\n",
       "1   Elvish          250\n",
       "2   Deepak          495\n",
       "3     Soni          400\n",
       "4  Radhika          350\n",
       "5    Vansh          450"
      ]
     },
     "execution_count": 2,
     "metadata": {},
     "output_type": "execute_result"
    }
   ],
   "source": [
    "df"
   ]
  },
  {
   "cell_type": "code",
   "execution_count": 8,
   "metadata": {},
   "outputs": [],
   "source": [
    "df[\"hello\"] = df.apply(lambda x:(x['Total_Marks']/500*100),axis = 1)"
   ]
  },
  {
   "cell_type": "code",
   "execution_count": 9,
   "metadata": {},
   "outputs": [
    {
     "data": {
      "text/html": [
       "<div>\n",
       "<style scoped>\n",
       "    .dataframe tbody tr th:only-of-type {\n",
       "        vertical-align: middle;\n",
       "    }\n",
       "\n",
       "    .dataframe tbody tr th {\n",
       "        vertical-align: top;\n",
       "    }\n",
       "\n",
       "    .dataframe thead th {\n",
       "        text-align: right;\n",
       "    }\n",
       "</style>\n",
       "<table border=\"1\" class=\"dataframe\">\n",
       "  <thead>\n",
       "    <tr style=\"text-align: right;\">\n",
       "      <th></th>\n",
       "      <th>Name</th>\n",
       "      <th>Total_Marks</th>\n",
       "      <th>Percentage</th>\n",
       "      <th>hello</th>\n",
       "    </tr>\n",
       "  </thead>\n",
       "  <tbody>\n",
       "    <tr>\n",
       "      <th>0</th>\n",
       "      <td>Rohan</td>\n",
       "      <td>455</td>\n",
       "      <td>91.0</td>\n",
       "      <td>91.0</td>\n",
       "    </tr>\n",
       "    <tr>\n",
       "      <th>1</th>\n",
       "      <td>Elvish</td>\n",
       "      <td>250</td>\n",
       "      <td>50.0</td>\n",
       "      <td>50.0</td>\n",
       "    </tr>\n",
       "    <tr>\n",
       "      <th>2</th>\n",
       "      <td>Deepak</td>\n",
       "      <td>495</td>\n",
       "      <td>99.0</td>\n",
       "      <td>99.0</td>\n",
       "    </tr>\n",
       "    <tr>\n",
       "      <th>3</th>\n",
       "      <td>Soni</td>\n",
       "      <td>400</td>\n",
       "      <td>80.0</td>\n",
       "      <td>80.0</td>\n",
       "    </tr>\n",
       "    <tr>\n",
       "      <th>4</th>\n",
       "      <td>Radhika</td>\n",
       "      <td>350</td>\n",
       "      <td>70.0</td>\n",
       "      <td>70.0</td>\n",
       "    </tr>\n",
       "    <tr>\n",
       "      <th>5</th>\n",
       "      <td>Vansh</td>\n",
       "      <td>450</td>\n",
       "      <td>90.0</td>\n",
       "      <td>90.0</td>\n",
       "    </tr>\n",
       "  </tbody>\n",
       "</table>\n",
       "</div>"
      ],
      "text/plain": [
       "      Name  Total_Marks  Percentage  hello\n",
       "0    Rohan          455        91.0   91.0\n",
       "1   Elvish          250        50.0   50.0\n",
       "2   Deepak          495        99.0   99.0\n",
       "3     Soni          400        80.0   80.0\n",
       "4  Radhika          350        70.0   70.0\n",
       "5    Vansh          450        90.0   90.0"
      ]
     },
     "execution_count": 9,
     "metadata": {},
     "output_type": "execute_result"
    }
   ],
   "source": [
    "df"
   ]
  },
  {
   "cell_type": "code",
   "execution_count": null,
   "metadata": {},
   "outputs": [],
   "source": [
    "def get_products_in_adgroup(account):\n",
    "    products_data = db.report_records.aggregate([\n",
    "    {\n",
    "        \"$match\": {\n",
    "            \"account_id\": str(account),\n",
    "            \"dt\": {\n",
    "                \"$gte\": datetime.datetime.now() - datetime.timedelta(days=30),\n",
    "                \"$lte\": datetime.datetime.now()\n",
    "            },\n",
    "            \"record_type\": \"productAds\",\n",
    "            \"segment\": None,\n",
    "            \"campaign_type\": \"sp\"\n",
    "        }\n",
    "    },\n",
    "    {\n",
    "        \"$group\": {\n",
    "            \"_id\": {\n",
    "                \"asin\": \"$asin\",\n",
    "                \"adGroupId\": \"$adGroupId\",\n",
    "                \"dt\": \"$dt\"\n",
    "            },\n",
    "            \"impressions\": {\"$sum\": \"$impressions\"},\n",
    "            \"clicks\": {\"$sum\": \"$clicks\"},\n",
    "            \"spend\": {\"$sum\": \"$cost\"},\n",
    "            \"orders\": {\"$sum\": \"$attributedConversions14d\"},\n",
    "            \"sales\": {\"$sum\": \"$attributedSaled14d\"}\n",
    "        }\n",
    "    },\n",
    "    {\n",
    "       \"$sort\": {\n",
    "           \"dt\": 1\n",
    "       } \n",
    "    }\n",
    "    ], allowDiskUse=True)\n",
    "    return products_data"
   ]
  }
 ],
 "metadata": {
  "kernelspec": {
   "display_name": "base",
   "language": "python",
   "name": "python3"
  },
  "language_info": {
   "codemirror_mode": {
    "name": "ipython",
    "version": 3
   },
   "file_extension": ".py",
   "mimetype": "text/x-python",
   "name": "python",
   "nbconvert_exporter": "python",
   "pygments_lexer": "ipython3",
   "version": "3.9.13 (main, Aug 25 2022, 23:51:50) [MSC v.1916 64 bit (AMD64)]"
  },
  "orig_nbformat": 4,
  "vscode": {
   "interpreter": {
    "hash": "2b9dbffa2dbd1cfeef985c051e6fe86c5e96d46b6a9b2dbe41d0e843a371e727"
   }
  }
 },
 "nbformat": 4,
 "nbformat_minor": 2
}
