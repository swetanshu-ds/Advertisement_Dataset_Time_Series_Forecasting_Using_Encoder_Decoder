{
 "cells": [
  {
   "cell_type": "code",
   "execution_count": 4,
   "id": "6c6afc3e",
   "metadata": {},
   "outputs": [],
   "source": [
    "import pymongo"
   ]
  },
  {
   "cell_type": "code",
   "execution_count": 5,
   "id": "be7a599e",
   "metadata": {},
   "outputs": [],
   "source": [
    "connection_string = \"mongodb://localhost:27017/\""
   ]
  },
  {
   "cell_type": "code",
   "execution_count": 7,
   "id": "18b5dcd4",
   "metadata": {},
   "outputs": [],
   "source": [
    "client  = pymongo.MongoClient(connection_string)"
   ]
  },
  {
   "cell_type": "code",
   "execution_count": 8,
   "id": "07184038",
   "metadata": {},
   "outputs": [],
   "source": [
    "db = client['house']"
   ]
  },
  {
   "cell_type": "code",
   "execution_count": 10,
   "id": "4fb9e76f",
   "metadata": {},
   "outputs": [],
   "source": [
    "collection  = db['prices']"
   ]
  },
  {
   "cell_type": "code",
   "execution_count": 11,
   "id": "2289b354",
   "metadata": {},
   "outputs": [],
   "source": [
    "price_info = [\n",
    "    {\"location\":\"Delhi\",\"price\":5,\"bedrooms\":2,\"floor\":1},\n",
    "    {\"location\":\"Chandigarh\",\"price\":2,\"bedrooms\":3,\"floor\":4},\n",
    "    {\"location\":\"Chandigarh\",\"price\":5,\"bedrooms\":3,\"floor\":1},\n",
    "    {\"location\":\"Delhi\",\"price\":1,\"bedrooms\":4,\"floor\":3},\n",
    "    {\"location\":\"Bangalore\",\"price\":2,\"bedrooms\":3,\"floor\":4},\n",
    "    {\"location\":\"Delhi\",\"price\":1,\"bedrooms\":3,\"floor\":7},\n",
    "    {\"location\":\"Bangalore\",\"price\":5,\"bedrooms\":20,\"floor\":21},\n",
    "    {\"location\":\"Ahmedabad\",\"price\":12,\"bedrooms\":2,\"floor\":10},\n",
    "    {\"location\":\"Surat\",\"price\":50,\"bedrooms\":20,\"floor\":11},\n",
    "    {\"location\":\"Kolkata\",\"price\":2,\"bedrooms\":2,\"floor\":1},\n",
    "    {\"location\":\"Lucknow\",\"price\":3,\"bedrooms\":4,\"floor\":5},\n",
    "    {\"location\":\"Gandhinagar\",\"price\":6,\"bedrooms\":13,\"floor\":1},\n",
    "    {\"location\":\"Chennai\",\"price\":50,\"bedrooms\":20,\"floor\":100},\n",
    "    {\"location\":\"Mumbai\",\"price\":12,\"bedrooms\":20,\"floor\":10},\n",
    "    {\"location\":\"Nagpur\",\"price\":5,\"bedrooms\":21,\"floor\":11}]"
   ]
  },
  {
   "cell_type": "code",
   "execution_count": 12,
   "id": "142a2137",
   "metadata": {},
   "outputs": [],
   "source": [
    "house_price = collection.insert_many(price_info)"
   ]
  },
  {
   "cell_type": "code",
   "execution_count": 15,
   "id": "45d5665a",
   "metadata": {},
   "outputs": [
    {
     "name": "stdout",
     "output_type": "stream",
     "text": [
      "{'_id': ObjectId('63d72b58066ab9d614d2ee43'), 'location': 'Bangalore', 'price': 2, 'bedrooms': 3, 'floor': 4}\n",
      "{'_id': ObjectId('63d72b58066ab9d614d2ee45'), 'location': 'Bangalore', 'price': 5, 'bedrooms': 20, 'floor': 21}\n"
     ]
    }
   ],
   "source": [
    "for i in db.prices.aggregate([\n",
    "    {\"$match\":{\"location\":\"Bangalore\"}}\n",
    "]):\n",
    "    print(i)"
   ]
  },
  {
   "cell_type": "code",
   "execution_count": 18,
   "id": "da9f71f4",
   "metadata": {},
   "outputs": [
    {
     "name": "stdout",
     "output_type": "stream",
     "text": [
      "{'_id': ObjectId('63d72b58066ab9d614d2ee43'), 'location': 'Bangalore', 'price': 2, 'bedrooms': 3, 'floor': 4}\n",
      "{'_id': ObjectId('63d72b58066ab9d614d2ee45'), 'location': 'Bangalore', 'price': 5, 'bedrooms': 20, 'floor': 21}\n"
     ]
    }
   ],
   "source": [
    "for i in db.prices.find({\"location\":\"Bangalore\"}):\n",
    "    print(i)"
   ]
  },
  {
   "cell_type": "code",
   "execution_count": 39,
   "id": "58f4ac4d",
   "metadata": {},
   "outputs": [
    {
     "name": "stdout",
     "output_type": "stream",
     "text": [
      "{'_id': ObjectId('63d72b58066ab9d614d2ee45'), 'price': 5, 'floorrooms': 41}\n",
      "{'_id': ObjectId('63d72b58066ab9d614d2ee43'), 'price': 2, 'floorrooms': 7}\n"
     ]
    }
   ],
   "source": [
    "for i in db.prices.aggregate([\n",
    "    {\"$match\":{\"location\":\"Bangalore\"}},\n",
    "    {\"$group\":{\"_id\":\"$_id\",\"price\":{\"$first\":\"$price\"},\"floorrooms\":{\"$sum\":{\"$add\":[\"$bedrooms\",\"$floor\"]}}}},\n",
    "    {\"$sort\":{\"floorrooms\":-1}}]):\n",
    "    print(i)"
   ]
  },
  {
   "cell_type": "code",
   "execution_count": 40,
   "id": "70b9410d",
   "metadata": {},
   "outputs": [
    {
     "name": "stdout",
     "output_type": "stream",
     "text": [
      "{'_id': ObjectId('63d72b58066ab9d614d2ee43'), 'price': 2, 'floorrooms': 7}\n",
      "{'_id': ObjectId('63d72b58066ab9d614d2ee45'), 'price': 5, 'floorrooms': 41}\n"
     ]
    }
   ],
   "source": [
    "for i in db.prices.aggregate([\n",
    "    {\"$match\":{\"location\":\"Bangalore\"}},\n",
    "    {\"$group\":{\"_id\":\"$_id\",\"price\":{\"$first\":\"$price\"},\"floorrooms\":{\"$sum\":{\"$add\":[\"$bedrooms\",\"$floor\"]}}}},\n",
    "    {\"$sort\":{\"floorrooms\":1}}]):\n",
    "    print(i)"
   ]
  },
  {
   "cell_type": "code",
   "execution_count": 41,
   "id": "fda5217d",
   "metadata": {},
   "outputs": [
    {
     "ename": "SyntaxError",
     "evalue": "invalid syntax (3389113670.py, line 1)",
     "output_type": "error",
     "traceback": [
      "\u001b[1;36m  File \u001b[1;32m\"C:\\Users\\Swetanshu Pandey\\AppData\\Local\\Temp\\ipykernel_16448\\3389113670.py\"\u001b[1;36m, line \u001b[1;32m1\u001b[0m\n\u001b[1;33m    show dbs\u001b[0m\n\u001b[1;37m         ^\u001b[0m\n\u001b[1;31mSyntaxError\u001b[0m\u001b[1;31m:\u001b[0m invalid syntax\n"
     ]
    }
   ],
   "source": [
    "show dbs"
   ]
  },
  {
   "cell_type": "code",
   "execution_count": null,
   "id": "6d17cdfe",
   "metadata": {},
   "outputs": [],
   "source": []
  }
 ],
 "metadata": {
  "kernelspec": {
   "display_name": "Python 3 (ipykernel)",
   "language": "python",
   "name": "python3"
  },
  "language_info": {
   "codemirror_mode": {
    "name": "ipython",
    "version": 3
   },
   "file_extension": ".py",
   "mimetype": "text/x-python",
   "name": "python",
   "nbconvert_exporter": "python",
   "pygments_lexer": "ipython3",
   "version": "3.9.13"
  }
 },
 "nbformat": 4,
 "nbformat_minor": 5
}
