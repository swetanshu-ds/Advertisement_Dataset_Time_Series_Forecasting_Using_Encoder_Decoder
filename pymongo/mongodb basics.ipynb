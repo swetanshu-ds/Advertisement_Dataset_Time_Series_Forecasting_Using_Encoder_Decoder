{
 "cells": [
  {
   "cell_type": "code",
   "execution_count": 1,
   "metadata": {},
   "outputs": [],
   "source": [
    "import pymongo"
   ]
  },
  {
   "cell_type": "code",
   "execution_count": 2,
   "metadata": {},
   "outputs": [],
   "source": [
    "client = pymongo.MongoClient('mongodb://127.0.0.1:27017/')"
   ]
  },
  {
   "cell_type": "code",
   "execution_count": 3,
   "metadata": {},
   "outputs": [],
   "source": [
    "mydb  = client[\"Employee\"]"
   ]
  },
  {
   "cell_type": "code",
   "execution_count": 4,
   "metadata": {},
   "outputs": [],
   "source": [
    "information = mydb.employeeinformation"
   ]
  },
  {
   "cell_type": "code",
   "execution_count": 5,
   "metadata": {},
   "outputs": [],
   "source": [
    "record = {\n",
    "    'firstname':'Raj',\n",
    "    'lastname':'Pandey',\n",
    "    'department':'Analytics'\n",
    "}"
   ]
  },
  {
   "cell_type": "code",
   "execution_count": 6,
   "metadata": {},
   "outputs": [
    {
     "data": {
      "text/plain": [
       "<pymongo.results.InsertOneResult at 0x2162614e820>"
      ]
     },
     "execution_count": 6,
     "metadata": {},
     "output_type": "execute_result"
    }
   ],
   "source": [
    "information.insert_one(record)"
   ]
  },
  {
   "cell_type": "code",
   "execution_count": 7,
   "metadata": {},
   "outputs": [],
   "source": [
    "record = [{\n",
    "    'firstname':'Raj',\n",
    "    'lastname':'Pandey',\n",
    "    'department':'Analytics'\n",
    "},{\n",
    "    'firstname':'Raj1',\n",
    "    'lastname':'Pandey1',\n",
    "    'department':'Analytics1'\n",
    "},{\n",
    "    'firstname':'Raj2',\n",
    "    'lastname':'Pandey2',\n",
    "    'department':'Analytics2'\n",
    "},{\n",
    "    'firstname':'Raj3',\n",
    "    'lastname':'Pandey3',\n",
    "    'department':'Analytics3'\n",
    "}]"
   ]
  },
  {
   "cell_type": "code",
   "execution_count": 8,
   "metadata": {},
   "outputs": [
    {
     "data": {
      "text/plain": [
       "<pymongo.results.InsertManyResult at 0x2162610cd60>"
      ]
     },
     "execution_count": 8,
     "metadata": {},
     "output_type": "execute_result"
    }
   ],
   "source": [
    "information.insert_many(record)"
   ]
  },
  {
   "cell_type": "code",
   "execution_count": 9,
   "metadata": {},
   "outputs": [
    {
     "data": {
      "text/plain": [
       "<pymongo.results.InsertOneResult at 0x2162614e5e0>"
      ]
     },
     "execution_count": 9,
     "metadata": {},
     "output_type": "execute_result"
    }
   ],
   "source": [
    "record = {\n",
    "    'firstname':'Raj',\n",
    "    'lastname':'Pandey',\n",
    "    'department':'Analytics',\n",
    "    'qualification':'BTech',\n",
    "    'age':22\n",
    "}\n",
    "information.insert_one(record)"
   ]
  },
  {
   "cell_type": "code",
   "execution_count": 10,
   "metadata": {},
   "outputs": [],
   "source": [
    "record = [{\n",
    "    'firstname':'Raj',\n",
    "    'lastname':'Pandey',\n",
    "    'department':'Analytics',\n",
    "    'qualification':'BTech',\n",
    "    'age':22\n",
    "}, {\n",
    "    'firstname':'Raj1',\n",
    "    'lastname':'Pandey1',\n",
    "    'department':'Analytics1',\n",
    "    'qualification':'BTech1',\n",
    "    'age':23\n",
    "}, {\n",
    "    'firstname':'Raj2',\n",
    "    'lastname':'Pandey2',\n",
    "    'department':'Analytics2',\n",
    "    'qualification':'BTech2',\n",
    "    'age':24\n",
    "}, {\n",
    "    'firstname':'Raj3',\n",
    "    'lastname':'Pandey3',\n",
    "    'department':'Analytics3',\n",
    "    'qualification':'BTech3',\n",
    "    'age':25\n",
    "}, {\n",
    "    'firstname':'Raj4',\n",
    "    'lastname':'Pandey4',\n",
    "    'department':'Analytics4',\n",
    "    'qualification':'BTech4',\n",
    "    'age':25\n",
    "}]"
   ]
  },
  {
   "cell_type": "code",
   "execution_count": 11,
   "metadata": {},
   "outputs": [
    {
     "data": {
      "text/plain": [
       "<pymongo.results.InsertManyResult at 0x2162610ca60>"
      ]
     },
     "execution_count": 11,
     "metadata": {},
     "output_type": "execute_result"
    }
   ],
   "source": [
    "information.insert_many(record)"
   ]
  },
  {
   "cell_type": "code",
   "execution_count": 12,
   "metadata": {},
   "outputs": [],
   "source": [
    "# simple way of querying"
   ]
  },
  {
   "cell_type": "code",
   "execution_count": 14,
   "metadata": {},
   "outputs": [
    {
     "data": {
      "text/plain": [
       "{'_id': ObjectId('63d101a097be06deeeec96fc'),\n",
       " 'firstname': 'Raj',\n",
       " 'lastname': 'Pandey',\n",
       " 'department': 'Analytics'}"
      ]
     },
     "execution_count": 14,
     "metadata": {},
     "output_type": "execute_result"
    }
   ],
   "source": [
    "information.find_one()"
   ]
  },
  {
   "cell_type": "code",
   "execution_count": 16,
   "metadata": {},
   "outputs": [
    {
     "name": "stdout",
     "output_type": "stream",
     "text": [
      "{'_id': ObjectId('63d101a097be06deeeec96fc'), 'firstname': 'Raj', 'lastname': 'Pandey', 'department': 'Analytics'}\n",
      "{'_id': ObjectId('63d1036e97be06deeeec96fd'), 'firstname': 'Raj', 'lastname': 'Pandey', 'department': 'Analytics'}\n",
      "{'_id': ObjectId('63d1036e97be06deeeec96fe'), 'firstname': 'Raj1', 'lastname': 'Pandey1', 'department': 'Analytics1'}\n",
      "{'_id': ObjectId('63d1036e97be06deeeec96ff'), 'firstname': 'Raj2', 'lastname': 'Pandey2', 'department': 'Analytics2'}\n",
      "{'_id': ObjectId('63d1036e97be06deeeec9700'), 'firstname': 'Raj3', 'lastname': 'Pandey3', 'department': 'Analytics3'}\n",
      "{'_id': ObjectId('63d104eb97be06deeeec9701'), 'firstname': 'Raj', 'lastname': 'Pandey', 'department': 'Analytics', 'qualification': 'BTech', 'age': 22}\n",
      "{'_id': ObjectId('63d1057697be06deeeec9702'), 'firstname': 'Raj', 'lastname': 'Pandey', 'department': 'Analytics', 'qualification': 'BTech', 'age': 22}\n",
      "{'_id': ObjectId('63d1057697be06deeeec9703'), 'firstname': 'Raj1', 'lastname': 'Pandey1', 'department': 'Analytics1', 'qualification': 'BTech1', 'age': 23}\n",
      "{'_id': ObjectId('63d1057697be06deeeec9704'), 'firstname': 'Raj2', 'lastname': 'Pandey2', 'department': 'Analytics2', 'qualification': 'BTech2', 'age': 24}\n",
      "{'_id': ObjectId('63d1057697be06deeeec9705'), 'firstname': 'Raj3', 'lastname': 'Pandey3', 'department': 'Analytics3', 'qualification': 'BTech3', 'age': 25}\n",
      "{'_id': ObjectId('63d1057697be06deeeec9706'), 'firstname': 'Raj4', 'lastname': 'Pandey4', 'department': 'Analytics4', 'qualification': 'BTech4', 'age': 25}\n"
     ]
    }
   ],
   "source": [
    "for i in information.find():\n",
    "    print(i)"
   ]
  },
  {
   "cell_type": "code",
   "execution_count": 17,
   "metadata": {},
   "outputs": [
    {
     "name": "stdout",
     "output_type": "stream",
     "text": [
      "{'_id': ObjectId('63d101a097be06deeeec96fc'), 'firstname': 'Raj', 'lastname': 'Pandey', 'department': 'Analytics'}\n",
      "{'_id': ObjectId('63d1036e97be06deeeec96fd'), 'firstname': 'Raj', 'lastname': 'Pandey', 'department': 'Analytics'}\n",
      "{'_id': ObjectId('63d1036e97be06deeeec96fe'), 'firstname': 'Raj1', 'lastname': 'Pandey1', 'department': 'Analytics1'}\n",
      "{'_id': ObjectId('63d1036e97be06deeeec96ff'), 'firstname': 'Raj2', 'lastname': 'Pandey2', 'department': 'Analytics2'}\n",
      "{'_id': ObjectId('63d1036e97be06deeeec9700'), 'firstname': 'Raj3', 'lastname': 'Pandey3', 'department': 'Analytics3'}\n",
      "{'_id': ObjectId('63d104eb97be06deeeec9701'), 'firstname': 'Raj', 'lastname': 'Pandey', 'department': 'Analytics', 'qualification': 'BTech', 'age': 22}\n",
      "{'_id': ObjectId('63d1057697be06deeeec9702'), 'firstname': 'Raj', 'lastname': 'Pandey', 'department': 'Analytics', 'qualification': 'BTech', 'age': 22}\n",
      "{'_id': ObjectId('63d1057697be06deeeec9703'), 'firstname': 'Raj1', 'lastname': 'Pandey1', 'department': 'Analytics1', 'qualification': 'BTech1', 'age': 23}\n",
      "{'_id': ObjectId('63d1057697be06deeeec9704'), 'firstname': 'Raj2', 'lastname': 'Pandey2', 'department': 'Analytics2', 'qualification': 'BTech2', 'age': 24}\n",
      "{'_id': ObjectId('63d1057697be06deeeec9705'), 'firstname': 'Raj3', 'lastname': 'Pandey3', 'department': 'Analytics3', 'qualification': 'BTech3', 'age': 25}\n",
      "{'_id': ObjectId('63d1057697be06deeeec9706'), 'firstname': 'Raj4', 'lastname': 'Pandey4', 'department': 'Analytics4', 'qualification': 'BTech4', 'age': 25}\n"
     ]
    }
   ],
   "source": [
    "for i in information.find({}):\n",
    "    print(i)"
   ]
  },
  {
   "cell_type": "code",
   "execution_count": 19,
   "metadata": {},
   "outputs": [
    {
     "name": "stdout",
     "output_type": "stream",
     "text": [
      "{'_id': ObjectId('63d101a097be06deeeec96fc'), 'firstname': 'Raj', 'lastname': 'Pandey', 'department': 'Analytics'}\n",
      "{'_id': ObjectId('63d1036e97be06deeeec96fd'), 'firstname': 'Raj', 'lastname': 'Pandey', 'department': 'Analytics'}\n",
      "{'_id': ObjectId('63d104eb97be06deeeec9701'), 'firstname': 'Raj', 'lastname': 'Pandey', 'department': 'Analytics', 'qualification': 'BTech', 'age': 22}\n",
      "{'_id': ObjectId('63d1057697be06deeeec9702'), 'firstname': 'Raj', 'lastname': 'Pandey', 'department': 'Analytics', 'qualification': 'BTech', 'age': 22}\n"
     ]
    }
   ],
   "source": [
    "for i in information.find({'firstname':\"Raj\"}):\n",
    "    print(i)"
   ]
  },
  {
   "cell_type": "code",
   "execution_count": 26,
   "metadata": {},
   "outputs": [
    {
     "name": "stdout",
     "output_type": "stream",
     "text": [
      "{'_id': ObjectId('63d104eb97be06deeeec9701'), 'firstname': 'Raj', 'lastname': 'Pandey', 'department': 'Analytics', 'qualification': 'BTech', 'age': 22}\n",
      "{'_id': ObjectId('63d1057697be06deeeec9702'), 'firstname': 'Raj', 'lastname': 'Pandey', 'department': 'Analytics', 'qualification': 'BTech', 'age': 22}\n",
      "{'_id': ObjectId('63d1057697be06deeeec9703'), 'firstname': 'Raj1', 'lastname': 'Pandey1', 'department': 'Analytics1', 'qualification': 'BTech1', 'age': 23}\n",
      "{'_id': ObjectId('63d1057697be06deeeec9704'), 'firstname': 'Raj2', 'lastname': 'Pandey2', 'department': 'Analytics2', 'qualification': 'BTech2', 'age': 24}\n",
      "{'_id': ObjectId('63d1057697be06deeeec9705'), 'firstname': 'Raj3', 'lastname': 'Pandey3', 'department': 'Analytics3', 'qualification': 'BTech3', 'age': 25}\n",
      "{'_id': ObjectId('63d1057697be06deeeec9706'), 'firstname': 'Raj4', 'lastname': 'Pandey4', 'department': 'Analytics4', 'qualification': 'BTech4', 'age': 25}\n"
     ]
    }
   ],
   "source": [
    "for i in information.find({'qualification':{'$in':['BTech1','BTech','BTech2','BTech3','BTech4']}}):\n",
    "    print(i)"
   ]
  },
  {
   "cell_type": "code",
   "execution_count": 28,
   "metadata": {},
   "outputs": [
    {
     "name": "stdout",
     "output_type": "stream",
     "text": [
      "{'_id': ObjectId('63d104eb97be06deeeec9701'), 'firstname': 'Raj', 'lastname': 'Pandey', 'department': 'Analytics', 'qualification': 'BTech', 'age': 22}\n",
      "{'_id': ObjectId('63d1057697be06deeeec9702'), 'firstname': 'Raj', 'lastname': 'Pandey', 'department': 'Analytics', 'qualification': 'BTech', 'age': 22}\n",
      "{'_id': ObjectId('63d1057697be06deeeec9703'), 'firstname': 'Raj1', 'lastname': 'Pandey1', 'department': 'Analytics1', 'qualification': 'BTech1', 'age': 23}\n",
      "{'_id': ObjectId('63d1057697be06deeeec9704'), 'firstname': 'Raj2', 'lastname': 'Pandey2', 'department': 'Analytics2', 'qualification': 'BTech2', 'age': 24}\n"
     ]
    }
   ],
   "source": [
    "for i in information.find({'qualification':{'$in':['BTech','BTech1','BTech2']},'age':{'$lt':35}}):\n",
    "    print(i)"
   ]
  },
  {
   "cell_type": "code",
   "execution_count": 29,
   "metadata": {},
   "outputs": [
    {
     "name": "stdout",
     "output_type": "stream",
     "text": [
      "{'_id': ObjectId('63d101a097be06deeeec96fc'), 'firstname': 'Raj', 'lastname': 'Pandey', 'department': 'Analytics'}\n",
      "{'_id': ObjectId('63d1036e97be06deeeec96fd'), 'firstname': 'Raj', 'lastname': 'Pandey', 'department': 'Analytics'}\n",
      "{'_id': ObjectId('63d104eb97be06deeeec9701'), 'firstname': 'Raj', 'lastname': 'Pandey', 'department': 'Analytics', 'qualification': 'BTech', 'age': 22}\n",
      "{'_id': ObjectId('63d1057697be06deeeec9702'), 'firstname': 'Raj', 'lastname': 'Pandey', 'department': 'Analytics', 'qualification': 'BTech', 'age': 22}\n"
     ]
    }
   ],
   "source": [
    "for i in information.find({'$or':[{'firstname':'Raj'},{'qualification':'BTech'}]}):\n",
    "    print(i)"
   ]
  },
  {
   "cell_type": "code",
   "execution_count": 33,
   "metadata": {},
   "outputs": [
    {
     "name": "stdout",
     "output_type": "stream",
     "text": [
      "{'_id': ObjectId('63d1057697be06deeeec9703'), 'firstname': 'Raj1', 'lastname': 'Pandey1', 'department': 'Analytics1', 'qualification': 'BTech1', 'age': 23}\n"
     ]
    }
   ],
   "source": [
    "for i in information.find({'$and':[{'firstname':'Raj1'},{'qualification':'BTech1'}]}):\n",
    "    print(i)"
   ]
  },
  {
   "cell_type": "code",
   "execution_count": 34,
   "metadata": {},
   "outputs": [],
   "source": [
    "inventory = mydb.inventory"
   ]
  },
  {
   "cell_type": "code",
   "execution_count": 35,
   "metadata": {},
   "outputs": [],
   "source": [
    "inventory.insert_many( [\n",
    "   { 'item': \"journal\", 'qty': 25, 'size': { 'h': 14, 'w': 21,'uom': \"cm\" }, 'status': \"A\" },\n",
    "   { 'item': \"notebook\", 'qty': 50,'size': { 'h': 8.5, 'w': 11,'uom': \"in\" },'status': \"A\" },\n",
    "   { 'item': \"paper\", 'qty': 100, 'size': { 'h': 8.5, 'w': 11,'uom': \"in\" },'status': \"D\" },\n",
    "   { 'item': \"planner\", 'qty': 75, 'size': { 'h': 22.85,'w': 30,'uom': \"cm\" },'status': \"D\" },\n",
    "   { 'item': \"postcard\", 'qty': 45, 'size': { 'h': 10, 'w': 15.25,'uom': \"cm\" },'status': \"A\" }\n",
    "]);"
   ]
  },
  {
   "cell_type": "code",
   "execution_count": 36,
   "metadata": {},
   "outputs": [
    {
     "name": "stdout",
     "output_type": "stream",
     "text": [
      "{'_id': ObjectId('63d10be697be06deeeec9707'), 'item': 'journal', 'qty': 25, 'size': {'h': 14, 'w': 21, 'uom': 'cm'}, 'status': 'A'}\n",
      "{'_id': ObjectId('63d10be697be06deeeec9708'), 'item': 'notebook', 'qty': 50, 'size': {'h': 8.5, 'w': 11, 'uom': 'in'}, 'status': 'A'}\n",
      "{'_id': ObjectId('63d10be697be06deeeec9709'), 'item': 'paper', 'qty': 100, 'size': {'h': 8.5, 'w': 11, 'uom': 'in'}, 'status': 'D'}\n",
      "{'_id': ObjectId('63d10be697be06deeeec970a'), 'item': 'planner', 'qty': 75, 'size': {'h': 22.85, 'w': 30, 'uom': 'cm'}, 'status': 'D'}\n",
      "{'_id': ObjectId('63d10be697be06deeeec970b'), 'item': 'postcard', 'qty': 45, 'size': {'h': 10, 'w': 15.25, 'uom': 'cm'}, 'status': 'A'}\n"
     ]
    }
   ],
   "source": [
    "for i in inventory.find():\n",
    "    print(i)"
   ]
  },
  {
   "cell_type": "code",
   "execution_count": 38,
   "metadata": {},
   "outputs": [
    {
     "name": "stdout",
     "output_type": "stream",
     "text": [
      "{'_id': ObjectId('63d10be697be06deeeec9707'), 'item': 'journal', 'qty': 25, 'size': {'h': 14, 'w': 21, 'uom': 'cm'}, 'status': 'A'}\n"
     ]
    }
   ],
   "source": [
    "for i in inventory.find({'size':{'h':14,'w':21,'uom':\"cm\"}}):\n",
    "    print(i)"
   ]
  },
  {
   "cell_type": "code",
   "execution_count": 39,
   "metadata": {},
   "outputs": [
    {
     "data": {
      "text/plain": [
       "<pymongo.results.InsertManyResult at 0x216262647f0>"
      ]
     },
     "execution_count": 39,
     "metadata": {},
     "output_type": "execute_result"
    }
   ],
   "source": [
    "inventory.insert_many([\n",
    "    {\"item\": \"canvas\",\n",
    "     \"qty\": 100,\n",
    "     \"size\": {\"h\": 28, \"w\": 35.5, \"uom\": \"cm\"},\n",
    "     \"status\": \"A\"},\n",
    "    {\"item\": \"journal\",\n",
    "     \"qty\": 25,\n",
    "     \"size\": {\"h\": 14, \"w\": 21, \"uom\": \"cm\"},\n",
    "     \"status\": \"A\"},\n",
    "    {\"item\": \"mat\",\n",
    "     \"qty\": 85,\n",
    "     \"size\": {\"h\": 27.9, \"w\": 35.5, \"uom\": \"cm\"},\n",
    "     \"status\": \"A\"},\n",
    "    {\"item\": \"mousepad\",\n",
    "     \"qty\": 25,\n",
    "     \"size\": {\"h\": 19, \"w\": 22.85, \"uom\": \"cm\"},\n",
    "     \"status\": \"P\"},\n",
    "    {\"item\": \"notebook\",\n",
    "     \"qty\": 50,\n",
    "     \"size\": {\"h\": 8.5, \"w\": 11, \"uom\": \"in\"},\n",
    "     \"status\": \"P\"},\n",
    "    {\"item\": \"paper\",\n",
    "     \"qty\": 100,\n",
    "     \"size\": {\"h\": 8.5, \"w\": 11, \"uom\": \"in\"},\n",
    "     \"status\": \"D\"},\n",
    "    {\"item\": \"planner\",\n",
    "     \"qty\": 75,\n",
    "     \"size\": {\"h\": 22.85, \"w\": 30, \"uom\": \"cm\"},\n",
    "     \"status\": \"D\"},\n",
    "    {\"item\": \"postcard\",\n",
    "     \"qty\": 45,\n",
    "     \"size\": {\"h\": 10, \"w\": 15.25, \"uom\": \"cm\"},\n",
    "     \"status\": \"A\"},\n",
    "    {\"item\": \"sketchbook\",\n",
    "     \"qty\": 80,\n",
    "     \"size\": {\"h\": 14, \"w\": 21, \"uom\": \"cm\"},\n",
    "     \"status\": \"A\"},\n",
    "    {\"item\": \"sketch pad\",\n",
    "     \"qty\": 95,\n",
    "     \"size\": {\"h\": 22.85, \"w\": 30.5, \"uom\": \"cm\"},\n",
    "     \"status\": \"A\"}])"
   ]
  },
  {
   "cell_type": "code",
   "execution_count": 41,
   "metadata": {},
   "outputs": [
    {
     "data": {
      "text/plain": [
       "<pymongo.results.UpdateResult at 0x216232ea520>"
      ]
     },
     "execution_count": 41,
     "metadata": {},
     "output_type": "execute_result"
    }
   ],
   "source": [
    "inventory.update_one(\n",
    "    {\"item\":\"sketch pad\"},\n",
    "    {'$set':{\"size.uom\":\"m\",\"status\":\"P\"},\n",
    "    \"$currentDate\":{\"lastmodified\":True}}    \n",
    ")"
   ]
  },
  {
   "cell_type": "code",
   "execution_count": 42,
   "metadata": {},
   "outputs": [
    {
     "data": {
      "text/plain": [
       "<pymongo.results.UpdateResult at 0x216232cc160>"
      ]
     },
     "execution_count": 42,
     "metadata": {},
     "output_type": "execute_result"
    }
   ],
   "source": [
    "inventory.update_many(\n",
    "  {\"qty\":{\"$lt\":50}},\n",
    "  {\"$set\":{\"size.uom\":\"in\",\"status\":\"P\"},\n",
    "  \"$currentDate\":{\"lastModified\":True}}  \n",
    ")"
   ]
  },
  {
   "cell_type": "code",
   "execution_count": 45,
   "metadata": {},
   "outputs": [],
   "source": [
    "l = []\n",
    "for  i in inventory.find():\n",
    "    l.append(i)"
   ]
  },
  {
   "cell_type": "code",
   "execution_count": 49,
   "metadata": {},
   "outputs": [],
   "source": [
    "import pandas as pd"
   ]
  },
  {
   "cell_type": "code",
   "execution_count": 50,
   "metadata": {},
   "outputs": [],
   "source": [
    "df = pd.DataFrame(l[0])"
   ]
  },
  {
   "cell_type": "code",
   "execution_count": 54,
   "metadata": {},
   "outputs": [
    {
     "data": {
      "text/plain": [
       "(3, 6)"
      ]
     },
     "execution_count": 54,
     "metadata": {},
     "output_type": "execute_result"
    }
   ],
   "source": [
    "df.shape"
   ]
  },
  {
   "cell_type": "code",
   "execution_count": 55,
   "metadata": {},
   "outputs": [
    {
     "data": {
      "text/plain": [
       "<pymongo.results.UpdateResult at 0x2162747b1f0>"
      ]
     },
     "execution_count": 55,
     "metadata": {},
     "output_type": "execute_result"
    }
   ],
   "source": [
    "inventory.replace_one(\n",
    "    {'item':'paper'},\n",
    "    {'item':\"paper\",\n",
    "    \"instock\":[\n",
    "        {\"warehouse\":\"A\",\"qty\":60},\n",
    "        {\"warehouse\":\"B\",\"qty\":40}\n",
    "    ]}\n",
    ")"
   ]
  },
  {
   "cell_type": "code",
   "execution_count": null,
   "metadata": {},
   "outputs": [],
   "source": [
    " "
   ]
  }
 ],
 "metadata": {
  "kernelspec": {
   "display_name": "base",
   "language": "python",
   "name": "python3"
  },
  "language_info": {
   "codemirror_mode": {
    "name": "ipython",
    "version": 3
   },
   "file_extension": ".py",
   "mimetype": "text/x-python",
   "name": "python",
   "nbconvert_exporter": "python",
   "pygments_lexer": "ipython3",
   "version": "3.9.13"
  },
  "orig_nbformat": 4,
  "vscode": {
   "interpreter": {
    "hash": "2b9dbffa2dbd1cfeef985c051e6fe86c5e96d46b6a9b2dbe41d0e843a371e727"
   }
  }
 },
 "nbformat": 4,
 "nbformat_minor": 2
}
