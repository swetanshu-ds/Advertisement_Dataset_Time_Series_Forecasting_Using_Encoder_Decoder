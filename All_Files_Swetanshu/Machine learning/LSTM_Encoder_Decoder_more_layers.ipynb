{
 "cells": [
  {
   "cell_type": "code",
   "execution_count": null,
   "metadata": {
    "colab": {
     "base_uri": "https://localhost:8080/"
    },
    "id": "iejU_q7VY5sK",
    "outputId": "2db3c0e3-9702-4197-8a11-43942ffb311d"
   },
   "outputs": [
    {
     "name": "stdout",
     "output_type": "stream",
     "text": [
      "Drive already mounted at /content/drive; to attempt to forcibly remount, call drive.mount(\"/content/drive\", force_remount=True).\n"
     ]
    }
   ],
   "source": [
    "from google.colab import drive\n",
    "drive.mount('/content/drive')"
   ]
  },
  {
   "cell_type": "code",
   "execution_count": null,
   "metadata": {
    "id": "nrDQmBv2Y0_r"
   },
   "outputs": [],
   "source": [
    "import numpy as np\n",
    "import pandas as pd\n",
    "import datetime\n",
    "#from adbrew_core.settings import db\n",
    "import tensorflow as tf\n",
    "from sklearn.model_selection import train_test_split\n",
    "from sklearn.preprocessing import MinMaxScaler\n",
    "from sklearn.metrics import mean_squared_error\n",
    "from sklearn import preprocessing\n",
    "import matplotlib.pyplot as plt\n",
    "from tensorflow.python.keras.models import Sequential\n",
    "from tensorflow.python.keras.layers import Dense\n",
    "from tensorflow.python.keras.layers import LSTM\n",
    "tf.random.set_seed(1)\n",
    "np.random.seed(1)\n",
    "import warnings\n",
    "warnings.filterwarnings(\"ignore\")"
   ]
  },
  {
   "cell_type": "code",
   "execution_count": null,
   "metadata": {
    "id": "7fBGTFTuY0_3"
   },
   "outputs": [],
   "source": [
    "df = pd.read_csv(\"/content/drive/MyDrive/Colab Notebooks/account_data.csv\",parse_dates = True)"
   ]
  },
  {
   "cell_type": "code",
   "execution_count": null,
   "metadata": {
    "colab": {
     "base_uri": "https://localhost:8080/",
     "height": 112
    },
    "id": "5Yqm0O1fY0_5",
    "outputId": "8b7d2936-d5f7-4dc6-9be9-369cedf58d21"
   },
   "outputs": [
    {
     "data": {
      "text/html": [
       "\n",
       "  <div id=\"df-4355d877-7ba9-496d-a72b-e2f445d59f3b\">\n",
       "    <div class=\"colab-df-container\">\n",
       "      <div>\n",
       "<style scoped>\n",
       "    .dataframe tbody tr th:only-of-type {\n",
       "        vertical-align: middle;\n",
       "    }\n",
       "\n",
       "    .dataframe tbody tr th {\n",
       "        vertical-align: top;\n",
       "    }\n",
       "\n",
       "    .dataframe thead th {\n",
       "        text-align: right;\n",
       "    }\n",
       "</style>\n",
       "<table border=\"1\" class=\"dataframe\">\n",
       "  <thead>\n",
       "    <tr style=\"text-align: right;\">\n",
       "      <th></th>\n",
       "      <th>accountId</th>\n",
       "      <th>adGroupId</th>\n",
       "      <th>campaignId</th>\n",
       "      <th>keywordId</th>\n",
       "      <th>date</th>\n",
       "      <th>sales</th>\n",
       "      <th>spend</th>\n",
       "      <th>clicks</th>\n",
       "      <th>impressions</th>\n",
       "      <th>orders</th>\n",
       "    </tr>\n",
       "  </thead>\n",
       "  <tbody>\n",
       "    <tr>\n",
       "      <th>0</th>\n",
       "      <td>5ffdb895b08512986422b08c</td>\n",
       "      <td>265947652253786</td>\n",
       "      <td>278924003146587</td>\n",
       "      <td>178532402627801</td>\n",
       "      <td>2022-01-20</td>\n",
       "      <td>0.0</td>\n",
       "      <td>2.81</td>\n",
       "      <td>1.0</td>\n",
       "      <td>7.0</td>\n",
       "      <td>0.0</td>\n",
       "    </tr>\n",
       "    <tr>\n",
       "      <th>1</th>\n",
       "      <td>5ffdb895b08512986422b08c</td>\n",
       "      <td>102056862761827</td>\n",
       "      <td>57804152586859</td>\n",
       "      <td>217252402080046</td>\n",
       "      <td>2022-01-20</td>\n",
       "      <td>0.0</td>\n",
       "      <td>0.00</td>\n",
       "      <td>0.0</td>\n",
       "      <td>19.0</td>\n",
       "      <td>0.0</td>\n",
       "    </tr>\n",
       "  </tbody>\n",
       "</table>\n",
       "</div>\n",
       "      <button class=\"colab-df-convert\" onclick=\"convertToInteractive('df-4355d877-7ba9-496d-a72b-e2f445d59f3b')\"\n",
       "              title=\"Convert this dataframe to an interactive table.\"\n",
       "              style=\"display:none;\">\n",
       "        \n",
       "  <svg xmlns=\"http://www.w3.org/2000/svg\" height=\"24px\"viewBox=\"0 0 24 24\"\n",
       "       width=\"24px\">\n",
       "    <path d=\"M0 0h24v24H0V0z\" fill=\"none\"/>\n",
       "    <path d=\"M18.56 5.44l.94 2.06.94-2.06 2.06-.94-2.06-.94-.94-2.06-.94 2.06-2.06.94zm-11 1L8.5 8.5l.94-2.06 2.06-.94-2.06-.94L8.5 2.5l-.94 2.06-2.06.94zm10 10l.94 2.06.94-2.06 2.06-.94-2.06-.94-.94-2.06-.94 2.06-2.06.94z\"/><path d=\"M17.41 7.96l-1.37-1.37c-.4-.4-.92-.59-1.43-.59-.52 0-1.04.2-1.43.59L10.3 9.45l-7.72 7.72c-.78.78-.78 2.05 0 2.83L4 21.41c.39.39.9.59 1.41.59.51 0 1.02-.2 1.41-.59l7.78-7.78 2.81-2.81c.8-.78.8-2.07 0-2.86zM5.41 20L4 18.59l7.72-7.72 1.47 1.35L5.41 20z\"/>\n",
       "  </svg>\n",
       "      </button>\n",
       "      \n",
       "  <style>\n",
       "    .colab-df-container {\n",
       "      display:flex;\n",
       "      flex-wrap:wrap;\n",
       "      gap: 12px;\n",
       "    }\n",
       "\n",
       "    .colab-df-convert {\n",
       "      background-color: #E8F0FE;\n",
       "      border: none;\n",
       "      border-radius: 50%;\n",
       "      cursor: pointer;\n",
       "      display: none;\n",
       "      fill: #1967D2;\n",
       "      height: 32px;\n",
       "      padding: 0 0 0 0;\n",
       "      width: 32px;\n",
       "    }\n",
       "\n",
       "    .colab-df-convert:hover {\n",
       "      background-color: #E2EBFA;\n",
       "      box-shadow: 0px 1px 2px rgba(60, 64, 67, 0.3), 0px 1px 3px 1px rgba(60, 64, 67, 0.15);\n",
       "      fill: #174EA6;\n",
       "    }\n",
       "\n",
       "    [theme=dark] .colab-df-convert {\n",
       "      background-color: #3B4455;\n",
       "      fill: #D2E3FC;\n",
       "    }\n",
       "\n",
       "    [theme=dark] .colab-df-convert:hover {\n",
       "      background-color: #434B5C;\n",
       "      box-shadow: 0px 1px 3px 1px rgba(0, 0, 0, 0.15);\n",
       "      filter: drop-shadow(0px 1px 2px rgba(0, 0, 0, 0.3));\n",
       "      fill: #FFFFFF;\n",
       "    }\n",
       "  </style>\n",
       "\n",
       "      <script>\n",
       "        const buttonEl =\n",
       "          document.querySelector('#df-4355d877-7ba9-496d-a72b-e2f445d59f3b button.colab-df-convert');\n",
       "        buttonEl.style.display =\n",
       "          google.colab.kernel.accessAllowed ? 'block' : 'none';\n",
       "\n",
       "        async function convertToInteractive(key) {\n",
       "          const element = document.querySelector('#df-4355d877-7ba9-496d-a72b-e2f445d59f3b');\n",
       "          const dataTable =\n",
       "            await google.colab.kernel.invokeFunction('convertToInteractive',\n",
       "                                                     [key], {});\n",
       "          if (!dataTable) return;\n",
       "\n",
       "          const docLinkHtml = 'Like what you see? Visit the ' +\n",
       "            '<a target=\"_blank\" href=https://colab.research.google.com/notebooks/data_table.ipynb>data table notebook</a>'\n",
       "            + ' to learn more about interactive tables.';\n",
       "          element.innerHTML = '';\n",
       "          dataTable['output_type'] = 'display_data';\n",
       "          await google.colab.output.renderOutput(dataTable, element);\n",
       "          const docLink = document.createElement('div');\n",
       "          docLink.innerHTML = docLinkHtml;\n",
       "          element.appendChild(docLink);\n",
       "        }\n",
       "      </script>\n",
       "    </div>\n",
       "  </div>\n",
       "  "
      ],
      "text/plain": [
       "                  accountId        adGroupId       campaignId  \\\n",
       "0  5ffdb895b08512986422b08c  265947652253786  278924003146587   \n",
       "1  5ffdb895b08512986422b08c  102056862761827   57804152586859   \n",
       "\n",
       "         keywordId        date  sales  spend  clicks  impressions  orders  \n",
       "0  178532402627801  2022-01-20    0.0   2.81     1.0          7.0     0.0  \n",
       "1  217252402080046  2022-01-20    0.0   0.00     0.0         19.0     0.0  "
      ]
     },
     "execution_count": 4,
     "metadata": {},
     "output_type": "execute_result"
    }
   ],
   "source": [
    "df.head(2)"
   ]
  },
  {
   "cell_type": "code",
   "execution_count": null,
   "metadata": {
    "id": "lhjTpy2PY0_9"
   },
   "outputs": [],
   "source": [
    "a = list(df['accountId'].unique())"
   ]
  },
  {
   "cell_type": "code",
   "execution_count": null,
   "metadata": {
    "colab": {
     "base_uri": "https://localhost:8080/"
    },
    "id": "q6LHRwvlY0_-",
    "outputId": "aad1d68c-0e5a-4aab-ed93-9161c45b3d5d"
   },
   "outputs": [
    {
     "data": {
      "text/plain": [
       "['5ffdb895b08512986422b08c',\n",
       " '6013fbaaaadf53eb56518f43',\n",
       " '613b51d1565006d4e2b60924',\n",
       " '615451dfe1e966fb58822ed6',\n",
       " '61b3133728133e8d9e12b44a',\n",
       " '61b7ea05aa9248e907a3a4fe',\n",
       " '61b8929c7f1731fdf842d921',\n",
       " '61e83a4740598119fc405f5f',\n",
       " '61f7720e169a5b91c7df71d3',\n",
       " '6215bded0e0c2c6c8cdff5c1',\n",
       " '621e270ca49d1163c27d1f49',\n",
       " '621f017b51283da3bc7d1f4c',\n",
       " '621f1d9c67922326997d1f6a',\n",
       " '62301d0a4388ed0eb0998a54',\n",
       " '62301d3d2f79a2538b998a53',\n",
       " '6230371963f4565d8b998a53',\n",
       " '6235a30e5cfcdd57405aa343',\n",
       " '623dda2d7c55e7180704dfca',\n",
       " '623dda6df77df1d4d204dfc9',\n",
       " '6263acc5367e283277f9a0ef']"
      ]
     },
     "execution_count": 6,
     "metadata": {},
     "output_type": "execute_result"
    }
   ],
   "source": [
    "a"
   ]
  },
  {
   "cell_type": "markdown",
   "metadata": {
    "id": "TzzUvDK2Y1AA"
   },
   "source": [
    "## Doing for 1 account"
   ]
  },
  {
   "cell_type": "code",
   "execution_count": null,
   "metadata": {
    "id": "NfvrDebVY1AE"
   },
   "outputs": [],
   "source": [
    "df = df[df['accountId']==\"5ffdb895b08512986422b08c\"]"
   ]
  },
  {
   "cell_type": "code",
   "execution_count": null,
   "metadata": {
    "id": "zjZmXPkkY1AF"
   },
   "outputs": [],
   "source": [
    "df=df.copy()\n",
    "df.date = pd.to_datetime(df.date)\n",
    "df.sort_values(by=\"date\", inplace=True, ignore_index=True)\n",
    "account_data = df"
   ]
  },
  {
   "cell_type": "code",
   "execution_count": null,
   "metadata": {
    "id": "8l6UOVOGY1AG"
   },
   "outputs": [],
   "source": [
    "keyword_ids = account_data[\"keywordId\"].unique()\n",
    "keywordwise_sales = account_data.groupby(\"keywordId\")[\"sales\"].sum()\n",
    "nonzero_sales_keywords = keywordwise_sales[keywordwise_sales>0]\n",
    "nonzero_sales_keywords.sort_values(ascending=False, inplace=True)\n",
    "keywords_req = list(nonzero_sales_keywords.index)\n",
    "keyword_ids = keywords_req[:20]\n",
    "account_data =  account_data[account_data['keywordId'].isin(keyword_ids)]"
   ]
  },
  {
   "cell_type": "code",
   "execution_count": null,
   "metadata": {
    "id": "EdN4QgYWY1AI"
   },
   "outputs": [],
   "source": [
    "account_data.reset_index(inplace = True)\n",
    "account_data.sort_values(by=\"date\", inplace=True, ignore_index=True)"
   ]
  },
  {
   "cell_type": "code",
   "execution_count": null,
   "metadata": {
    "id": "4QrtdXpFY1AJ"
   },
   "outputs": [],
   "source": [
    "account_data.drop(columns = \"index\",inplace = True)"
   ]
  },
  {
   "cell_type": "code",
   "execution_count": null,
   "metadata": {
    "id": "r9Nrx3P7Y1AJ"
   },
   "outputs": [],
   "source": [
    "account_data.sort_values(by = 'date',inplace = True)"
   ]
  },
  {
   "cell_type": "code",
   "execution_count": null,
   "metadata": {
    "id": "vv9FNWqqY1AK"
   },
   "outputs": [],
   "source": [
    "account_data.reset_index(inplace = True)"
   ]
  },
  {
   "cell_type": "code",
   "execution_count": null,
   "metadata": {
    "id": "EjoTivt4Y1AL"
   },
   "outputs": [],
   "source": [
    "account_data.drop(columns = \"index\",inplace = True)"
   ]
  },
  {
   "cell_type": "code",
   "execution_count": null,
   "metadata": {
    "id": "ZfbLAKxYY1AL"
   },
   "outputs": [],
   "source": [
    "account_data['clicks'] = account_data[\"clicks\"].astype(\"int64\")\n",
    "account_data['impressions'] = account_data[\"impressions\"].astype(\"int64\")\n",
    "account_data['orders'] = account_data[\"orders\"].astype(\"int64\")"
   ]
  },
  {
   "cell_type": "code",
   "execution_count": null,
   "metadata": {
    "id": "mNsdoH4-Y1AM"
   },
   "outputs": [],
   "source": [
    "account_data[\"keywordId\"] = account_data[\"keywordId\"].astype(str)\n",
    "account_data[\"cpc\"] = account_data[\"spend\"]/account_data[\"clicks\"] \n",
    "account_data[\"cpc\"].interpolate(\"linear\", inplace=True) #use bfill/ffill/interpolate"
   ]
  },
  {
   "cell_type": "code",
   "execution_count": null,
   "metadata": {
    "colab": {
     "base_uri": "https://localhost:8080/"
    },
    "id": "8PlD-B9RY1AN",
    "outputId": "02158623-e900-47b2-f21a-5aa9ad4f7673"
   },
   "outputs": [
    {
     "data": {
      "text/plain": [
       "accountId              object\n",
       "adGroupId               int64\n",
       "campaignId              int64\n",
       "keywordId              object\n",
       "date           datetime64[ns]\n",
       "sales                 float64\n",
       "spend                 float64\n",
       "clicks                  int64\n",
       "impressions             int64\n",
       "orders                  int64\n",
       "cpc                   float64\n",
       "dtype: object"
      ]
     },
     "execution_count": 17,
     "metadata": {},
     "output_type": "execute_result"
    }
   ],
   "source": [
    "account_data.dtypes"
   ]
  },
  {
   "cell_type": "code",
   "execution_count": null,
   "metadata": {
    "id": "RHR1qItAY1AN"
   },
   "outputs": [],
   "source": [
    "x_scaler = preprocessing.MinMaxScaler()\n",
    "y_scaler = preprocessing.MinMaxScaler()\n",
    "dataX = x_scaler.fit_transform(account_data[['sales','spend', 'clicks', 'impressions', 'orders']])\n",
    "dataY = y_scaler.fit_transform(account_data[['sales','spend']])"
   ]
  },
  {
   "cell_type": "code",
   "execution_count": null,
   "metadata": {
    "id": "ogB_N2GiY1AO"
   },
   "outputs": [],
   "source": [
    "def create_dataset(dataset, time_step):\n",
    "    import numpy\n",
    "    dataX, dataY = [], []\n",
    "    for i in range(len(dataset)-time_step-1):\n",
    "        a = dataset[i:(i+time_step), 0]   ###i=0, 0,1,2,3-----99   100 \n",
    "        dataX.append(a)\n",
    "        dataY.append(dataset[i + time_step, 0])\n",
    "    return numpy.array(dataX), numpy.array(dataY)"
   ]
  },
  {
   "cell_type": "code",
   "execution_count": null,
   "metadata": {
    "id": "obTl8tu0Y1AP"
   },
   "outputs": [],
   "source": [
    "x_train_multi,y_train_multi = create_dataset(dataX,14)\n",
    "x_val_multi, y_val_multi = create_dataset(dataY,14)"
   ]
  },
  {
   "cell_type": "code",
   "execution_count": null,
   "metadata": {
    "id": "-ebk-30VY1AP"
   },
   "outputs": [],
   "source": [
    "# reshape input to be [samples, time steps, features] which is required for LSTM\n",
    "x_train_multi =x_train_multi.reshape(x_train_multi.shape[0],x_train_multi.shape[1] , 1)\n",
    "x_val_multi = x_val_multi.reshape(x_val_multi.shape[0],x_val_multi.shape[1] , 1)"
   ]
  },
  {
   "cell_type": "code",
   "execution_count": null,
   "metadata": {
    "id": "i01zUw-JY1AQ"
   },
   "outputs": [],
   "source": [
    "BATCH_SIZE = 256\n",
    "BUFFER_SIZE = 150\n",
    "\n",
    "train_data_multi = tf.data.Dataset.from_tensor_slices((x_train_multi, y_train_multi))\n",
    "train_data_multi = train_data_multi.cache().shuffle(BUFFER_SIZE).batch(BATCH_SIZE).repeat()\n",
    "\n",
    "val_data_multi = tf.data.Dataset.from_tensor_slices((x_val_multi, y_val_multi))\n",
    "val_data_multi = val_data_multi.batch(BATCH_SIZE).repeat()"
   ]
  },
  {
   "cell_type": "code",
   "execution_count": null,
   "metadata": {
    "id": "6_Nb6DtIY1AQ"
   },
   "outputs": [],
   "source": [
    "ED_lstm_model = tf.keras.models.Sequential([\n",
    "    tf.keras.layers.LSTM(128, input_shape=x_train_multi.shape[-2:], return_sequences=True),\n",
    "    tf.keras.layers.LSTM(units=64,return_sequences=True),\n",
    "    tf.keras.layers.LSTM(units=32,return_sequences=True),\n",
    "    tf.keras.layers.LSTM(units=15),\n",
    "    tf.keras.layers.RepeatVector(y_train_multi.shape[0]), \n",
    "    tf.keras.layers.LSTM(units=128,return_sequences=True),\n",
    "    tf.keras.layers.LSTM(units=64,return_sequences=True),\n",
    "    tf.keras.layers.LSTM(units=32,return_sequences=False),\n",
    "    tf.keras.layers.Dense(units=2,activation = \"sigmoid\")\n",
    "])\n",
    "ED_lstm_model.compile(optimizer='sgd', loss='mse')"
   ]
  },
  {
   "cell_type": "code",
   "execution_count": null,
   "metadata": {
    "id": "b57dy_JLY1AR"
   },
   "outputs": [],
   "source": [
    "model_path = 'Encoder_Decoder_LSTM_Multivariate.h5'"
   ]
  },
  {
   "cell_type": "code",
   "execution_count": null,
   "metadata": {
    "colab": {
     "base_uri": "https://localhost:8080/"
    },
    "id": "P7uPXiE3Y1AR",
    "outputId": "dc9670c4-c288-4c64-bcf8-8fda5d5b3c99"
   },
   "outputs": [
    {
     "name": "stdout",
     "output_type": "stream",
     "text": [
      "Epoch 1/100\n",
      "16/16 [==============================] - 49s 2s/step - loss: 0.1776 - val_loss: 0.1702\n",
      "Epoch 2/100\n",
      "16/16 [==============================] - 34s 2s/step - loss: 0.1648 - val_loss: 0.1548\n",
      "Epoch 3/100\n",
      "16/16 [==============================] - 36s 2s/step - loss: 0.1472 - val_loss: 0.1407\n",
      "Epoch 4/100\n",
      "16/16 [==============================] - 35s 2s/step - loss: 0.1338 - val_loss: 0.1280\n",
      "Epoch 5/100\n",
      "16/16 [==============================] - 33s 2s/step - loss: 0.1229 - val_loss: 0.1163\n",
      "Epoch 6/100\n",
      "16/16 [==============================] - 33s 2s/step - loss: 0.1107 - val_loss: 0.1055\n",
      "Epoch 7/100\n",
      "16/16 [==============================] - 32s 2s/step - loss: 0.1016 - val_loss: 0.0958\n",
      "Epoch 8/100\n",
      "16/16 [==============================] - 33s 2s/step - loss: 0.0917 - val_loss: 0.0870\n",
      "Epoch 9/100\n",
      "16/16 [==============================] - 33s 2s/step - loss: 0.0818 - val_loss: 0.0791\n",
      "Epoch 10/100\n",
      "16/16 [==============================] - 32s 2s/step - loss: 0.0780 - val_loss: 0.0718\n",
      "Epoch 11/100\n",
      "16/16 [==============================] - 32s 2s/step - loss: 0.0679 - val_loss: 0.0655\n",
      "Epoch 12/100\n",
      "16/16 [==============================] - 33s 2s/step - loss: 0.0614 - val_loss: 0.0598\n",
      "Epoch 13/100\n",
      "16/16 [==============================] - 32s 2s/step - loss: 0.0597 - val_loss: 0.0547\n",
      "Epoch 14/100\n",
      "16/16 [==============================] - 33s 2s/step - loss: 0.0511 - val_loss: 0.0502\n",
      "Epoch 15/100\n",
      "16/16 [==============================] - 32s 2s/step - loss: 0.0481 - val_loss: 0.0462\n",
      "Epoch 16/100\n",
      "16/16 [==============================] - 32s 2s/step - loss: 0.0453 - val_loss: 0.0426\n",
      "Epoch 17/100\n",
      "16/16 [==============================] - 35s 2s/step - loss: 0.0402 - val_loss: 0.0394\n",
      "Epoch 18/100\n",
      "16/16 [==============================] - 32s 2s/step - loss: 0.0385 - val_loss: 0.0366\n",
      "Epoch 19/100\n",
      "16/16 [==============================] - 32s 2s/step - loss: 0.0360 - val_loss: 0.0341\n",
      "Epoch 20/100\n",
      "16/16 [==============================] - 33s 2s/step - loss: 0.0318 - val_loss: 0.0318\n",
      "Epoch 21/100\n",
      "16/16 [==============================] - 32s 2s/step - loss: 0.0320 - val_loss: 0.0297\n",
      "Epoch 22/100\n",
      "16/16 [==============================] - 32s 2s/step - loss: 0.0291 - val_loss: 0.0279\n",
      "Epoch 23/100\n",
      "16/16 [==============================] - 33s 2s/step - loss: 0.0255 - val_loss: 0.0263\n",
      "Epoch 24/100\n",
      "16/16 [==============================] - 35s 2s/step - loss: 0.0275 - val_loss: 0.0248\n",
      "Epoch 25/100\n",
      "16/16 [==============================] - 33s 2s/step - loss: 0.0226 - val_loss: 0.0234\n",
      "Epoch 26/100\n",
      "16/16 [==============================] - 33s 2s/step - loss: 0.0230 - val_loss: 0.0222\n",
      "Epoch 27/100\n",
      "16/16 [==============================] - 32s 2s/step - loss: 0.0228 - val_loss: 0.0211\n",
      "Epoch 28/100\n",
      "16/16 [==============================] - 33s 2s/step - loss: 0.0193 - val_loss: 0.0201\n",
      "Epoch 29/100\n",
      "16/16 [==============================] - 32s 2s/step - loss: 0.0201 - val_loss: 0.0192\n",
      "Epoch 30/100\n",
      "16/16 [==============================] - 32s 2s/step - loss: 0.0195 - val_loss: 0.0184\n",
      "Epoch 31/100\n",
      "16/16 [==============================] - 33s 2s/step - loss: 0.0169 - val_loss: 0.0176\n",
      "Epoch 32/100\n",
      "16/16 [==============================] - 35s 2s/step - loss: 0.0181 - val_loss: 0.0169\n",
      "Epoch 33/100\n",
      "16/16 [==============================] - 32s 2s/step - loss: 0.0173 - val_loss: 0.0162\n",
      "Epoch 34/100\n",
      "16/16 [==============================] - 33s 2s/step - loss: 0.0144 - val_loss: 0.0156\n",
      "Epoch 35/100\n",
      "16/16 [==============================] - 32s 2s/step - loss: 0.0165 - val_loss: 0.0150\n",
      "Epoch 36/100\n",
      "16/16 [==============================] - 35s 2s/step - loss: 0.0146 - val_loss: 0.0145\n",
      "Epoch 37/100\n",
      "16/16 [==============================] - 33s 2s/step - loss: 0.0135 - val_loss: 0.0141\n",
      "Epoch 38/100\n",
      "16/16 [==============================] - 35s 2s/step - loss: 0.0152 - val_loss: 0.0136\n",
      "Epoch 39/100\n",
      "16/16 [==============================] - 33s 2s/step - loss: 0.0120 - val_loss: 0.0132\n",
      "Epoch 40/100\n",
      "16/16 [==============================] - 35s 2s/step - loss: 0.0135 - val_loss: 0.0128\n",
      "Epoch 41/100\n",
      "16/16 [==============================] - 33s 2s/step - loss: 0.0136 - val_loss: 0.0125\n",
      "Epoch 42/100\n",
      "16/16 [==============================] - 33s 2s/step - loss: 0.0110 - val_loss: 0.0121\n",
      "Epoch 43/100\n",
      "16/16 [==============================] - 32s 2s/step - loss: 0.0127 - val_loss: 0.0118\n",
      "Epoch 44/100\n",
      "16/16 [==============================] - 32s 2s/step - loss: 0.0126 - val_loss: 0.0115\n",
      "Epoch 45/100\n",
      "16/16 [==============================] - 33s 2s/step - loss: 0.0099 - val_loss: 0.0112\n",
      "Epoch 46/100\n",
      "16/16 [==============================] - 32s 2s/step - loss: 0.0120 - val_loss: 0.0110\n",
      "Epoch 47/100\n",
      "16/16 [==============================] - 32s 2s/step - loss: 0.0113 - val_loss: 0.0107\n",
      "Epoch 48/100\n",
      "16/16 [==============================] - 33s 2s/step - loss: 0.0094 - val_loss: 0.0105\n",
      "Epoch 49/100\n",
      "16/16 [==============================] - 32s 2s/step - loss: 0.0116 - val_loss: 0.0103\n",
      "Epoch 50/100\n",
      "16/16 [==============================] - 32s 2s/step - loss: 0.0088 - val_loss: 0.0101\n",
      "Epoch 51/100\n",
      "16/16 [==============================] - 33s 2s/step - loss: 0.0105 - val_loss: 0.0099\n",
      "Epoch 52/100\n",
      "16/16 [==============================] - 32s 2s/step - loss: 0.0108 - val_loss: 0.0097\n",
      "Epoch 53/100\n",
      "16/16 [==============================] - 33s 2s/step - loss: 0.0083 - val_loss: 0.0095\n",
      "Epoch 54/100\n",
      "16/16 [==============================] - 32s 2s/step - loss: 0.0101 - val_loss: 0.0094\n",
      "Epoch 55/100\n",
      "16/16 [==============================] - 32s 2s/step - loss: 0.0101 - val_loss: 0.0092\n",
      "Epoch 56/100\n",
      "16/16 [==============================] - 33s 2s/step - loss: 0.0079 - val_loss: 0.0091\n",
      "Epoch 57/100\n",
      "16/16 [==============================] - 32s 2s/step - loss: 0.0098 - val_loss: 0.0090\n",
      "Epoch 58/100\n",
      "16/16 [==============================] - 32s 2s/step - loss: 0.0099 - val_loss: 0.0088\n",
      "Epoch 59/100\n",
      "16/16 [==============================] - 33s 2s/step - loss: 0.0071 - val_loss: 0.0087\n",
      "Epoch 60/100\n",
      "16/16 [==============================] - 35s 2s/step - loss: 0.0095 - val_loss: 0.0086\n",
      "Epoch 61/100\n",
      "16/16 [==============================] - 32s 2s/step - loss: 0.0086 - val_loss: 0.0085\n",
      "Epoch 62/100\n",
      "16/16 [==============================] - 33s 2s/step - loss: 0.0076 - val_loss: 0.0084\n",
      "Epoch 63/100\n",
      "16/16 [==============================] - 32s 2s/step - loss: 0.0094 - val_loss: 0.0083\n",
      "Epoch 64/100\n",
      "16/16 [==============================] - 33s 2s/step - loss: 0.0068 - val_loss: 0.0082\n",
      "Epoch 65/100\n",
      "16/16 [==============================] - 32s 2s/step - loss: 0.0088 - val_loss: 0.0081\n",
      "Epoch 66/100\n",
      "16/16 [==============================] - 32s 2s/step - loss: 0.0089 - val_loss: 0.0080\n",
      "Epoch 67/100\n",
      "16/16 [==============================] - 35s 2s/step - loss: 0.0066 - val_loss: 0.0079\n",
      "Epoch 68/100\n",
      "16/16 [==============================] - 32s 2s/step - loss: 0.0086 - val_loss: 0.0078\n",
      "Epoch 69/100\n",
      "16/16 [==============================] - 33s 2s/step - loss: 0.0087 - val_loss: 0.0077\n",
      "Epoch 70/100\n",
      "16/16 [==============================] - 33s 2s/step - loss: 0.0062 - val_loss: 0.0077\n",
      "Epoch 71/100\n",
      "16/16 [==============================] - 32s 2s/step - loss: 0.0084 - val_loss: 0.0076\n",
      "Epoch 72/100\n",
      "16/16 [==============================] - 32s 2s/step - loss: 0.0084 - val_loss: 0.0075\n",
      "Epoch 73/100\n",
      "16/16 [==============================] - 33s 2s/step - loss: 0.0060 - val_loss: 0.0075\n",
      "Epoch 74/100\n",
      "16/16 [==============================] - 35s 2s/step - loss: 0.0084 - val_loss: 0.0074\n",
      "Epoch 75/100\n",
      "16/16 [==============================] - 32s 2s/step - loss: 0.0060 - val_loss: 0.0073\n",
      "Epoch 76/100\n",
      "16/16 [==============================] - 33s 2s/step - loss: 0.0079 - val_loss: 0.0073\n",
      "Epoch 77/100\n",
      "16/16 [==============================] - 32s 2s/step - loss: 0.0082 - val_loss: 0.0072\n",
      "Epoch 78/100\n",
      "16/16 [==============================] - 33s 2s/step - loss: 0.0058 - val_loss: 0.0072\n",
      "Epoch 79/100\n",
      "16/16 [==============================] - 32s 2s/step - loss: 0.0079 - val_loss: 0.0071\n",
      "Epoch 80/100\n",
      "16/16 [==============================] - 32s 2s/step - loss: 0.0079 - val_loss: 0.0071\n",
      "Epoch 81/100\n",
      "16/16 [==============================] - 34s 2s/step - loss: 0.0056 - val_loss: 0.0070\n",
      "Epoch 82/100\n",
      "16/16 [==============================] - 32s 2s/step - loss: 0.0079 - val_loss: 0.0070\n",
      "Epoch 83/100\n",
      "16/16 [==============================] - 32s 2s/step - loss: 0.0077 - val_loss: 0.0069\n",
      "Epoch 84/100\n",
      "16/16 [==============================] - 34s 2s/step - loss: 0.0055 - val_loss: 0.0069\n",
      "Epoch 85/100\n",
      "16/16 [==============================] - 32s 2s/step - loss: 0.0076 - val_loss: 0.0068\n",
      "Epoch 86/100\n",
      "16/16 [==============================] - 32s 2s/step - loss: 0.0068 - val_loss: 0.0068\n",
      "Epoch 87/100\n",
      "16/16 [==============================] - 33s 2s/step - loss: 0.0062 - val_loss: 0.0068\n",
      "Epoch 88/100\n",
      "16/16 [==============================] - 35s 2s/step - loss: 0.0077 - val_loss: 0.0067\n",
      "Epoch 89/100\n",
      "16/16 [==============================] - 33s 2s/step - loss: 0.0053 - val_loss: 0.0067\n",
      "Epoch 90/100\n",
      "16/16 [==============================] - 32s 2s/step - loss: 0.0075 - val_loss: 0.0067\n",
      "Epoch 91/100\n",
      "16/16 [==============================] - 32s 2s/step - loss: 0.0075 - val_loss: 0.0066\n",
      "Epoch 92/100\n",
      "16/16 [==============================] - 33s 2s/step - loss: 0.0052 - val_loss: 0.0066\n",
      "Epoch 93/100\n",
      "16/16 [==============================] - 32s 2s/step - loss: 0.0074 - val_loss: 0.0066\n",
      "Epoch 94/100\n",
      "16/16 [==============================] - 32s 2s/step - loss: 0.0075 - val_loss: 0.0065\n",
      "Epoch 95/100\n",
      "16/16 [==============================] - 35s 2s/step - loss: 0.0049 - val_loss: 0.0065\n",
      "Epoch 96/100\n",
      "16/16 [==============================] - 32s 2s/step - loss: 0.0072 - val_loss: 0.0065\n",
      "Epoch 97/100\n",
      "16/16 [==============================] - 32s 2s/step - loss: 0.0074 - val_loss: 0.0064\n",
      "Epoch 98/100\n",
      "16/16 [==============================] - 33s 2s/step - loss: 0.0049 - val_loss: 0.0064\n",
      "Epoch 99/100\n",
      "16/16 [==============================] - 32s 2s/step - loss: 0.0073 - val_loss: 0.0064\n",
      "Epoch 100/100\n",
      "16/16 [==============================] - 32s 2s/step - loss: 0.0050 - val_loss: 0.0064\n"
     ]
    }
   ],
   "source": [
    "model_path = 'Encoder_Decoder_LSTM_Multivariate.h5'\n",
    "EVALUATION_INTERVAL = 16\n",
    "EPOCHS = 100\n",
    "history = ED_lstm_model.fit(train_data_multi, epochs=EPOCHS,steps_per_epoch=EVALUATION_INTERVAL,\n",
    "                            validation_data=val_data_multi, validation_steps=50,verbose =1,\n",
    "                              callbacks =[\n",
    "                                  tf.keras.callbacks.EarlyStopping(monitor='val_loss', \n",
    "                                                                   min_delta=0, patience=10, verbose=1, mode='min'),\n",
    "                                  tf.keras.callbacks.ModelCheckpoint(model_path,\n",
    "                                                                     monitor='val_loss', save_best_only=True,\n",
    "                                                                     mode='min', verbose=0)\n",
    "                              ]\n",
    "                           )"
   ]
  },
  {
   "cell_type": "code",
   "execution_count": null,
   "metadata": {
    "id": "PpdqcYCwY1AS"
   },
   "outputs": [],
   "source": [
    "trained_model = tf.keras.models.load_model(\"/content/Encoder_Decoder_LSTM_Multivariate.h5\")"
   ]
  },
  {
   "cell_type": "code",
   "execution_count": null,
   "metadata": {
    "colab": {
     "base_uri": "https://localhost:8080/"
    },
    "id": "J4EitTbdY1AS",
    "outputId": "7fbb32a0-1be1-4a1e-d452-16e44ec9e1bd"
   },
   "outputs": [
    {
     "name": "stdout",
     "output_type": "stream",
     "text": [
      "Model: \"sequential\"\n",
      "_________________________________________________________________\n",
      " Layer (type)                Output Shape              Param #   \n",
      "=================================================================\n",
      " lstm (LSTM)                 (None, 14, 128)           66560     \n",
      "                                                                 \n",
      " lstm_1 (LSTM)               (None, 14, 64)            49408     \n",
      "                                                                 \n",
      " lstm_2 (LSTM)               (None, 14, 32)            12416     \n",
      "                                                                 \n",
      " lstm_3 (LSTM)               (None, 15)                2880      \n",
      "                                                                 \n",
      " repeat_vector (RepeatVector  (None, 6234, 15)         0         \n",
      " )                                                               \n",
      "                                                                 \n",
      " lstm_4 (LSTM)               (None, 6234, 128)         73728     \n",
      "                                                                 \n",
      " lstm_5 (LSTM)               (None, 6234, 64)          49408     \n",
      "                                                                 \n",
      " lstm_6 (LSTM)               (None, 32)                12416     \n",
      "                                                                 \n",
      " dense (Dense)               (None, 2)                 66        \n",
      "                                                                 \n",
      "=================================================================\n",
      "Total params: 266,882\n",
      "Trainable params: 266,882\n",
      "Non-trainable params: 0\n",
      "_________________________________________________________________\n"
     ]
    }
   ],
   "source": [
    "trained_model.summary()"
   ]
  },
  {
   "cell_type": "code",
   "execution_count": null,
   "metadata": {
    "colab": {
     "base_uri": "https://localhost:8080/",
     "height": 312
    },
    "id": "SR1tKJ2aY1AS",
    "outputId": "3090510c-1f29-419f-ec23-2e3865c51463"
   },
   "outputs": [
    {
     "data": {
      "image/png": "[encoded data removed]",
      "text/plain": [
       "<Figure size 432x288 with 1 Axes>"
      ]
     },
     "metadata": {
      "needs_background": "light"
     },
     "output_type": "display_data"
    },
    {
     "data": {
      "text/plain": [
       "<Figure size 1440x1440 with 0 Axes>"
      ]
     },
     "metadata": {},
     "output_type": "display_data"
    }
   ],
   "source": [
    "plt.plot(history.history['loss'])\n",
    "plt.plot(history.history['val_loss'])\n",
    "plt.title('Model loss')\n",
    "plt.ylabel('loss')\n",
    "plt.xlabel('epoch')\n",
    "plt.legend(['train loss','validation loss'],loc = 'upper left')\n",
    "plt.figure(figsize = [20,20])\n",
    "plt.show()"
   ]
  },
  {
   "cell_type": "code",
   "execution_count": null,
   "metadata": {
    "colab": {
     "base_uri": "https://localhost:8080/"
    },
    "id": "UzccgSktY1AS",
    "outputId": "b8ddc685-7f65-4467-d520-d67012fb934b"
   },
   "outputs": [
    {
     "name": "stdout",
     "output_type": "stream",
     "text": [
      "195/195 [==============================] - 43s 203ms/step\n",
      "195/195 [==============================] - 39s 202ms/step\n"
     ]
    }
   ],
   "source": [
    "### Lets Do the prediction and check performance metrics\n",
    "train_predict=trained_model.predict(x_train_multi)\n",
    "test_predict=trained_model.predict(x_val_multi)"
   ]
  },
  {
   "cell_type": "code",
   "execution_count": null,
   "metadata": {
    "colab": {
     "base_uri": "https://localhost:8080/"
    },
    "id": "MkLOh2Wggf_x",
    "outputId": "404abb08-147b-45e2-b050-b014435207cd"
   },
   "outputs": [
    {
     "data": {
      "text/plain": [
       "array([[0.10328739, 0.10404938],\n",
       "       [0.10328532, 0.1040417 ],\n",
       "       [0.10328385, 0.10403587],\n",
       "       ...,\n",
       "       [0.10330889, 0.10409589],\n",
       "       [0.10330889, 0.10409629],\n",
       "       [0.10330717, 0.10409269]], dtype=float32)"
      ]
     },
     "execution_count": 32,
     "metadata": {},
     "output_type": "execute_result"
    }
   ],
   "source": [
    "test_predict"
   ]
  },
  {
   "cell_type": "code",
   "execution_count": null,
   "metadata": {
    "id": "IMrJfHicY1AT"
   },
   "outputs": [],
   "source": [
    "##Transformback to original form\n",
    "train_predict = y_scaler.inverse_transform(train_predict)\n",
    "test_predict = y_scaler.inverse_transform(test_predict)"
   ]
  },
  {
   "cell_type": "code",
   "execution_count": null,
   "metadata": {
    "id": "lAfnPSPoY1AT"
   },
   "outputs": [],
   "source": [
    "account_data[:6234][[\"spend_pred\",\"sales_pred\"]] = train_predict"
   ]
  },
  {
   "cell_type": "code",
   "execution_count": null,
   "metadata": {
    "id": "R_o_Xu2mY1AU"
   },
   "outputs": [],
   "source": [
    "testing = account_data[['date','sales','spend', 'clicks', 'impressions', 'orders','keywordId']][:6234].copy()\n",
    "testing[['sales_pred',\"spend_pred\"]] = train_predict"
   ]
  },
  {
   "cell_type": "code",
   "execution_count": null,
   "metadata": {
    "id": "Nz5SeHAipGov"
   },
   "outputs": [],
   "source": [
    "unique_keys=testing['keywordId'].unique()"
   ]
  },
  {
   "cell_type": "code",
   "execution_count": null,
   "metadata": {
    "colab": {
     "base_uri": "https://localhost:8080/",
     "height": 36
    },
    "id": "UlMft-IAzvus",
    "outputId": "9943310a-9b42-4230-e2a1-e504ae8c5d86"
   },
   "outputs": [
    {
     "data": {
      "application/vnd.google.colaboratory.intrinsic+json": {
       "type": "string"
      },
      "text/plain": [
       "'24104861481597'"
      ]
     },
     "execution_count": 38,
     "metadata": {},
     "output_type": "execute_result"
    }
   ],
   "source": [
    "unique_keys[1]"
   ]
  },
  {
   "cell_type": "code",
   "execution_count": null,
   "metadata": {
    "id": "xT8yQSGrzzTL"
   },
   "outputs": [],
   "source": [
    "df_new = testing[testing['keywordId'] == unique_keys[1]]"
   ]
  },
  {
   "cell_type": "code",
   "execution_count": null,
   "metadata": {
    "id": "0rM1bkvPpLIP"
   },
   "outputs": [],
   "source": [
    "from sklearn import metrics\n",
    "def timeseries_evaluation_metrics_func(y_true, y_pred):\n",
    "    \n",
    "    def mean_absolute_percentage_error(y_true, y_pred): \n",
    "        y_true, y_pred = np.array(y_true), np.array(y_pred)\n",
    "        return np.mean(np.abs((y_true - y_pred) / y_true)) * 100\n",
    "    print('Evaluation metric results:-')\n",
    "    print(f'MSE is : {metrics.mean_squared_error(y_true, y_pred)}')\n",
    "    print(f'MAE is : {metrics.mean_absolute_error(y_true, y_pred)}')\n",
    "    print(f'RMSE is : {np.sqrt(metrics.mean_squared_error(y_true, y_pred))}')\n",
    "    print(f'R2 is : {metrics.r2_score(y_true, y_pred)}',end='\\n\\n')"
   ]
  },
  {
   "cell_type": "code",
   "execution_count": null,
   "metadata": {
    "colab": {
     "base_uri": "https://localhost:8080/"
    },
    "id": "5_Uo5xiysS-x",
    "outputId": "82efcee7-72e6-4f1b-bca4-a31b18e3ec40"
   },
   "outputs": [
    {
     "name": "stdout",
     "output_type": "stream",
     "text": [
      "Evaluation metric results:-\n",
      "MSE is : 78926149.03227352\n",
      "MAE is : 7697.344910734915\n",
      "RMSE is : 8884.039004432247\n",
      "R2 is : -0.5588537408131573\n",
      "\n"
     ]
    }
   ],
   "source": [
    "timeseries_evaluation_metrics_func(df_new['sales'],df_new['sales_pred'])"
   ]
  },
  {
   "cell_type": "code",
   "execution_count": null,
   "metadata": {
    "colab": {
     "base_uri": "https://localhost:8080/"
    },
    "id": "Mx1nn1oHsWoW",
    "outputId": "4ba2901a-a100-49ee-a7c4-cd66bc8d1b23"
   },
   "outputs": [
    {
     "name": "stdout",
     "output_type": "stream",
     "text": [
      "Keyword_is: 247863105542037\n",
      "Evaluation metric results:-\n",
      "MSE is : 87855119.62324654\n",
      "MAE is : 9101.1377111624\n",
      "RMSE is : 9373.106188625334\n",
      "R2 is : -16.49288746674344\n",
      "\n",
      "##########################################################################################\n",
      "##########################################################################################\n",
      "##########################################################################################\n",
      "Keyword_is: 24104861481597\n",
      "Evaluation metric results:-\n",
      "MSE is : 78926149.03227352\n",
      "MAE is : 7697.344910734915\n",
      "RMSE is : 8884.039004432247\n",
      "R2 is : -0.5588537408131573\n",
      "\n",
      "##########################################################################################\n",
      "##########################################################################################\n",
      "##########################################################################################\n",
      "Keyword_is: 234598292844815\n",
      "Evaluation metric results:-\n",
      "MSE is : 97739709.50196008\n",
      "MAE is : 9772.180040623338\n",
      "RMSE is : 9886.339540090665\n",
      "R2 is : -42.57289243078657\n",
      "\n",
      "##########################################################################################\n",
      "##########################################################################################\n",
      "##########################################################################################\n",
      "Keyword_is: 79454459707340\n",
      "Evaluation metric results:-\n",
      "MSE is : 60450280.18527809\n",
      "MAE is : 7257.838886324306\n",
      "RMSE is : 7774.977825388191\n",
      "R2 is : -5.9612471111566885\n",
      "\n",
      "##########################################################################################\n",
      "##########################################################################################\n",
      "##########################################################################################\n",
      "Keyword_is: 85472206701258\n",
      "Evaluation metric results:-\n",
      "MSE is : 67938548.02396353\n",
      "MAE is : 7905.514838700984\n",
      "RMSE is : 8242.484335682024\n",
      "R2 is : -11.007595590780353\n",
      "\n",
      "##########################################################################################\n",
      "##########################################################################################\n",
      "##########################################################################################\n",
      "Keyword_is: 129388728370771\n",
      "Evaluation metric results:-\n",
      "MSE is : 2050281757.8958879\n",
      "MAE is : 35014.321330158724\n",
      "RMSE is : 45280.03707922386\n",
      "R2 is : -0.33919170760719775\n",
      "\n",
      "##########################################################################################\n",
      "##########################################################################################\n",
      "##########################################################################################\n",
      "Keyword_is: 2765709881042\n",
      "Evaluation metric results:-\n",
      "MSE is : 168194138.85428253\n",
      "MAE is : 11248.557049792522\n",
      "RMSE is : 12968.968303387997\n",
      "R2 is : -1.4774950168639513\n",
      "\n",
      "##########################################################################################\n",
      "##########################################################################################\n",
      "##########################################################################################\n",
      "Keyword_is: 227590663052584\n",
      "Evaluation metric results:-\n",
      "MSE is : 103295843.51912633\n",
      "MAE is : 9332.862564815887\n",
      "RMSE is : 10163.45627821197\n",
      "R2 is : -0.12168312125977376\n",
      "\n",
      "##########################################################################################\n",
      "##########################################################################################\n",
      "##########################################################################################\n",
      "Keyword_is: 87296464240522\n",
      "Evaluation metric results:-\n",
      "MSE is : 103732560.53229107\n",
      "MAE is : 9414.655428940621\n",
      "RMSE is : 10184.91828795357\n",
      "R2 is : -1.2794833417374196\n",
      "\n",
      "##########################################################################################\n",
      "##########################################################################################\n",
      "##########################################################################################\n",
      "Keyword_is: 272721784774857\n",
      "Evaluation metric results:-\n",
      "MSE is : 70674625.4268127\n",
      "MAE is : 6730.551183046561\n",
      "RMSE is : 8406.820173336211\n",
      "R2 is : -0.02423000101424133\n",
      "\n",
      "##########################################################################################\n",
      "##########################################################################################\n",
      "##########################################################################################\n",
      "Keyword_is: 13560133409311\n",
      "Evaluation metric results:-\n",
      "MSE is : 90259222.12543389\n",
      "MAE is : 7812.216668128737\n",
      "RMSE is : 9500.485362624053\n",
      "R2 is : -0.06075537716387336\n",
      "\n",
      "##########################################################################################\n",
      "##########################################################################################\n",
      "##########################################################################################\n",
      "Keyword_is: 90306352578146\n",
      "Evaluation metric results:-\n",
      "MSE is : 80370148.45868464\n",
      "MAE is : 7977.405741651272\n",
      "RMSE is : 8964.939958453968\n",
      "R2 is : -0.6047748362150229\n",
      "\n",
      "##########################################################################################\n",
      "##########################################################################################\n",
      "##########################################################################################\n",
      "Keyword_is: 189229237302837\n",
      "Evaluation metric results:-\n",
      "MSE is : 129719176.99427359\n",
      "MAE is : 10564.396890950004\n",
      "RMSE is : 11389.432689746825\n",
      "R2 is : -2.9696175329469345\n",
      "\n",
      "##########################################################################################\n",
      "##########################################################################################\n",
      "##########################################################################################\n",
      "Keyword_is: 27532697846233\n",
      "Evaluation metric results:-\n",
      "MSE is : 68439223.01194061\n",
      "MAE is : 7307.32321331846\n",
      "RMSE is : 8272.80019170901\n",
      "R2 is : -1.0638227865922127\n",
      "\n",
      "##########################################################################################\n",
      "##########################################################################################\n",
      "##########################################################################################\n",
      "Keyword_is: 185293015123540\n",
      "Evaluation metric results:-\n",
      "MSE is : 49712333.84580612\n",
      "MAE is : 6269.072893233249\n",
      "RMSE is : 7050.697401378542\n",
      "R2 is : -3.1315056498491147\n",
      "\n",
      "##########################################################################################\n",
      "##########################################################################################\n",
      "##########################################################################################\n",
      "Keyword_is: 116716807274101\n",
      "Evaluation metric results:-\n",
      "MSE is : 73242429.04262775\n",
      "MAE is : 7085.205731420616\n",
      "RMSE is : 8558.17907283014\n",
      "R2 is : -0.4386497206094466\n",
      "\n",
      "##########################################################################################\n",
      "##########################################################################################\n",
      "##########################################################################################\n",
      "Keyword_is: 64265992690180\n",
      "Evaluation metric results:-\n",
      "MSE is : 72914621.60520913\n",
      "MAE is : 7199.268383626886\n",
      "RMSE is : 8539.005890922499\n",
      "R2 is : -1.6529490133269813\n",
      "\n",
      "##########################################################################################\n",
      "##########################################################################################\n",
      "##########################################################################################\n",
      "Keyword_is: 202640426426128\n",
      "Evaluation metric results:-\n",
      "MSE is : 242236730.94067177\n",
      "MAE is : 13692.624794161464\n",
      "RMSE is : 15563.95614683721\n",
      "R2 is : -1.1464620698049726\n",
      "\n",
      "##########################################################################################\n",
      "##########################################################################################\n",
      "##########################################################################################\n",
      "Keyword_is: 190918643002238\n",
      "Evaluation metric results:-\n",
      "MSE is : 224368994.24978897\n",
      "MAE is : 11948.860634819914\n",
      "RMSE is : 14978.951707305454\n",
      "R2 is : -0.027859441552819053\n",
      "\n",
      "##########################################################################################\n",
      "##########################################################################################\n",
      "##########################################################################################\n",
      "Keyword_is: 197034671889267\n",
      "Evaluation metric results:-\n",
      "MSE is : 88633942.29647735\n",
      "MAE is : 8248.997378720034\n",
      "RMSE is : 9414.560122304034\n",
      "R2 is : -0.07710398599739698\n",
      "\n",
      "##########################################################################################\n",
      "##########################################################################################\n",
      "##########################################################################################\n"
     ]
    }
   ],
   "source": [
    "for i in unique_keys:\n",
    "  df_new = testing[testing['keywordId'] == i]\n",
    "  print(\"Keyword_is:\",i)\n",
    "  timeseries_evaluation_metrics_func(df_new['sales'],df_new['sales_pred'])\n",
    "  \n",
    "  print(\"##########################################################################################\")\n",
    "  print(\"##########################################################################################\")\n",
    "  print(\"##########################################################################################\")"
   ]
  },
  {
   "cell_type": "code",
   "execution_count": null,
   "metadata": {
    "id": "FxmjZoXxsijO"
   },
   "outputs": [],
   "source": []
  }
 ],
 "metadata": {
  "accelerator": "GPU",
  "colab": {
   "provenance": []
  },
  "gpuClass": "standard",
  "kernelspec": {
   "display_name": "Python 3",
   "language": "python",
   "name": "python3"
  },
  "language_info": {
   "codemirror_mode": {
    "name": "ipython",
    "version": 3
   },
   "file_extension": ".py",
   "mimetype": "text/x-python",
   "name": "python",
   "nbconvert_exporter": "python",
   "pygments_lexer": "ipython3",
   "version": "3.8.16"
  }
 },
 "nbformat": 4,
 "nbformat_minor": 4
}
