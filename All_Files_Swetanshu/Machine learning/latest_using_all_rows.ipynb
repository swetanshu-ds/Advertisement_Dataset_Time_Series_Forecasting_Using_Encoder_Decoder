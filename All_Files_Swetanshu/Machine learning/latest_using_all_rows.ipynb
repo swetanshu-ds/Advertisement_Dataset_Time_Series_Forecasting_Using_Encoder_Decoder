{
 "cells": [
  {
   "cell_type": "code",
   "execution_count": 1,
   "metadata": {
    "colab": {
     "base_uri": "https://localhost:8080/"
    },
    "id": "pvhLoBMmFgWu",
    "outputId": "aff12241-4f80-4e83-a989-4a7e40074d0e"
   },
   "outputs": [
    {
     "name": "stdout",
     "output_type": "stream",
     "text": [
      "Mounted at /content/drive\n"
     ]
    }
   ],
   "source": [
    "from google.colab import drive\n",
    "drive.mount('/content/drive')"
   ]
  },
  {
   "cell_type": "code",
   "execution_count": 85,
   "metadata": {
    "id": "88RjrEUdFU-N"
   },
   "outputs": [],
   "source": [
    "import numpy as np\n",
    "import pandas as pd\n",
    "import datetime\n",
    "#from adbrew_core.settings import db\n",
    "import tensorflow as tf\n",
    "from sklearn.model_selection import train_test_split\n",
    "from sklearn.preprocessing import MinMaxScaler\n",
    "from sklearn.metrics import mean_squared_error\n",
    "from sklearn import preprocessing\n",
    "import matplotlib.pyplot as plt\n",
    "from tensorflow.python.keras.models import Sequential\n",
    "from tensorflow.python.keras.layers import Dense\n",
    "from tensorflow.python.keras.layers import LSTM\n",
    "tf.random.set_seed(1)\n",
    "np.random.seed(1)\n",
    "import warnings\n",
    "warnings.filterwarnings(\"ignore\")"
   ]
  },
  {
   "cell_type": "code",
   "execution_count": 86,
   "metadata": {
    "id": "kjXeF8LIFy0Z"
   },
   "outputs": [],
   "source": [
    "df = pd.read_csv(\"/content/drive/MyDrive/colab/account_data.csv\",parse_dates = True)"
   ]
  },
  {
   "cell_type": "code",
   "execution_count": 87,
   "metadata": {
    "id": "MG9yQW1cF0uh"
   },
   "outputs": [],
   "source": [
    "a = list(df['accountId'].unique())"
   ]
  },
  {
   "cell_type": "code",
   "execution_count": 88,
   "metadata": {
    "id": "PNjrl9vxF9Oh"
   },
   "outputs": [],
   "source": [
    "df = df[df['accountId']==\"5ffdb895b08512986422b08c\"]"
   ]
  },
  {
   "cell_type": "code",
   "execution_count": 89,
   "metadata": {
    "id": "VEgmIG1ZF-TI"
   },
   "outputs": [],
   "source": [
    "df=df.copy()\n",
    "df.date = pd.to_datetime(df.date)\n",
    "df.sort_values(by=\"date\", inplace=True, ignore_index=True)\n",
    "account_data = df"
   ]
  },
  {
   "cell_type": "code",
   "execution_count": 90,
   "metadata": {
    "id": "UZmFRRveF_YA"
   },
   "outputs": [],
   "source": [
    "keyword_ids = account_data[\"keywordId\"].unique()\n",
    "keywordwise_sales = account_data.groupby(\"keywordId\")[\"sales\"].sum()\n",
    "nonzero_sales_keywords = keywordwise_sales[keywordwise_sales>0]\n",
    "nonzero_sales_keywords.sort_values(ascending=False, inplace=True)\n",
    "keywords_req = list(nonzero_sales_keywords.index)\n",
    "keyword_ids = keywords_req[:20]\n",
    "account_data =  account_data[account_data['keywordId'].isin(keyword_ids)]"
   ]
  },
  {
   "cell_type": "code",
   "execution_count": 91,
   "metadata": {
    "id": "fXuVIilAGApZ"
   },
   "outputs": [],
   "source": [
    "account_data.reset_index(inplace = True)\n",
    "account_data.sort_values(by=\"date\", inplace=True, ignore_index=True)\n",
    "account_data.drop(columns = \"index\",inplace = True)\n",
    "account_data.sort_values(by = 'date',inplace = True)\n",
    "account_data.reset_index(inplace = True)\n",
    "account_data.drop(columns = \"index\",inplace = True)\n",
    "account_data['clicks'] = account_data[\"clicks\"].astype(\"int64\")\n",
    "account_data['impressions'] = account_data[\"impressions\"].astype(\"int64\")\n",
    "account_data['orders'] = account_data[\"orders\"].astype(\"int64\")\n",
    "account_data[\"keywordId\"] = account_data[\"keywordId\"].astype(str)\n",
    "account_data[\"cpc\"] = account_data[\"spend\"]/account_data[\"clicks\"] \n",
    "account_data[\"cpc\"].interpolate(\"linear\", inplace=True)"
   ]
  },
  {
   "cell_type": "code",
   "execution_count": 92,
   "metadata": {
    "colab": {
     "base_uri": "https://localhost:8080/",
     "height": 661
    },
    "id": "Io-vsPETGROQ",
    "outputId": "772cde37-6be8-4a3b-aba6-cb1ca1907104"
   },
   "outputs": [
    {
     "data": {
      "text/html": [
       "\n",
       "  <div id=\"df-df22d799-80d7-404a-9e01-36d16e44cf04\">\n",
       "    <div class=\"colab-df-container\">\n",
       "      <div>\n",
       "<style scoped>\n",
       "    .dataframe tbody tr th:only-of-type {\n",
       "        vertical-align: middle;\n",
       "    }\n",
       "\n",
       "    .dataframe tbody tr th {\n",
       "        vertical-align: top;\n",
       "    }\n",
       "\n",
       "    .dataframe thead th {\n",
       "        text-align: right;\n",
       "    }\n",
       "</style>\n",
       "<table border=\"1\" class=\"dataframe\">\n",
       "  <thead>\n",
       "    <tr style=\"text-align: right;\">\n",
       "      <th></th>\n",
       "      <th>accountId</th>\n",
       "      <th>adGroupId</th>\n",
       "      <th>campaignId</th>\n",
       "      <th>keywordId</th>\n",
       "      <th>date</th>\n",
       "      <th>sales</th>\n",
       "      <th>spend</th>\n",
       "      <th>clicks</th>\n",
       "      <th>impressions</th>\n",
       "      <th>orders</th>\n",
       "      <th>cpc</th>\n",
       "    </tr>\n",
       "  </thead>\n",
       "  <tbody>\n",
       "    <tr>\n",
       "      <th>0</th>\n",
       "      <td>5ffdb895b08512986422b08c</td>\n",
       "      <td>59274026400609</td>\n",
       "      <td>178093483680077</td>\n",
       "      <td>247863105542037</td>\n",
       "      <td>2022-01-20</td>\n",
       "      <td>3636.560000</td>\n",
       "      <td>1234.360000</td>\n",
       "      <td>143</td>\n",
       "      <td>18528</td>\n",
       "      <td>7</td>\n",
       "      <td>8.631888</td>\n",
       "    </tr>\n",
       "    <tr>\n",
       "      <th>1</th>\n",
       "      <td>5ffdb895b08512986422b08c</td>\n",
       "      <td>6055910382152</td>\n",
       "      <td>49896973267574</td>\n",
       "      <td>24104861481597</td>\n",
       "      <td>2022-01-20</td>\n",
       "      <td>4575.420000</td>\n",
       "      <td>394.890000</td>\n",
       "      <td>63</td>\n",
       "      <td>7284</td>\n",
       "      <td>1</td>\n",
       "      <td>6.268095</td>\n",
       "    </tr>\n",
       "    <tr>\n",
       "      <th>2</th>\n",
       "      <td>5ffdb895b08512986422b08c</td>\n",
       "      <td>40670175184901</td>\n",
       "      <td>177037018948030</td>\n",
       "      <td>234598292844815</td>\n",
       "      <td>2022-01-20</td>\n",
       "      <td>8038.130000</td>\n",
       "      <td>560.930000</td>\n",
       "      <td>77</td>\n",
       "      <td>6534</td>\n",
       "      <td>14</td>\n",
       "      <td>7.284805</td>\n",
       "    </tr>\n",
       "    <tr>\n",
       "      <th>3</th>\n",
       "      <td>5ffdb895b08512986422b08c</td>\n",
       "      <td>135924847805717</td>\n",
       "      <td>100926924880433</td>\n",
       "      <td>79454459707340</td>\n",
       "      <td>2022-01-20</td>\n",
       "      <td>16706.330000</td>\n",
       "      <td>348.980000</td>\n",
       "      <td>142</td>\n",
       "      <td>3947</td>\n",
       "      <td>27</td>\n",
       "      <td>2.457606</td>\n",
       "    </tr>\n",
       "    <tr>\n",
       "      <th>4</th>\n",
       "      <td>5ffdb895b08512986422b08c</td>\n",
       "      <td>29667499780453</td>\n",
       "      <td>85722658525534</td>\n",
       "      <td>85472206701258</td>\n",
       "      <td>2022-01-20</td>\n",
       "      <td>2625.420000</td>\n",
       "      <td>1910.220000</td>\n",
       "      <td>96</td>\n",
       "      <td>26074</td>\n",
       "      <td>3</td>\n",
       "      <td>19.898125</td>\n",
       "    </tr>\n",
       "    <tr>\n",
       "      <th>...</th>\n",
       "      <td>...</td>\n",
       "      <td>...</td>\n",
       "      <td>...</td>\n",
       "      <td>...</td>\n",
       "      <td>...</td>\n",
       "      <td>...</td>\n",
       "      <td>...</td>\n",
       "      <td>...</td>\n",
       "      <td>...</td>\n",
       "      <td>...</td>\n",
       "      <td>...</td>\n",
       "    </tr>\n",
       "    <tr>\n",
       "      <th>6244</th>\n",
       "      <td>5ffdb895b08512986422b08c</td>\n",
       "      <td>76838919684691</td>\n",
       "      <td>30363257828591</td>\n",
       "      <td>64265992690180</td>\n",
       "      <td>2023-01-20</td>\n",
       "      <td>13811.772072</td>\n",
       "      <td>464.904499</td>\n",
       "      <td>71</td>\n",
       "      <td>4397</td>\n",
       "      <td>5</td>\n",
       "      <td>6.547951</td>\n",
       "    </tr>\n",
       "    <tr>\n",
       "      <th>6245</th>\n",
       "      <td>5ffdb895b08512986422b08c</td>\n",
       "      <td>201638832359263</td>\n",
       "      <td>2290415637360</td>\n",
       "      <td>185293015123540</td>\n",
       "      <td>2023-01-20</td>\n",
       "      <td>14523.892098</td>\n",
       "      <td>232.526232</td>\n",
       "      <td>39</td>\n",
       "      <td>7947</td>\n",
       "      <td>5</td>\n",
       "      <td>5.962211</td>\n",
       "    </tr>\n",
       "    <tr>\n",
       "      <th>6246</th>\n",
       "      <td>5ffdb895b08512986422b08c</td>\n",
       "      <td>218427629916993</td>\n",
       "      <td>85580432953015</td>\n",
       "      <td>87296464240522</td>\n",
       "      <td>2023-01-20</td>\n",
       "      <td>3320.294316</td>\n",
       "      <td>356.073753</td>\n",
       "      <td>41</td>\n",
       "      <td>7769</td>\n",
       "      <td>2</td>\n",
       "      <td>8.684726</td>\n",
       "    </tr>\n",
       "    <tr>\n",
       "      <th>6247</th>\n",
       "      <td>5ffdb895b08512986422b08c</td>\n",
       "      <td>92508002788393</td>\n",
       "      <td>49896973267574</td>\n",
       "      <td>227590663052584</td>\n",
       "      <td>2023-01-20</td>\n",
       "      <td>24811.442848</td>\n",
       "      <td>3849.378255</td>\n",
       "      <td>378</td>\n",
       "      <td>49387</td>\n",
       "      <td>6</td>\n",
       "      <td>10.183540</td>\n",
       "    </tr>\n",
       "    <tr>\n",
       "      <th>6248</th>\n",
       "      <td>5ffdb895b08512986422b08c</td>\n",
       "      <td>22793314923941</td>\n",
       "      <td>2290415637360</td>\n",
       "      <td>116716807274101</td>\n",
       "      <td>2023-01-20</td>\n",
       "      <td>16338.712859</td>\n",
       "      <td>1388.088258</td>\n",
       "      <td>104</td>\n",
       "      <td>36492</td>\n",
       "      <td>6</td>\n",
       "      <td>13.347002</td>\n",
       "    </tr>\n",
       "  </tbody>\n",
       "</table>\n",
       "<p>6249 rows × 11 columns</p>\n",
       "</div>\n",
       "      <button class=\"colab-df-convert\" onclick=\"convertToInteractive('df-df22d799-80d7-404a-9e01-36d16e44cf04')\"\n",
       "              title=\"Convert this dataframe to an interactive table.\"\n",
       "              style=\"display:none;\">\n",
       "        \n",
       "  <svg xmlns=\"http://www.w3.org/2000/svg\" height=\"24px\"viewBox=\"0 0 24 24\"\n",
       "       width=\"24px\">\n",
       "    <path d=\"M0 0h24v24H0V0z\" fill=\"none\"/>\n",
       "    <path d=\"M18.56 5.44l.94 2.06.94-2.06 2.06-.94-2.06-.94-.94-2.06-.94 2.06-2.06.94zm-11 1L8.5 8.5l.94-2.06 2.06-.94-2.06-.94L8.5 2.5l-.94 2.06-2.06.94zm10 10l.94 2.06.94-2.06 2.06-.94-2.06-.94-.94-2.06-.94 2.06-2.06.94z\"/><path d=\"M17.41 7.96l-1.37-1.37c-.4-.4-.92-.59-1.43-.59-.52 0-1.04.2-1.43.59L10.3 9.45l-7.72 7.72c-.78.78-.78 2.05 0 2.83L4 21.41c.39.39.9.59 1.41.59.51 0 1.02-.2 1.41-.59l7.78-7.78 2.81-2.81c.8-.78.8-2.07 0-2.86zM5.41 20L4 18.59l7.72-7.72 1.47 1.35L5.41 20z\"/>\n",
       "  </svg>\n",
       "      </button>\n",
       "      \n",
       "  <style>\n",
       "    .colab-df-container {\n",
       "      display:flex;\n",
       "      flex-wrap:wrap;\n",
       "      gap: 12px;\n",
       "    }\n",
       "\n",
       "    .colab-df-convert {\n",
       "      background-color: #E8F0FE;\n",
       "      border: none;\n",
       "      border-radius: 50%;\n",
       "      cursor: pointer;\n",
       "      display: none;\n",
       "      fill: #1967D2;\n",
       "      height: 32px;\n",
       "      padding: 0 0 0 0;\n",
       "      width: 32px;\n",
       "    }\n",
       "\n",
       "    .colab-df-convert:hover {\n",
       "      background-color: #E2EBFA;\n",
       "      box-shadow: 0px 1px 2px rgba(60, 64, 67, 0.3), 0px 1px 3px 1px rgba(60, 64, 67, 0.15);\n",
       "      fill: #174EA6;\n",
       "    }\n",
       "\n",
       "    [theme=dark] .colab-df-convert {\n",
       "      background-color: #3B4455;\n",
       "      fill: #D2E3FC;\n",
       "    }\n",
       "\n",
       "    [theme=dark] .colab-df-convert:hover {\n",
       "      background-color: #434B5C;\n",
       "      box-shadow: 0px 1px 3px 1px rgba(0, 0, 0, 0.15);\n",
       "      filter: drop-shadow(0px 1px 2px rgba(0, 0, 0, 0.3));\n",
       "      fill: #FFFFFF;\n",
       "    }\n",
       "  </style>\n",
       "\n",
       "      <script>\n",
       "        const buttonEl =\n",
       "          document.querySelector('#df-df22d799-80d7-404a-9e01-36d16e44cf04 button.colab-df-convert');\n",
       "        buttonEl.style.display =\n",
       "          google.colab.kernel.accessAllowed ? 'block' : 'none';\n",
       "\n",
       "        async function convertToInteractive(key) {\n",
       "          const element = document.querySelector('#df-df22d799-80d7-404a-9e01-36d16e44cf04');\n",
       "          const dataTable =\n",
       "            await google.colab.kernel.invokeFunction('convertToInteractive',\n",
       "                                                     [key], {});\n",
       "          if (!dataTable) return;\n",
       "\n",
       "          const docLinkHtml = 'Like what you see? Visit the ' +\n",
       "            '<a target=\"_blank\" href=https://colab.research.google.com/notebooks/data_table.ipynb>data table notebook</a>'\n",
       "            + ' to learn more about interactive tables.';\n",
       "          element.innerHTML = '';\n",
       "          dataTable['output_type'] = 'display_data';\n",
       "          await google.colab.output.renderOutput(dataTable, element);\n",
       "          const docLink = document.createElement('div');\n",
       "          docLink.innerHTML = docLinkHtml;\n",
       "          element.appendChild(docLink);\n",
       "        }\n",
       "      </script>\n",
       "    </div>\n",
       "  </div>\n",
       "  "
      ],
      "text/plain": [
       "                     accountId        adGroupId       campaignId  \\\n",
       "0     5ffdb895b08512986422b08c   59274026400609  178093483680077   \n",
       "1     5ffdb895b08512986422b08c    6055910382152   49896973267574   \n",
       "2     5ffdb895b08512986422b08c   40670175184901  177037018948030   \n",
       "3     5ffdb895b08512986422b08c  135924847805717  100926924880433   \n",
       "4     5ffdb895b08512986422b08c   29667499780453   85722658525534   \n",
       "...                        ...              ...              ...   \n",
       "6244  5ffdb895b08512986422b08c   76838919684691   30363257828591   \n",
       "6245  5ffdb895b08512986422b08c  201638832359263    2290415637360   \n",
       "6246  5ffdb895b08512986422b08c  218427629916993   85580432953015   \n",
       "6247  5ffdb895b08512986422b08c   92508002788393   49896973267574   \n",
       "6248  5ffdb895b08512986422b08c   22793314923941    2290415637360   \n",
       "\n",
       "            keywordId       date         sales        spend  clicks  \\\n",
       "0     247863105542037 2022-01-20   3636.560000  1234.360000     143   \n",
       "1      24104861481597 2022-01-20   4575.420000   394.890000      63   \n",
       "2     234598292844815 2022-01-20   8038.130000   560.930000      77   \n",
       "3      79454459707340 2022-01-20  16706.330000   348.980000     142   \n",
       "4      85472206701258 2022-01-20   2625.420000  1910.220000      96   \n",
       "...               ...        ...           ...          ...     ...   \n",
       "6244   64265992690180 2023-01-20  13811.772072   464.904499      71   \n",
       "6245  185293015123540 2023-01-20  14523.892098   232.526232      39   \n",
       "6246   87296464240522 2023-01-20   3320.294316   356.073753      41   \n",
       "6247  227590663052584 2023-01-20  24811.442848  3849.378255     378   \n",
       "6248  116716807274101 2023-01-20  16338.712859  1388.088258     104   \n",
       "\n",
       "      impressions  orders        cpc  \n",
       "0           18528       7   8.631888  \n",
       "1            7284       1   6.268095  \n",
       "2            6534      14   7.284805  \n",
       "3            3947      27   2.457606  \n",
       "4           26074       3  19.898125  \n",
       "...           ...     ...        ...  \n",
       "6244         4397       5   6.547951  \n",
       "6245         7947       5   5.962211  \n",
       "6246         7769       2   8.684726  \n",
       "6247        49387       6  10.183540  \n",
       "6248        36492       6  13.347002  \n",
       "\n",
       "[6249 rows x 11 columns]"
      ]
     },
     "execution_count": 92,
     "metadata": {},
     "output_type": "execute_result"
    }
   ],
   "source": [
    "account_data"
   ]
  },
  {
   "cell_type": "code",
   "execution_count": 93,
   "metadata": {
    "id": "ffP--iHfGRL4"
   },
   "outputs": [],
   "source": [
    "keyword_ids = account_data['keywordId'].unique()"
   ]
  },
  {
   "cell_type": "code",
   "execution_count": 94,
   "metadata": {
    "id": "vfrNm6CzHnuO"
   },
   "outputs": [],
   "source": [
    "keyword_wise_df = pd.DataFrame(columns = [['accountId', 'adGroupId', 'campaignId', 'keywordId', 'date', 'sales','spend', 'clicks', 'impressions', 'orders', 'cpc']])"
   ]
  },
  {
   "cell_type": "code",
   "execution_count": 95,
   "metadata": {
    "colab": {
     "base_uri": "https://localhost:8080/",
     "height": 49
    },
    "id": "sOaM7runHtxV",
    "outputId": "914742f7-f617-4ebf-dd58-a66081758e58"
   },
   "outputs": [
    {
     "data": {
      "text/html": [
       "\n",
       "  <div id=\"df-3836cd75-feb1-4e03-a8ce-b55e6e4709b6\">\n",
       "    <div class=\"colab-df-container\">\n",
       "      <div>\n",
       "<style scoped>\n",
       "    .dataframe tbody tr th:only-of-type {\n",
       "        vertical-align: middle;\n",
       "    }\n",
       "\n",
       "    .dataframe tbody tr th {\n",
       "        vertical-align: top;\n",
       "    }\n",
       "\n",
       "    .dataframe thead tr th {\n",
       "        text-align: left;\n",
       "    }\n",
       "</style>\n",
       "<table border=\"1\" class=\"dataframe\">\n",
       "  <thead>\n",
       "    <tr>\n",
       "      <th></th>\n",
       "      <th>accountId</th>\n",
       "      <th>adGroupId</th>\n",
       "      <th>campaignId</th>\n",
       "      <th>keywordId</th>\n",
       "      <th>date</th>\n",
       "      <th>sales</th>\n",
       "      <th>spend</th>\n",
       "      <th>clicks</th>\n",
       "      <th>impressions</th>\n",
       "      <th>orders</th>\n",
       "      <th>cpc</th>\n",
       "    </tr>\n",
       "  </thead>\n",
       "  <tbody>\n",
       "  </tbody>\n",
       "</table>\n",
       "</div>\n",
       "      <button class=\"colab-df-convert\" onclick=\"convertToInteractive('df-3836cd75-feb1-4e03-a8ce-b55e6e4709b6')\"\n",
       "              title=\"Convert this dataframe to an interactive table.\"\n",
       "              style=\"display:none;\">\n",
       "        \n",
       "  <svg xmlns=\"http://www.w3.org/2000/svg\" height=\"24px\"viewBox=\"0 0 24 24\"\n",
       "       width=\"24px\">\n",
       "    <path d=\"M0 0h24v24H0V0z\" fill=\"none\"/>\n",
       "    <path d=\"M18.56 5.44l.94 2.06.94-2.06 2.06-.94-2.06-.94-.94-2.06-.94 2.06-2.06.94zm-11 1L8.5 8.5l.94-2.06 2.06-.94-2.06-.94L8.5 2.5l-.94 2.06-2.06.94zm10 10l.94 2.06.94-2.06 2.06-.94-2.06-.94-.94-2.06-.94 2.06-2.06.94z\"/><path d=\"M17.41 7.96l-1.37-1.37c-.4-.4-.92-.59-1.43-.59-.52 0-1.04.2-1.43.59L10.3 9.45l-7.72 7.72c-.78.78-.78 2.05 0 2.83L4 21.41c.39.39.9.59 1.41.59.51 0 1.02-.2 1.41-.59l7.78-7.78 2.81-2.81c.8-.78.8-2.07 0-2.86zM5.41 20L4 18.59l7.72-7.72 1.47 1.35L5.41 20z\"/>\n",
       "  </svg>\n",
       "      </button>\n",
       "      \n",
       "  <style>\n",
       "    .colab-df-container {\n",
       "      display:flex;\n",
       "      flex-wrap:wrap;\n",
       "      gap: 12px;\n",
       "    }\n",
       "\n",
       "    .colab-df-convert {\n",
       "      background-color: #E8F0FE;\n",
       "      border: none;\n",
       "      border-radius: 50%;\n",
       "      cursor: pointer;\n",
       "      display: none;\n",
       "      fill: #1967D2;\n",
       "      height: 32px;\n",
       "      padding: 0 0 0 0;\n",
       "      width: 32px;\n",
       "    }\n",
       "\n",
       "    .colab-df-convert:hover {\n",
       "      background-color: #E2EBFA;\n",
       "      box-shadow: 0px 1px 2px rgba(60, 64, 67, 0.3), 0px 1px 3px 1px rgba(60, 64, 67, 0.15);\n",
       "      fill: #174EA6;\n",
       "    }\n",
       "\n",
       "    [theme=dark] .colab-df-convert {\n",
       "      background-color: #3B4455;\n",
       "      fill: #D2E3FC;\n",
       "    }\n",
       "\n",
       "    [theme=dark] .colab-df-convert:hover {\n",
       "      background-color: #434B5C;\n",
       "      box-shadow: 0px 1px 3px 1px rgba(0, 0, 0, 0.15);\n",
       "      filter: drop-shadow(0px 1px 2px rgba(0, 0, 0, 0.3));\n",
       "      fill: #FFFFFF;\n",
       "    }\n",
       "  </style>\n",
       "\n",
       "      <script>\n",
       "        const buttonEl =\n",
       "          document.querySelector('#df-3836cd75-feb1-4e03-a8ce-b55e6e4709b6 button.colab-df-convert');\n",
       "        buttonEl.style.display =\n",
       "          google.colab.kernel.accessAllowed ? 'block' : 'none';\n",
       "\n",
       "        async function convertToInteractive(key) {\n",
       "          const element = document.querySelector('#df-3836cd75-feb1-4e03-a8ce-b55e6e4709b6');\n",
       "          const dataTable =\n",
       "            await google.colab.kernel.invokeFunction('convertToInteractive',\n",
       "                                                     [key], {});\n",
       "          if (!dataTable) return;\n",
       "\n",
       "          const docLinkHtml = 'Like what you see? Visit the ' +\n",
       "            '<a target=\"_blank\" href=https://colab.research.google.com/notebooks/data_table.ipynb>data table notebook</a>'\n",
       "            + ' to learn more about interactive tables.';\n",
       "          element.innerHTML = '';\n",
       "          dataTable['output_type'] = 'display_data';\n",
       "          await google.colab.output.renderOutput(dataTable, element);\n",
       "          const docLink = document.createElement('div');\n",
       "          docLink.innerHTML = docLinkHtml;\n",
       "          element.appendChild(docLink);\n",
       "        }\n",
       "      </script>\n",
       "    </div>\n",
       "  </div>\n",
       "  "
      ],
      "text/plain": [
       "Empty DataFrame\n",
       "Columns: [(accountId,), (adGroupId,), (campaignId,), (keywordId,), (date,), (sales,), (spend,), (clicks,), (impressions,), (orders,), (cpc,)]\n",
       "Index: []"
      ]
     },
     "execution_count": 95,
     "metadata": {},
     "output_type": "execute_result"
    }
   ],
   "source": [
    "keyword_wise_df"
   ]
  },
  {
   "cell_type": "code",
   "execution_count": 96,
   "metadata": {
    "colab": {
     "base_uri": "https://localhost:8080/",
     "height": 641
    },
    "id": "EVOuyfruHxwI",
    "outputId": "b774dc56-bae0-447a-bbc4-1c0e074d515b"
   },
   "outputs": [
    {
     "data": {
      "text/html": [
       "\n",
       "  <div id=\"df-2ff07b64-b0d7-447c-9616-2e87e0beb2e2\">\n",
       "    <div class=\"colab-df-container\">\n",
       "      <div>\n",
       "<style scoped>\n",
       "    .dataframe tbody tr th:only-of-type {\n",
       "        vertical-align: middle;\n",
       "    }\n",
       "\n",
       "    .dataframe tbody tr th {\n",
       "        vertical-align: top;\n",
       "    }\n",
       "\n",
       "    .dataframe thead th {\n",
       "        text-align: right;\n",
       "    }\n",
       "</style>\n",
       "<table border=\"1\" class=\"dataframe\">\n",
       "  <thead>\n",
       "    <tr style=\"text-align: right;\">\n",
       "      <th></th>\n",
       "      <th>accountId</th>\n",
       "      <th>adGroupId</th>\n",
       "      <th>campaignId</th>\n",
       "      <th>keywordId</th>\n",
       "      <th>date</th>\n",
       "      <th>sales</th>\n",
       "      <th>spend</th>\n",
       "      <th>clicks</th>\n",
       "      <th>impressions</th>\n",
       "      <th>orders</th>\n",
       "      <th>cpc</th>\n",
       "    </tr>\n",
       "  </thead>\n",
       "  <tbody>\n",
       "    <tr>\n",
       "      <th>0</th>\n",
       "      <td>5ffdb895b08512986422b08c</td>\n",
       "      <td>59274026400609</td>\n",
       "      <td>178093483680077</td>\n",
       "      <td>247863105542037</td>\n",
       "      <td>2022-01-20</td>\n",
       "      <td>3636.560000</td>\n",
       "      <td>1234.360000</td>\n",
       "      <td>143</td>\n",
       "      <td>18528</td>\n",
       "      <td>7</td>\n",
       "      <td>8.631888</td>\n",
       "    </tr>\n",
       "    <tr>\n",
       "      <th>19</th>\n",
       "      <td>5ffdb895b08512986422b08c</td>\n",
       "      <td>59274026400609</td>\n",
       "      <td>178093483680077</td>\n",
       "      <td>247863105542037</td>\n",
       "      <td>2022-01-21</td>\n",
       "      <td>8475.174286</td>\n",
       "      <td>1329.936786</td>\n",
       "      <td>165</td>\n",
       "      <td>20352</td>\n",
       "      <td>16</td>\n",
       "      <td>8.060223</td>\n",
       "    </tr>\n",
       "    <tr>\n",
       "      <th>35</th>\n",
       "      <td>5ffdb895b08512986422b08c</td>\n",
       "      <td>59274026400609</td>\n",
       "      <td>178093483680077</td>\n",
       "      <td>247863105542037</td>\n",
       "      <td>2022-01-22</td>\n",
       "      <td>10961.777912</td>\n",
       "      <td>1422.734278</td>\n",
       "      <td>172</td>\n",
       "      <td>20763</td>\n",
       "      <td>22</td>\n",
       "      <td>8.271711</td>\n",
       "    </tr>\n",
       "    <tr>\n",
       "      <th>51</th>\n",
       "      <td>5ffdb895b08512986422b08c</td>\n",
       "      <td>59274026400609</td>\n",
       "      <td>178093483680077</td>\n",
       "      <td>247863105542037</td>\n",
       "      <td>2022-01-23</td>\n",
       "      <td>11031.236491</td>\n",
       "      <td>1426.541776</td>\n",
       "      <td>176</td>\n",
       "      <td>21574</td>\n",
       "      <td>22</td>\n",
       "      <td>8.105351</td>\n",
       "    </tr>\n",
       "    <tr>\n",
       "      <th>69</th>\n",
       "      <td>5ffdb895b08512986422b08c</td>\n",
       "      <td>59274026400609</td>\n",
       "      <td>178093483680077</td>\n",
       "      <td>247863105542037</td>\n",
       "      <td>2022-01-24</td>\n",
       "      <td>10656.167157</td>\n",
       "      <td>1394.743007</td>\n",
       "      <td>178</td>\n",
       "      <td>20328</td>\n",
       "      <td>21</td>\n",
       "      <td>7.835635</td>\n",
       "    </tr>\n",
       "    <tr>\n",
       "      <th>...</th>\n",
       "      <td>...</td>\n",
       "      <td>...</td>\n",
       "      <td>...</td>\n",
       "      <td>...</td>\n",
       "      <td>...</td>\n",
       "      <td>...</td>\n",
       "      <td>...</td>\n",
       "      <td>...</td>\n",
       "      <td>...</td>\n",
       "      <td>...</td>\n",
       "      <td>...</td>\n",
       "    </tr>\n",
       "    <tr>\n",
       "      <th>6171</th>\n",
       "      <td>5ffdb895b08512986422b08c</td>\n",
       "      <td>59274026400609</td>\n",
       "      <td>178093483680077</td>\n",
       "      <td>247863105542037</td>\n",
       "      <td>2023-01-16</td>\n",
       "      <td>4470.371958</td>\n",
       "      <td>545.641242</td>\n",
       "      <td>59</td>\n",
       "      <td>13704</td>\n",
       "      <td>8</td>\n",
       "      <td>9.248157</td>\n",
       "    </tr>\n",
       "    <tr>\n",
       "      <th>6187</th>\n",
       "      <td>5ffdb895b08512986422b08c</td>\n",
       "      <td>59274026400609</td>\n",
       "      <td>178093483680077</td>\n",
       "      <td>247863105542037</td>\n",
       "      <td>2023-01-17</td>\n",
       "      <td>4691.587697</td>\n",
       "      <td>588.043743</td>\n",
       "      <td>62</td>\n",
       "      <td>13566</td>\n",
       "      <td>9</td>\n",
       "      <td>9.484577</td>\n",
       "    </tr>\n",
       "    <tr>\n",
       "      <th>6202</th>\n",
       "      <td>5ffdb895b08512986422b08c</td>\n",
       "      <td>59274026400609</td>\n",
       "      <td>178093483680077</td>\n",
       "      <td>247863105542037</td>\n",
       "      <td>2023-01-18</td>\n",
       "      <td>4233.216004</td>\n",
       "      <td>535.200577</td>\n",
       "      <td>57</td>\n",
       "      <td>12587</td>\n",
       "      <td>8</td>\n",
       "      <td>9.389484</td>\n",
       "    </tr>\n",
       "    <tr>\n",
       "      <th>6218</th>\n",
       "      <td>5ffdb895b08512986422b08c</td>\n",
       "      <td>59274026400609</td>\n",
       "      <td>178093483680077</td>\n",
       "      <td>247863105542037</td>\n",
       "      <td>2023-01-19</td>\n",
       "      <td>4216.796537</td>\n",
       "      <td>488.740500</td>\n",
       "      <td>52</td>\n",
       "      <td>11236</td>\n",
       "      <td>8</td>\n",
       "      <td>9.398856</td>\n",
       "    </tr>\n",
       "    <tr>\n",
       "      <th>6235</th>\n",
       "      <td>5ffdb895b08512986422b08c</td>\n",
       "      <td>59274026400609</td>\n",
       "      <td>178093483680077</td>\n",
       "      <td>247863105542037</td>\n",
       "      <td>2023-01-20</td>\n",
       "      <td>3732.578332</td>\n",
       "      <td>441.437767</td>\n",
       "      <td>47</td>\n",
       "      <td>10117</td>\n",
       "      <td>7</td>\n",
       "      <td>9.392293</td>\n",
       "    </tr>\n",
       "  </tbody>\n",
       "</table>\n",
       "<p>366 rows × 11 columns</p>\n",
       "</div>\n",
       "      <button class=\"colab-df-convert\" onclick=\"convertToInteractive('df-2ff07b64-b0d7-447c-9616-2e87e0beb2e2')\"\n",
       "              title=\"Convert this dataframe to an interactive table.\"\n",
       "              style=\"display:none;\">\n",
       "        \n",
       "  <svg xmlns=\"http://www.w3.org/2000/svg\" height=\"24px\"viewBox=\"0 0 24 24\"\n",
       "       width=\"24px\">\n",
       "    <path d=\"M0 0h24v24H0V0z\" fill=\"none\"/>\n",
       "    <path d=\"M18.56 5.44l.94 2.06.94-2.06 2.06-.94-2.06-.94-.94-2.06-.94 2.06-2.06.94zm-11 1L8.5 8.5l.94-2.06 2.06-.94-2.06-.94L8.5 2.5l-.94 2.06-2.06.94zm10 10l.94 2.06.94-2.06 2.06-.94-2.06-.94-.94-2.06-.94 2.06-2.06.94z\"/><path d=\"M17.41 7.96l-1.37-1.37c-.4-.4-.92-.59-1.43-.59-.52 0-1.04.2-1.43.59L10.3 9.45l-7.72 7.72c-.78.78-.78 2.05 0 2.83L4 21.41c.39.39.9.59 1.41.59.51 0 1.02-.2 1.41-.59l7.78-7.78 2.81-2.81c.8-.78.8-2.07 0-2.86zM5.41 20L4 18.59l7.72-7.72 1.47 1.35L5.41 20z\"/>\n",
       "  </svg>\n",
       "      </button>\n",
       "      \n",
       "  <style>\n",
       "    .colab-df-container {\n",
       "      display:flex;\n",
       "      flex-wrap:wrap;\n",
       "      gap: 12px;\n",
       "    }\n",
       "\n",
       "    .colab-df-convert {\n",
       "      background-color: #E8F0FE;\n",
       "      border: none;\n",
       "      border-radius: 50%;\n",
       "      cursor: pointer;\n",
       "      display: none;\n",
       "      fill: #1967D2;\n",
       "      height: 32px;\n",
       "      padding: 0 0 0 0;\n",
       "      width: 32px;\n",
       "    }\n",
       "\n",
       "    .colab-df-convert:hover {\n",
       "      background-color: #E2EBFA;\n",
       "      box-shadow: 0px 1px 2px rgba(60, 64, 67, 0.3), 0px 1px 3px 1px rgba(60, 64, 67, 0.15);\n",
       "      fill: #174EA6;\n",
       "    }\n",
       "\n",
       "    [theme=dark] .colab-df-convert {\n",
       "      background-color: #3B4455;\n",
       "      fill: #D2E3FC;\n",
       "    }\n",
       "\n",
       "    [theme=dark] .colab-df-convert:hover {\n",
       "      background-color: #434B5C;\n",
       "      box-shadow: 0px 1px 3px 1px rgba(0, 0, 0, 0.15);\n",
       "      filter: drop-shadow(0px 1px 2px rgba(0, 0, 0, 0.3));\n",
       "      fill: #FFFFFF;\n",
       "    }\n",
       "  </style>\n",
       "\n",
       "      <script>\n",
       "        const buttonEl =\n",
       "          document.querySelector('#df-2ff07b64-b0d7-447c-9616-2e87e0beb2e2 button.colab-df-convert');\n",
       "        buttonEl.style.display =\n",
       "          google.colab.kernel.accessAllowed ? 'block' : 'none';\n",
       "\n",
       "        async function convertToInteractive(key) {\n",
       "          const element = document.querySelector('#df-2ff07b64-b0d7-447c-9616-2e87e0beb2e2');\n",
       "          const dataTable =\n",
       "            await google.colab.kernel.invokeFunction('convertToInteractive',\n",
       "                                                     [key], {});\n",
       "          if (!dataTable) return;\n",
       "\n",
       "          const docLinkHtml = 'Like what you see? Visit the ' +\n",
       "            '<a target=\"_blank\" href=https://colab.research.google.com/notebooks/data_table.ipynb>data table notebook</a>'\n",
       "            + ' to learn more about interactive tables.';\n",
       "          element.innerHTML = '';\n",
       "          dataTable['output_type'] = 'display_data';\n",
       "          await google.colab.output.renderOutput(dataTable, element);\n",
       "          const docLink = document.createElement('div');\n",
       "          docLink.innerHTML = docLinkHtml;\n",
       "          element.appendChild(docLink);\n",
       "        }\n",
       "      </script>\n",
       "    </div>\n",
       "  </div>\n",
       "  "
      ],
      "text/plain": [
       "                     accountId       adGroupId       campaignId  \\\n",
       "0     5ffdb895b08512986422b08c  59274026400609  178093483680077   \n",
       "19    5ffdb895b08512986422b08c  59274026400609  178093483680077   \n",
       "35    5ffdb895b08512986422b08c  59274026400609  178093483680077   \n",
       "51    5ffdb895b08512986422b08c  59274026400609  178093483680077   \n",
       "69    5ffdb895b08512986422b08c  59274026400609  178093483680077   \n",
       "...                        ...             ...              ...   \n",
       "6171  5ffdb895b08512986422b08c  59274026400609  178093483680077   \n",
       "6187  5ffdb895b08512986422b08c  59274026400609  178093483680077   \n",
       "6202  5ffdb895b08512986422b08c  59274026400609  178093483680077   \n",
       "6218  5ffdb895b08512986422b08c  59274026400609  178093483680077   \n",
       "6235  5ffdb895b08512986422b08c  59274026400609  178093483680077   \n",
       "\n",
       "            keywordId       date         sales        spend  clicks  \\\n",
       "0     247863105542037 2022-01-20   3636.560000  1234.360000     143   \n",
       "19    247863105542037 2022-01-21   8475.174286  1329.936786     165   \n",
       "35    247863105542037 2022-01-22  10961.777912  1422.734278     172   \n",
       "51    247863105542037 2022-01-23  11031.236491  1426.541776     176   \n",
       "69    247863105542037 2022-01-24  10656.167157  1394.743007     178   \n",
       "...               ...        ...           ...          ...     ...   \n",
       "6171  247863105542037 2023-01-16   4470.371958   545.641242      59   \n",
       "6187  247863105542037 2023-01-17   4691.587697   588.043743      62   \n",
       "6202  247863105542037 2023-01-18   4233.216004   535.200577      57   \n",
       "6218  247863105542037 2023-01-19   4216.796537   488.740500      52   \n",
       "6235  247863105542037 2023-01-20   3732.578332   441.437767      47   \n",
       "\n",
       "      impressions  orders       cpc  \n",
       "0           18528       7  8.631888  \n",
       "19          20352      16  8.060223  \n",
       "35          20763      22  8.271711  \n",
       "51          21574      22  8.105351  \n",
       "69          20328      21  7.835635  \n",
       "...           ...     ...       ...  \n",
       "6171        13704       8  9.248157  \n",
       "6187        13566       9  9.484577  \n",
       "6202        12587       8  9.389484  \n",
       "6218        11236       8  9.398856  \n",
       "6235        10117       7  9.392293  \n",
       "\n",
       "[366 rows x 11 columns]"
      ]
     },
     "execution_count": 96,
     "metadata": {},
     "output_type": "execute_result"
    }
   ],
   "source": [
    "account_data[account_data[\"keywordId\"] == keyword_ids[0]]"
   ]
  },
  {
   "cell_type": "code",
   "execution_count": 97,
   "metadata": {
    "id": "Kv3ZJ0i6GRJ0"
   },
   "outputs": [],
   "source": [
    "frames = []\n",
    "for i in range(len(keyword_ids)):\n",
    "     new_df_i = account_data[account_data['keywordId'] == keyword_ids[i]]\n",
    "     frames.append(new_df_i)"
   ]
  },
  {
   "cell_type": "code",
   "execution_count": 98,
   "metadata": {
    "id": "ttRz9jWDGRFi"
   },
   "outputs": [],
   "source": [
    "new_df = pd.concat(frames)"
   ]
  },
  {
   "cell_type": "code",
   "execution_count": 99,
   "metadata": {
    "id": "p79W4E3QJab3"
   },
   "outputs": [],
   "source": [
    "new_df.reset_index(inplace = True)"
   ]
  },
  {
   "cell_type": "code",
   "execution_count": 100,
   "metadata": {
    "id": "lzfzDY_3JaZ_"
   },
   "outputs": [],
   "source": [
    "new_df.drop(columns =\"index\", inplace = True)"
   ]
  },
  {
   "cell_type": "code",
   "execution_count": 101,
   "metadata": {
    "colab": {
     "base_uri": "https://localhost:8080/",
     "height": 641
    },
    "id": "YqfXsBVVJaXY",
    "outputId": "d29477ec-1d19-4d17-dc62-badbc8edb38c"
   },
   "outputs": [
    {
     "data": {
      "text/html": [
       "\n",
       "  <div id=\"df-53ff124c-0949-4dc9-8fdf-24535bb2fa94\">\n",
       "    <div class=\"colab-df-container\">\n",
       "      <div>\n",
       "<style scoped>\n",
       "    .dataframe tbody tr th:only-of-type {\n",
       "        vertical-align: middle;\n",
       "    }\n",
       "\n",
       "    .dataframe tbody tr th {\n",
       "        vertical-align: top;\n",
       "    }\n",
       "\n",
       "    .dataframe thead th {\n",
       "        text-align: right;\n",
       "    }\n",
       "</style>\n",
       "<table border=\"1\" class=\"dataframe\">\n",
       "  <thead>\n",
       "    <tr style=\"text-align: right;\">\n",
       "      <th></th>\n",
       "      <th>accountId</th>\n",
       "      <th>adGroupId</th>\n",
       "      <th>campaignId</th>\n",
       "      <th>keywordId</th>\n",
       "      <th>date</th>\n",
       "      <th>sales</th>\n",
       "      <th>spend</th>\n",
       "      <th>clicks</th>\n",
       "      <th>impressions</th>\n",
       "      <th>orders</th>\n",
       "      <th>cpc</th>\n",
       "    </tr>\n",
       "  </thead>\n",
       "  <tbody>\n",
       "    <tr>\n",
       "      <th>0</th>\n",
       "      <td>5ffdb895b08512986422b08c</td>\n",
       "      <td>59274026400609</td>\n",
       "      <td>178093483680077</td>\n",
       "      <td>247863105542037</td>\n",
       "      <td>2022-01-20</td>\n",
       "      <td>3636.560000</td>\n",
       "      <td>1234.360000</td>\n",
       "      <td>143</td>\n",
       "      <td>18528</td>\n",
       "      <td>7</td>\n",
       "      <td>8.631888</td>\n",
       "    </tr>\n",
       "    <tr>\n",
       "      <th>1</th>\n",
       "      <td>5ffdb895b08512986422b08c</td>\n",
       "      <td>59274026400609</td>\n",
       "      <td>178093483680077</td>\n",
       "      <td>247863105542037</td>\n",
       "      <td>2022-01-21</td>\n",
       "      <td>8475.174286</td>\n",
       "      <td>1329.936786</td>\n",
       "      <td>165</td>\n",
       "      <td>20352</td>\n",
       "      <td>16</td>\n",
       "      <td>8.060223</td>\n",
       "    </tr>\n",
       "    <tr>\n",
       "      <th>2</th>\n",
       "      <td>5ffdb895b08512986422b08c</td>\n",
       "      <td>59274026400609</td>\n",
       "      <td>178093483680077</td>\n",
       "      <td>247863105542037</td>\n",
       "      <td>2022-01-22</td>\n",
       "      <td>10961.777912</td>\n",
       "      <td>1422.734278</td>\n",
       "      <td>172</td>\n",
       "      <td>20763</td>\n",
       "      <td>22</td>\n",
       "      <td>8.271711</td>\n",
       "    </tr>\n",
       "    <tr>\n",
       "      <th>3</th>\n",
       "      <td>5ffdb895b08512986422b08c</td>\n",
       "      <td>59274026400609</td>\n",
       "      <td>178093483680077</td>\n",
       "      <td>247863105542037</td>\n",
       "      <td>2022-01-23</td>\n",
       "      <td>11031.236491</td>\n",
       "      <td>1426.541776</td>\n",
       "      <td>176</td>\n",
       "      <td>21574</td>\n",
       "      <td>22</td>\n",
       "      <td>8.105351</td>\n",
       "    </tr>\n",
       "    <tr>\n",
       "      <th>4</th>\n",
       "      <td>5ffdb895b08512986422b08c</td>\n",
       "      <td>59274026400609</td>\n",
       "      <td>178093483680077</td>\n",
       "      <td>247863105542037</td>\n",
       "      <td>2022-01-24</td>\n",
       "      <td>10656.167157</td>\n",
       "      <td>1394.743007</td>\n",
       "      <td>178</td>\n",
       "      <td>20328</td>\n",
       "      <td>21</td>\n",
       "      <td>7.835635</td>\n",
       "    </tr>\n",
       "    <tr>\n",
       "      <th>...</th>\n",
       "      <td>...</td>\n",
       "      <td>...</td>\n",
       "      <td>...</td>\n",
       "      <td>...</td>\n",
       "      <td>...</td>\n",
       "      <td>...</td>\n",
       "      <td>...</td>\n",
       "      <td>...</td>\n",
       "      <td>...</td>\n",
       "      <td>...</td>\n",
       "      <td>...</td>\n",
       "    </tr>\n",
       "    <tr>\n",
       "      <th>6244</th>\n",
       "      <td>5ffdb895b08512986422b08c</td>\n",
       "      <td>44596215044861</td>\n",
       "      <td>171284906550844</td>\n",
       "      <td>197034671889267</td>\n",
       "      <td>2023-01-16</td>\n",
       "      <td>11601.517160</td>\n",
       "      <td>940.410063</td>\n",
       "      <td>108</td>\n",
       "      <td>14106</td>\n",
       "      <td>5</td>\n",
       "      <td>8.707501</td>\n",
       "    </tr>\n",
       "    <tr>\n",
       "      <th>6245</th>\n",
       "      <td>5ffdb895b08512986422b08c</td>\n",
       "      <td>44596215044861</td>\n",
       "      <td>171284906550844</td>\n",
       "      <td>197034671889267</td>\n",
       "      <td>2023-01-17</td>\n",
       "      <td>11636.002872</td>\n",
       "      <td>943.315388</td>\n",
       "      <td>108</td>\n",
       "      <td>14335</td>\n",
       "      <td>5</td>\n",
       "      <td>8.734402</td>\n",
       "    </tr>\n",
       "    <tr>\n",
       "      <th>6246</th>\n",
       "      <td>5ffdb895b08512986422b08c</td>\n",
       "      <td>44596215044861</td>\n",
       "      <td>171284906550844</td>\n",
       "      <td>197034671889267</td>\n",
       "      <td>2023-01-18</td>\n",
       "      <td>11496.287822</td>\n",
       "      <td>921.201336</td>\n",
       "      <td>108</td>\n",
       "      <td>14507</td>\n",
       "      <td>5</td>\n",
       "      <td>8.529642</td>\n",
       "    </tr>\n",
       "    <tr>\n",
       "      <th>6247</th>\n",
       "      <td>5ffdb895b08512986422b08c</td>\n",
       "      <td>44596215044861</td>\n",
       "      <td>171284906550844</td>\n",
       "      <td>197034671889267</td>\n",
       "      <td>2023-01-19</td>\n",
       "      <td>11346.838779</td>\n",
       "      <td>1008.711825</td>\n",
       "      <td>111</td>\n",
       "      <td>43574</td>\n",
       "      <td>5</td>\n",
       "      <td>9.087494</td>\n",
       "    </tr>\n",
       "    <tr>\n",
       "      <th>6248</th>\n",
       "      <td>5ffdb895b08512986422b08c</td>\n",
       "      <td>44596215044861</td>\n",
       "      <td>171284906550844</td>\n",
       "      <td>197034671889267</td>\n",
       "      <td>2023-01-20</td>\n",
       "      <td>10861.724275</td>\n",
       "      <td>991.199582</td>\n",
       "      <td>111</td>\n",
       "      <td>40454</td>\n",
       "      <td>5</td>\n",
       "      <td>8.929726</td>\n",
       "    </tr>\n",
       "  </tbody>\n",
       "</table>\n",
       "<p>6108 rows × 11 columns</p>\n",
       "</div>\n",
       "      <button class=\"colab-df-convert\" onclick=\"convertToInteractive('df-53ff124c-0949-4dc9-8fdf-24535bb2fa94')\"\n",
       "              title=\"Convert this dataframe to an interactive table.\"\n",
       "              style=\"display:none;\">\n",
       "        \n",
       "  <svg xmlns=\"http://www.w3.org/2000/svg\" height=\"24px\"viewBox=\"0 0 24 24\"\n",
       "       width=\"24px\">\n",
       "    <path d=\"M0 0h24v24H0V0z\" fill=\"none\"/>\n",
       "    <path d=\"M18.56 5.44l.94 2.06.94-2.06 2.06-.94-2.06-.94-.94-2.06-.94 2.06-2.06.94zm-11 1L8.5 8.5l.94-2.06 2.06-.94-2.06-.94L8.5 2.5l-.94 2.06-2.06.94zm10 10l.94 2.06.94-2.06 2.06-.94-2.06-.94-.94-2.06-.94 2.06-2.06.94z\"/><path d=\"M17.41 7.96l-1.37-1.37c-.4-.4-.92-.59-1.43-.59-.52 0-1.04.2-1.43.59L10.3 9.45l-7.72 7.72c-.78.78-.78 2.05 0 2.83L4 21.41c.39.39.9.59 1.41.59.51 0 1.02-.2 1.41-.59l7.78-7.78 2.81-2.81c.8-.78.8-2.07 0-2.86zM5.41 20L4 18.59l7.72-7.72 1.47 1.35L5.41 20z\"/>\n",
       "  </svg>\n",
       "      </button>\n",
       "      \n",
       "  <style>\n",
       "    .colab-df-container {\n",
       "      display:flex;\n",
       "      flex-wrap:wrap;\n",
       "      gap: 12px;\n",
       "    }\n",
       "\n",
       "    .colab-df-convert {\n",
       "      background-color: #E8F0FE;\n",
       "      border: none;\n",
       "      border-radius: 50%;\n",
       "      cursor: pointer;\n",
       "      display: none;\n",
       "      fill: #1967D2;\n",
       "      height: 32px;\n",
       "      padding: 0 0 0 0;\n",
       "      width: 32px;\n",
       "    }\n",
       "\n",
       "    .colab-df-convert:hover {\n",
       "      background-color: #E2EBFA;\n",
       "      box-shadow: 0px 1px 2px rgba(60, 64, 67, 0.3), 0px 1px 3px 1px rgba(60, 64, 67, 0.15);\n",
       "      fill: #174EA6;\n",
       "    }\n",
       "\n",
       "    [theme=dark] .colab-df-convert {\n",
       "      background-color: #3B4455;\n",
       "      fill: #D2E3FC;\n",
       "    }\n",
       "\n",
       "    [theme=dark] .colab-df-convert:hover {\n",
       "      background-color: #434B5C;\n",
       "      box-shadow: 0px 1px 3px 1px rgba(0, 0, 0, 0.15);\n",
       "      filter: drop-shadow(0px 1px 2px rgba(0, 0, 0, 0.3));\n",
       "      fill: #FFFFFF;\n",
       "    }\n",
       "  </style>\n",
       "\n",
       "      <script>\n",
       "        const buttonEl =\n",
       "          document.querySelector('#df-53ff124c-0949-4dc9-8fdf-24535bb2fa94 button.colab-df-convert');\n",
       "        buttonEl.style.display =\n",
       "          google.colab.kernel.accessAllowed ? 'block' : 'none';\n",
       "\n",
       "        async function convertToInteractive(key) {\n",
       "          const element = document.querySelector('#df-53ff124c-0949-4dc9-8fdf-24535bb2fa94');\n",
       "          const dataTable =\n",
       "            await google.colab.kernel.invokeFunction('convertToInteractive',\n",
       "                                                     [key], {});\n",
       "          if (!dataTable) return;\n",
       "\n",
       "          const docLinkHtml = 'Like what you see? Visit the ' +\n",
       "            '<a target=\"_blank\" href=https://colab.research.google.com/notebooks/data_table.ipynb>data table notebook</a>'\n",
       "            + ' to learn more about interactive tables.';\n",
       "          element.innerHTML = '';\n",
       "          dataTable['output_type'] = 'display_data';\n",
       "          await google.colab.output.renderOutput(dataTable, element);\n",
       "          const docLink = document.createElement('div');\n",
       "          docLink.innerHTML = docLinkHtml;\n",
       "          element.appendChild(docLink);\n",
       "        }\n",
       "      </script>\n",
       "    </div>\n",
       "  </div>\n",
       "  "
      ],
      "text/plain": [
       "                     accountId       adGroupId       campaignId  \\\n",
       "0     5ffdb895b08512986422b08c  59274026400609  178093483680077   \n",
       "1     5ffdb895b08512986422b08c  59274026400609  178093483680077   \n",
       "2     5ffdb895b08512986422b08c  59274026400609  178093483680077   \n",
       "3     5ffdb895b08512986422b08c  59274026400609  178093483680077   \n",
       "4     5ffdb895b08512986422b08c  59274026400609  178093483680077   \n",
       "...                        ...             ...              ...   \n",
       "6244  5ffdb895b08512986422b08c  44596215044861  171284906550844   \n",
       "6245  5ffdb895b08512986422b08c  44596215044861  171284906550844   \n",
       "6246  5ffdb895b08512986422b08c  44596215044861  171284906550844   \n",
       "6247  5ffdb895b08512986422b08c  44596215044861  171284906550844   \n",
       "6248  5ffdb895b08512986422b08c  44596215044861  171284906550844   \n",
       "\n",
       "            keywordId       date         sales        spend  clicks  \\\n",
       "0     247863105542037 2022-01-20   3636.560000  1234.360000     143   \n",
       "1     247863105542037 2022-01-21   8475.174286  1329.936786     165   \n",
       "2     247863105542037 2022-01-22  10961.777912  1422.734278     172   \n",
       "3     247863105542037 2022-01-23  11031.236491  1426.541776     176   \n",
       "4     247863105542037 2022-01-24  10656.167157  1394.743007     178   \n",
       "...               ...        ...           ...          ...     ...   \n",
       "6244  197034671889267 2023-01-16  11601.517160   940.410063     108   \n",
       "6245  197034671889267 2023-01-17  11636.002872   943.315388     108   \n",
       "6246  197034671889267 2023-01-18  11496.287822   921.201336     108   \n",
       "6247  197034671889267 2023-01-19  11346.838779  1008.711825     111   \n",
       "6248  197034671889267 2023-01-20  10861.724275   991.199582     111   \n",
       "\n",
       "      impressions  orders       cpc  \n",
       "0           18528       7  8.631888  \n",
       "1           20352      16  8.060223  \n",
       "2           20763      22  8.271711  \n",
       "3           21574      22  8.105351  \n",
       "4           20328      21  7.835635  \n",
       "...           ...     ...       ...  \n",
       "6244        14106       5  8.707501  \n",
       "6245        14335       5  8.734402  \n",
       "6246        14507       5  8.529642  \n",
       "6247        43574       5  9.087494  \n",
       "6248        40454       5  8.929726  \n",
       "\n",
       "[6108 rows x 11 columns]"
      ]
     },
     "execution_count": 101,
     "metadata": {},
     "output_type": "execute_result"
    }
   ],
   "source": [
    "new_df[new_df['cpc'] != max(new_df['cpc'])]"
   ]
  },
  {
   "cell_type": "code",
   "execution_count": 102,
   "metadata": {
    "id": "mk3dbAnKJaVh"
   },
   "outputs": [],
   "source": [
    "mean_cpc = sum(new_df[new_df['cpc'] != max(new_df['cpc'])]['cpc'])/len(new_df[new_df['cpc'] != max(new_df['cpc'])])"
   ]
  },
  {
   "cell_type": "code",
   "execution_count": 103,
   "metadata": {
    "id": "unSawmBoMpd7"
   },
   "outputs": [],
   "source": [
    "new_df['cpc'] = new_df['cpc'].astype(str)"
   ]
  },
  {
   "cell_type": "code",
   "execution_count": 104,
   "metadata": {
    "colab": {
     "base_uri": "https://localhost:8080/"
    },
    "id": "gHnG2cRpM18Y",
    "outputId": "1bc7815e-1125-4c48-d552-d6a4703d4f35"
   },
   "outputs": [
    {
     "data": {
      "text/plain": [
       "accountId              object\n",
       "adGroupId               int64\n",
       "campaignId              int64\n",
       "keywordId              object\n",
       "date           datetime64[ns]\n",
       "sales                 float64\n",
       "spend                 float64\n",
       "clicks                  int64\n",
       "impressions             int64\n",
       "orders                  int64\n",
       "cpc                    object\n",
       "dtype: object"
      ]
     },
     "execution_count": 104,
     "metadata": {},
     "output_type": "execute_result"
    }
   ],
   "source": [
    "new_df.dtypes"
   ]
  },
  {
   "cell_type": "code",
   "execution_count": 105,
   "metadata": {
    "id": "hSUu4A5BJaMS"
   },
   "outputs": [],
   "source": [
    "new_df.replace({\"cpc\":{\"inf\":mean_cpc}},inplace = True)"
   ]
  },
  {
   "cell_type": "code",
   "execution_count": 106,
   "metadata": {
    "id": "rA4z0vxeM92j"
   },
   "outputs": [],
   "source": [
    "new_df['cpc'] = new_df['cpc'].astype(float)"
   ]
  },
  {
   "cell_type": "code",
   "execution_count": 107,
   "metadata": {
    "colab": {
     "base_uri": "https://localhost:8080/"
    },
    "id": "UgvE2yILNh7i",
    "outputId": "0ca0b377-669d-44e0-a6ce-91149c414daa"
   },
   "outputs": [
    {
     "data": {
      "text/plain": [
       "41.51876369844586"
      ]
     },
     "execution_count": 107,
     "metadata": {},
     "output_type": "execute_result"
    }
   ],
   "source": [
    "max(new_df['cpc'])"
   ]
  },
  {
   "cell_type": "code",
   "execution_count": 108,
   "metadata": {
    "id": "xJB843JJNsQA"
   },
   "outputs": [],
   "source": [
    "account_data = new_df"
   ]
  },
  {
   "cell_type": "code",
   "execution_count": 109,
   "metadata": {
    "colab": {
     "base_uri": "https://localhost:8080/"
    },
    "id": "57SfXNLlpLaD",
    "outputId": "688991ae-cf61-489f-d7b7-bf30e60e2201"
   },
   "outputs": [
    {
     "data": {
      "text/plain": [
       "(6249, 11)"
      ]
     },
     "execution_count": 109,
     "metadata": {},
     "output_type": "execute_result"
    }
   ],
   "source": [
    "account_data.shape"
   ]
  },
  {
   "cell_type": "code",
   "execution_count": 110,
   "metadata": {
    "id": "jsGpbyuwGCmZ"
   },
   "outputs": [],
   "source": [
    "x_scaler = preprocessing.MinMaxScaler()\n",
    "y_scaler = preprocessing.MinMaxScaler()\n",
    "dataX = x_scaler.fit_transform(account_data[['sales','spend', 'clicks', 'impressions', 'orders','cpc']])\n",
    "dataY = y_scaler.fit_transform(account_data[['sales','spend']])"
   ]
  },
  {
   "cell_type": "code",
   "execution_count": 111,
   "metadata": {
    "id": "hjJgru6ZGGuJ"
   },
   "outputs": [],
   "source": [
    "def create_dataset(dataset, time_step):\n",
    "    import numpy\n",
    "    dataX, dataY = [], []\n",
    "    for i in range(len(dataset)-time_step-1):\n",
    "        a = dataset[i:(i+time_step), 0]   ###i=0, 0,1,2,3-----99   100 \n",
    "        dataX.append(a)\n",
    "        dataY.append(dataset[i + time_step, 0])\n",
    "    return numpy.array(dataX), numpy.array(dataY)"
   ]
  },
  {
   "cell_type": "code",
   "execution_count": 112,
   "metadata": {
    "id": "kFYEtkelNxsf"
   },
   "outputs": [],
   "source": [
    "x_train_multi,y_train_multi = create_dataset(dataX,14)\n",
    "x_val_multi, y_val_multi = create_dataset(dataY,14)"
   ]
  },
  {
   "cell_type": "code",
   "execution_count": 113,
   "metadata": {
    "id": "TluWwvSNNzDf"
   },
   "outputs": [],
   "source": [
    "# reshape input to be [samples, time steps, features] which is required for LSTM\n",
    "x_train_multi =x_train_multi.reshape(x_train_multi.shape[0],x_train_multi.shape[1] , 1)\n",
    "x_val_multi = x_val_multi.reshape(x_val_multi.shape[0],x_val_multi.shape[1] , 1)"
   ]
  },
  {
   "cell_type": "code",
   "execution_count": 114,
   "metadata": {
    "id": "SmtQebPoN0Yf"
   },
   "outputs": [],
   "source": [
    "BATCH_SIZE = 256\n",
    "BUFFER_SIZE = 150\n",
    "\n",
    "train_data_multi = tf.data.Dataset.from_tensor_slices((x_train_multi, y_train_multi))\n",
    "train_data_multi = train_data_multi.cache().shuffle(BUFFER_SIZE).batch(BATCH_SIZE).repeat()\n",
    "\n",
    "val_data_multi = tf.data.Dataset.from_tensor_slices((x_val_multi, y_val_multi))\n",
    "val_data_multi = val_data_multi.batch(BATCH_SIZE).repeat()"
   ]
  },
  {
   "cell_type": "code",
   "execution_count": 115,
   "metadata": {
    "id": "mxfgzUF5N13n"
   },
   "outputs": [],
   "source": [
    "ED_lstm_model = tf.keras.models.Sequential([\n",
    "    tf.keras.layers.LSTM(64, input_shape=x_train_multi.shape[-2:], return_sequences=True),\n",
    "    tf.keras.layers.LSTM(units=32,return_sequences=True),\n",
    "    tf.keras.layers.LSTM(units=15),\n",
    "    tf.keras.layers.RepeatVector(y_train_multi.shape[0]), \n",
    "    tf.keras.layers.LSTM(units=64,return_sequences=True,),\n",
    "    tf.keras.layers.LSTM(units=32,return_sequences=False),\n",
    "    tf.keras.layers.Dense(units=2,activation = \"sigmoid\")\n",
    "])\n",
    "ED_lstm_model.compile(optimizer='adam', loss='mean_squared_error')"
   ]
  },
  {
   "cell_type": "code",
   "execution_count": 116,
   "metadata": {
    "colab": {
     "base_uri": "https://localhost:8080/"
    },
    "id": "JBKskzn-N3uH",
    "outputId": "3f7d67aa-76d8-422a-eb89-0b30f1d15fa6"
   },
   "outputs": [
    {
     "name": "stdout",
     "output_type": "stream",
     "text": [
      "Model: \"sequential_2\"\n",
      "_________________________________________________________________\n",
      " Layer (type)                Output Shape              Param #   \n",
      "=================================================================\n",
      " lstm_10 (LSTM)              (None, 14, 64)            16896     \n",
      "                                                                 \n",
      " lstm_11 (LSTM)              (None, 14, 32)            12416     \n",
      "                                                                 \n",
      " lstm_12 (LSTM)              (None, 15)                2880      \n",
      "                                                                 \n",
      " repeat_vector_2 (RepeatVect  (None, 6234, 15)         0         \n",
      " or)                                                             \n",
      "                                                                 \n",
      " lstm_13 (LSTM)              (None, 6234, 64)          20480     \n",
      "                                                                 \n",
      " lstm_14 (LSTM)              (None, 32)                12416     \n",
      "                                                                 \n",
      " dense_2 (Dense)             (None, 2)                 66        \n",
      "                                                                 \n",
      "=================================================================\n",
      "Total params: 65,154\n",
      "Trainable params: 65,154\n",
      "Non-trainable params: 0\n",
      "_________________________________________________________________\n"
     ]
    }
   ],
   "source": [
    "# useful for understanding the model architecture\n",
    "ED_lstm_model.summary()"
   ]
  },
  {
   "cell_type": "code",
   "execution_count": 117,
   "metadata": {
    "id": "wowW5pk3Ohfe"
   },
   "outputs": [],
   "source": [
    "model_path = 'Encoder_Decoder_LSTM_Multivariate_using_opt.h5'"
   ]
  },
  {
   "cell_type": "code",
   "execution_count": 119,
   "metadata": {
    "colab": {
     "base_uri": "https://localhost:8080/"
    },
    "id": "Z6uwP3y7Ojle",
    "outputId": "32a11e5c-ae05-4859-f54d-3784368a872e"
   },
   "outputs": [
    {
     "name": "stdout",
     "output_type": "stream",
     "text": [
      "Epoch 1/100\n",
      "16/16 [==============================] - 53s 3s/step - loss: 0.1040 - val_loss: 0.0063\n",
      "Epoch 2/100\n",
      "16/16 [==============================] - 16s 1s/step - loss: 0.0057 - val_loss: 0.0060\n",
      "Epoch 3/100\n",
      "16/16 [==============================] - 15s 977ms/step - loss: 0.0061 - val_loss: 0.0056\n",
      "Epoch 4/100\n",
      "16/16 [==============================] - 15s 966ms/step - loss: 0.0065 - val_loss: 0.0056\n",
      "Epoch 5/100\n",
      "16/16 [==============================] - 15s 958ms/step - loss: 0.0039 - val_loss: 0.0056\n",
      "Epoch 6/100\n",
      "16/16 [==============================] - 15s 965ms/step - loss: 0.0060 - val_loss: 0.0056\n",
      "Epoch 7/100\n",
      "16/16 [==============================] - 15s 960ms/step - loss: 0.0076 - val_loss: 0.0056\n",
      "Epoch 8/100\n",
      "16/16 [==============================] - 15s 958ms/step - loss: 0.0041 - val_loss: 0.0056\n",
      "Epoch 9/100\n",
      "16/16 [==============================] - 15s 968ms/step - loss: 0.0059 - val_loss: 0.0056\n",
      "Epoch 10/100\n",
      "16/16 [==============================] - 15s 960ms/step - loss: 0.0073 - val_loss: 0.0056\n",
      "Epoch 11/100\n",
      "16/16 [==============================] - 15s 984ms/step - loss: 0.0042 - val_loss: 0.0056\n",
      "Epoch 12/100\n",
      "16/16 [==============================] - 15s 981ms/step - loss: 0.0060 - val_loss: 0.0055\n",
      "Epoch 13/100\n",
      "16/16 [==============================] - 15s 968ms/step - loss: 0.0067 - val_loss: 0.0055\n",
      "Epoch 14/100\n",
      "16/16 [==============================] - 15s 969ms/step - loss: 0.0045 - val_loss: 0.0054\n",
      "Epoch 15/100\n",
      "16/16 [==============================] - 15s 967ms/step - loss: 0.0060 - val_loss: 0.0052\n",
      "Epoch 16/100\n",
      "16/16 [==============================] - 15s 959ms/step - loss: 0.0036 - val_loss: 0.0050\n",
      "Epoch 17/100\n",
      "16/16 [==============================] - 15s 969ms/step - loss: 0.0061 - val_loss: 0.0045\n",
      "Epoch 18/100\n",
      "16/16 [==============================] - 15s 965ms/step - loss: 0.0053 - val_loss: 0.0039\n",
      "Epoch 19/100\n",
      "16/16 [==============================] - 15s 966ms/step - loss: 0.0022 - val_loss: 0.0041\n",
      "Epoch 20/100\n",
      "16/16 [==============================] - 15s 980ms/step - loss: 0.0047 - val_loss: 0.0033\n",
      "Epoch 21/100\n",
      "16/16 [==============================] - 15s 974ms/step - loss: 0.0043 - val_loss: 0.0031\n",
      "Epoch 22/100\n",
      "16/16 [==============================] - 15s 960ms/step - loss: 0.0020 - val_loss: 0.0030\n",
      "Epoch 23/100\n",
      "16/16 [==============================] - 15s 968ms/step - loss: 0.0036 - val_loss: 0.0030\n",
      "Epoch 24/100\n",
      "16/16 [==============================] - 15s 957ms/step - loss: 0.0037 - val_loss: 0.0031\n",
      "Epoch 25/100\n",
      "16/16 [==============================] - 15s 959ms/step - loss: 0.0025 - val_loss: 0.0041\n",
      "Epoch 26/100\n",
      "16/16 [==============================] - 15s 974ms/step - loss: 0.0038 - val_loss: 0.0027\n",
      "Epoch 27/100\n",
      "16/16 [==============================] - 15s 966ms/step - loss: 0.0021 - val_loss: 0.0025\n",
      "Epoch 28/100\n",
      "16/16 [==============================] - 15s 977ms/step - loss: 0.0025 - val_loss: 0.0023\n",
      "Epoch 29/100\n",
      "16/16 [==============================] - 15s 972ms/step - loss: 0.0028 - val_loss: 0.0019\n",
      "Epoch 30/100\n",
      "16/16 [==============================] - 15s 959ms/step - loss: 0.0015 - val_loss: 0.0036\n",
      "Epoch 31/100\n",
      "16/16 [==============================] - 15s 965ms/step - loss: 0.0035 - val_loss: 0.0028\n",
      "Epoch 32/100\n",
      "16/16 [==============================] - 15s 957ms/step - loss: 0.0036 - val_loss: 0.0023\n",
      "Epoch 33/100\n",
      "16/16 [==============================] - 15s 954ms/step - loss: 0.0015 - val_loss: 0.0027\n",
      "Epoch 34/100\n",
      "16/16 [==============================] - 15s 970ms/step - loss: 0.0028 - val_loss: 0.0021\n",
      "Epoch 35/100\n",
      "16/16 [==============================] - 15s 967ms/step - loss: 0.0024 - val_loss: 0.0018\n",
      "Epoch 36/100\n",
      "16/16 [==============================] - 15s 969ms/step - loss: 0.0011 - val_loss: 0.0016\n",
      "Epoch 37/100\n",
      "16/16 [==============================] - 15s 979ms/step - loss: 0.0018 - val_loss: 0.0014\n",
      "Epoch 38/100\n",
      "16/16 [==============================] - 15s 960ms/step - loss: 0.0018 - val_loss: 0.0017\n",
      "Epoch 39/100\n",
      "16/16 [==============================] - 15s 967ms/step - loss: 0.0013 - val_loss: 0.0032\n",
      "Epoch 40/100\n",
      "16/16 [==============================] - 15s 966ms/step - loss: 0.0025 - val_loss: 0.0016\n",
      "Epoch 41/100\n",
      "16/16 [==============================] - 15s 953ms/step - loss: 0.0020 - val_loss: 0.0016\n",
      "Epoch 42/100\n",
      "16/16 [==============================] - 15s 966ms/step - loss: 0.0023 - val_loss: 0.0016\n",
      "Epoch 43/100\n",
      "16/16 [==============================] - 15s 962ms/step - loss: 0.0028 - val_loss: 0.0019\n",
      "Epoch 44/100\n",
      "16/16 [==============================] - 15s 964ms/step - loss: 0.0011 - val_loss: 0.0015\n",
      "Epoch 45/100\n",
      "16/16 [==============================] - 17s 1s/step - loss: 0.0018 - val_loss: 0.0015\n",
      "Epoch 46/100\n",
      "16/16 [==============================] - 15s 957ms/step - loss: 0.0018 - val_loss: 0.0014\n",
      "Epoch 47/100\n",
      "16/16 [==============================] - 15s 960ms/step - loss: 7.6900e-04 - val_loss: 0.0011\n",
      "Epoch 48/100\n",
      "16/16 [==============================] - 15s 970ms/step - loss: 0.0012 - val_loss: 0.0010\n",
      "Epoch 49/100\n",
      "16/16 [==============================] - 15s 965ms/step - loss: 0.0012 - val_loss: 8.6911e-04\n",
      "Epoch 50/100\n",
      "16/16 [==============================] - 15s 967ms/step - loss: 8.1214e-04 - val_loss: 0.0017\n",
      "Epoch 51/100\n",
      "16/16 [==============================] - 15s 972ms/step - loss: 0.0013 - val_loss: 8.9324e-04\n",
      "Epoch 52/100\n",
      "16/16 [==============================] - 15s 965ms/step - loss: 8.0055e-04 - val_loss: 0.0014\n",
      "Epoch 53/100\n",
      "16/16 [==============================] - 15s 976ms/step - loss: 0.0013 - val_loss: 7.9929e-04\n",
      "Epoch 54/100\n",
      "16/16 [==============================] - 15s 959ms/step - loss: 0.0010 - val_loss: 8.0137e-04\n",
      "Epoch 55/100\n",
      "16/16 [==============================] - 15s 959ms/step - loss: 5.8394e-04 - val_loss: 8.8477e-04\n",
      "Epoch 56/100\n",
      "16/16 [==============================] - 15s 967ms/step - loss: 9.6923e-04 - val_loss: 8.4312e-04\n",
      "Epoch 57/100\n",
      "16/16 [==============================] - 15s 961ms/step - loss: 0.0011 - val_loss: 7.2304e-04\n",
      "Epoch 58/100\n",
      "16/16 [==============================] - 15s 966ms/step - loss: 7.2003e-04 - val_loss: 7.8352e-04\n",
      "Epoch 59/100\n",
      "16/16 [==============================] - 15s 973ms/step - loss: 0.0011 - val_loss: 8.9690e-04\n",
      "Epoch 60/100\n",
      "16/16 [==============================] - 15s 972ms/step - loss: 0.0011 - val_loss: 7.0906e-04\n",
      "Epoch 61/100\n",
      "16/16 [==============================] - 15s 968ms/step - loss: 5.5341e-04 - val_loss: 7.5256e-04\n",
      "Epoch 62/100\n",
      "16/16 [==============================] - 15s 969ms/step - loss: 8.2443e-04 - val_loss: 8.3256e-04\n",
      "Epoch 63/100\n",
      "16/16 [==============================] - 15s 957ms/step - loss: 9.4263e-04 - val_loss: 7.6480e-04\n",
      "Epoch 64/100\n",
      "16/16 [==============================] - 15s 966ms/step - loss: 5.9841e-04 - val_loss: 0.0012\n",
      "Epoch 65/100\n",
      "16/16 [==============================] - 15s 969ms/step - loss: 9.2590e-04 - val_loss: 6.4804e-04\n",
      "Epoch 66/100\n",
      "16/16 [==============================] - 15s 960ms/step - loss: 4.7946e-04 - val_loss: 8.6406e-04\n",
      "Epoch 67/100\n",
      "16/16 [==============================] - 15s 975ms/step - loss: 8.9118e-04 - val_loss: 5.8718e-04\n",
      "Epoch 68/100\n",
      "16/16 [==============================] - 15s 963ms/step - loss: 7.9479e-04 - val_loss: 5.9471e-04\n",
      "Epoch 69/100\n",
      "16/16 [==============================] - 17s 1s/step - loss: 4.3564e-04 - val_loss: 6.0369e-04\n",
      "Epoch 70/100\n",
      "16/16 [==============================] - 15s 966ms/step - loss: 6.9699e-04 - val_loss: 6.1228e-04\n",
      "Epoch 71/100\n",
      "16/16 [==============================] - 15s 959ms/step - loss: 7.3799e-04 - val_loss: 5.0188e-04\n",
      "Epoch 72/100\n",
      "16/16 [==============================] - 15s 962ms/step - loss: 4.3942e-04 - val_loss: 6.0721e-04\n",
      "Epoch 73/100\n",
      "16/16 [==============================] - 15s 974ms/step - loss: 7.5237e-04 - val_loss: 6.7537e-04\n",
      "Epoch 74/100\n",
      "16/16 [==============================] - 15s 965ms/step - loss: 7.5264e-04 - val_loss: 4.8408e-04\n",
      "Epoch 75/100\n",
      "16/16 [==============================] - 15s 967ms/step - loss: 4.3228e-04 - val_loss: 6.3707e-04\n",
      "Epoch 76/100\n",
      "16/16 [==============================] - 15s 972ms/step - loss: 7.3906e-04 - val_loss: 7.1292e-04\n",
      "Epoch 77/100\n",
      "16/16 [==============================] - 15s 963ms/step - loss: 4.0715e-04 - val_loss: 9.2798e-04\n",
      "Epoch 78/100\n",
      "16/16 [==============================] - 15s 965ms/step - loss: 8.6275e-04 - val_loss: 6.7032e-04\n",
      "Epoch 79/100\n",
      "16/16 [==============================] - 15s 954ms/step - loss: 7.3596e-04 - val_loss: 6.1555e-04\n",
      "Epoch 80/100\n",
      "16/16 [==============================] - 15s 956ms/step - loss: 3.4163e-04 - val_loss: 5.0748e-04\n",
      "Epoch 81/100\n",
      "16/16 [==============================] - 15s 973ms/step - loss: 5.9764e-04 - val_loss: 5.2004e-04\n",
      "Epoch 82/100\n",
      "16/16 [==============================] - 15s 965ms/step - loss: 6.2393e-04 - val_loss: 4.2058e-04\n",
      "Epoch 83/100\n",
      "16/16 [==============================] - 15s 965ms/step - loss: 2.8451e-04 - val_loss: 4.3845e-04\n",
      "Epoch 84/100\n",
      "16/16 [==============================] - 15s 975ms/step - loss: 5.2039e-04 - val_loss: 5.2001e-04\n",
      "Epoch 85/100\n",
      "16/16 [==============================] - 15s 962ms/step - loss: 5.9726e-04 - val_loss: 4.4060e-04\n",
      "Epoch 86/100\n",
      "16/16 [==============================] - 15s 960ms/step - loss: 2.5996e-04 - val_loss: 4.0583e-04\n",
      "Epoch 87/100\n",
      "16/16 [==============================] - 15s 966ms/step - loss: 4.8705e-04 - val_loss: 4.6449e-04\n",
      "Epoch 88/100\n",
      "16/16 [==============================] - 15s 958ms/step - loss: 4.9716e-04 - val_loss: 3.7775e-04\n",
      "Epoch 89/100\n",
      "16/16 [==============================] - 15s 971ms/step - loss: 3.0201e-04 - val_loss: 4.1983e-04\n",
      "Epoch 90/100\n",
      "16/16 [==============================] - 15s 971ms/step - loss: 5.0541e-04 - val_loss: 4.6855e-04\n",
      "Epoch 91/100\n",
      "16/16 [==============================] - 15s 966ms/step - loss: 2.0063e-04 - val_loss: 4.9645e-04\n",
      "Epoch 92/100\n",
      "16/16 [==============================] - 15s 976ms/step - loss: 5.3730e-04 - val_loss: 4.7973e-04\n",
      "Epoch 93/100\n",
      "16/16 [==============================] - 15s 967ms/step - loss: 5.2950e-04 - val_loss: 3.9563e-04\n",
      "Epoch 94/100\n",
      "16/16 [==============================] - 15s 959ms/step - loss: 2.4950e-04 - val_loss: 6.0156e-04\n",
      "Epoch 95/100\n",
      "16/16 [==============================] - 15s 966ms/step - loss: 5.9426e-04 - val_loss: 9.8404e-04\n",
      "Epoch 96/100\n",
      "16/16 [==============================] - 15s 958ms/step - loss: 0.0014 - val_loss: 7.8951e-04\n",
      "Epoch 97/100\n",
      "16/16 [==============================] - 15s 963ms/step - loss: 6.8361e-04 - val_loss: 0.0012\n",
      "Epoch 98/100\n",
      "16/16 [==============================] - 15s 969ms/step - loss: 0.0012 - val_loss: 0.0014\n",
      "Epoch 98: early stopping\n"
     ]
    }
   ],
   "source": [
    "model_path = 'Encoder_Decoder_LSTM_Multivariate_using_opt.h5'\n",
    "EVALUATION_INTERVAL = 16\n",
    "EPOCHS = 100\n",
    "history = ED_lstm_model.fit(train_data_multi, epochs=EPOCHS,steps_per_epoch=EVALUATION_INTERVAL,\n",
    "                            validation_data=val_data_multi, validation_steps=50,verbose =1,\n",
    "                              callbacks =[\n",
    "                                  tf.keras.callbacks.EarlyStopping(monitor='val_loss', \n",
    "                                                                   min_delta=0, patience=10, verbose=1, mode='min'),\n",
    "                                  tf.keras.callbacks.ModelCheckpoint(model_path,\n",
    "                                                                     monitor='val_loss', save_best_only=True,\n",
    "                                                                     mode='min', verbose=0)\n",
    "                              ]\n",
    "                           )"
   ]
  },
  {
   "cell_type": "code",
   "execution_count": 120,
   "metadata": {
    "id": "9zijYeznOmy-"
   },
   "outputs": [],
   "source": [
    "trained_model = tf.keras.models.load_model(\"/content/Encoder_Decoder_LSTM_Multivariate_using_opt.h5\")"
   ]
  },
  {
   "cell_type": "code",
   "execution_count": 121,
   "metadata": {
    "colab": {
     "base_uri": "https://localhost:8080/"
    },
    "id": "V0M-MPEFmDcv",
    "outputId": "15f0ff07-1883-491f-8f97-a980a3b97b7c"
   },
   "outputs": [
    {
     "name": "stdout",
     "output_type": "stream",
     "text": [
      "Model: \"sequential_2\"\n",
      "_________________________________________________________________\n",
      " Layer (type)                Output Shape              Param #   \n",
      "=================================================================\n",
      " lstm_10 (LSTM)              (None, 14, 64)            16896     \n",
      "                                                                 \n",
      " lstm_11 (LSTM)              (None, 14, 32)            12416     \n",
      "                                                                 \n",
      " lstm_12 (LSTM)              (None, 15)                2880      \n",
      "                                                                 \n",
      " repeat_vector_2 (RepeatVect  (None, 6234, 15)         0         \n",
      " or)                                                             \n",
      "                                                                 \n",
      " lstm_13 (LSTM)              (None, 6234, 64)          20480     \n",
      "                                                                 \n",
      " lstm_14 (LSTM)              (None, 32)                12416     \n",
      "                                                                 \n",
      " dense_2 (Dense)             (None, 2)                 66        \n",
      "                                                                 \n",
      "=================================================================\n",
      "Total params: 65,154\n",
      "Trainable params: 65,154\n",
      "Non-trainable params: 0\n",
      "_________________________________________________________________\n"
     ]
    }
   ],
   "source": [
    "trained_model.summary()"
   ]
  },
  {
   "cell_type": "code",
   "execution_count": 122,
   "metadata": {
    "colab": {
     "base_uri": "https://localhost:8080/",
     "height": 312
    },
    "id": "P5mKqjPVmFfP",
    "outputId": "e9f8e224-0189-4550-a436-6e8af35b7949"
   },
   "outputs": [
    {
     "data": {
      "image/png": "[encoded data removed]",
      "text/plain": [
       "<Figure size 432x288 with 1 Axes>"
      ]
     },
     "metadata": {
      "needs_background": "light"
     },
     "output_type": "display_data"
    },
    {
     "data": {
      "text/plain": [
       "<Figure size 1440x1440 with 0 Axes>"
      ]
     },
     "metadata": {},
     "output_type": "display_data"
    }
   ],
   "source": [
    "plt.plot(history.history['loss'])\n",
    "plt.plot(history.history['val_loss'])\n",
    "plt.title('Model loss')\n",
    "plt.ylabel('loss')\n",
    "plt.xlabel('epoch')\n",
    "plt.legend(['train loss','validation loss'],loc = 'upper left')\n",
    "plt.figure(figsize = [20,20])\n",
    "plt.show()"
   ]
  },
  {
   "cell_type": "code",
   "execution_count": 123,
   "metadata": {
    "colab": {
     "base_uri": "https://localhost:8080/"
    },
    "id": "5QBkqZdimHIf",
    "outputId": "78cfa25d-2128-454d-bb02-97e4a3db6c77"
   },
   "outputs": [
    {
     "name": "stdout",
     "output_type": "stream",
     "text": [
      "195/195 [==============================] - 25s 119ms/step\n",
      "195/195 [==============================] - 24s 124ms/step\n"
     ]
    }
   ],
   "source": [
    "### Lets Do the prediction and check performance metrics\n",
    "train_predict=trained_model.predict(x_train_multi)\n",
    "test_predict=trained_model.predict(x_val_multi)"
   ]
  },
  {
   "cell_type": "code",
   "execution_count": 124,
   "metadata": {
    "colab": {
     "base_uri": "https://localhost:8080/"
    },
    "id": "nSrhSXu4mKke",
    "outputId": "80bddf58-1e26-4952-b781-ebbfc4c5ac57"
   },
   "outputs": [
    {
     "data": {
      "text/plain": [
       "6234"
      ]
     },
     "execution_count": 124,
     "metadata": {},
     "output_type": "execute_result"
    }
   ],
   "source": [
    "len(test_predict)"
   ]
  },
  {
   "cell_type": "code",
   "execution_count": 125,
   "metadata": {
    "colab": {
     "base_uri": "https://localhost:8080/"
    },
    "id": "zUBhdvuUo_q-",
    "outputId": "49fbd9c4-c2be-4da3-c927-e87828be497a"
   },
   "outputs": [
    {
     "data": {
      "text/plain": [
       "6234"
      ]
     },
     "execution_count": 125,
     "metadata": {},
     "output_type": "execute_result"
    }
   ],
   "source": [
    "len(train_predict)"
   ]
  },
  {
   "cell_type": "code",
   "execution_count": 127,
   "metadata": {
    "id": "puBnrpm6pDot"
   },
   "outputs": [],
   "source": [
    "##Transformback to original form\n",
    "train_predict = y_scaler.inverse_transform(train_predict)\n",
    "test_predict = y_scaler.inverse_transform(test_predict)"
   ]
  },
  {
   "cell_type": "code",
   "execution_count": 128,
   "metadata": {
    "id": "uSIciTNIpWsd"
   },
   "outputs": [],
   "source": [
    "l = []\n",
    "for i in train_predict:\n",
    "    l.append(i[0])"
   ]
  },
  {
   "cell_type": "code",
   "execution_count": 129,
   "metadata": {
    "colab": {
     "base_uri": "https://localhost:8080/"
    },
    "id": "yfpHOmA6pqOj",
    "outputId": "5579df0e-1e3f-4dc8-b330-58161d3a566a"
   },
   "outputs": [
    {
     "data": {
      "text/plain": [
       "14262070000.0"
      ]
     },
     "execution_count": 129,
     "metadata": {},
     "output_type": "execute_result"
    }
   ],
   "source": [
    "max(l)"
   ]
  },
  {
   "cell_type": "code",
   "execution_count": 130,
   "metadata": {
    "colab": {
     "base_uri": "https://localhost:8080/"
    },
    "id": "TeSdvq5FprHw",
    "outputId": "ab61199f-91d2-465d-9b37-2317c502ecbd"
   },
   "outputs": [
    {
     "data": {
      "text/plain": [
       "272774900.0"
      ]
     },
     "execution_count": 130,
     "metadata": {},
     "output_type": "execute_result"
    }
   ],
   "source": [
    "min(l)"
   ]
  },
  {
   "cell_type": "code",
   "execution_count": 47,
   "metadata": {
    "colab": {
     "base_uri": "https://localhost:8080/"
    },
    "id": "QXU2KuMypZV-",
    "outputId": "271b88cf-615f-4456-9ccd-3df9b59f8490"
   },
   "outputs": [
    {
     "data": {
      "text/plain": [
       "array([[48619.42  ,  3754.398 ],\n",
       "       [48620.98  ,  3754.666 ],\n",
       "       [48621.086 ,  3754.6895],\n",
       "       ...,\n",
       "       [48632.75  ,  3756.5452],\n",
       "       [48631.82  ,  3756.4023],\n",
       "       [48630.68  ,  3756.2168]], dtype=float32)"
      ]
     },
     "execution_count": 47,
     "metadata": {},
     "output_type": "execute_result"
    }
   ],
   "source": [
    "test_predict"
   ]
  },
  {
   "cell_type": "code",
   "execution_count": null,
   "metadata": {
    "id": "soqeicJ4palV"
   },
   "outputs": [],
   "source": []
  }
 ],
 "metadata": {
  "accelerator": "GPU",
  "colab": {
   "provenance": []
  },
  "gpuClass": "standard",
  "kernelspec": {
   "display_name": "Python 3",
   "language": "python",
   "name": "python3"
  },
  "language_info": {
   "codemirror_mode": {
    "name": "ipython",
    "version": 3
   },
   "file_extension": ".py",
   "mimetype": "text/x-python",
   "name": "python",
   "nbconvert_exporter": "python",
   "pygments_lexer": "ipython3",
   "version": "3.8.16"
  }
 },
 "nbformat": 4,
 "nbformat_minor": 4
}
