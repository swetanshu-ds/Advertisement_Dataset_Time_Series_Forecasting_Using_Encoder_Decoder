{
 "cells": [
  {
   "cell_type": "code",
   "execution_count": null,
   "metadata": {
    "colab": {
     "base_uri": "https://localhost:8080/"
    },
    "id": "wBaxjqQi3fnS",
    "outputId": "f3702a37-6dd5-4de3-921d-81dfbe52811e"
   },
   "outputs": [
    {
     "name": "stdout",
     "output_type": "stream",
     "text": [
      "Drive already mounted at /content/drive; to attempt to forcibly remount, call drive.mount(\"/content/drive\", force_remount=True).\n"
     ]
    }
   ],
   "source": [
    "from google.colab import drive\n",
    "drive.mount('/content/drive')"
   ]
  },
  {
   "cell_type": "code",
   "execution_count": null,
   "metadata": {
    "id": "JDFsQI9jyB6g"
   },
   "outputs": [],
   "source": [
    "import numpy as np\n",
    "import pandas as pd\n",
    "import datetime\n",
    "#from adbrew_core.settings import db\n",
    "import tensorflow as tf\n",
    "from sklearn.model_selection import train_test_split\n",
    "from sklearn.preprocessing import MinMaxScaler\n",
    "from sklearn.metrics import mean_squared_error\n",
    "from sklearn import preprocessing\n",
    "import matplotlib.pyplot as plt\n",
    "from tensorflow.python.keras.models import Sequential\n",
    "from tensorflow.python.keras.layers import Dense\n",
    "from tensorflow.python.keras.layers import LSTM\n",
    "tf.random.set_seed(1)\n",
    "np.random.seed(1)\n",
    "import warnings\n",
    "warnings.filterwarnings(\"ignore\")"
   ]
  },
  {
   "cell_type": "code",
   "execution_count": null,
   "metadata": {
    "id": "zsyRLDE73gSf"
   },
   "outputs": [],
   "source": [
    "df = pd.read_csv(\"/content/drive/MyDrive/Colab Notebooks/account_data.csv\",parse_dates = True)"
   ]
  },
  {
   "cell_type": "code",
   "execution_count": null,
   "metadata": {
    "colab": {
     "base_uri": "https://localhost:8080/",
     "height": 661
    },
    "id": "MY1TMdB2R6Lf",
    "outputId": "3cbbf17a-3183-4ac3-a192-0329c28de48a"
   },
   "outputs": [
    {
     "data": {
      "text/html": [
       "\n",
       "  <div id=\"df-01d5ac41-0b1a-4a4c-8400-2dea64f656ed\">\n",
       "    <div class=\"colab-df-container\">\n",
       "      <div>\n",
       "<style scoped>\n",
       "    .dataframe tbody tr th:only-of-type {\n",
       "        vertical-align: middle;\n",
       "    }\n",
       "\n",
       "    .dataframe tbody tr th {\n",
       "        vertical-align: top;\n",
       "    }\n",
       "\n",
       "    .dataframe thead th {\n",
       "        text-align: right;\n",
       "    }\n",
       "</style>\n",
       "<table border=\"1\" class=\"dataframe\">\n",
       "  <thead>\n",
       "    <tr style=\"text-align: right;\">\n",
       "      <th></th>\n",
       "      <th>accountId</th>\n",
       "      <th>adGroupId</th>\n",
       "      <th>campaignId</th>\n",
       "      <th>keywordId</th>\n",
       "      <th>date</th>\n",
       "      <th>sales</th>\n",
       "      <th>spend</th>\n",
       "      <th>clicks</th>\n",
       "      <th>impressions</th>\n",
       "      <th>orders</th>\n",
       "    </tr>\n",
       "  </thead>\n",
       "  <tbody>\n",
       "    <tr>\n",
       "      <th>0</th>\n",
       "      <td>5ffdb895b08512986422b08c</td>\n",
       "      <td>265947652253786</td>\n",
       "      <td>278924003146587</td>\n",
       "      <td>178532402627801</td>\n",
       "      <td>2022-01-20</td>\n",
       "      <td>0.000000</td>\n",
       "      <td>2.810000</td>\n",
       "      <td>1.000000</td>\n",
       "      <td>7.000000</td>\n",
       "      <td>0.00000</td>\n",
       "    </tr>\n",
       "    <tr>\n",
       "      <th>1</th>\n",
       "      <td>5ffdb895b08512986422b08c</td>\n",
       "      <td>102056862761827</td>\n",
       "      <td>57804152586859</td>\n",
       "      <td>217252402080046</td>\n",
       "      <td>2022-01-20</td>\n",
       "      <td>0.000000</td>\n",
       "      <td>0.000000</td>\n",
       "      <td>0.000000</td>\n",
       "      <td>19.000000</td>\n",
       "      <td>0.00000</td>\n",
       "    </tr>\n",
       "    <tr>\n",
       "      <th>2</th>\n",
       "      <td>5ffdb895b08512986422b08c</td>\n",
       "      <td>102056862761827</td>\n",
       "      <td>57804152586859</td>\n",
       "      <td>38106621409924</td>\n",
       "      <td>2022-01-20</td>\n",
       "      <td>0.000000</td>\n",
       "      <td>0.000000</td>\n",
       "      <td>0.000000</td>\n",
       "      <td>4.000000</td>\n",
       "      <td>0.00000</td>\n",
       "    </tr>\n",
       "    <tr>\n",
       "      <th>3</th>\n",
       "      <td>5ffdb895b08512986422b08c</td>\n",
       "      <td>102056862761827</td>\n",
       "      <td>57804152586859</td>\n",
       "      <td>74446400235274</td>\n",
       "      <td>2022-01-20</td>\n",
       "      <td>0.000000</td>\n",
       "      <td>0.000000</td>\n",
       "      <td>0.000000</td>\n",
       "      <td>5.000000</td>\n",
       "      <td>0.00000</td>\n",
       "    </tr>\n",
       "    <tr>\n",
       "      <th>4</th>\n",
       "      <td>5ffdb895b08512986422b08c</td>\n",
       "      <td>102056862761827</td>\n",
       "      <td>57804152586859</td>\n",
       "      <td>30959465262490</td>\n",
       "      <td>2022-01-20</td>\n",
       "      <td>0.000000</td>\n",
       "      <td>3.990000</td>\n",
       "      <td>1.000000</td>\n",
       "      <td>5.000000</td>\n",
       "      <td>0.00000</td>\n",
       "    </tr>\n",
       "    <tr>\n",
       "      <th>...</th>\n",
       "      <td>...</td>\n",
       "      <td>...</td>\n",
       "      <td>...</td>\n",
       "      <td>...</td>\n",
       "      <td>...</td>\n",
       "      <td>...</td>\n",
       "      <td>...</td>\n",
       "      <td>...</td>\n",
       "      <td>...</td>\n",
       "      <td>...</td>\n",
       "    </tr>\n",
       "    <tr>\n",
       "      <th>4991893</th>\n",
       "      <td>6263acc5367e283277f9a0ef</td>\n",
       "      <td>111866482309718</td>\n",
       "      <td>263099273787888</td>\n",
       "      <td>137088417412217</td>\n",
       "      <td>2023-01-20</td>\n",
       "      <td>0.000000</td>\n",
       "      <td>0.081980</td>\n",
       "      <td>0.272494</td>\n",
       "      <td>70.930378</td>\n",
       "      <td>0.00000</td>\n",
       "    </tr>\n",
       "    <tr>\n",
       "      <th>4991894</th>\n",
       "      <td>6263acc5367e283277f9a0ef</td>\n",
       "      <td>111866482309718</td>\n",
       "      <td>263099273787888</td>\n",
       "      <td>128275922861396</td>\n",
       "      <td>2023-01-20</td>\n",
       "      <td>0.019129</td>\n",
       "      <td>0.061425</td>\n",
       "      <td>0.209624</td>\n",
       "      <td>73.606758</td>\n",
       "      <td>0.00058</td>\n",
       "    </tr>\n",
       "    <tr>\n",
       "      <th>4991895</th>\n",
       "      <td>6263acc5367e283277f9a0ef</td>\n",
       "      <td>111866482309718</td>\n",
       "      <td>263099273787888</td>\n",
       "      <td>63373945716144</td>\n",
       "      <td>2023-01-20</td>\n",
       "      <td>0.000000</td>\n",
       "      <td>0.097098</td>\n",
       "      <td>0.291347</td>\n",
       "      <td>15.919658</td>\n",
       "      <td>0.00000</td>\n",
       "    </tr>\n",
       "    <tr>\n",
       "      <th>4991896</th>\n",
       "      <td>6263acc5367e283277f9a0ef</td>\n",
       "      <td>182061219900184</td>\n",
       "      <td>263099273787888</td>\n",
       "      <td>164911575711343</td>\n",
       "      <td>2023-01-20</td>\n",
       "      <td>0.000000</td>\n",
       "      <td>0.001658</td>\n",
       "      <td>0.004628</td>\n",
       "      <td>79.038576</td>\n",
       "      <td>0.00000</td>\n",
       "    </tr>\n",
       "    <tr>\n",
       "      <th>4991897</th>\n",
       "      <td>6263acc5367e283277f9a0ef</td>\n",
       "      <td>255196315299560</td>\n",
       "      <td>160549907560306</td>\n",
       "      <td>65300418755496</td>\n",
       "      <td>2023-01-20</td>\n",
       "      <td>0.000000</td>\n",
       "      <td>0.133605</td>\n",
       "      <td>0.481726</td>\n",
       "      <td>241.394443</td>\n",
       "      <td>0.00000</td>\n",
       "    </tr>\n",
       "  </tbody>\n",
       "</table>\n",
       "<p>4991898 rows × 10 columns</p>\n",
       "</div>\n",
       "      <button class=\"colab-df-convert\" onclick=\"convertToInteractive('df-01d5ac41-0b1a-4a4c-8400-2dea64f656ed')\"\n",
       "              title=\"Convert this dataframe to an interactive table.\"\n",
       "              style=\"display:none;\">\n",
       "        \n",
       "  <svg xmlns=\"http://www.w3.org/2000/svg\" height=\"24px\"viewBox=\"0 0 24 24\"\n",
       "       width=\"24px\">\n",
       "    <path d=\"M0 0h24v24H0V0z\" fill=\"none\"/>\n",
       "    <path d=\"M18.56 5.44l.94 2.06.94-2.06 2.06-.94-2.06-.94-.94-2.06-.94 2.06-2.06.94zm-11 1L8.5 8.5l.94-2.06 2.06-.94-2.06-.94L8.5 2.5l-.94 2.06-2.06.94zm10 10l.94 2.06.94-2.06 2.06-.94-2.06-.94-.94-2.06-.94 2.06-2.06.94z\"/><path d=\"M17.41 7.96l-1.37-1.37c-.4-.4-.92-.59-1.43-.59-.52 0-1.04.2-1.43.59L10.3 9.45l-7.72 7.72c-.78.78-.78 2.05 0 2.83L4 21.41c.39.39.9.59 1.41.59.51 0 1.02-.2 1.41-.59l7.78-7.78 2.81-2.81c.8-.78.8-2.07 0-2.86zM5.41 20L4 18.59l7.72-7.72 1.47 1.35L5.41 20z\"/>\n",
       "  </svg>\n",
       "      </button>\n",
       "      \n",
       "  <style>\n",
       "    .colab-df-container {\n",
       "      display:flex;\n",
       "      flex-wrap:wrap;\n",
       "      gap: 12px;\n",
       "    }\n",
       "\n",
       "    .colab-df-convert {\n",
       "      background-color: #E8F0FE;\n",
       "      border: none;\n",
       "      border-radius: 50%;\n",
       "      cursor: pointer;\n",
       "      display: none;\n",
       "      fill: #1967D2;\n",
       "      height: 32px;\n",
       "      padding: 0 0 0 0;\n",
       "      width: 32px;\n",
       "    }\n",
       "\n",
       "    .colab-df-convert:hover {\n",
       "      background-color: #E2EBFA;\n",
       "      box-shadow: 0px 1px 2px rgba(60, 64, 67, 0.3), 0px 1px 3px 1px rgba(60, 64, 67, 0.15);\n",
       "      fill: #174EA6;\n",
       "    }\n",
       "\n",
       "    [theme=dark] .colab-df-convert {\n",
       "      background-color: #3B4455;\n",
       "      fill: #D2E3FC;\n",
       "    }\n",
       "\n",
       "    [theme=dark] .colab-df-convert:hover {\n",
       "      background-color: #434B5C;\n",
       "      box-shadow: 0px 1px 3px 1px rgba(0, 0, 0, 0.15);\n",
       "      filter: drop-shadow(0px 1px 2px rgba(0, 0, 0, 0.3));\n",
       "      fill: #FFFFFF;\n",
       "    }\n",
       "  </style>\n",
       "\n",
       "      <script>\n",
       "        const buttonEl =\n",
       "          document.querySelector('#df-01d5ac41-0b1a-4a4c-8400-2dea64f656ed button.colab-df-convert');\n",
       "        buttonEl.style.display =\n",
       "          google.colab.kernel.accessAllowed ? 'block' : 'none';\n",
       "\n",
       "        async function convertToInteractive(key) {\n",
       "          const element = document.querySelector('#df-01d5ac41-0b1a-4a4c-8400-2dea64f656ed');\n",
       "          const dataTable =\n",
       "            await google.colab.kernel.invokeFunction('convertToInteractive',\n",
       "                                                     [key], {});\n",
       "          if (!dataTable) return;\n",
       "\n",
       "          const docLinkHtml = 'Like what you see? Visit the ' +\n",
       "            '<a target=\"_blank\" href=https://colab.research.google.com/notebooks/data_table.ipynb>data table notebook</a>'\n",
       "            + ' to learn more about interactive tables.';\n",
       "          element.innerHTML = '';\n",
       "          dataTable['output_type'] = 'display_data';\n",
       "          await google.colab.output.renderOutput(dataTable, element);\n",
       "          const docLink = document.createElement('div');\n",
       "          docLink.innerHTML = docLinkHtml;\n",
       "          element.appendChild(docLink);\n",
       "        }\n",
       "      </script>\n",
       "    </div>\n",
       "  </div>\n",
       "  "
      ],
      "text/plain": [
       "                        accountId        adGroupId       campaignId  \\\n",
       "0        5ffdb895b08512986422b08c  265947652253786  278924003146587   \n",
       "1        5ffdb895b08512986422b08c  102056862761827   57804152586859   \n",
       "2        5ffdb895b08512986422b08c  102056862761827   57804152586859   \n",
       "3        5ffdb895b08512986422b08c  102056862761827   57804152586859   \n",
       "4        5ffdb895b08512986422b08c  102056862761827   57804152586859   \n",
       "...                           ...              ...              ...   \n",
       "4991893  6263acc5367e283277f9a0ef  111866482309718  263099273787888   \n",
       "4991894  6263acc5367e283277f9a0ef  111866482309718  263099273787888   \n",
       "4991895  6263acc5367e283277f9a0ef  111866482309718  263099273787888   \n",
       "4991896  6263acc5367e283277f9a0ef  182061219900184  263099273787888   \n",
       "4991897  6263acc5367e283277f9a0ef  255196315299560  160549907560306   \n",
       "\n",
       "               keywordId        date     sales     spend    clicks  \\\n",
       "0        178532402627801  2022-01-20  0.000000  2.810000  1.000000   \n",
       "1        217252402080046  2022-01-20  0.000000  0.000000  0.000000   \n",
       "2         38106621409924  2022-01-20  0.000000  0.000000  0.000000   \n",
       "3         74446400235274  2022-01-20  0.000000  0.000000  0.000000   \n",
       "4         30959465262490  2022-01-20  0.000000  3.990000  1.000000   \n",
       "...                  ...         ...       ...       ...       ...   \n",
       "4991893  137088417412217  2023-01-20  0.000000  0.081980  0.272494   \n",
       "4991894  128275922861396  2023-01-20  0.019129  0.061425  0.209624   \n",
       "4991895   63373945716144  2023-01-20  0.000000  0.097098  0.291347   \n",
       "4991896  164911575711343  2023-01-20  0.000000  0.001658  0.004628   \n",
       "4991897   65300418755496  2023-01-20  0.000000  0.133605  0.481726   \n",
       "\n",
       "         impressions   orders  \n",
       "0           7.000000  0.00000  \n",
       "1          19.000000  0.00000  \n",
       "2           4.000000  0.00000  \n",
       "3           5.000000  0.00000  \n",
       "4           5.000000  0.00000  \n",
       "...              ...      ...  \n",
       "4991893    70.930378  0.00000  \n",
       "4991894    73.606758  0.00058  \n",
       "4991895    15.919658  0.00000  \n",
       "4991896    79.038576  0.00000  \n",
       "4991897   241.394443  0.00000  \n",
       "\n",
       "[4991898 rows x 10 columns]"
      ]
     },
     "execution_count": 150,
     "metadata": {},
     "output_type": "execute_result"
    }
   ],
   "source": [
    "df"
   ]
  },
  {
   "cell_type": "code",
   "execution_count": null,
   "metadata": {
    "id": "apVMLzj_34bc"
   },
   "outputs": [],
   "source": [
    "a = list(df['accountId'].unique())"
   ]
  },
  {
   "cell_type": "code",
   "execution_count": null,
   "metadata": {
    "id": "ySp3pZfl373e"
   },
   "outputs": [],
   "source": [
    "df = df[df['accountId']==\"5ffdb895b08512986422b08c\"]"
   ]
  },
  {
   "cell_type": "code",
   "execution_count": null,
   "metadata": {
    "id": "o-q5IP4v39x0"
   },
   "outputs": [],
   "source": [
    "df=df.copy()\n",
    "df.date = pd.to_datetime(df.date)\n",
    "df.sort_values(by=\"date\", inplace=True, ignore_index=True)\n",
    "account_data = df"
   ]
  },
  {
   "cell_type": "code",
   "execution_count": null,
   "metadata": {
    "id": "fKgq9Tqb3_MA"
   },
   "outputs": [],
   "source": [
    "keyword_ids = account_data[\"keywordId\"].unique()\n",
    "keywordwise_sales = account_data.groupby(\"keywordId\")[\"sales\"].sum()\n",
    "nonzero_sales_keywords = keywordwise_sales[keywordwise_sales>0]\n",
    "nonzero_sales_keywords.sort_values(ascending=False, inplace=True)\n",
    "keywords_req = list(nonzero_sales_keywords.index)\n",
    "keyword_ids = keywords_req[:20]\n",
    "account_data =  account_data[account_data['keywordId'].isin(keyword_ids)]"
   ]
  },
  {
   "cell_type": "code",
   "execution_count": null,
   "metadata": {
    "id": "htrH2MNf4Au4"
   },
   "outputs": [],
   "source": [
    "account_data.reset_index(inplace = True)\n",
    "account_data.sort_values(by=\"date\", inplace=True, ignore_index=True)\n",
    "account_data.drop(columns = \"index\",inplace = True)\n",
    "account_data.sort_values(by = 'date',inplace = True)\n",
    "account_data.reset_index(inplace = True)\n",
    "account_data.drop(columns = \"index\",inplace = True)\n",
    "account_data['clicks'] = account_data[\"clicks\"].astype(\"int64\")\n",
    "account_data['impressions'] = account_data[\"impressions\"].astype(\"int64\")\n",
    "account_data['orders'] = account_data[\"orders\"].astype(\"int64\")\n",
    "account_data[\"keywordId\"] = account_data[\"keywordId\"].astype(str)\n",
    "account_data[\"cpc\"] = account_data[\"spend\"]/account_data[\"clicks\"] \n",
    "account_data[\"cpc\"].interpolate(\"linear\", inplace=True)"
   ]
  },
  {
   "cell_type": "code",
   "execution_count": null,
   "metadata": {
    "id": "bDPWYnBJ7IiP"
   },
   "outputs": [],
   "source": [
    "x_scaler = preprocessing.MinMaxScaler()\n",
    "y_scaler = preprocessing.MinMaxScaler()\n",
    "dataX = x_scaler.fit_transform(account_data[['sales','spend', 'clicks', 'impressions', 'orders']])\n",
    "dataY = y_scaler.fit_transform(account_data[['sales','spend']])"
   ]
  },
  {
   "cell_type": "code",
   "execution_count": null,
   "metadata": {
    "id": "SKNaw_Ef7Ikb"
   },
   "outputs": [],
   "source": [
    "def create_dataset(dataset, time_step):\n",
    "    import numpy\n",
    "    dataX, dataY = [], []\n",
    "    for i in range(len(dataset)-time_step-1):\n",
    "        a = dataset[i:(i+time_step), 0]   ###i=0, 0,1,2,3-----99   100 \n",
    "        dataX.append(a)\n",
    "        dataY.append(dataset[i + time_step, 0])\n",
    "    return numpy.array(dataX), numpy.array(dataY)"
   ]
  },
  {
   "cell_type": "code",
   "execution_count": null,
   "metadata": {
    "id": "WdV4FZv97InH"
   },
   "outputs": [],
   "source": [
    "x_train_multi,y_train_multi = create_dataset(dataX,14)\n",
    "x_val_multi, y_val_multi = create_dataset(dataY,14)"
   ]
  },
  {
   "cell_type": "code",
   "execution_count": null,
   "metadata": {
    "id": "uEQXJPa_7IpU"
   },
   "outputs": [],
   "source": [
    "# reshape input to be [samples, time steps, features] which is required for LSTM\n",
    "x_train_multi =x_train_multi.reshape(x_train_multi.shape[0],x_train_multi.shape[1] , 1)\n",
    "x_val_multi = x_val_multi.reshape(x_val_multi.shape[0],x_val_multi.shape[1] , 1)"
   ]
  },
  {
   "cell_type": "code",
   "execution_count": null,
   "metadata": {
    "id": "RFAodhz_7Irv"
   },
   "outputs": [],
   "source": [
    "BATCH_SIZE = 256\n",
    "BUFFER_SIZE = 150\n",
    "\n",
    "train_data_multi = tf.data.Dataset.from_tensor_slices((x_train_multi, y_train_multi))\n",
    "train_data_multi = train_data_multi.cache().shuffle(BUFFER_SIZE).batch(BATCH_SIZE).repeat()\n",
    "\n",
    "val_data_multi = tf.data.Dataset.from_tensor_slices((x_val_multi, y_val_multi))\n",
    "val_data_multi = val_data_multi.batch(BATCH_SIZE).repeat()"
   ]
  },
  {
   "cell_type": "code",
   "execution_count": null,
   "metadata": {
    "id": "47TyRPVk7IvR"
   },
   "outputs": [],
   "source": []
  },
  {
   "cell_type": "code",
   "execution_count": null,
   "metadata": {
    "id": "ysQEBZMW7Iw_"
   },
   "outputs": [],
   "source": []
  },
  {
   "cell_type": "code",
   "execution_count": null,
   "metadata": {
    "id": "sIviAoK07IzR"
   },
   "outputs": [],
   "source": []
  },
  {
   "cell_type": "code",
   "execution_count": null,
   "metadata": {
    "id": "iDRQyioo7I2o"
   },
   "outputs": [],
   "source": []
  },
  {
   "cell_type": "code",
   "execution_count": null,
   "metadata": {
    "id": "iMyI_JIY7I3t"
   },
   "outputs": [],
   "source": []
  },
  {
   "cell_type": "code",
   "execution_count": null,
   "metadata": {
    "id": "EDoo_vrN7I5f"
   },
   "outputs": [],
   "source": []
  },
  {
   "cell_type": "code",
   "execution_count": null,
   "metadata": {
    "id": "GKgVLqSR7I79"
   },
   "outputs": [],
   "source": []
  },
  {
   "cell_type": "code",
   "execution_count": null,
   "metadata": {
    "id": "k57I_UXJ7JAo"
   },
   "outputs": [],
   "source": []
  },
  {
   "cell_type": "code",
   "execution_count": null,
   "metadata": {
    "colab": {
     "base_uri": "https://localhost:8080/"
    },
    "id": "O9jBDS_d5oZZ",
    "outputId": "7a0a2334-2c34-4fd3-bcfb-a06cba93b161"
   },
   "outputs": [
    {
     "name": "stderr",
     "output_type": "stream",
     "text": [
      "WARNING:tensorflow:Layer lstm_86 will not use cuDNN kernels since it doesn't meet the criteria. It will use a generic GPU kernel as fallback when running on GPU.\n"
     ]
    }
   ],
   "source": [
    "ED_lstm_model = tf.keras.models.Sequential([\n",
    "    tf.keras.layers.LSTM(64, input_shape=x_train_multi.shape[-2:], return_sequences=True,recurrent_initializer = 'glorot_uniform'),\n",
    "    tf.keras.layers.LSTM(units=32,return_sequences=True),\n",
    "    tf.keras.layers.LSTM(units=15),\n",
    "    tf.keras.layers.RepeatVector(y_train_multi.shape[0]), \n",
    "    tf.keras.layers.LSTM(units=64,return_sequences=True,\n",
    "                         recurrent_dropout = 0.4,),\n",
    "    tf.keras.layers.LSTM(units=32,return_sequences=False),\n",
    "    tf.keras.layers.Dense(units=2,activation = \"sigmoid\")\n",
    "])\n",
    "ED_lstm_model.compile(optimizer='sgd', loss='mean_squared_error')"
   ]
  },
  {
   "cell_type": "code",
   "execution_count": null,
   "metadata": {
    "colab": {
     "base_uri": "https://localhost:8080/"
    },
    "id": "m9pI65pIzn1W",
    "outputId": "b1a082d7-041e-4c30-8337-034d6b88fed9"
   },
   "outputs": [
    {
     "name": "stdout",
     "output_type": "stream",
     "text": [
      "Model: \"sequential_13\"\n",
      "_________________________________________________________________\n",
      " Layer (type)                Output Shape              Param #   \n",
      "=================================================================\n",
      " lstm_83 (LSTM)              (None, 14, 64)            16896     \n",
      "                                                                 \n",
      " lstm_84 (LSTM)              (None, 14, 32)            12416     \n",
      "                                                                 \n",
      " lstm_85 (LSTM)              (None, 15)                2880      \n",
      "                                                                 \n",
      " repeat_vector_13 (RepeatVec  (None, 6234, 15)         0         \n",
      " tor)                                                            \n",
      "                                                                 \n",
      " lstm_86 (LSTM)              (None, 6234, 64)          20480     \n",
      "                                                                 \n",
      " lstm_87 (LSTM)              (None, 32)                12416     \n",
      "                                                                 \n",
      " dense_13 (Dense)            (None, 2)                 66        \n",
      "                                                                 \n",
      "=================================================================\n",
      "Total params: 65,154\n",
      "Trainable params: 65,154\n",
      "Non-trainable params: 0\n",
      "_________________________________________________________________\n"
     ]
    }
   ],
   "source": [
    "# useful for understanding the model architecture\n",
    "ED_lstm_model.summary()"
   ]
  },
  {
   "cell_type": "code",
   "execution_count": null,
   "metadata": {
    "id": "4vrwvxye0Q3j"
   },
   "outputs": [],
   "source": [
    "model_path = 'Encoder_Decoder_LSTM_Multivariate_using_opt.h5'"
   ]
  },
  {
   "cell_type": "code",
   "execution_count": null,
   "metadata": {
    "colab": {
     "base_uri": "https://localhost:8080/"
    },
    "id": "cDHJrod90a3B",
    "outputId": "b1998746-8181-4dd4-e989-a30ab78533fd"
   },
   "outputs": [
    {
     "name": "stdout",
     "output_type": "stream",
     "text": [
      "Epoch 1/100\n",
      "16/16 [==============================] - 24s 1s/step - loss: 0.1795 - val_loss: 0.1743\n",
      "Epoch 2/100\n",
      "16/16 [==============================] - 16s 1s/step - loss: 0.1706 - val_loss: 0.1624\n",
      "Epoch 3/100\n",
      "16/16 [==============================] - 15s 951ms/step - loss: 0.1563 - val_loss: 0.1514\n",
      "Epoch 4/100\n",
      "16/16 [==============================] - 15s 940ms/step - loss: 0.1457 - val_loss: 0.1413\n",
      "Epoch 5/100\n",
      "16/16 [==============================] - 15s 944ms/step - loss: 0.1372 - val_loss: 0.1317\n",
      "Epoch 6/100\n",
      "16/16 [==============================] - 15s 954ms/step - loss: 0.1271 - val_loss: 0.1227\n",
      "Epoch 7/100\n",
      "16/16 [==============================] - 15s 955ms/step - loss: 0.1195 - val_loss: 0.1142\n",
      "Epoch 8/100\n",
      "16/16 [==============================] - 15s 951ms/step - loss: 0.1106 - val_loss: 0.1064\n",
      "Epoch 9/100\n",
      "16/16 [==============================] - 15s 953ms/step - loss: 0.1014 - val_loss: 0.0989\n",
      "Epoch 10/100\n",
      "16/16 [==============================] - 17s 1s/step - loss: 0.0983 - val_loss: 0.0919\n",
      "Epoch 11/100\n",
      "16/16 [==============================] - 15s 937ms/step - loss: 0.0879 - val_loss: 0.0855\n",
      "Epoch 12/100\n",
      "16/16 [==============================] - 15s 950ms/step - loss: 0.0813 - val_loss: 0.0796\n",
      "Epoch 13/100\n",
      "16/16 [==============================] - 15s 945ms/step - loss: 0.0796 - val_loss: 0.0740\n",
      "Epoch 14/100\n",
      "16/16 [==============================] - 15s 956ms/step - loss: 0.0702 - val_loss: 0.0689\n",
      "Epoch 15/100\n",
      "16/16 [==============================] - 16s 1s/step - loss: 0.0663 - val_loss: 0.0643\n",
      "Epoch 16/100\n",
      "16/16 [==============================] - 15s 948ms/step - loss: 0.0631 - val_loss: 0.0599\n",
      "Epoch 17/100\n",
      "16/16 [==============================] - 15s 952ms/step - loss: 0.0573 - val_loss: 0.0560\n",
      "Epoch 18/100\n",
      "16/16 [==============================] - 15s 943ms/step - loss: 0.0547 - val_loss: 0.0523\n",
      "Epoch 19/100\n",
      "16/16 [==============================] - 15s 942ms/step - loss: 0.0513 - val_loss: 0.0490\n",
      "Epoch 20/100\n",
      "16/16 [==============================] - 15s 951ms/step - loss: 0.0465 - val_loss: 0.0459\n",
      "Epoch 21/100\n",
      "16/16 [==============================] - 15s 941ms/step - loss: 0.0460 - val_loss: 0.0431\n",
      "Epoch 22/100\n",
      "16/16 [==============================] - 15s 945ms/step - loss: 0.0420 - val_loss: 0.0406\n",
      "Epoch 23/100\n",
      "16/16 [==============================] - 15s 955ms/step - loss: 0.0379 - val_loss: 0.0382\n",
      "Epoch 24/100\n",
      "16/16 [==============================] - 15s 950ms/step - loss: 0.0395 - val_loss: 0.0360\n",
      "Epoch 25/100\n",
      "16/16 [==============================] - 15s 949ms/step - loss: 0.0336 - val_loss: 0.0340\n",
      "Epoch 26/100\n",
      "16/16 [==============================] - 15s 956ms/step - loss: 0.0333 - val_loss: 0.0322\n",
      "Epoch 27/100\n",
      "16/16 [==============================] - 15s 946ms/step - loss: 0.0327 - val_loss: 0.0305\n",
      "Epoch 28/100\n",
      "16/16 [==============================] - 15s 950ms/step - loss: 0.0286 - val_loss: 0.0290\n",
      "Epoch 29/100\n",
      "16/16 [==============================] - 15s 942ms/step - loss: 0.0287 - val_loss: 0.0276\n",
      "Epoch 30/100\n",
      "16/16 [==============================] - 15s 943ms/step - loss: 0.0277 - val_loss: 0.0263\n",
      "Epoch 31/100\n",
      "16/16 [==============================] - 15s 951ms/step - loss: 0.0247 - val_loss: 0.0250\n",
      "Epoch 32/100\n",
      "16/16 [==============================] - 15s 944ms/step - loss: 0.0254 - val_loss: 0.0239\n",
      "Epoch 33/100\n",
      "16/16 [==============================] - 15s 948ms/step - loss: 0.0242 - val_loss: 0.0229\n",
      "Epoch 34/100\n",
      "16/16 [==============================] - 15s 956ms/step - loss: 0.0209 - val_loss: 0.0219\n",
      "Epoch 35/100\n",
      "16/16 [==============================] - 15s 950ms/step - loss: 0.0228 - val_loss: 0.0210\n",
      "Epoch 36/100\n",
      "16/16 [==============================] - 15s 949ms/step - loss: 0.0203 - val_loss: 0.0201\n",
      "Epoch 37/100\n",
      "16/16 [==============================] - 15s 958ms/step - loss: 0.0189 - val_loss: 0.0194\n",
      "Epoch 38/100\n",
      "16/16 [==============================] - 15s 943ms/step - loss: 0.0206 - val_loss: 0.0186\n",
      "Epoch 39/100\n",
      "16/16 [==============================] - 15s 953ms/step - loss: 0.0169 - val_loss: 0.0180\n",
      "Epoch 40/100\n",
      "16/16 [==============================] - 15s 954ms/step - loss: 0.0180 - val_loss: 0.0173\n",
      "Epoch 41/100\n",
      "16/16 [==============================] - 15s 944ms/step - loss: 0.0180 - val_loss: 0.0167\n",
      "Epoch 42/100\n",
      "16/16 [==============================] - 15s 956ms/step - loss: 0.0153 - val_loss: 0.0162\n",
      "Epoch 43/100\n",
      "16/16 [==============================] - 15s 949ms/step - loss: 0.0166 - val_loss: 0.0157\n",
      "Epoch 44/100\n",
      "16/16 [==============================] - 15s 950ms/step - loss: 0.0163 - val_loss: 0.0152\n",
      "Epoch 45/100\n",
      "16/16 [==============================] - 15s 957ms/step - loss: 0.0136 - val_loss: 0.0147\n",
      "Epoch 46/100\n",
      "16/16 [==============================] - 15s 952ms/step - loss: 0.0155 - val_loss: 0.0143\n",
      "Epoch 47/100\n",
      "16/16 [==============================] - 15s 951ms/step - loss: 0.0145 - val_loss: 0.0139\n",
      "Epoch 48/100\n",
      "16/16 [==============================] - 15s 954ms/step - loss: 0.0125 - val_loss: 0.0135\n",
      "Epoch 49/100\n",
      "16/16 [==============================] - 15s 944ms/step - loss: 0.0148 - val_loss: 0.0132\n",
      "Epoch 50/100\n",
      "16/16 [==============================] - 15s 944ms/step - loss: 0.0116 - val_loss: 0.0128\n",
      "Epoch 51/100\n",
      "16/16 [==============================] - 15s 953ms/step - loss: 0.0131 - val_loss: 0.0125\n",
      "Epoch 52/100\n",
      "16/16 [==============================] - 15s 947ms/step - loss: 0.0134 - val_loss: 0.0122\n",
      "Epoch 53/100\n",
      "16/16 [==============================] - 15s 957ms/step - loss: 0.0108 - val_loss: 0.0119\n",
      "Epoch 54/100\n",
      "16/16 [==============================] - 15s 950ms/step - loss: 0.0124 - val_loss: 0.0117\n",
      "Epoch 55/100\n",
      "16/16 [==============================] - 15s 954ms/step - loss: 0.0123 - val_loss: 0.0114\n",
      "Epoch 56/100\n",
      "16/16 [==============================] - 15s 961ms/step - loss: 0.0101 - val_loss: 0.0112\n",
      "Epoch 57/100\n",
      "16/16 [==============================] - 15s 950ms/step - loss: 0.0119 - val_loss: 0.0109\n",
      "Epoch 58/100\n",
      "16/16 [==============================] - 15s 946ms/step - loss: 0.0118 - val_loss: 0.0107\n",
      "Epoch 59/100\n",
      "16/16 [==============================] - 15s 954ms/step - loss: 0.0090 - val_loss: 0.0105\n",
      "Epoch 60/100\n",
      "16/16 [==============================] - 15s 944ms/step - loss: 0.0114 - val_loss: 0.0103\n",
      "Epoch 61/100\n",
      "16/16 [==============================] - 15s 945ms/step - loss: 0.0103 - val_loss: 0.0101\n",
      "Epoch 62/100\n",
      "16/16 [==============================] - 15s 955ms/step - loss: 0.0092 - val_loss: 0.0100\n",
      "Epoch 63/100\n",
      "16/16 [==============================] - 15s 949ms/step - loss: 0.0111 - val_loss: 0.0098\n",
      "Epoch 64/100\n",
      "16/16 [==============================] - 15s 961ms/step - loss: 0.0083 - val_loss: 0.0096\n",
      "Epoch 65/100\n",
      "16/16 [==============================] - 15s 961ms/step - loss: 0.0102 - val_loss: 0.0095\n",
      "Epoch 66/100\n",
      "16/16 [==============================] - 15s 950ms/step - loss: 0.0103 - val_loss: 0.0093\n",
      "Epoch 67/100\n",
      "16/16 [==============================] - 15s 958ms/step - loss: 0.0080 - val_loss: 0.0092\n",
      "Epoch 68/100\n",
      "16/16 [==============================] - 15s 944ms/step - loss: 0.0099 - val_loss: 0.0091\n",
      "Epoch 69/100\n",
      "16/16 [==============================] - 15s 947ms/step - loss: 0.0100 - val_loss: 0.0089\n",
      "Epoch 70/100\n",
      "16/16 [==============================] - 15s 954ms/step - loss: 0.0074 - val_loss: 0.0088\n",
      "Epoch 71/100\n",
      "16/16 [==============================] - 15s 944ms/step - loss: 0.0096 - val_loss: 0.0087\n",
      "Epoch 72/100\n",
      "16/16 [==============================] - 15s 947ms/step - loss: 0.0095 - val_loss: 0.0086\n",
      "Epoch 73/100\n",
      "16/16 [==============================] - 17s 1s/step - loss: 0.0071 - val_loss: 0.0085\n",
      "Epoch 74/100\n",
      "16/16 [==============================] - 15s 953ms/step - loss: 0.0095 - val_loss: 0.0084\n",
      "Epoch 75/100\n",
      "16/16 [==============================] - 15s 951ms/step - loss: 0.0070 - val_loss: 0.0083\n",
      "Epoch 76/100\n",
      "16/16 [==============================] - 15s 956ms/step - loss: 0.0088 - val_loss: 0.0082\n",
      "Epoch 77/100\n",
      "16/16 [==============================] - 15s 947ms/step - loss: 0.0092 - val_loss: 0.0081\n",
      "Epoch 78/100\n",
      "16/16 [==============================] - 15s 953ms/step - loss: 0.0067 - val_loss: 0.0080\n",
      "Epoch 79/100\n",
      "16/16 [==============================] - 15s 944ms/step - loss: 0.0087 - val_loss: 0.0080\n",
      "Epoch 80/100\n",
      "16/16 [==============================] - 15s 946ms/step - loss: 0.0088 - val_loss: 0.0079\n",
      "Epoch 81/100\n",
      "16/16 [==============================] - 15s 957ms/step - loss: 0.0064 - val_loss: 0.0078\n",
      "Epoch 82/100\n",
      "16/16 [==============================] - 15s 950ms/step - loss: 0.0086 - val_loss: 0.0077\n",
      "Epoch 83/100\n",
      "16/16 [==============================] - 15s 951ms/step - loss: 0.0085 - val_loss: 0.0077\n",
      "Epoch 84/100\n",
      "16/16 [==============================] - 15s 959ms/step - loss: 0.0062 - val_loss: 0.0076\n",
      "Epoch 85/100\n",
      "16/16 [==============================] - 15s 951ms/step - loss: 0.0083 - val_loss: 0.0075\n",
      "Epoch 86/100\n",
      "16/16 [==============================] - 15s 948ms/step - loss: 0.0075 - val_loss: 0.0075\n",
      "Epoch 87/100\n",
      "16/16 [==============================] - 15s 955ms/step - loss: 0.0069 - val_loss: 0.0074\n",
      "Epoch 88/100\n",
      "16/16 [==============================] - 15s 948ms/step - loss: 0.0084 - val_loss: 0.0073\n",
      "Epoch 89/100\n",
      "16/16 [==============================] - 15s 955ms/step - loss: 0.0059 - val_loss: 0.0073\n",
      "Epoch 90/100\n",
      "16/16 [==============================] - 15s 955ms/step - loss: 0.0081 - val_loss: 0.0072\n",
      "Epoch 91/100\n",
      "16/16 [==============================] - 15s 947ms/step - loss: 0.0081 - val_loss: 0.0072\n",
      "Epoch 92/100\n",
      "16/16 [==============================] - 15s 957ms/step - loss: 0.0058 - val_loss: 0.0071\n",
      "Epoch 93/100\n",
      "16/16 [==============================] - 15s 947ms/step - loss: 0.0080 - val_loss: 0.0071\n",
      "Epoch 94/100\n",
      "16/16 [==============================] - 17s 1s/step - loss: 0.0080 - val_loss: 0.0070\n",
      "Epoch 95/100\n",
      "16/16 [==============================] - 15s 952ms/step - loss: 0.0055 - val_loss: 0.0070\n",
      "Epoch 96/100\n",
      "16/16 [==============================] - 15s 948ms/step - loss: 0.0077 - val_loss: 0.0070\n",
      "Epoch 97/100\n",
      "16/16 [==============================] - 15s 945ms/step - loss: 0.0079 - val_loss: 0.0069\n",
      "Epoch 98/100\n",
      "16/16 [==============================] - 15s 955ms/step - loss: 0.0054 - val_loss: 0.0069\n",
      "Epoch 99/100\n",
      "16/16 [==============================] - 15s 948ms/step - loss: 0.0078 - val_loss: 0.0068\n",
      "Epoch 100/100\n",
      "16/16 [==============================] - 15s 950ms/step - loss: 0.0055 - val_loss: 0.0068\n"
     ]
    }
   ],
   "source": [
    "model_path = 'Encoder_Decoder_LSTM_Multivariate_using_opt.h5'\n",
    "EVALUATION_INTERVAL = 16\n",
    "EPOCHS = 100\n",
    "history = ED_lstm_model.fit(train_data_multi, epochs=EPOCHS,steps_per_epoch=EVALUATION_INTERVAL,\n",
    "                            validation_data=val_data_multi, validation_steps=50,verbose =1,\n",
    "                              callbacks =[\n",
    "                                  tf.keras.callbacks.EarlyStopping(monitor='val_loss', \n",
    "                                                                   min_delta=0, patience=10, verbose=1, mode='min'),\n",
    "                                  tf.keras.callbacks.ModelCheckpoint(model_path,\n",
    "                                                                     monitor='val_loss', save_best_only=True,\n",
    "                                                                     mode='min', verbose=0)\n",
    "                              ]\n",
    "                           )"
   ]
  },
  {
   "cell_type": "code",
   "execution_count": null,
   "metadata": {
    "id": "VF04FBQ10c0i"
   },
   "outputs": [],
   "source": [
    "trained_model = tf.keras.models.load_model(\"/content/Encoder_Decoder_LSTM_Multivariate_using_opt.h5\")"
   ]
  },
  {
   "cell_type": "code",
   "execution_count": null,
   "metadata": {
    "colab": {
     "base_uri": "https://localhost:8080/"
    },
    "id": "VpbDjojuGJ3S",
    "outputId": "1ea6a859-65b3-407c-82bf-61f66ae7ad59"
   },
   "outputs": [
    {
     "name": "stdout",
     "output_type": "stream",
     "text": [
      "Model: \"sequential_11\"\n",
      "_________________________________________________________________\n",
      " Layer (type)                Output Shape              Param #   \n",
      "=================================================================\n",
      " lstm_73 (LSTM)              (None, 14, 64)            16896     \n",
      "                                                                 \n",
      " lstm_74 (LSTM)              (None, 14, 32)            12416     \n",
      "                                                                 \n",
      " lstm_75 (LSTM)              (None, 15)                2880      \n",
      "                                                                 \n",
      " repeat_vector_11 (RepeatVec  (None, 6234, 15)         0         \n",
      " tor)                                                            \n",
      "                                                                 \n",
      " lstm_76 (LSTM)              (None, 6234, 64)          20480     \n",
      "                                                                 \n",
      " lstm_77 (LSTM)              (None, 32)                12416     \n",
      "                                                                 \n",
      " dense_11 (Dense)            (None, 2)                 66        \n",
      "                                                                 \n",
      "=================================================================\n",
      "Total params: 65,154\n",
      "Trainable params: 65,154\n",
      "Non-trainable params: 0\n",
      "_________________________________________________________________\n"
     ]
    }
   ],
   "source": [
    "trained_model.summary()"
   ]
  },
  {
   "cell_type": "code",
   "execution_count": null,
   "metadata": {
    "colab": {
     "base_uri": "https://localhost:8080/",
     "height": 312
    },
    "id": "jVwZsAITGN7L",
    "outputId": "0dbb3b53-8e97-4ee3-a65a-3cfaf2aa0f6f"
   },
   "outputs": [
    {
     "data": {
      "image/png": "[encoded data removed]",
      "text/plain": [
       "<Figure size 432x288 with 1 Axes>"
      ]
     },
     "metadata": {
      "needs_background": "light"
     },
     "output_type": "display_data"
    },
    {
     "data": {
      "text/plain": [
       "<Figure size 1440x1440 with 0 Axes>"
      ]
     },
     "metadata": {},
     "output_type": "display_data"
    }
   ],
   "source": [
    "plt.plot(history.history['loss'])\n",
    "plt.plot(history.history['val_loss'])\n",
    "plt.title('Model loss')\n",
    "plt.ylabel('loss')\n",
    "plt.xlabel('epoch')\n",
    "plt.legend(['train loss','validation loss'],loc = 'upper left')\n",
    "plt.figure(figsize = [20,20])\n",
    "plt.show()"
   ]
  },
  {
   "cell_type": "code",
   "execution_count": null,
   "metadata": {
    "colab": {
     "base_uri": "https://localhost:8080/"
    },
    "id": "MYDqf4c4GPbC",
    "outputId": "fa430808-8c25-4042-ee02-bbca00368c01"
   },
   "outputs": [
    {
     "name": "stdout",
     "output_type": "stream",
     "text": [
      "195/195 [==============================] - 31s 144ms/step\n",
      "195/195 [==============================] - 26s 131ms/step\n"
     ]
    }
   ],
   "source": [
    "### Lets Do the prediction and check performance metrics\n",
    "train_predict=trained_model.predict(x_train_multi)\n",
    "test_predict=trained_model.predict(x_val_multi)"
   ]
  },
  {
   "cell_type": "code",
   "execution_count": null,
   "metadata": {
    "colab": {
     "base_uri": "https://localhost:8080/"
    },
    "id": "a88R11PnGUaD",
    "outputId": "759e8da3-401a-4233-e1a7-f14590471f70"
   },
   "outputs": [
    {
     "data": {
      "text/plain": [
       "array([[0.10916226, 0.11114646],\n",
       "       [0.1091574 , 0.1111514 ],\n",
       "       [0.10915194, 0.11115755],\n",
       "       ...,\n",
       "       [0.10915978, 0.11121022],\n",
       "       [0.10916071, 0.11120784],\n",
       "       [0.10915967, 0.11120439]], dtype=float32)"
      ]
     },
     "execution_count": 138,
     "metadata": {},
     "output_type": "execute_result"
    }
   ],
   "source": [
    "test_predict"
   ]
  },
  {
   "cell_type": "code",
   "execution_count": null,
   "metadata": {
    "id": "utsgg-A9GVfb"
   },
   "outputs": [],
   "source": [
    "##Transformback to original form\n",
    "train_predict = y_scaler.inverse_transform(train_predict)\n",
    "test_predict = y_scaler.inverse_transform(test_predict)"
   ]
  },
  {
   "cell_type": "code",
   "execution_count": null,
   "metadata": {
    "id": "NCrCpElCGW9r"
   },
   "outputs": [],
   "source": [
    "account_data[:6234][[\"spend_pred\",\"sales_pred\"]] = train_predict"
   ]
  },
  {
   "cell_type": "code",
   "execution_count": null,
   "metadata": {
    "id": "VdGARmrcGYOa"
   },
   "outputs": [],
   "source": [
    "testing = account_data[['date','sales','spend', 'clicks', 'impressions', 'orders','keywordId']][:6234].copy()\n",
    "testing[['sales_pred',\"spend_pred\"]] = train_predict"
   ]
  },
  {
   "cell_type": "code",
   "execution_count": null,
   "metadata": {
    "id": "gzvz4Qk8GZ0K"
   },
   "outputs": [],
   "source": [
    "unique_keys=testing['keywordId'].unique()"
   ]
  },
  {
   "cell_type": "code",
   "execution_count": null,
   "metadata": {
    "id": "ABkVhSERGa4D"
   },
   "outputs": [],
   "source": [
    "df_new = testing[testing['keywordId'] == unique_keys[1]]"
   ]
  },
  {
   "cell_type": "code",
   "execution_count": null,
   "metadata": {
    "id": "v9_55Z1wGc7L"
   },
   "outputs": [],
   "source": [
    "from sklearn import metrics\n",
    "def timeseries_evaluation_metrics_func(y_true, y_pred):\n",
    "    \n",
    "    def mean_absolute_percentage_error(y_true, y_pred): \n",
    "        y_true, y_pred = np.array(y_true), np.array(y_pred)\n",
    "        return np.mean(np.abs((y_true - y_pred) / y_true)) * 100\n",
    "    print('Evaluation metric results:-')\n",
    "    print(f'MSE is : {metrics.mean_squared_error(y_true, y_pred)}')\n",
    "    print(f'MAE is : {metrics.mean_absolute_error(y_true, y_pred)}')\n",
    "    print(f'RMSE is : {np.sqrt(metrics.mean_squared_error(y_true, y_pred))}')\n",
    "    print(f'R2 is : {metrics.r2_score(y_true, y_pred)}',end='\\n\\n')"
   ]
  },
  {
   "cell_type": "code",
   "execution_count": null,
   "metadata": {
    "colab": {
     "base_uri": "https://localhost:8080/"
    },
    "id": "H8v2FbDnGeZT",
    "outputId": "4b924a92-9629-409b-e62d-7fc0029d452a"
   },
   "outputs": [
    {
     "name": "stdout",
     "output_type": "stream",
     "text": [
      "Evaluation metric results:-\n",
      "MSE is : 88515799.66169365\n",
      "MAE is : 8161.413641826696\n",
      "RMSE is : 9408.28356618218\n",
      "R2 is : -0.7482569099789316\n",
      "\n"
     ]
    }
   ],
   "source": [
    "timeseries_evaluation_metrics_func(df_new['sales'],df_new['sales_pred'])"
   ]
  },
  {
   "cell_type": "code",
   "execution_count": null,
   "metadata": {
    "colab": {
     "base_uri": "https://localhost:8080/"
    },
    "id": "S0ODb7ApGf37",
    "outputId": "5b949b3a-7e6e-4d03-ba39-20bca4fe221f"
   },
   "outputs": [
    {
     "name": "stdout",
     "output_type": "stream",
     "text": [
      "Keyword_is: 247863105542037\n",
      "Evaluation metric results:-\n",
      "MSE is : 103769247.63633609\n",
      "MAE is : 9937.158641706064\n",
      "RMSE is : 10186.719179222331\n",
      "R2 is : -19.66155938544474\n",
      "\n",
      "##########################################################################################\n",
      "##########################################################################################\n",
      "##########################################################################################\n",
      "Keyword_is: 24104861481597\n",
      "Evaluation metric results:-\n",
      "MSE is : 88515799.66169365\n",
      "MAE is : 8161.413641826696\n",
      "RMSE is : 9408.28356618218\n",
      "R2 is : -0.7482569099789316\n",
      "\n",
      "##########################################################################################\n",
      "##########################################################################################\n",
      "##########################################################################################\n",
      "Keyword_is: 234598292844815\n",
      "Evaluation metric results:-\n",
      "MSE is : 114776828.26721825\n",
      "MAE is : 10608.19431448892\n",
      "RMSE is : 10713.394805906215\n",
      "R2 is : -50.16813234987229\n",
      "\n",
      "##########################################################################################\n",
      "##########################################################################################\n",
      "##########################################################################################\n",
      "Keyword_is: 79454459707340\n",
      "Evaluation metric results:-\n",
      "MSE is : 73178319.07392691\n",
      "MAE is : 8058.688851697814\n",
      "RMSE is : 8554.43271491026\n",
      "R2 is : -7.4269644522960725\n",
      "\n",
      "##########################################################################################\n",
      "##########################################################################################\n",
      "##########################################################################################\n",
      "Keyword_is: 85472206701258\n",
      "Evaluation metric results:-\n",
      "MSE is : 81834107.70079792\n",
      "MAE is : 8735.852419501154\n",
      "RMSE is : 9046.220630782665\n",
      "R2 is : -13.463524749703932\n",
      "\n",
      "##########################################################################################\n",
      "##########################################################################################\n",
      "##########################################################################################\n",
      "Keyword_is: 129388728370771\n",
      "Evaluation metric results:-\n",
      "MSE is : 2012851139.7608793\n",
      "MAE is : 34991.8155226366\n",
      "RMSE is : 44864.80959238409\n",
      "R2 is : -0.31474298331651407\n",
      "\n",
      "##########################################################################################\n",
      "##########################################################################################\n",
      "##########################################################################################\n",
      "Keyword_is: 2765709881042\n",
      "Evaluation metric results:-\n",
      "MSE is : 152145745.40201575\n",
      "MAE is : 10639.321646781871\n",
      "RMSE is : 12334.737346292208\n",
      "R2 is : -1.2411026248489745\n",
      "\n",
      "##########################################################################################\n",
      "##########################################################################################\n",
      "##########################################################################################\n",
      "Keyword_is: 227590663052584\n",
      "Evaluation metric results:-\n",
      "MSE is : 109586028.33858195\n",
      "MAE is : 9681.958182402039\n",
      "RMSE is : 10468.33455419638\n",
      "R2 is : -0.18998784583740314\n",
      "\n",
      "##########################################################################################\n",
      "##########################################################################################\n",
      "##########################################################################################\n",
      "Keyword_is: 87296464240522\n",
      "Evaluation metric results:-\n",
      "MSE is : 117192377.39867821\n",
      "MAE is : 10073.268652367446\n",
      "RMSE is : 10825.54282235668\n",
      "R2 is : -1.575257669222713\n",
      "\n",
      "##########################################################################################\n",
      "##########################################################################################\n",
      "##########################################################################################\n",
      "Keyword_is: 272721784774857\n",
      "Evaluation metric results:-\n",
      "MSE is : 73529856.64924885\n",
      "MAE is : 6627.5823458995565\n",
      "RMSE is : 8574.955198089892\n",
      "R2 is : -0.0656085503902133\n",
      "\n",
      "##########################################################################################\n",
      "##########################################################################################\n",
      "##########################################################################################\n",
      "Keyword_is: 13560133409311\n",
      "Evaluation metric results:-\n",
      "MSE is : 94752960.51774597\n",
      "MAE is : 8061.059509097656\n",
      "RMSE is : 9734.113237359938\n",
      "R2 is : -0.11356723451168427\n",
      "\n",
      "##########################################################################################\n",
      "##########################################################################################\n",
      "##########################################################################################\n",
      "Keyword_is: 90306352578146\n",
      "Evaluation metric results:-\n",
      "MSE is : 90274037.22442707\n",
      "MAE is : 8430.017715466776\n",
      "RMSE is : 9501.265032848367\n",
      "R2 is : -0.8025287507807826\n",
      "\n",
      "##########################################################################################\n",
      "##########################################################################################\n",
      "##########################################################################################\n",
      "Keyword_is: 189229237302837\n",
      "Evaluation metric results:-\n",
      "MSE is : 146897287.20599335\n",
      "MAE is : 11284.6067596566\n",
      "RMSE is : 12120.119108572875\n",
      "R2 is : -3.4952956096922705\n",
      "\n",
      "##########################################################################################\n",
      "##########################################################################################\n",
      "##########################################################################################\n",
      "Keyword_is: 27532697846233\n",
      "Evaluation metric results:-\n",
      "MSE is : 79069998.6515487\n",
      "MAE is : 7897.995478127974\n",
      "RMSE is : 8892.131277233186\n",
      "R2 is : -1.384399731195232\n",
      "\n",
      "##########################################################################################\n",
      "##########################################################################################\n",
      "##########################################################################################\n",
      "Keyword_is: 185293015123540\n",
      "Evaluation metric results:-\n",
      "MSE is : 60679081.26886469\n",
      "MAE is : 7053.632730865145\n",
      "RMSE is : 7789.677866822523\n",
      "R2 is : -4.042932964434088\n",
      "\n",
      "##########################################################################################\n",
      "##########################################################################################\n",
      "##########################################################################################\n",
      "Keyword_is: 116716807274101\n",
      "Evaluation metric results:-\n",
      "MSE is : 81843737.11997956\n",
      "MAE is : 7392.499615978671\n",
      "RMSE is : 9046.752849502387\n",
      "R2 is : -0.6075991891634733\n",
      "\n",
      "##########################################################################################\n",
      "##########################################################################################\n",
      "##########################################################################################\n",
      "Keyword_is: 64265992690180\n",
      "Evaluation metric results:-\n",
      "MSE is : 84885122.28172778\n",
      "MAE is : 7869.603769779602\n",
      "RMSE is : 9213.312231859278\n",
      "R2 is : -2.088487554975689\n",
      "\n",
      "##########################################################################################\n",
      "##########################################################################################\n",
      "##########################################################################################\n",
      "Keyword_is: 202640426426128\n",
      "Evaluation metric results:-\n",
      "MSE is : 223913395.70696706\n",
      "MAE is : 13136.821804159326\n",
      "RMSE is : 14963.736021026536\n",
      "R2 is : -0.9840988149891661\n",
      "\n",
      "##########################################################################################\n",
      "##########################################################################################\n",
      "##########################################################################################\n",
      "Keyword_is: 190918643002238\n",
      "Evaluation metric results:-\n",
      "MSE is : 220934968.40968353\n",
      "MAE is : 11990.098702139818\n",
      "RMSE is : 14863.881337311715\n",
      "R2 is : -0.012127785340289243\n",
      "\n",
      "##########################################################################################\n",
      "##########################################################################################\n",
      "##########################################################################################\n",
      "Keyword_is: 197034671889267\n",
      "Evaluation metric results:-\n",
      "MSE is : 93548962.38693447\n",
      "MAE is : 8434.83969252343\n",
      "RMSE is : 9672.071256299474\n",
      "R2 is : -0.13683265871039074\n",
      "\n",
      "##########################################################################################\n",
      "##########################################################################################\n",
      "##########################################################################################\n"
     ]
    }
   ],
   "source": [
    "for i in unique_keys:\n",
    "  df_new = testing[testing['keywordId'] == i]\n",
    "  print(\"Keyword_is:\",i)\n",
    "  timeseries_evaluation_metrics_func(df_new['sales'],df_new['sales_pred'])\n",
    "  \n",
    "  print(\"##########################################################################################\")\n",
    "  print(\"##########################################################################################\")\n",
    "  print(\"##########################################################################################\")"
   ]
  },
  {
   "cell_type": "code",
   "execution_count": null,
   "metadata": {
    "id": "D-iWES-KGhMq"
   },
   "outputs": [],
   "source": []
  },
  {
   "cell_type": "code",
   "execution_count": null,
   "metadata": {
    "id": "addWw7KxG3NJ"
   },
   "outputs": [],
   "source": []
  },
  {
   "cell_type": "code",
   "execution_count": null,
   "metadata": {
    "id": "InAM06UgG3P1"
   },
   "outputs": [],
   "source": []
  },
  {
   "cell_type": "code",
   "execution_count": null,
   "metadata": {
    "id": "-kh-_TJFG3Rr"
   },
   "outputs": [],
   "source": []
  },
  {
   "cell_type": "code",
   "execution_count": null,
   "metadata": {
    "id": "h_ximHH_G3Ue"
   },
   "outputs": [],
   "source": []
  },
  {
   "cell_type": "code",
   "execution_count": null,
   "metadata": {
    "id": "hTo0r2EWG3W6"
   },
   "outputs": [],
   "source": []
  },
  {
   "cell_type": "code",
   "execution_count": null,
   "metadata": {
    "id": "KRw9G_KKG3Y8"
   },
   "outputs": [],
   "source": []
  },
  {
   "cell_type": "code",
   "execution_count": null,
   "metadata": {
    "id": "YDvdDDdNG3cK"
   },
   "outputs": [],
   "source": []
  },
  {
   "cell_type": "code",
   "execution_count": null,
   "metadata": {
    "id": "2kSPzTftG3du"
   },
   "outputs": [],
   "source": []
  },
  {
   "cell_type": "code",
   "execution_count": null,
   "metadata": {
    "id": "HDIlb0CgG3gA"
   },
   "outputs": [],
   "source": []
  },
  {
   "cell_type": "code",
   "execution_count": null,
   "metadata": {
    "id": "PmZhfZRZG3in"
   },
   "outputs": [],
   "source": []
  },
  {
   "cell_type": "code",
   "execution_count": null,
   "metadata": {
    "id": "f7wht7WpG3k6"
   },
   "outputs": [],
   "source": []
  },
  {
   "cell_type": "code",
   "execution_count": null,
   "metadata": {
    "id": "6DNPQRDFG3nw"
   },
   "outputs": [],
   "source": []
  },
  {
   "cell_type": "code",
   "execution_count": null,
   "metadata": {
    "id": "hewjLC6fG3tQ"
   },
   "outputs": [],
   "source": []
  },
  {
   "cell_type": "code",
   "execution_count": null,
   "metadata": {
    "id": "TffvSulWG3uO"
   },
   "outputs": [],
   "source": []
  },
  {
   "cell_type": "code",
   "execution_count": null,
   "metadata": {
    "colab": {
     "base_uri": "https://localhost:8080/"
    },
    "id": "pQQsTi8iG3wa",
    "outputId": "83833258-c31b-4b6d-a192-1bbb1402c626"
   },
   "outputs": [
    {
     "name": "stdout",
     "output_type": "stream",
     "text": [
      "Epoch 1/100\n",
      " 2/16 [==>...........................] - ETA: 6:06 - loss: 0.1829"
     ]
    }
   ],
   "source": [
    "model_path = 'Encoder_Decoder_LSTM_Multivariate_using_opt.h5'\n",
    "EVALUATION_INTERVAL = 16\n",
    "EPOCHS = 100\n",
    "history = ED_lstm_model.fit(train_data_multi, epochs=EPOCHS,steps_per_epoch=EVALUATION_INTERVAL,\n",
    "                            validation_data=val_data_multi, validation_steps=50,verbose =1,\n",
    "                              callbacks =[\n",
    "                                  tf.keras.callbacks.EarlyStopping(monitor='val_loss', \n",
    "                                                                   min_delta=0, patience=10, verbose=1, mode='min'),\n",
    "                                  tf.keras.callbacks.ModelCheckpoint(model_path,\n",
    "                                                                     monitor='val_loss', save_best_only=True,\n",
    "                                                                     mode='min', verbose=0)\n",
    "                              ]\n",
    "                           )"
   ]
  },
  {
   "cell_type": "code",
   "execution_count": null,
   "metadata": {
    "id": "3cEjVUewG3xu"
   },
   "outputs": [],
   "source": [
    "trained_model = tf.keras.models.load_model(\"/content/Encoder_Decoder_LSTM_Multivariate_using_opt.h5\")"
   ]
  },
  {
   "cell_type": "code",
   "execution_count": null,
   "metadata": {
    "id": "KQJUY1eoG30T"
   },
   "outputs": [],
   "source": [
    "trained_model.summary()"
   ]
  },
  {
   "cell_type": "code",
   "execution_count": null,
   "metadata": {
    "id": "zncKOosmG329"
   },
   "outputs": [],
   "source": [
    "plt.plot(history.history['loss'])\n",
    "plt.plot(history.history['val_loss'])\n",
    "plt.title('Model loss')\n",
    "plt.ylabel('loss')\n",
    "plt.xlabel('epoch')\n",
    "plt.legend(['train loss','validation loss'],loc = 'upper left')\n",
    "plt.figure(figsize = [20,20])\n",
    "plt.show()"
   ]
  },
  {
   "cell_type": "code",
   "execution_count": null,
   "metadata": {
    "id": "wseW-jKnG35d"
   },
   "outputs": [],
   "source": [
    "### Lets Do the prediction and check performance metrics\n",
    "train_predict=trained_model.predict(x_train_multi)\n",
    "test_predict=trained_model.predict(x_val_multi)"
   ]
  },
  {
   "cell_type": "code",
   "execution_count": null,
   "metadata": {
    "id": "q6RvSTabG38c"
   },
   "outputs": [],
   "source": []
  },
  {
   "cell_type": "code",
   "execution_count": null,
   "metadata": {
    "id": "xIqFsEQgG399"
   },
   "outputs": [],
   "source": []
  },
  {
   "cell_type": "code",
   "execution_count": null,
   "metadata": {
    "id": "QRrazOiEG4AU"
   },
   "outputs": [],
   "source": []
  },
  {
   "cell_type": "code",
   "execution_count": null,
   "metadata": {
    "id": "b_kQTjTGG4C2"
   },
   "outputs": [],
   "source": []
  },
  {
   "cell_type": "code",
   "execution_count": null,
   "metadata": {
    "id": "1AKNg8UbG4He"
   },
   "outputs": [],
   "source": []
  },
  {
   "cell_type": "code",
   "execution_count": null,
   "metadata": {
    "id": "jdi_vRaXG4Ia"
   },
   "outputs": [],
   "source": []
  },
  {
   "cell_type": "code",
   "execution_count": null,
   "metadata": {
    "id": "vbaAOTTQG4KL"
   },
   "outputs": [],
   "source": []
  },
  {
   "cell_type": "code",
   "execution_count": null,
   "metadata": {
    "id": "M34s3v3yG4Mo"
   },
   "outputs": [],
   "source": []
  },
  {
   "cell_type": "code",
   "execution_count": null,
   "metadata": {
    "id": "plcF8gwqG4Qp"
   },
   "outputs": [],
   "source": []
  },
  {
   "cell_type": "code",
   "execution_count": null,
   "metadata": {
    "id": "tq3xKpwXG4Rn"
   },
   "outputs": [],
   "source": []
  },
  {
   "cell_type": "code",
   "execution_count": null,
   "metadata": {
    "id": "Xi1ziJZYG4Tu"
   },
   "outputs": [],
   "source": []
  },
  {
   "cell_type": "code",
   "execution_count": null,
   "metadata": {
    "id": "EgyKfynsG4Wm"
   },
   "outputs": [],
   "source": []
  },
  {
   "cell_type": "code",
   "execution_count": null,
   "metadata": {
    "id": "e5VIOHhmG4ZD"
   },
   "outputs": [],
   "source": []
  }
 ],
 "metadata": {
  "accelerator": "GPU",
  "colab": {
   "provenance": []
  },
  "gpuClass": "standard",
  "kernelspec": {
   "display_name": "Python 3",
   "language": "python",
   "name": "python3"
  },
  "language_info": {
   "codemirror_mode": {
    "name": "ipython",
    "version": 3
   },
   "file_extension": ".py",
   "mimetype": "text/x-python",
   "name": "python",
   "nbconvert_exporter": "python",
   "pygments_lexer": "ipython3",
   "version": "3.8.16"
  }
 },
 "nbformat": 4,
 "nbformat_minor": 4
}
