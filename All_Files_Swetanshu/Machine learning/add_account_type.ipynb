{
 "cells": [
  {
   "cell_type": "code",
   "execution_count": 5,
   "metadata": {},
   "outputs": [],
   "source": [
    "import warnings\n",
    "warnings.filterwarnings('ignore')"
   ]
  },
  {
   "cell_type": "code",
   "execution_count": 6,
   "metadata": {},
   "outputs": [],
   "source": [
    "import numpy as np\n",
    "import pandas as pd\n",
    "import datetime\n",
    "from adbrew_core.settings import db\n",
    "from adbrew_core.db import accessor\n",
    "from adbrew_core.utils import conversion_rates\n",
    "from adbrew_core.rule_engine import rule_engine_variables\n",
    "from adbrew_core.db import bid_management_task"
   ]
  },
  {
   "cell_type": "code",
   "execution_count": 7,
   "metadata": {},
   "outputs": [],
   "source": [
    "df = pd.read_csv(\"account_data.csv\")"
   ]
  },
  {
   "cell_type": "code",
   "execution_count": 8,
   "metadata": {},
   "outputs": [
    {
     "data": {
      "text/html": [
       "<div>\n",
       "<style scoped>\n",
       "    .dataframe tbody tr th:only-of-type {\n",
       "        vertical-align: middle;\n",
       "    }\n",
       "\n",
       "    .dataframe tbody tr th {\n",
       "        vertical-align: top;\n",
       "    }\n",
       "\n",
       "    .dataframe thead th {\n",
       "        text-align: right;\n",
       "    }\n",
       "</style>\n",
       "<table border=\"1\" class=\"dataframe\">\n",
       "  <thead>\n",
       "    <tr style=\"text-align: right;\">\n",
       "      <th></th>\n",
       "      <th>Unnamed: 0</th>\n",
       "      <th>accountId</th>\n",
       "      <th>adGroupId</th>\n",
       "      <th>campaignId</th>\n",
       "      <th>keywordId</th>\n",
       "      <th>date</th>\n",
       "      <th>sales</th>\n",
       "      <th>spend</th>\n",
       "      <th>clicks</th>\n",
       "      <th>impressions</th>\n",
       "      <th>orders</th>\n",
       "      <th>cur</th>\n",
       "      <th>account_type</th>\n",
       "    </tr>\n",
       "  </thead>\n",
       "  <tbody>\n",
       "    <tr>\n",
       "      <th>0</th>\n",
       "      <td>0</td>\n",
       "      <td>5ffdb895b08512986422b08c</td>\n",
       "      <td>265947652253786</td>\n",
       "      <td>278924003146587</td>\n",
       "      <td>178532402627801</td>\n",
       "      <td>2022-01-20</td>\n",
       "      <td>0.0</td>\n",
       "      <td>2.81</td>\n",
       "      <td>1.0</td>\n",
       "      <td>7.0</td>\n",
       "      <td>0.0</td>\n",
       "      <td>INR</td>\n",
       "      <td>vendor</td>\n",
       "    </tr>\n",
       "    <tr>\n",
       "      <th>1</th>\n",
       "      <td>1</td>\n",
       "      <td>5ffdb895b08512986422b08c</td>\n",
       "      <td>102056862761827</td>\n",
       "      <td>57804152586859</td>\n",
       "      <td>217252402080046</td>\n",
       "      <td>2022-01-20</td>\n",
       "      <td>0.0</td>\n",
       "      <td>0.00</td>\n",
       "      <td>0.0</td>\n",
       "      <td>19.0</td>\n",
       "      <td>0.0</td>\n",
       "      <td>INR</td>\n",
       "      <td>vendor</td>\n",
       "    </tr>\n",
       "  </tbody>\n",
       "</table>\n",
       "</div>"
      ],
      "text/plain": [
       "   Unnamed: 0                 accountId        adGroupId       campaignId  \\\n",
       "0           0  5ffdb895b08512986422b08c  265947652253786  278924003146587   \n",
       "1           1  5ffdb895b08512986422b08c  102056862761827   57804152586859   \n",
       "\n",
       "         keywordId        date  sales  spend  clicks  impressions  orders  \\\n",
       "0  178532402627801  2022-01-20    0.0   2.81     1.0          7.0     0.0   \n",
       "1  217252402080046  2022-01-20    0.0   0.00     0.0         19.0     0.0   \n",
       "\n",
       "   cur account_type  \n",
       "0  INR       vendor  \n",
       "1  INR       vendor  "
      ]
     },
     "execution_count": 8,
     "metadata": {},
     "output_type": "execute_result"
    }
   ],
   "source": [
    "df.head(2)"
   ]
  },
  {
   "cell_type": "code",
   "execution_count": 55,
   "metadata": {},
   "outputs": [],
   "source": [
    "a = db.account_details.find({\"active\":True})"
   ]
  },
  {
   "cell_type": "code",
   "execution_count": 56,
   "metadata": {},
   "outputs": [],
   "source": [
    "l = []"
   ]
  },
  {
   "cell_type": "code",
   "execution_count": 57,
   "metadata": {},
   "outputs": [],
   "source": [
    "for i in a:\n",
    "    l.append(i)"
   ]
  },
  {
   "cell_type": "code",
   "execution_count": 60,
   "metadata": {},
   "outputs": [
    {
     "data": {
      "text/plain": [
       "'5ffdb895b08512986422b08c'"
      ]
     },
     "execution_count": 60,
     "metadata": {},
     "output_type": "execute_result"
    }
   ],
   "source": [
    "str(l[0]['_id'])"
   ]
  },
  {
   "cell_type": "code",
   "execution_count": 61,
   "metadata": {},
   "outputs": [
    {
     "data": {
      "text/plain": [
       "340"
      ]
     },
     "execution_count": 61,
     "metadata": {},
     "output_type": "execute_result"
    }
   ],
   "source": [
    "len(l)"
   ]
  },
  {
   "cell_type": "code",
   "execution_count": 64,
   "metadata": {},
   "outputs": [],
   "source": [
    "unique = df['accountId'].unique()"
   ]
  },
  {
   "cell_type": "code",
   "execution_count": 75,
   "metadata": {},
   "outputs": [
    {
     "data": {
      "text/plain": [
       "array(['5ffdb895b08512986422b08c', '6013fbaaaadf53eb56518f43',\n",
       "       '613b51d1565006d4e2b60924', '615451dfe1e966fb58822ed6',\n",
       "       '61b3133728133e8d9e12b44a', '61b7ea05aa9248e907a3a4fe',\n",
       "       '61b8929c7f1731fdf842d921', '61e83a4740598119fc405f5f',\n",
       "       '61f7720e169a5b91c7df71d3', '6215bded0e0c2c6c8cdff5c1',\n",
       "       '621e270ca49d1163c27d1f49', '621f017b51283da3bc7d1f4c',\n",
       "       '621f1d9c67922326997d1f6a', '62301d0a4388ed0eb0998a54',\n",
       "       '62301d3d2f79a2538b998a53', '6230371963f4565d8b998a53',\n",
       "       '6235a30e5cfcdd57405aa343', '623dda2d7c55e7180704dfca',\n",
       "       '623dda6df77df1d4d204dfc9', '6263acc5367e283277f9a0ef'],\n",
       "      dtype=object)"
      ]
     },
     "execution_count": 75,
     "metadata": {},
     "output_type": "execute_result"
    }
   ],
   "source": [
    "unique"
   ]
  },
  {
   "cell_type": "code",
   "execution_count": 70,
   "metadata": {},
   "outputs": [],
   "source": [
    "dic_currency = {}"
   ]
  },
  {
   "cell_type": "code",
   "execution_count": 71,
   "metadata": {},
   "outputs": [],
   "source": [
    "for i in range(len(l)):\n",
    "    if str(l[i]['_id']) in unique:\n",
    "        dic_currency[str(l[i]['_id'])] = l[i]['currency_code']"
   ]
  },
  {
   "cell_type": "code",
   "execution_count": 72,
   "metadata": {},
   "outputs": [
    {
     "data": {
      "text/plain": [
       "{'5ffdb895b08512986422b08c': 'INR',\n",
       " '6013fbaaaadf53eb56518f43': 'INR',\n",
       " '613b51d1565006d4e2b60924': 'GBP',\n",
       " '615451dfe1e966fb58822ed6': 'EUR',\n",
       " '61b3133728133e8d9e12b44a': 'INR',\n",
       " '61b7ea05aa9248e907a3a4fe': 'USD',\n",
       " '61b8929c7f1731fdf842d921': 'INR',\n",
       " '61e83a4740598119fc405f5f': 'INR',\n",
       " '61f7720e169a5b91c7df71d3': 'INR',\n",
       " '6215bded0e0c2c6c8cdff5c1': 'INR',\n",
       " '621e270ca49d1163c27d1f49': 'INR',\n",
       " '621f017b51283da3bc7d1f4c': 'INR',\n",
       " '621f1d9c67922326997d1f6a': 'INR',\n",
       " '62301d0a4388ed0eb0998a54': 'INR',\n",
       " '62301d3d2f79a2538b998a53': 'INR',\n",
       " '6230371963f4565d8b998a53': 'INR',\n",
       " '6235a30e5cfcdd57405aa343': 'INR',\n",
       " '623dda2d7c55e7180704dfca': 'EUR',\n",
       " '623dda6df77df1d4d204dfc9': 'EUR',\n",
       " '6263acc5367e283277f9a0ef': 'EUR'}"
      ]
     },
     "execution_count": 72,
     "metadata": {},
     "output_type": "execute_result"
    }
   ],
   "source": [
    "dic_currency"
   ]
  },
  {
   "cell_type": "code",
   "execution_count": 80,
   "metadata": {},
   "outputs": [],
   "source": [
    "frames = []\n",
    "for i in range(len(l)):\n",
    "    if str(l[i]['_id']) in dic_currency:\n",
    "        e = df[df['accountId'] == str(l[i]['_id'])]\n",
    "        e['cur'] = dic_currency[str(l[i]['_id'])]\n",
    "        frames.append(e)"
   ]
  },
  {
   "cell_type": "code",
   "execution_count": 81,
   "metadata": {},
   "outputs": [],
   "source": [
    "df = pd.concat(frames)"
   ]
  },
  {
   "cell_type": "code",
   "execution_count": 84,
   "metadata": {},
   "outputs": [],
   "source": [
    "dic_account_type = {}\n",
    "for i in range(len(l)):\n",
    "    if str(l[i]['_id']) in unique:\n",
    "        dic_account_type[str(l[i]['_id'])] = l[i]['profile_account_type']"
   ]
  },
  {
   "cell_type": "code",
   "execution_count": 86,
   "metadata": {},
   "outputs": [],
   "source": [
    "frames = []\n",
    "for i in range(len(l)):\n",
    "    if str(l[i]['_id']) in dic_account_type:\n",
    "        e = df[df['accountId'] == str(l[i]['_id'])]\n",
    "        e['account_type'] = dic_account_type[str(l[i]['_id'])]\n",
    "        frames.append(e)"
   ]
  },
  {
   "cell_type": "code",
   "execution_count": 87,
   "metadata": {},
   "outputs": [],
   "source": [
    "df = pd.concat(frames)"
   ]
  },
  {
   "cell_type": "code",
   "execution_count": 89,
   "metadata": {},
   "outputs": [],
   "source": [
    "df.to_csv(\"account_data.csv\")"
   ]
  },
  {
   "cell_type": "code",
   "execution_count": 4,
   "metadata": {},
   "outputs": [
    {
     "data": {
      "text/html": [
       "<div>\n",
       "<style scoped>\n",
       "    .dataframe tbody tr th:only-of-type {\n",
       "        vertical-align: middle;\n",
       "    }\n",
       "\n",
       "    .dataframe tbody tr th {\n",
       "        vertical-align: top;\n",
       "    }\n",
       "\n",
       "    .dataframe thead th {\n",
       "        text-align: right;\n",
       "    }\n",
       "</style>\n",
       "<table border=\"1\" class=\"dataframe\">\n",
       "  <thead>\n",
       "    <tr style=\"text-align: right;\">\n",
       "      <th></th>\n",
       "      <th>Unnamed: 0</th>\n",
       "      <th>accountId</th>\n",
       "      <th>adGroupId</th>\n",
       "      <th>campaignId</th>\n",
       "      <th>keywordId</th>\n",
       "      <th>date</th>\n",
       "      <th>sales</th>\n",
       "      <th>spend</th>\n",
       "      <th>clicks</th>\n",
       "      <th>impressions</th>\n",
       "      <th>orders</th>\n",
       "      <th>cur</th>\n",
       "      <th>account_type</th>\n",
       "    </tr>\n",
       "  </thead>\n",
       "  <tbody>\n",
       "    <tr>\n",
       "      <th>0</th>\n",
       "      <td>0</td>\n",
       "      <td>5ffdb895b08512986422b08c</td>\n",
       "      <td>265947652253786</td>\n",
       "      <td>278924003146587</td>\n",
       "      <td>178532402627801</td>\n",
       "      <td>2022-01-20</td>\n",
       "      <td>0.0</td>\n",
       "      <td>2.81</td>\n",
       "      <td>1.0</td>\n",
       "      <td>7.0</td>\n",
       "      <td>0.0</td>\n",
       "      <td>INR</td>\n",
       "      <td>vendor</td>\n",
       "    </tr>\n",
       "    <tr>\n",
       "      <th>1</th>\n",
       "      <td>1</td>\n",
       "      <td>5ffdb895b08512986422b08c</td>\n",
       "      <td>102056862761827</td>\n",
       "      <td>57804152586859</td>\n",
       "      <td>217252402080046</td>\n",
       "      <td>2022-01-20</td>\n",
       "      <td>0.0</td>\n",
       "      <td>0.00</td>\n",
       "      <td>0.0</td>\n",
       "      <td>19.0</td>\n",
       "      <td>0.0</td>\n",
       "      <td>INR</td>\n",
       "      <td>vendor</td>\n",
       "    </tr>\n",
       "  </tbody>\n",
       "</table>\n",
       "</div>"
      ],
      "text/plain": [
       "   Unnamed: 0                 accountId        adGroupId       campaignId  \\\n",
       "0           0  5ffdb895b08512986422b08c  265947652253786  278924003146587   \n",
       "1           1  5ffdb895b08512986422b08c  102056862761827   57804152586859   \n",
       "\n",
       "         keywordId        date  sales  spend  clicks  impressions  orders  \\\n",
       "0  178532402627801  2022-01-20    0.0   2.81     1.0          7.0     0.0   \n",
       "1  217252402080046  2022-01-20    0.0   0.00     0.0         19.0     0.0   \n",
       "\n",
       "   cur account_type  \n",
       "0  INR       vendor  \n",
       "1  INR       vendor  "
      ]
     },
     "execution_count": 4,
     "metadata": {},
     "output_type": "execute_result"
    }
   ],
   "source": [
    "df.head(2)"
   ]
  },
  {
   "cell_type": "code",
   "execution_count": 9,
   "metadata": {},
   "outputs": [
    {
     "data": {
      "text/plain": [
       "(4991898, 13)"
      ]
     },
     "execution_count": 9,
     "metadata": {},
     "output_type": "execute_result"
    }
   ],
   "source": [
    "df.shape"
   ]
  },
  {
   "cell_type": "code",
   "execution_count": 12,
   "metadata": {},
   "outputs": [
    {
     "ename": "KeyError",
     "evalue": "'targetingType'",
     "output_type": "error",
     "traceback": [
      "\u001b[0;31m---------------------------------------------------------------------------\u001b[0m",
      "\u001b[0;31mKeyError\u001b[0m                                  Traceback (most recent call last)",
      "\u001b[0;32m<ipython-input-12-00c08ec1d72a>\u001b[0m in \u001b[0;36m<module>\u001b[0;34m\u001b[0m\n\u001b[0;32m----> 1\u001b[0;31m \u001b[0mdb\u001b[0m\u001b[0;34m.\u001b[0m\u001b[0maccount_details\u001b[0m\u001b[0;34m.\u001b[0m\u001b[0mfind_one\u001b[0m\u001b[0;34m(\u001b[0m\u001b[0;34m)\u001b[0m\u001b[0;34m[\u001b[0m\u001b[0;34m'targetingType'\u001b[0m\u001b[0;34m]\u001b[0m\u001b[0;34m\u001b[0m\u001b[0;34m\u001b[0m\u001b[0m\n\u001b[0m",
      "\u001b[0;31mKeyError\u001b[0m: 'targetingType'"
     ]
    }
   ],
   "source": [
    "db.account_details.find_one()['targetingType']"
   ]
  },
  {
   "cell_type": "code",
   "execution_count": 4,
   "metadata": {},
   "outputs": [
    {
     "data": {
      "text/plain": [
       "{'_id': ObjectId('610831d854eca898f8826620'),\n",
       " 'account_id': '5ffdb895b08512986422b08c',\n",
       " 'campaignId': 24504266710764,\n",
       " 'campaign_type': 'sp',\n",
       " 'bidding': {'strategy': 'legacyForSales',\n",
       "  'adjustments': [{'predicate': 'placementTop', 'percentage': 20}]},\n",
       " 'campaignType': 'sponsoredProducts',\n",
       " 'dailyBudget': 1622.4,\n",
       " 'last_updated': datetime.datetime(2023, 1, 24, 15, 20, 48, 553000),\n",
       " 'name': 'DMUC001 Auto',\n",
       " 'premiumBidAdjustment': True,\n",
       " 'profile_id': '1480904248596993',\n",
       " 'startDate': '20210104',\n",
       " 'state': 'paused',\n",
       " 'targetingType': 'auto',\n",
       " 'portfolioId': 176795036374784,\n",
       " 'automated': False}"
      ]
     },
     "execution_count": 4,
     "metadata": {},
     "output_type": "execute_result"
    }
   ],
   "source": [
    "db.campaigns.find_one({\"targetingType\":\"auto\"})"
   ]
  },
  {
   "cell_type": "code",
   "execution_count": null,
   "metadata": {},
   "outputs": [],
   "source": []
  }
 ],
 "metadata": {
  "kernelspec": {
   "display_name": "Python 3",
   "language": "python",
   "name": "python3"
  },
  "language_info": {
   "codemirror_mode": {
    "name": "ipython",
    "version": 3
   },
   "file_extension": ".py",
   "mimetype": "text/x-python",
   "name": "python",
   "nbconvert_exporter": "python",
   "pygments_lexer": "ipython3",
   "version": "3.8.16"
  }
 },
 "nbformat": 4,
 "nbformat_minor": 4
}
