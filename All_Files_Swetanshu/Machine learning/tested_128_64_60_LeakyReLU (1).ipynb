{
 "cells": [
  {
   "cell_type": "markdown",
   "metadata": {},
   "source": [
    "https://colab.research.google.com/drive/1Zp2b1vAQ_iKrLbQsg24AdF8H7zXTTGHU#scrollTo=LnKaW2adeGfw"
   ]
  },
  {
   "cell_type": "code",
   "execution_count": 1,
   "metadata": {
    "colab": {
     "base_uri": "https://localhost:8080/"
    },
    "id": "pvhLoBMmFgWu",
    "outputId": "12f62f12-8093-4042-c41a-e48d2ff3d10a"
   },
   "outputs": [
    {
     "name": "stdout",
     "output_type": "stream",
     "text": [
      "Mounted at /content/drive\n"
     ]
    }
   ],
   "source": [
    "from google.colab import drive\n",
    "drive.mount('/content/drive')"
   ]
  },
  {
   "cell_type": "code",
   "execution_count": 39,
   "metadata": {
    "id": "88RjrEUdFU-N"
   },
   "outputs": [],
   "source": [
    "import numpy as np\n",
    "import pandas as pd\n",
    "import datetime\n",
    "#from adbrew_core.settings import db\n",
    "import tensorflow as tf\n",
    "from sklearn.model_selection import train_test_split\n",
    "from sklearn.preprocessing import MinMaxScaler\n",
    "from sklearn.metrics import mean_squared_error\n",
    "from sklearn import preprocessing\n",
    "import matplotlib.pyplot as plt\n",
    "from tensorflow.python.keras.models import Sequential\n",
    "from tensorflow.python.keras.layers import Dense\n",
    "from tensorflow.python.keras.layers import LSTM\n",
    "tf.random.set_seed(1)\n",
    "np.random.seed(1)\n",
    "import warnings\n",
    "warnings.filterwarnings(\"ignore\")"
   ]
  },
  {
   "cell_type": "code",
   "execution_count": 40,
   "metadata": {
    "id": "kjXeF8LIFy0Z"
   },
   "outputs": [],
   "source": [
    "df = pd.read_csv(\"/content/drive/MyDrive/colab/account_data.csv\",parse_dates = True)"
   ]
  },
  {
   "cell_type": "code",
   "execution_count": 41,
   "metadata": {
    "id": "MG9yQW1cF0uh"
   },
   "outputs": [],
   "source": [
    "a = list(df['accountId'].unique())"
   ]
  },
  {
   "cell_type": "code",
   "execution_count": 42,
   "metadata": {
    "id": "PNjrl9vxF9Oh"
   },
   "outputs": [],
   "source": [
    "df = df[df['accountId']==\"5ffdb895b08512986422b08c\"]"
   ]
  },
  {
   "cell_type": "code",
   "execution_count": 43,
   "metadata": {
    "id": "VEgmIG1ZF-TI"
   },
   "outputs": [],
   "source": [
    "df=df.copy()\n",
    "df.date = pd.to_datetime(df.date)\n",
    "df.sort_values(by=\"date\", inplace=True, ignore_index=True)\n",
    "account_data = df"
   ]
  },
  {
   "cell_type": "code",
   "execution_count": 44,
   "metadata": {
    "id": "UZmFRRveF_YA"
   },
   "outputs": [],
   "source": [
    "keyword_ids = account_data[\"keywordId\"].unique()\n",
    "keywordwise_sales = account_data.groupby(\"keywordId\")[\"sales\"].sum()\n",
    "nonzero_sales_keywords = keywordwise_sales[keywordwise_sales>0]\n",
    "nonzero_sales_keywords.sort_values(ascending=False, inplace=True)\n",
    "keywords_req = list(nonzero_sales_keywords.index)\n",
    "keyword_ids = keywords_req[:10]\n",
    "account_data =  account_data[account_data['keywordId'].isin(keyword_ids)]"
   ]
  },
  {
   "cell_type": "code",
   "execution_count": 45,
   "metadata": {
    "id": "fXuVIilAGApZ"
   },
   "outputs": [],
   "source": [
    "account_data.reset_index(inplace = True)\n",
    "account_data.sort_values(by=\"date\", inplace=True, ignore_index=True)\n",
    "account_data.drop(columns = \"index\",inplace = True)\n",
    "account_data.sort_values(by = 'date',inplace = True)\n",
    "account_data.reset_index(inplace = True)\n",
    "account_data.drop(columns = \"index\",inplace = True)\n",
    "account_data['clicks'] = account_data[\"clicks\"].astype(\"int64\")\n",
    "account_data['impressions'] = account_data[\"impressions\"].astype(\"int64\")\n",
    "account_data['orders'] = account_data[\"orders\"].astype(\"int64\")\n",
    "account_data[\"keywordId\"] = account_data[\"keywordId\"].astype(str)\n",
    "account_data[\"cpc\"] = account_data[\"spend\"]/account_data[\"clicks\"] \n",
    "account_data[\"cpc\"].interpolate(\"linear\", inplace=True)"
   ]
  },
  {
   "cell_type": "code",
   "execution_count": 46,
   "metadata": {
    "id": "Io-vsPETGROQ"
   },
   "outputs": [],
   "source": [
    "#account_data"
   ]
  },
  {
   "cell_type": "code",
   "execution_count": 47,
   "metadata": {
    "id": "ffP--iHfGRL4"
   },
   "outputs": [],
   "source": [
    "keyword_ids = account_data['keywordId'].unique()"
   ]
  },
  {
   "cell_type": "code",
   "execution_count": 48,
   "metadata": {
    "id": "vfrNm6CzHnuO"
   },
   "outputs": [],
   "source": [
    "keyword_wise_df = pd.DataFrame(columns = [['accountId', 'adGroupId', 'campaignId', 'keywordId', 'date', 'sales','spend', 'clicks', 'impressions', 'orders', 'cpc']])"
   ]
  },
  {
   "cell_type": "code",
   "execution_count": 49,
   "metadata": {
    "colab": {
     "base_uri": "https://localhost:8080/",
     "height": 49
    },
    "id": "sOaM7runHtxV",
    "outputId": "19638832-c014-4c7a-cde1-b4735b7422ba"
   },
   "outputs": [
    {
     "data": {
      "text/html": [
       "\n",
       "  <div id=\"df-13dcca0c-482e-42ea-b9d4-a191e087f4d3\">\n",
       "    <div class=\"colab-df-container\">\n",
       "      <div>\n",
       "<style scoped>\n",
       "    .dataframe tbody tr th:only-of-type {\n",
       "        vertical-align: middle;\n",
       "    }\n",
       "\n",
       "    .dataframe tbody tr th {\n",
       "        vertical-align: top;\n",
       "    }\n",
       "\n",
       "    .dataframe thead tr th {\n",
       "        text-align: left;\n",
       "    }\n",
       "</style>\n",
       "<table border=\"1\" class=\"dataframe\">\n",
       "  <thead>\n",
       "    <tr>\n",
       "      <th></th>\n",
       "      <th>accountId</th>\n",
       "      <th>adGroupId</th>\n",
       "      <th>campaignId</th>\n",
       "      <th>keywordId</th>\n",
       "      <th>date</th>\n",
       "      <th>sales</th>\n",
       "      <th>spend</th>\n",
       "      <th>clicks</th>\n",
       "      <th>impressions</th>\n",
       "      <th>orders</th>\n",
       "      <th>cpc</th>\n",
       "    </tr>\n",
       "  </thead>\n",
       "  <tbody>\n",
       "  </tbody>\n",
       "</table>\n",
       "</div>\n",
       "      <button class=\"colab-df-convert\" onclick=\"convertToInteractive('df-13dcca0c-482e-42ea-b9d4-a191e087f4d3')\"\n",
       "              title=\"Convert this dataframe to an interactive table.\"\n",
       "              style=\"display:none;\">\n",
       "        \n",
       "  <svg xmlns=\"http://www.w3.org/2000/svg\" height=\"24px\"viewBox=\"0 0 24 24\"\n",
       "       width=\"24px\">\n",
       "    <path d=\"M0 0h24v24H0V0z\" fill=\"none\"/>\n",
       "    <path d=\"M18.56 5.44l.94 2.06.94-2.06 2.06-.94-2.06-.94-.94-2.06-.94 2.06-2.06.94zm-11 1L8.5 8.5l.94-2.06 2.06-.94-2.06-.94L8.5 2.5l-.94 2.06-2.06.94zm10 10l.94 2.06.94-2.06 2.06-.94-2.06-.94-.94-2.06-.94 2.06-2.06.94z\"/><path d=\"M17.41 7.96l-1.37-1.37c-.4-.4-.92-.59-1.43-.59-.52 0-1.04.2-1.43.59L10.3 9.45l-7.72 7.72c-.78.78-.78 2.05 0 2.83L4 21.41c.39.39.9.59 1.41.59.51 0 1.02-.2 1.41-.59l7.78-7.78 2.81-2.81c.8-.78.8-2.07 0-2.86zM5.41 20L4 18.59l7.72-7.72 1.47 1.35L5.41 20z\"/>\n",
       "  </svg>\n",
       "      </button>\n",
       "      \n",
       "  <style>\n",
       "    .colab-df-container {\n",
       "      display:flex;\n",
       "      flex-wrap:wrap;\n",
       "      gap: 12px;\n",
       "    }\n",
       "\n",
       "    .colab-df-convert {\n",
       "      background-color: #E8F0FE;\n",
       "      border: none;\n",
       "      border-radius: 50%;\n",
       "      cursor: pointer;\n",
       "      display: none;\n",
       "      fill: #1967D2;\n",
       "      height: 32px;\n",
       "      padding: 0 0 0 0;\n",
       "      width: 32px;\n",
       "    }\n",
       "\n",
       "    .colab-df-convert:hover {\n",
       "      background-color: #E2EBFA;\n",
       "      box-shadow: 0px 1px 2px rgba(60, 64, 67, 0.3), 0px 1px 3px 1px rgba(60, 64, 67, 0.15);\n",
       "      fill: #174EA6;\n",
       "    }\n",
       "\n",
       "    [theme=dark] .colab-df-convert {\n",
       "      background-color: #3B4455;\n",
       "      fill: #D2E3FC;\n",
       "    }\n",
       "\n",
       "    [theme=dark] .colab-df-convert:hover {\n",
       "      background-color: #434B5C;\n",
       "      box-shadow: 0px 1px 3px 1px rgba(0, 0, 0, 0.15);\n",
       "      filter: drop-shadow(0px 1px 2px rgba(0, 0, 0, 0.3));\n",
       "      fill: #FFFFFF;\n",
       "    }\n",
       "  </style>\n",
       "\n",
       "      <script>\n",
       "        const buttonEl =\n",
       "          document.querySelector('#df-13dcca0c-482e-42ea-b9d4-a191e087f4d3 button.colab-df-convert');\n",
       "        buttonEl.style.display =\n",
       "          google.colab.kernel.accessAllowed ? 'block' : 'none';\n",
       "\n",
       "        async function convertToInteractive(key) {\n",
       "          const element = document.querySelector('#df-13dcca0c-482e-42ea-b9d4-a191e087f4d3');\n",
       "          const dataTable =\n",
       "            await google.colab.kernel.invokeFunction('convertToInteractive',\n",
       "                                                     [key], {});\n",
       "          if (!dataTable) return;\n",
       "\n",
       "          const docLinkHtml = 'Like what you see? Visit the ' +\n",
       "            '<a target=\"_blank\" href=https://colab.research.google.com/notebooks/data_table.ipynb>data table notebook</a>'\n",
       "            + ' to learn more about interactive tables.';\n",
       "          element.innerHTML = '';\n",
       "          dataTable['output_type'] = 'display_data';\n",
       "          await google.colab.output.renderOutput(dataTable, element);\n",
       "          const docLink = document.createElement('div');\n",
       "          docLink.innerHTML = docLinkHtml;\n",
       "          element.appendChild(docLink);\n",
       "        }\n",
       "      </script>\n",
       "    </div>\n",
       "  </div>\n",
       "  "
      ],
      "text/plain": [
       "Empty DataFrame\n",
       "Columns: [(accountId,), (adGroupId,), (campaignId,), (keywordId,), (date,), (sales,), (spend,), (clicks,), (impressions,), (orders,), (cpc,)]\n",
       "Index: []"
      ]
     },
     "execution_count": 49,
     "metadata": {},
     "output_type": "execute_result"
    }
   ],
   "source": [
    "keyword_wise_df"
   ]
  },
  {
   "cell_type": "code",
   "execution_count": 50,
   "metadata": {
    "colab": {
     "base_uri": "https://localhost:8080/",
     "height": 210
    },
    "id": "EVOuyfruHxwI",
    "outputId": "f5091c46-5f23-4955-8d22-be411011718c"
   },
   "outputs": [
    {
     "data": {
      "text/html": [
       "\n",
       "  <div id=\"df-e2a62682-71fd-4563-be59-e752fd2285ae\">\n",
       "    <div class=\"colab-df-container\">\n",
       "      <div>\n",
       "<style scoped>\n",
       "    .dataframe tbody tr th:only-of-type {\n",
       "        vertical-align: middle;\n",
       "    }\n",
       "\n",
       "    .dataframe tbody tr th {\n",
       "        vertical-align: top;\n",
       "    }\n",
       "\n",
       "    .dataframe thead th {\n",
       "        text-align: right;\n",
       "    }\n",
       "</style>\n",
       "<table border=\"1\" class=\"dataframe\">\n",
       "  <thead>\n",
       "    <tr style=\"text-align: right;\">\n",
       "      <th></th>\n",
       "      <th>accountId</th>\n",
       "      <th>adGroupId</th>\n",
       "      <th>campaignId</th>\n",
       "      <th>keywordId</th>\n",
       "      <th>date</th>\n",
       "      <th>sales</th>\n",
       "      <th>spend</th>\n",
       "      <th>clicks</th>\n",
       "      <th>impressions</th>\n",
       "      <th>orders</th>\n",
       "      <th>cpc</th>\n",
       "    </tr>\n",
       "  </thead>\n",
       "  <tbody>\n",
       "    <tr>\n",
       "      <th>0</th>\n",
       "      <td>5ffdb895b08512986422b08c</td>\n",
       "      <td>175642569815727</td>\n",
       "      <td>85580432953015</td>\n",
       "      <td>129388728370771</td>\n",
       "      <td>2022-01-20</td>\n",
       "      <td>142838.120000</td>\n",
       "      <td>12583.680000</td>\n",
       "      <td>1281</td>\n",
       "      <td>29878</td>\n",
       "      <td>111</td>\n",
       "      <td>9.823326</td>\n",
       "    </tr>\n",
       "    <tr>\n",
       "      <th>9</th>\n",
       "      <td>5ffdb895b08512986422b08c</td>\n",
       "      <td>175642569815727</td>\n",
       "      <td>85580432953015</td>\n",
       "      <td>129388728370771</td>\n",
       "      <td>2022-01-21</td>\n",
       "      <td>116525.377143</td>\n",
       "      <td>10593.249643</td>\n",
       "      <td>1168</td>\n",
       "      <td>25691</td>\n",
       "      <td>85</td>\n",
       "      <td>9.069563</td>\n",
       "    </tr>\n",
       "  </tbody>\n",
       "</table>\n",
       "</div>\n",
       "      <button class=\"colab-df-convert\" onclick=\"convertToInteractive('df-e2a62682-71fd-4563-be59-e752fd2285ae')\"\n",
       "              title=\"Convert this dataframe to an interactive table.\"\n",
       "              style=\"display:none;\">\n",
       "        \n",
       "  <svg xmlns=\"http://www.w3.org/2000/svg\" height=\"24px\"viewBox=\"0 0 24 24\"\n",
       "       width=\"24px\">\n",
       "    <path d=\"M0 0h24v24H0V0z\" fill=\"none\"/>\n",
       "    <path d=\"M18.56 5.44l.94 2.06.94-2.06 2.06-.94-2.06-.94-.94-2.06-.94 2.06-2.06.94zm-11 1L8.5 8.5l.94-2.06 2.06-.94-2.06-.94L8.5 2.5l-.94 2.06-2.06.94zm10 10l.94 2.06.94-2.06 2.06-.94-2.06-.94-.94-2.06-.94 2.06-2.06.94z\"/><path d=\"M17.41 7.96l-1.37-1.37c-.4-.4-.92-.59-1.43-.59-.52 0-1.04.2-1.43.59L10.3 9.45l-7.72 7.72c-.78.78-.78 2.05 0 2.83L4 21.41c.39.39.9.59 1.41.59.51 0 1.02-.2 1.41-.59l7.78-7.78 2.81-2.81c.8-.78.8-2.07 0-2.86zM5.41 20L4 18.59l7.72-7.72 1.47 1.35L5.41 20z\"/>\n",
       "  </svg>\n",
       "      </button>\n",
       "      \n",
       "  <style>\n",
       "    .colab-df-container {\n",
       "      display:flex;\n",
       "      flex-wrap:wrap;\n",
       "      gap: 12px;\n",
       "    }\n",
       "\n",
       "    .colab-df-convert {\n",
       "      background-color: #E8F0FE;\n",
       "      border: none;\n",
       "      border-radius: 50%;\n",
       "      cursor: pointer;\n",
       "      display: none;\n",
       "      fill: #1967D2;\n",
       "      height: 32px;\n",
       "      padding: 0 0 0 0;\n",
       "      width: 32px;\n",
       "    }\n",
       "\n",
       "    .colab-df-convert:hover {\n",
       "      background-color: #E2EBFA;\n",
       "      box-shadow: 0px 1px 2px rgba(60, 64, 67, 0.3), 0px 1px 3px 1px rgba(60, 64, 67, 0.15);\n",
       "      fill: #174EA6;\n",
       "    }\n",
       "\n",
       "    [theme=dark] .colab-df-convert {\n",
       "      background-color: #3B4455;\n",
       "      fill: #D2E3FC;\n",
       "    }\n",
       "\n",
       "    [theme=dark] .colab-df-convert:hover {\n",
       "      background-color: #434B5C;\n",
       "      box-shadow: 0px 1px 3px 1px rgba(0, 0, 0, 0.15);\n",
       "      filter: drop-shadow(0px 1px 2px rgba(0, 0, 0, 0.3));\n",
       "      fill: #FFFFFF;\n",
       "    }\n",
       "  </style>\n",
       "\n",
       "      <script>\n",
       "        const buttonEl =\n",
       "          document.querySelector('#df-e2a62682-71fd-4563-be59-e752fd2285ae button.colab-df-convert');\n",
       "        buttonEl.style.display =\n",
       "          google.colab.kernel.accessAllowed ? 'block' : 'none';\n",
       "\n",
       "        async function convertToInteractive(key) {\n",
       "          const element = document.querySelector('#df-e2a62682-71fd-4563-be59-e752fd2285ae');\n",
       "          const dataTable =\n",
       "            await google.colab.kernel.invokeFunction('convertToInteractive',\n",
       "                                                     [key], {});\n",
       "          if (!dataTable) return;\n",
       "\n",
       "          const docLinkHtml = 'Like what you see? Visit the ' +\n",
       "            '<a target=\"_blank\" href=https://colab.research.google.com/notebooks/data_table.ipynb>data table notebook</a>'\n",
       "            + ' to learn more about interactive tables.';\n",
       "          element.innerHTML = '';\n",
       "          dataTable['output_type'] = 'display_data';\n",
       "          await google.colab.output.renderOutput(dataTable, element);\n",
       "          const docLink = document.createElement('div');\n",
       "          docLink.innerHTML = docLinkHtml;\n",
       "          element.appendChild(docLink);\n",
       "        }\n",
       "      </script>\n",
       "    </div>\n",
       "  </div>\n",
       "  "
      ],
      "text/plain": [
       "                  accountId        adGroupId      campaignId        keywordId  \\\n",
       "0  5ffdb895b08512986422b08c  175642569815727  85580432953015  129388728370771   \n",
       "9  5ffdb895b08512986422b08c  175642569815727  85580432953015  129388728370771   \n",
       "\n",
       "        date          sales         spend  clicks  impressions  orders  \\\n",
       "0 2022-01-20  142838.120000  12583.680000    1281        29878     111   \n",
       "9 2022-01-21  116525.377143  10593.249643    1168        25691      85   \n",
       "\n",
       "        cpc  \n",
       "0  9.823326  \n",
       "9  9.069563  "
      ]
     },
     "execution_count": 50,
     "metadata": {},
     "output_type": "execute_result"
    }
   ],
   "source": [
    "account_data[account_data[\"keywordId\"] == keyword_ids[0]].head(2)"
   ]
  },
  {
   "cell_type": "code",
   "execution_count": 51,
   "metadata": {
    "id": "Kv3ZJ0i6GRJ0"
   },
   "outputs": [],
   "source": [
    "frames_train = []\n",
    "for i in range(len(keyword_ids)):\n",
    "     a = int((40*len(account_data[account_data['keywordId'] == keyword_ids[i]]))/100)\n",
    "     b = len(account_data[account_data['keywordId'] == keyword_ids[i]]) - a\n",
    "     new_df_i = account_data[account_data['keywordId'] == keyword_ids[i]][:b]\n",
    "     frames_train.append(new_df_i)"
   ]
  },
  {
   "cell_type": "code",
   "execution_count": 52,
   "metadata": {
    "id": "ttRz9jWDGRFi"
   },
   "outputs": [],
   "source": [
    "new_df = pd.concat(frames_train)"
   ]
  },
  {
   "cell_type": "code",
   "execution_count": 53,
   "metadata": {
    "colab": {
     "base_uri": "https://localhost:8080/"
    },
    "id": "GcWyl79fcMjs",
    "outputId": "1103d5fe-7a2d-4ac5-ed33-498e2d0e2801"
   },
   "outputs": [
    {
     "data": {
      "text/plain": [
       "(1721, 11)"
      ]
     },
     "execution_count": 53,
     "metadata": {},
     "output_type": "execute_result"
    }
   ],
   "source": [
    "new_df.shape"
   ]
  },
  {
   "cell_type": "code",
   "execution_count": 54,
   "metadata": {
    "colab": {
     "base_uri": "https://localhost:8080/",
     "height": 661
    },
    "id": "pTHlpG6HcUZS",
    "outputId": "ebd4c4be-f405-47ce-fffe-50c5859d40d9"
   },
   "outputs": [
    {
     "data": {
      "text/html": [
       "\n",
       "  <div id=\"df-1395815f-dd31-4fa5-aa46-d53aa7d4ba6f\">\n",
       "    <div class=\"colab-df-container\">\n",
       "      <div>\n",
       "<style scoped>\n",
       "    .dataframe tbody tr th:only-of-type {\n",
       "        vertical-align: middle;\n",
       "    }\n",
       "\n",
       "    .dataframe tbody tr th {\n",
       "        vertical-align: top;\n",
       "    }\n",
       "\n",
       "    .dataframe thead th {\n",
       "        text-align: right;\n",
       "    }\n",
       "</style>\n",
       "<table border=\"1\" class=\"dataframe\">\n",
       "  <thead>\n",
       "    <tr style=\"text-align: right;\">\n",
       "      <th></th>\n",
       "      <th>accountId</th>\n",
       "      <th>adGroupId</th>\n",
       "      <th>campaignId</th>\n",
       "      <th>keywordId</th>\n",
       "      <th>date</th>\n",
       "      <th>sales</th>\n",
       "      <th>spend</th>\n",
       "      <th>clicks</th>\n",
       "      <th>impressions</th>\n",
       "      <th>orders</th>\n",
       "      <th>cpc</th>\n",
       "    </tr>\n",
       "  </thead>\n",
       "  <tbody>\n",
       "    <tr>\n",
       "      <th>0</th>\n",
       "      <td>5ffdb895b08512986422b08c</td>\n",
       "      <td>175642569815727</td>\n",
       "      <td>85580432953015</td>\n",
       "      <td>129388728370771</td>\n",
       "      <td>2022-01-20</td>\n",
       "      <td>142838.120000</td>\n",
       "      <td>12583.680000</td>\n",
       "      <td>1281</td>\n",
       "      <td>29878</td>\n",
       "      <td>111</td>\n",
       "      <td>9.823326</td>\n",
       "    </tr>\n",
       "    <tr>\n",
       "      <th>9</th>\n",
       "      <td>5ffdb895b08512986422b08c</td>\n",
       "      <td>175642569815727</td>\n",
       "      <td>85580432953015</td>\n",
       "      <td>129388728370771</td>\n",
       "      <td>2022-01-21</td>\n",
       "      <td>116525.377143</td>\n",
       "      <td>10593.249643</td>\n",
       "      <td>1168</td>\n",
       "      <td>25691</td>\n",
       "      <td>85</td>\n",
       "      <td>9.069563</td>\n",
       "    </tr>\n",
       "    <tr>\n",
       "      <th>17</th>\n",
       "      <td>5ffdb895b08512986422b08c</td>\n",
       "      <td>175642569815727</td>\n",
       "      <td>85580432953015</td>\n",
       "      <td>129388728370771</td>\n",
       "      <td>2022-01-22</td>\n",
       "      <td>112508.444448</td>\n",
       "      <td>9819.077878</td>\n",
       "      <td>1158</td>\n",
       "      <td>26380</td>\n",
       "      <td>85</td>\n",
       "      <td>8.479342</td>\n",
       "    </tr>\n",
       "    <tr>\n",
       "      <th>24</th>\n",
       "      <td>5ffdb895b08512986422b08c</td>\n",
       "      <td>175642569815727</td>\n",
       "      <td>85580432953015</td>\n",
       "      <td>129388728370771</td>\n",
       "      <td>2022-01-23</td>\n",
       "      <td>113365.773241</td>\n",
       "      <td>9397.466625</td>\n",
       "      <td>1170</td>\n",
       "      <td>27465</td>\n",
       "      <td>83</td>\n",
       "      <td>8.032023</td>\n",
       "    </tr>\n",
       "    <tr>\n",
       "      <th>32</th>\n",
       "      <td>5ffdb895b08512986422b08c</td>\n",
       "      <td>175642569815727</td>\n",
       "      <td>85580432953015</td>\n",
       "      <td>129388728370771</td>\n",
       "      <td>2022-01-24</td>\n",
       "      <td>108217.496805</td>\n",
       "      <td>8806.986435</td>\n",
       "      <td>1136</td>\n",
       "      <td>27727</td>\n",
       "      <td>81</td>\n",
       "      <td>7.752629</td>\n",
       "    </tr>\n",
       "    <tr>\n",
       "      <th>...</th>\n",
       "      <td>...</td>\n",
       "      <td>...</td>\n",
       "      <td>...</td>\n",
       "      <td>...</td>\n",
       "      <td>...</td>\n",
       "      <td>...</td>\n",
       "      <td>...</td>\n",
       "      <td>...</td>\n",
       "      <td>...</td>\n",
       "      <td>...</td>\n",
       "      <td>...</td>\n",
       "    </tr>\n",
       "    <tr>\n",
       "      <th>1973</th>\n",
       "      <td>5ffdb895b08512986422b08c</td>\n",
       "      <td>145787982816138</td>\n",
       "      <td>258268578317508</td>\n",
       "      <td>190918643002238</td>\n",
       "      <td>2022-09-30</td>\n",
       "      <td>25872.236609</td>\n",
       "      <td>1439.157108</td>\n",
       "      <td>219</td>\n",
       "      <td>16509</td>\n",
       "      <td>20</td>\n",
       "      <td>6.571494</td>\n",
       "    </tr>\n",
       "    <tr>\n",
       "      <th>1981</th>\n",
       "      <td>5ffdb895b08512986422b08c</td>\n",
       "      <td>145787982816138</td>\n",
       "      <td>258268578317508</td>\n",
       "      <td>190918643002238</td>\n",
       "      <td>2022-10-01</td>\n",
       "      <td>23591.303726</td>\n",
       "      <td>1319.580160</td>\n",
       "      <td>205</td>\n",
       "      <td>15784</td>\n",
       "      <td>18</td>\n",
       "      <td>6.436976</td>\n",
       "    </tr>\n",
       "    <tr>\n",
       "      <th>1989</th>\n",
       "      <td>5ffdb895b08512986422b08c</td>\n",
       "      <td>145787982816138</td>\n",
       "      <td>258268578317508</td>\n",
       "      <td>190918643002238</td>\n",
       "      <td>2022-10-02</td>\n",
       "      <td>21309.636561</td>\n",
       "      <td>1214.248138</td>\n",
       "      <td>191</td>\n",
       "      <td>15459</td>\n",
       "      <td>16</td>\n",
       "      <td>6.357320</td>\n",
       "    </tr>\n",
       "    <tr>\n",
       "      <th>1999</th>\n",
       "      <td>5ffdb895b08512986422b08c</td>\n",
       "      <td>145787982816138</td>\n",
       "      <td>258268578317508</td>\n",
       "      <td>190918643002238</td>\n",
       "      <td>2022-10-03</td>\n",
       "      <td>19185.413018</td>\n",
       "      <td>1130.548387</td>\n",
       "      <td>180</td>\n",
       "      <td>14823</td>\n",
       "      <td>15</td>\n",
       "      <td>6.280824</td>\n",
       "    </tr>\n",
       "    <tr>\n",
       "      <th>2007</th>\n",
       "      <td>5ffdb895b08512986422b08c</td>\n",
       "      <td>145787982816138</td>\n",
       "      <td>258268578317508</td>\n",
       "      <td>190918643002238</td>\n",
       "      <td>2022-10-04</td>\n",
       "      <td>17525.099281</td>\n",
       "      <td>1032.136602</td>\n",
       "      <td>166</td>\n",
       "      <td>14821</td>\n",
       "      <td>13</td>\n",
       "      <td>6.217690</td>\n",
       "    </tr>\n",
       "  </tbody>\n",
       "</table>\n",
       "<p>1721 rows × 11 columns</p>\n",
       "</div>\n",
       "      <button class=\"colab-df-convert\" onclick=\"convertToInteractive('df-1395815f-dd31-4fa5-aa46-d53aa7d4ba6f')\"\n",
       "              title=\"Convert this dataframe to an interactive table.\"\n",
       "              style=\"display:none;\">\n",
       "        \n",
       "  <svg xmlns=\"http://www.w3.org/2000/svg\" height=\"24px\"viewBox=\"0 0 24 24\"\n",
       "       width=\"24px\">\n",
       "    <path d=\"M0 0h24v24H0V0z\" fill=\"none\"/>\n",
       "    <path d=\"M18.56 5.44l.94 2.06.94-2.06 2.06-.94-2.06-.94-.94-2.06-.94 2.06-2.06.94zm-11 1L8.5 8.5l.94-2.06 2.06-.94-2.06-.94L8.5 2.5l-.94 2.06-2.06.94zm10 10l.94 2.06.94-2.06 2.06-.94-2.06-.94-.94-2.06-.94 2.06-2.06.94z\"/><path d=\"M17.41 7.96l-1.37-1.37c-.4-.4-.92-.59-1.43-.59-.52 0-1.04.2-1.43.59L10.3 9.45l-7.72 7.72c-.78.78-.78 2.05 0 2.83L4 21.41c.39.39.9.59 1.41.59.51 0 1.02-.2 1.41-.59l7.78-7.78 2.81-2.81c.8-.78.8-2.07 0-2.86zM5.41 20L4 18.59l7.72-7.72 1.47 1.35L5.41 20z\"/>\n",
       "  </svg>\n",
       "      </button>\n",
       "      \n",
       "  <style>\n",
       "    .colab-df-container {\n",
       "      display:flex;\n",
       "      flex-wrap:wrap;\n",
       "      gap: 12px;\n",
       "    }\n",
       "\n",
       "    .colab-df-convert {\n",
       "      background-color: #E8F0FE;\n",
       "      border: none;\n",
       "      border-radius: 50%;\n",
       "      cursor: pointer;\n",
       "      display: none;\n",
       "      fill: #1967D2;\n",
       "      height: 32px;\n",
       "      padding: 0 0 0 0;\n",
       "      width: 32px;\n",
       "    }\n",
       "\n",
       "    .colab-df-convert:hover {\n",
       "      background-color: #E2EBFA;\n",
       "      box-shadow: 0px 1px 2px rgba(60, 64, 67, 0.3), 0px 1px 3px 1px rgba(60, 64, 67, 0.15);\n",
       "      fill: #174EA6;\n",
       "    }\n",
       "\n",
       "    [theme=dark] .colab-df-convert {\n",
       "      background-color: #3B4455;\n",
       "      fill: #D2E3FC;\n",
       "    }\n",
       "\n",
       "    [theme=dark] .colab-df-convert:hover {\n",
       "      background-color: #434B5C;\n",
       "      box-shadow: 0px 1px 3px 1px rgba(0, 0, 0, 0.15);\n",
       "      filter: drop-shadow(0px 1px 2px rgba(0, 0, 0, 0.3));\n",
       "      fill: #FFFFFF;\n",
       "    }\n",
       "  </style>\n",
       "\n",
       "      <script>\n",
       "        const buttonEl =\n",
       "          document.querySelector('#df-1395815f-dd31-4fa5-aa46-d53aa7d4ba6f button.colab-df-convert');\n",
       "        buttonEl.style.display =\n",
       "          google.colab.kernel.accessAllowed ? 'block' : 'none';\n",
       "\n",
       "        async function convertToInteractive(key) {\n",
       "          const element = document.querySelector('#df-1395815f-dd31-4fa5-aa46-d53aa7d4ba6f');\n",
       "          const dataTable =\n",
       "            await google.colab.kernel.invokeFunction('convertToInteractive',\n",
       "                                                     [key], {});\n",
       "          if (!dataTable) return;\n",
       "\n",
       "          const docLinkHtml = 'Like what you see? Visit the ' +\n",
       "            '<a target=\"_blank\" href=https://colab.research.google.com/notebooks/data_table.ipynb>data table notebook</a>'\n",
       "            + ' to learn more about interactive tables.';\n",
       "          element.innerHTML = '';\n",
       "          dataTable['output_type'] = 'display_data';\n",
       "          await google.colab.output.renderOutput(dataTable, element);\n",
       "          const docLink = document.createElement('div');\n",
       "          docLink.innerHTML = docLinkHtml;\n",
       "          element.appendChild(docLink);\n",
       "        }\n",
       "      </script>\n",
       "    </div>\n",
       "  </div>\n",
       "  "
      ],
      "text/plain": [
       "                     accountId        adGroupId       campaignId  \\\n",
       "0     5ffdb895b08512986422b08c  175642569815727   85580432953015   \n",
       "9     5ffdb895b08512986422b08c  175642569815727   85580432953015   \n",
       "17    5ffdb895b08512986422b08c  175642569815727   85580432953015   \n",
       "24    5ffdb895b08512986422b08c  175642569815727   85580432953015   \n",
       "32    5ffdb895b08512986422b08c  175642569815727   85580432953015   \n",
       "...                        ...              ...              ...   \n",
       "1973  5ffdb895b08512986422b08c  145787982816138  258268578317508   \n",
       "1981  5ffdb895b08512986422b08c  145787982816138  258268578317508   \n",
       "1989  5ffdb895b08512986422b08c  145787982816138  258268578317508   \n",
       "1999  5ffdb895b08512986422b08c  145787982816138  258268578317508   \n",
       "2007  5ffdb895b08512986422b08c  145787982816138  258268578317508   \n",
       "\n",
       "            keywordId       date          sales         spend  clicks  \\\n",
       "0     129388728370771 2022-01-20  142838.120000  12583.680000    1281   \n",
       "9     129388728370771 2022-01-21  116525.377143  10593.249643    1168   \n",
       "17    129388728370771 2022-01-22  112508.444448   9819.077878    1158   \n",
       "24    129388728370771 2022-01-23  113365.773241   9397.466625    1170   \n",
       "32    129388728370771 2022-01-24  108217.496805   8806.986435    1136   \n",
       "...               ...        ...            ...           ...     ...   \n",
       "1973  190918643002238 2022-09-30   25872.236609   1439.157108     219   \n",
       "1981  190918643002238 2022-10-01   23591.303726   1319.580160     205   \n",
       "1989  190918643002238 2022-10-02   21309.636561   1214.248138     191   \n",
       "1999  190918643002238 2022-10-03   19185.413018   1130.548387     180   \n",
       "2007  190918643002238 2022-10-04   17525.099281   1032.136602     166   \n",
       "\n",
       "      impressions  orders       cpc  \n",
       "0           29878     111  9.823326  \n",
       "9           25691      85  9.069563  \n",
       "17          26380      85  8.479342  \n",
       "24          27465      83  8.032023  \n",
       "32          27727      81  7.752629  \n",
       "...           ...     ...       ...  \n",
       "1973        16509      20  6.571494  \n",
       "1981        15784      18  6.436976  \n",
       "1989        15459      16  6.357320  \n",
       "1999        14823      15  6.280824  \n",
       "2007        14821      13  6.217690  \n",
       "\n",
       "[1721 rows x 11 columns]"
      ]
     },
     "execution_count": 54,
     "metadata": {},
     "output_type": "execute_result"
    }
   ],
   "source": [
    "new_df"
   ]
  },
  {
   "cell_type": "code",
   "execution_count": 55,
   "metadata": {
    "id": "p79W4E3QJab3"
   },
   "outputs": [],
   "source": [
    "new_df.reset_index(inplace = True)"
   ]
  },
  {
   "cell_type": "code",
   "execution_count": 56,
   "metadata": {
    "id": "lzfzDY_3JaZ_"
   },
   "outputs": [],
   "source": [
    "new_df.drop(columns =\"index\", inplace = True)"
   ]
  },
  {
   "cell_type": "code",
   "execution_count": 57,
   "metadata": {
    "colab": {
     "base_uri": "https://localhost:8080/",
     "height": 661
    },
    "id": "YqfXsBVVJaXY",
    "outputId": "3c34858b-4199-407e-dbfc-6c6f2c4fa1ac"
   },
   "outputs": [
    {
     "data": {
      "text/html": [
       "\n",
       "  <div id=\"df-2037aced-a4a5-4c29-8ea5-df8987ff5a74\">\n",
       "    <div class=\"colab-df-container\">\n",
       "      <div>\n",
       "<style scoped>\n",
       "    .dataframe tbody tr th:only-of-type {\n",
       "        vertical-align: middle;\n",
       "    }\n",
       "\n",
       "    .dataframe tbody tr th {\n",
       "        vertical-align: top;\n",
       "    }\n",
       "\n",
       "    .dataframe thead th {\n",
       "        text-align: right;\n",
       "    }\n",
       "</style>\n",
       "<table border=\"1\" class=\"dataframe\">\n",
       "  <thead>\n",
       "    <tr style=\"text-align: right;\">\n",
       "      <th></th>\n",
       "      <th>accountId</th>\n",
       "      <th>adGroupId</th>\n",
       "      <th>campaignId</th>\n",
       "      <th>keywordId</th>\n",
       "      <th>date</th>\n",
       "      <th>sales</th>\n",
       "      <th>spend</th>\n",
       "      <th>clicks</th>\n",
       "      <th>impressions</th>\n",
       "      <th>orders</th>\n",
       "      <th>cpc</th>\n",
       "    </tr>\n",
       "  </thead>\n",
       "  <tbody>\n",
       "    <tr>\n",
       "      <th>0</th>\n",
       "      <td>5ffdb895b08512986422b08c</td>\n",
       "      <td>175642569815727</td>\n",
       "      <td>85580432953015</td>\n",
       "      <td>129388728370771</td>\n",
       "      <td>2022-01-20</td>\n",
       "      <td>142838.120000</td>\n",
       "      <td>12583.680000</td>\n",
       "      <td>1281</td>\n",
       "      <td>29878</td>\n",
       "      <td>111</td>\n",
       "      <td>9.823326</td>\n",
       "    </tr>\n",
       "    <tr>\n",
       "      <th>1</th>\n",
       "      <td>5ffdb895b08512986422b08c</td>\n",
       "      <td>175642569815727</td>\n",
       "      <td>85580432953015</td>\n",
       "      <td>129388728370771</td>\n",
       "      <td>2022-01-21</td>\n",
       "      <td>116525.377143</td>\n",
       "      <td>10593.249643</td>\n",
       "      <td>1168</td>\n",
       "      <td>25691</td>\n",
       "      <td>85</td>\n",
       "      <td>9.069563</td>\n",
       "    </tr>\n",
       "    <tr>\n",
       "      <th>2</th>\n",
       "      <td>5ffdb895b08512986422b08c</td>\n",
       "      <td>175642569815727</td>\n",
       "      <td>85580432953015</td>\n",
       "      <td>129388728370771</td>\n",
       "      <td>2022-01-22</td>\n",
       "      <td>112508.444448</td>\n",
       "      <td>9819.077878</td>\n",
       "      <td>1158</td>\n",
       "      <td>26380</td>\n",
       "      <td>85</td>\n",
       "      <td>8.479342</td>\n",
       "    </tr>\n",
       "    <tr>\n",
       "      <th>3</th>\n",
       "      <td>5ffdb895b08512986422b08c</td>\n",
       "      <td>175642569815727</td>\n",
       "      <td>85580432953015</td>\n",
       "      <td>129388728370771</td>\n",
       "      <td>2022-01-23</td>\n",
       "      <td>113365.773241</td>\n",
       "      <td>9397.466625</td>\n",
       "      <td>1170</td>\n",
       "      <td>27465</td>\n",
       "      <td>83</td>\n",
       "      <td>8.032023</td>\n",
       "    </tr>\n",
       "    <tr>\n",
       "      <th>4</th>\n",
       "      <td>5ffdb895b08512986422b08c</td>\n",
       "      <td>175642569815727</td>\n",
       "      <td>85580432953015</td>\n",
       "      <td>129388728370771</td>\n",
       "      <td>2022-01-24</td>\n",
       "      <td>108217.496805</td>\n",
       "      <td>8806.986435</td>\n",
       "      <td>1136</td>\n",
       "      <td>27727</td>\n",
       "      <td>81</td>\n",
       "      <td>7.752629</td>\n",
       "    </tr>\n",
       "    <tr>\n",
       "      <th>...</th>\n",
       "      <td>...</td>\n",
       "      <td>...</td>\n",
       "      <td>...</td>\n",
       "      <td>...</td>\n",
       "      <td>...</td>\n",
       "      <td>...</td>\n",
       "      <td>...</td>\n",
       "      <td>...</td>\n",
       "      <td>...</td>\n",
       "      <td>...</td>\n",
       "      <td>...</td>\n",
       "    </tr>\n",
       "    <tr>\n",
       "      <th>1716</th>\n",
       "      <td>5ffdb895b08512986422b08c</td>\n",
       "      <td>145787982816138</td>\n",
       "      <td>258268578317508</td>\n",
       "      <td>190918643002238</td>\n",
       "      <td>2022-09-30</td>\n",
       "      <td>25872.236609</td>\n",
       "      <td>1439.157108</td>\n",
       "      <td>219</td>\n",
       "      <td>16509</td>\n",
       "      <td>20</td>\n",
       "      <td>6.571494</td>\n",
       "    </tr>\n",
       "    <tr>\n",
       "      <th>1717</th>\n",
       "      <td>5ffdb895b08512986422b08c</td>\n",
       "      <td>145787982816138</td>\n",
       "      <td>258268578317508</td>\n",
       "      <td>190918643002238</td>\n",
       "      <td>2022-10-01</td>\n",
       "      <td>23591.303726</td>\n",
       "      <td>1319.580160</td>\n",
       "      <td>205</td>\n",
       "      <td>15784</td>\n",
       "      <td>18</td>\n",
       "      <td>6.436976</td>\n",
       "    </tr>\n",
       "    <tr>\n",
       "      <th>1718</th>\n",
       "      <td>5ffdb895b08512986422b08c</td>\n",
       "      <td>145787982816138</td>\n",
       "      <td>258268578317508</td>\n",
       "      <td>190918643002238</td>\n",
       "      <td>2022-10-02</td>\n",
       "      <td>21309.636561</td>\n",
       "      <td>1214.248138</td>\n",
       "      <td>191</td>\n",
       "      <td>15459</td>\n",
       "      <td>16</td>\n",
       "      <td>6.357320</td>\n",
       "    </tr>\n",
       "    <tr>\n",
       "      <th>1719</th>\n",
       "      <td>5ffdb895b08512986422b08c</td>\n",
       "      <td>145787982816138</td>\n",
       "      <td>258268578317508</td>\n",
       "      <td>190918643002238</td>\n",
       "      <td>2022-10-03</td>\n",
       "      <td>19185.413018</td>\n",
       "      <td>1130.548387</td>\n",
       "      <td>180</td>\n",
       "      <td>14823</td>\n",
       "      <td>15</td>\n",
       "      <td>6.280824</td>\n",
       "    </tr>\n",
       "    <tr>\n",
       "      <th>1720</th>\n",
       "      <td>5ffdb895b08512986422b08c</td>\n",
       "      <td>145787982816138</td>\n",
       "      <td>258268578317508</td>\n",
       "      <td>190918643002238</td>\n",
       "      <td>2022-10-04</td>\n",
       "      <td>17525.099281</td>\n",
       "      <td>1032.136602</td>\n",
       "      <td>166</td>\n",
       "      <td>14821</td>\n",
       "      <td>13</td>\n",
       "      <td>6.217690</td>\n",
       "    </tr>\n",
       "  </tbody>\n",
       "</table>\n",
       "<p>1652 rows × 11 columns</p>\n",
       "</div>\n",
       "      <button class=\"colab-df-convert\" onclick=\"convertToInteractive('df-2037aced-a4a5-4c29-8ea5-df8987ff5a74')\"\n",
       "              title=\"Convert this dataframe to an interactive table.\"\n",
       "              style=\"display:none;\">\n",
       "        \n",
       "  <svg xmlns=\"http://www.w3.org/2000/svg\" height=\"24px\"viewBox=\"0 0 24 24\"\n",
       "       width=\"24px\">\n",
       "    <path d=\"M0 0h24v24H0V0z\" fill=\"none\"/>\n",
       "    <path d=\"M18.56 5.44l.94 2.06.94-2.06 2.06-.94-2.06-.94-.94-2.06-.94 2.06-2.06.94zm-11 1L8.5 8.5l.94-2.06 2.06-.94-2.06-.94L8.5 2.5l-.94 2.06-2.06.94zm10 10l.94 2.06.94-2.06 2.06-.94-2.06-.94-.94-2.06-.94 2.06-2.06.94z\"/><path d=\"M17.41 7.96l-1.37-1.37c-.4-.4-.92-.59-1.43-.59-.52 0-1.04.2-1.43.59L10.3 9.45l-7.72 7.72c-.78.78-.78 2.05 0 2.83L4 21.41c.39.39.9.59 1.41.59.51 0 1.02-.2 1.41-.59l7.78-7.78 2.81-2.81c.8-.78.8-2.07 0-2.86zM5.41 20L4 18.59l7.72-7.72 1.47 1.35L5.41 20z\"/>\n",
       "  </svg>\n",
       "      </button>\n",
       "      \n",
       "  <style>\n",
       "    .colab-df-container {\n",
       "      display:flex;\n",
       "      flex-wrap:wrap;\n",
       "      gap: 12px;\n",
       "    }\n",
       "\n",
       "    .colab-df-convert {\n",
       "      background-color: #E8F0FE;\n",
       "      border: none;\n",
       "      border-radius: 50%;\n",
       "      cursor: pointer;\n",
       "      display: none;\n",
       "      fill: #1967D2;\n",
       "      height: 32px;\n",
       "      padding: 0 0 0 0;\n",
       "      width: 32px;\n",
       "    }\n",
       "\n",
       "    .colab-df-convert:hover {\n",
       "      background-color: #E2EBFA;\n",
       "      box-shadow: 0px 1px 2px rgba(60, 64, 67, 0.3), 0px 1px 3px 1px rgba(60, 64, 67, 0.15);\n",
       "      fill: #174EA6;\n",
       "    }\n",
       "\n",
       "    [theme=dark] .colab-df-convert {\n",
       "      background-color: #3B4455;\n",
       "      fill: #D2E3FC;\n",
       "    }\n",
       "\n",
       "    [theme=dark] .colab-df-convert:hover {\n",
       "      background-color: #434B5C;\n",
       "      box-shadow: 0px 1px 3px 1px rgba(0, 0, 0, 0.15);\n",
       "      filter: drop-shadow(0px 1px 2px rgba(0, 0, 0, 0.3));\n",
       "      fill: #FFFFFF;\n",
       "    }\n",
       "  </style>\n",
       "\n",
       "      <script>\n",
       "        const buttonEl =\n",
       "          document.querySelector('#df-2037aced-a4a5-4c29-8ea5-df8987ff5a74 button.colab-df-convert');\n",
       "        buttonEl.style.display =\n",
       "          google.colab.kernel.accessAllowed ? 'block' : 'none';\n",
       "\n",
       "        async function convertToInteractive(key) {\n",
       "          const element = document.querySelector('#df-2037aced-a4a5-4c29-8ea5-df8987ff5a74');\n",
       "          const dataTable =\n",
       "            await google.colab.kernel.invokeFunction('convertToInteractive',\n",
       "                                                     [key], {});\n",
       "          if (!dataTable) return;\n",
       "\n",
       "          const docLinkHtml = 'Like what you see? Visit the ' +\n",
       "            '<a target=\"_blank\" href=https://colab.research.google.com/notebooks/data_table.ipynb>data table notebook</a>'\n",
       "            + ' to learn more about interactive tables.';\n",
       "          element.innerHTML = '';\n",
       "          dataTable['output_type'] = 'display_data';\n",
       "          await google.colab.output.renderOutput(dataTable, element);\n",
       "          const docLink = document.createElement('div');\n",
       "          docLink.innerHTML = docLinkHtml;\n",
       "          element.appendChild(docLink);\n",
       "        }\n",
       "      </script>\n",
       "    </div>\n",
       "  </div>\n",
       "  "
      ],
      "text/plain": [
       "                     accountId        adGroupId       campaignId  \\\n",
       "0     5ffdb895b08512986422b08c  175642569815727   85580432953015   \n",
       "1     5ffdb895b08512986422b08c  175642569815727   85580432953015   \n",
       "2     5ffdb895b08512986422b08c  175642569815727   85580432953015   \n",
       "3     5ffdb895b08512986422b08c  175642569815727   85580432953015   \n",
       "4     5ffdb895b08512986422b08c  175642569815727   85580432953015   \n",
       "...                        ...              ...              ...   \n",
       "1716  5ffdb895b08512986422b08c  145787982816138  258268578317508   \n",
       "1717  5ffdb895b08512986422b08c  145787982816138  258268578317508   \n",
       "1718  5ffdb895b08512986422b08c  145787982816138  258268578317508   \n",
       "1719  5ffdb895b08512986422b08c  145787982816138  258268578317508   \n",
       "1720  5ffdb895b08512986422b08c  145787982816138  258268578317508   \n",
       "\n",
       "            keywordId       date          sales         spend  clicks  \\\n",
       "0     129388728370771 2022-01-20  142838.120000  12583.680000    1281   \n",
       "1     129388728370771 2022-01-21  116525.377143  10593.249643    1168   \n",
       "2     129388728370771 2022-01-22  112508.444448   9819.077878    1158   \n",
       "3     129388728370771 2022-01-23  113365.773241   9397.466625    1170   \n",
       "4     129388728370771 2022-01-24  108217.496805   8806.986435    1136   \n",
       "...               ...        ...            ...           ...     ...   \n",
       "1716  190918643002238 2022-09-30   25872.236609   1439.157108     219   \n",
       "1717  190918643002238 2022-10-01   23591.303726   1319.580160     205   \n",
       "1718  190918643002238 2022-10-02   21309.636561   1214.248138     191   \n",
       "1719  190918643002238 2022-10-03   19185.413018   1130.548387     180   \n",
       "1720  190918643002238 2022-10-04   17525.099281   1032.136602     166   \n",
       "\n",
       "      impressions  orders       cpc  \n",
       "0           29878     111  9.823326  \n",
       "1           25691      85  9.069563  \n",
       "2           26380      85  8.479342  \n",
       "3           27465      83  8.032023  \n",
       "4           27727      81  7.752629  \n",
       "...           ...     ...       ...  \n",
       "1716        16509      20  6.571494  \n",
       "1717        15784      18  6.436976  \n",
       "1718        15459      16  6.357320  \n",
       "1719        14823      15  6.280824  \n",
       "1720        14821      13  6.217690  \n",
       "\n",
       "[1652 rows x 11 columns]"
      ]
     },
     "execution_count": 57,
     "metadata": {},
     "output_type": "execute_result"
    }
   ],
   "source": [
    "new_df[new_df['cpc'] != max(new_df['cpc'])]"
   ]
  },
  {
   "cell_type": "code",
   "execution_count": 58,
   "metadata": {
    "id": "mk3dbAnKJaVh"
   },
   "outputs": [],
   "source": [
    "mean_cpc = sum(new_df[new_df['cpc'] != max(new_df['cpc'])]['cpc'])/len(new_df[new_df['cpc'] != max(new_df['cpc'])])"
   ]
  },
  {
   "cell_type": "code",
   "execution_count": 59,
   "metadata": {
    "id": "unSawmBoMpd7"
   },
   "outputs": [],
   "source": [
    "new_df['cpc'] = new_df['cpc'].astype(str)"
   ]
  },
  {
   "cell_type": "code",
   "execution_count": 60,
   "metadata": {
    "colab": {
     "base_uri": "https://localhost:8080/"
    },
    "id": "gHnG2cRpM18Y",
    "outputId": "96f796e5-9cfd-43b6-afac-0e0358ef2018"
   },
   "outputs": [
    {
     "data": {
      "text/plain": [
       "accountId              object\n",
       "adGroupId               int64\n",
       "campaignId              int64\n",
       "keywordId              object\n",
       "date           datetime64[ns]\n",
       "sales                 float64\n",
       "spend                 float64\n",
       "clicks                  int64\n",
       "impressions             int64\n",
       "orders                  int64\n",
       "cpc                    object\n",
       "dtype: object"
      ]
     },
     "execution_count": 60,
     "metadata": {},
     "output_type": "execute_result"
    }
   ],
   "source": [
    "new_df.dtypes"
   ]
  },
  {
   "cell_type": "code",
   "execution_count": 61,
   "metadata": {
    "id": "hSUu4A5BJaMS"
   },
   "outputs": [],
   "source": [
    "new_df.replace({\"cpc\":{\"inf\":mean_cpc}},inplace = True)"
   ]
  },
  {
   "cell_type": "code",
   "execution_count": 62,
   "metadata": {
    "id": "rA4z0vxeM92j"
   },
   "outputs": [],
   "source": [
    "new_df['cpc'] = new_df['cpc'].astype(float)"
   ]
  },
  {
   "cell_type": "code",
   "execution_count": 63,
   "metadata": {
    "colab": {
     "base_uri": "https://localhost:8080/"
    },
    "id": "UgvE2yILNh7i",
    "outputId": "d4f3c898-243c-4cfa-d9b7-1bbc21eb5d47"
   },
   "outputs": [
    {
     "data": {
      "text/plain": [
       "33.37953149076742"
      ]
     },
     "execution_count": 63,
     "metadata": {},
     "output_type": "execute_result"
    }
   ],
   "source": [
    "max(new_df['cpc'])"
   ]
  },
  {
   "cell_type": "code",
   "execution_count": 64,
   "metadata": {
    "id": "xJB843JJNsQA"
   },
   "outputs": [],
   "source": [
    "account_data = new_df"
   ]
  },
  {
   "cell_type": "code",
   "execution_count": 65,
   "metadata": {
    "colab": {
     "base_uri": "https://localhost:8080/"
    },
    "id": "57SfXNLlpLaD",
    "outputId": "34e36103-c432-4c14-d66e-3297fe6e3e63"
   },
   "outputs": [
    {
     "data": {
      "text/plain": [
       "(1721, 11)"
      ]
     },
     "execution_count": 65,
     "metadata": {},
     "output_type": "execute_result"
    }
   ],
   "source": [
    "account_data.shape"
   ]
  },
  {
   "cell_type": "code",
   "execution_count": 66,
   "metadata": {
    "colab": {
     "base_uri": "https://localhost:8080/"
    },
    "id": "6RRczsfWE-bG",
    "outputId": "fa9900a9-85ce-4b65-c137-88b7bfb184b0"
   },
   "outputs": [
    {
     "data": {
      "text/plain": [
       "0.0"
      ]
     },
     "execution_count": 66,
     "metadata": {},
     "output_type": "execute_result"
    }
   ],
   "source": [
    "min(account_data['spend'])"
   ]
  },
  {
   "cell_type": "code",
   "execution_count": 67,
   "metadata": {
    "id": "jsGpbyuwGCmZ"
   },
   "outputs": [],
   "source": [
    "x_scaler = preprocessing.MinMaxScaler()\n",
    "y_scaler = preprocessing.MinMaxScaler()\n",
    "dataX = x_scaler.fit_transform(account_data[['sales','spend', 'clicks', 'impressions', 'orders','cpc']])\n",
    "dataY = y_scaler.fit_transform(account_data[['sales','spend']])"
   ]
  },
  {
   "cell_type": "code",
   "execution_count": 68,
   "metadata": {
    "id": "hjJgru6ZGGuJ"
   },
   "outputs": [],
   "source": [
    "def create_dataset(dataset, time_step):\n",
    "    import numpy\n",
    "    dataX, dataY = [], []\n",
    "    for i in range(len(dataset)-time_step-1):\n",
    "        a = dataset[i:(i+time_step), 0]   ###i=0, 0,1,2,3-----99   100 \n",
    "        dataX.append(a)\n",
    "        dataY.append(dataset[i + time_step, 0])\n",
    "    return numpy.array(dataX), numpy.array(dataY)"
   ]
  },
  {
   "cell_type": "code",
   "execution_count": 69,
   "metadata": {
    "id": "kFYEtkelNxsf"
   },
   "outputs": [],
   "source": [
    "x_train_multi,y_train_multi = create_dataset(dataX,14)\n",
    "x_val_multi, y_val_multi = create_dataset(dataY,14)"
   ]
  },
  {
   "cell_type": "code",
   "execution_count": 70,
   "metadata": {
    "id": "TluWwvSNNzDf"
   },
   "outputs": [],
   "source": [
    "# reshape input to be [samples, time steps, features] which is required for LSTM\n",
    "x_train_multi =x_train_multi.reshape(x_train_multi.shape[0],x_train_multi.shape[1] , 1)\n",
    "x_val_multi = x_val_multi.reshape(x_val_multi.shape[0],x_val_multi.shape[1] , 1)"
   ]
  },
  {
   "cell_type": "code",
   "execution_count": 71,
   "metadata": {
    "id": "SmtQebPoN0Yf"
   },
   "outputs": [],
   "source": [
    "BATCH_SIZE = 256\n",
    "BUFFER_SIZE = 150\n",
    "\n",
    "train_data_multi = tf.data.Dataset.from_tensor_slices((x_train_multi, y_train_multi))\n",
    "train_data_multi = train_data_multi.cache().shuffle(BUFFER_SIZE).batch(BATCH_SIZE).repeat()\n",
    "\n",
    "val_data_multi = tf.data.Dataset.from_tensor_slices((x_val_multi, y_val_multi))\n",
    "val_data_multi = val_data_multi.batch(BATCH_SIZE).repeat()"
   ]
  },
  {
   "cell_type": "code",
   "execution_count": 72,
   "metadata": {
    "colab": {
     "base_uri": "https://localhost:8080/"
    },
    "id": "mxfgzUF5N13n",
    "outputId": "3ace8508-a13e-42ca-e3bd-8df52aba66da"
   },
   "outputs": [
    {
     "name": "stderr",
     "output_type": "stream",
     "text": [
      "WARNING:tensorflow:Layer lstm_5 will not use cuDNN kernels since it doesn't meet the criteria. It will use a generic GPU kernel as fallback when running on GPU.\n"
     ]
    }
   ],
   "source": [
    "ED_lstm_model = tf.keras.models.Sequential([\n",
    "    tf.keras.layers.LSTM(128,input_shape=x_train_multi.shape[-2:], return_sequences=True,activation = \"LeakyReLU\"),\n",
    "    tf.keras.layers.LSTM(units=64,return_sequences=True),\n",
    "    tf.keras.layers.LSTM(units=60),\n",
    "    tf.keras.layers.RepeatVector(y_train_multi.shape[0]), \n",
    "    tf.keras.layers.LSTM(units=128,return_sequences=True),\n",
    "    tf.keras.layers.LSTM(units=64,return_sequences=False),\n",
    "    tf.keras.layers.Dense(units=2,activation = \"sigmoid\")\n",
    "])\n",
    "ED_lstm_model.compile(optimizer='adam', loss='mean_squared_error')"
   ]
  },
  {
   "cell_type": "code",
   "execution_count": 73,
   "metadata": {
    "colab": {
     "base_uri": "https://localhost:8080/"
    },
    "id": "JBKskzn-N3uH",
    "outputId": "038efec3-97bd-47cf-aacf-0c7825752768"
   },
   "outputs": [
    {
     "name": "stdout",
     "output_type": "stream",
     "text": [
      "Model: \"sequential_1\"\n",
      "_________________________________________________________________\n",
      " Layer (type)                Output Shape              Param #   \n",
      "=================================================================\n",
      " lstm_5 (LSTM)               (None, 14, 128)           66560     \n",
      "                                                                 \n",
      " lstm_6 (LSTM)               (None, 14, 64)            49408     \n",
      "                                                                 \n",
      " lstm_7 (LSTM)               (None, 60)                30000     \n",
      "                                                                 \n",
      " repeat_vector_1 (RepeatVect  (None, 1706, 60)         0         \n",
      " or)                                                             \n",
      "                                                                 \n",
      " lstm_8 (LSTM)               (None, 1706, 128)         96768     \n",
      "                                                                 \n",
      " lstm_9 (LSTM)               (None, 64)                49408     \n",
      "                                                                 \n",
      " dense_1 (Dense)             (None, 2)                 130       \n",
      "                                                                 \n",
      "=================================================================\n",
      "Total params: 292,274\n",
      "Trainable params: 292,274\n",
      "Non-trainable params: 0\n",
      "_________________________________________________________________\n"
     ]
    }
   ],
   "source": [
    "# useful for understanding the model architecture\n",
    "ED_lstm_model.summary()"
   ]
  },
  {
   "cell_type": "code",
   "execution_count": 74,
   "metadata": {
    "id": "wowW5pk3Ohfe"
   },
   "outputs": [],
   "source": [
    "model_path = 'Encoder_Decoder_LSTM_Multivariate_using_opt.h5'"
   ]
  },
  {
   "cell_type": "code",
   "execution_count": 74,
   "metadata": {
    "id": "oNe2L8HBb7WS"
   },
   "outputs": [],
   "source": []
  },
  {
   "cell_type": "code",
   "execution_count": 75,
   "metadata": {
    "colab": {
     "base_uri": "https://localhost:8080/"
    },
    "id": "OU13sOdNzxXv",
    "outputId": "534dff6e-f446-44ba-d77e-d36e6fba4076"
   },
   "outputs": [
    {
     "name": "stdout",
     "output_type": "stream",
     "text": [
      "Epoch 1/40\n",
      "16/16 [==============================] - 17s 619ms/step - loss: 0.0705 - val_loss: 0.0131\n",
      "Epoch 2/40\n",
      "16/16 [==============================] - 9s 572ms/step - loss: 0.0090 - val_loss: 0.0087\n",
      "Epoch 3/40\n",
      "16/16 [==============================] - 8s 525ms/step - loss: 0.0083 - val_loss: 0.0087\n",
      "Epoch 4/40\n",
      "16/16 [==============================] - 9s 563ms/step - loss: 0.0093 - val_loss: 0.0086\n",
      "Epoch 5/40\n",
      "16/16 [==============================] - 8s 528ms/step - loss: 0.0081 - val_loss: 0.0086\n",
      "Epoch 6/40\n",
      "16/16 [==============================] - 8s 529ms/step - loss: 0.0078 - val_loss: 0.0083\n",
      "Epoch 7/40\n",
      "16/16 [==============================] - 8s 526ms/step - loss: 0.0079 - val_loss: 0.0070\n",
      "Epoch 8/40\n",
      "16/16 [==============================] - 8s 517ms/step - loss: 0.0067 - val_loss: 0.0079\n",
      "Epoch 9/40\n",
      "16/16 [==============================] - 8s 536ms/step - loss: 0.0067 - val_loss: 0.0063\n",
      "Epoch 10/40\n",
      "16/16 [==============================] - 8s 523ms/step - loss: 0.0050 - val_loss: 0.0044\n",
      "Epoch 11/40\n",
      "16/16 [==============================] - 8s 525ms/step - loss: 0.0045 - val_loss: 0.0035\n",
      "Epoch 12/40\n",
      "16/16 [==============================] - 8s 526ms/step - loss: 0.0032 - val_loss: 0.0030\n",
      "Epoch 13/40\n",
      "16/16 [==============================] - 8s 520ms/step - loss: 0.0154 - val_loss: 0.0026\n",
      "Epoch 14/40\n",
      "16/16 [==============================] - 8s 534ms/step - loss: 0.0100 - val_loss: 0.0048\n",
      "Epoch 15/40\n",
      "16/16 [==============================] - 8s 526ms/step - loss: 0.0034 - val_loss: 0.0039\n",
      "Epoch 16/40\n",
      "16/16 [==============================] - 8s 530ms/step - loss: 0.0026 - val_loss: 0.0022\n",
      "Epoch 17/40\n",
      "16/16 [==============================] - 8s 533ms/step - loss: 0.0022 - val_loss: 0.0020\n",
      "Epoch 18/40\n",
      "16/16 [==============================] - 8s 528ms/step - loss: 0.0021 - val_loss: 0.0017\n",
      "Epoch 19/40\n",
      "16/16 [==============================] - 8s 530ms/step - loss: 0.0017 - val_loss: 0.0016\n",
      "Epoch 20/40\n",
      "16/16 [==============================] - 8s 526ms/step - loss: 0.0028 - val_loss: 0.0032\n",
      "Epoch 21/40\n",
      "16/16 [==============================] - 8s 524ms/step - loss: 0.0031 - val_loss: 0.0024\n",
      "Epoch 22/40\n",
      "16/16 [==============================] - 8s 526ms/step - loss: 0.0025 - val_loss: 0.0018\n",
      "Epoch 23/40\n",
      "16/16 [==============================] - 8s 522ms/step - loss: 0.0019 - val_loss: 0.0020\n",
      "Epoch 24/40\n",
      "16/16 [==============================] - 8s 536ms/step - loss: 0.0024 - val_loss: 0.0028\n",
      "Epoch 25/40\n",
      "16/16 [==============================] - 8s 530ms/step - loss: 0.0022 - val_loss: 0.0014\n",
      "Epoch 26/40\n",
      "16/16 [==============================] - 8s 522ms/step - loss: 0.0021 - val_loss: 0.0016\n",
      "Epoch 27/40\n",
      "16/16 [==============================] - 8s 529ms/step - loss: 0.0019 - val_loss: 0.0015\n",
      "Epoch 28/40\n",
      "16/16 [==============================] - 9s 572ms/step - loss: 0.0017 - val_loss: 0.0018\n",
      "Epoch 29/40\n",
      "16/16 [==============================] - 8s 524ms/step - loss: 0.0018 - val_loss: 0.0019\n",
      "Epoch 30/40\n",
      "16/16 [==============================] - 8s 525ms/step - loss: 0.0015 - val_loss: 0.0014\n",
      "Epoch 31/40\n",
      "16/16 [==============================] - 8s 526ms/step - loss: 0.0013 - val_loss: 0.0014\n",
      "Epoch 32/40\n",
      "16/16 [==============================] - 8s 536ms/step - loss: 0.0016 - val_loss: 0.0016\n",
      "Epoch 33/40\n",
      "16/16 [==============================] - 8s 527ms/step - loss: 0.0014 - val_loss: 0.0018\n",
      "Epoch 34/40\n",
      "16/16 [==============================] - 8s 529ms/step - loss: 0.0011 - val_loss: 0.0015\n",
      "Epoch 35/40\n",
      "16/16 [==============================] - 8s 528ms/step - loss: 0.0015 - val_loss: 0.0011\n",
      "Epoch 36/40\n",
      "16/16 [==============================] - 8s 520ms/step - loss: 0.0015 - val_loss: 0.0015\n",
      "Epoch 37/40\n",
      "16/16 [==============================] - 8s 538ms/step - loss: 0.0013 - val_loss: 0.0013\n",
      "Epoch 38/40\n",
      "16/16 [==============================] - 9s 574ms/step - loss: 0.0014 - val_loss: 0.0012\n",
      "Epoch 39/40\n",
      "16/16 [==============================] - 8s 525ms/step - loss: 0.0014 - val_loss: 9.7413e-04\n",
      "Epoch 40/40\n",
      "16/16 [==============================] - 9s 567ms/step - loss: 0.0011 - val_loss: 0.0011\n"
     ]
    }
   ],
   "source": [
    "model_path = 'Encoder_Decoder_LSTM_Multivariate_using_opt.h5'\n",
    "EVALUATION_INTERVAL = 16\n",
    "EPOCHS = 40\n",
    "history = ED_lstm_model.fit(train_data_multi, epochs=EPOCHS,steps_per_epoch=EVALUATION_INTERVAL,\n",
    "                            validation_data=val_data_multi, validation_steps=50,verbose =1,\n",
    "                              callbacks =[\n",
    "                                  tf.keras.callbacks.EarlyStopping(monitor='val_loss', \n",
    "                                                                   min_delta=0, patience=10, verbose=1, mode='min'),\n",
    "                                  tf.keras.callbacks.ModelCheckpoint(model_path,\n",
    "                                                                     monitor='val_loss', save_best_only=True,\n",
    "                                                                     mode='min', verbose=0)\n",
    "                              ]\n",
    "                           ) "
   ]
  },
  {
   "cell_type": "code",
   "execution_count": 76,
   "metadata": {
    "colab": {
     "base_uri": "https://localhost:8080/"
    },
    "id": "9zijYeznOmy-",
    "outputId": "e7bb9543-7526-471c-b5b0-8ed342392bf7"
   },
   "outputs": [
    {
     "name": "stderr",
     "output_type": "stream",
     "text": [
      "WARNING:tensorflow:Layer lstm_5 will not use cuDNN kernels since it doesn't meet the criteria. It will use a generic GPU kernel as fallback when running on GPU.\n"
     ]
    }
   ],
   "source": [
    "trained_model = tf.keras.models.load_model(\"/content/Encoder_Decoder_LSTM_Multivariate_using_opt.h5\")"
   ]
  },
  {
   "cell_type": "code",
   "execution_count": 77,
   "metadata": {
    "colab": {
     "base_uri": "https://localhost:8080/"
    },
    "id": "V0M-MPEFmDcv",
    "outputId": "7f975665-ea03-4539-c92a-5407bcee9a87"
   },
   "outputs": [
    {
     "name": "stdout",
     "output_type": "stream",
     "text": [
      "Model: \"sequential_1\"\n",
      "_________________________________________________________________\n",
      " Layer (type)                Output Shape              Param #   \n",
      "=================================================================\n",
      " lstm_5 (LSTM)               (None, 14, 128)           66560     \n",
      "                                                                 \n",
      " lstm_6 (LSTM)               (None, 14, 64)            49408     \n",
      "                                                                 \n",
      " lstm_7 (LSTM)               (None, 60)                30000     \n",
      "                                                                 \n",
      " repeat_vector_1 (RepeatVect  (None, 1706, 60)         0         \n",
      " or)                                                             \n",
      "                                                                 \n",
      " lstm_8 (LSTM)               (None, 1706, 128)         96768     \n",
      "                                                                 \n",
      " lstm_9 (LSTM)               (None, 64)                49408     \n",
      "                                                                 \n",
      " dense_1 (Dense)             (None, 2)                 130       \n",
      "                                                                 \n",
      "=================================================================\n",
      "Total params: 292,274\n",
      "Trainable params: 292,274\n",
      "Non-trainable params: 0\n",
      "_________________________________________________________________\n"
     ]
    }
   ],
   "source": [
    "trained_model.summary()"
   ]
  },
  {
   "cell_type": "code",
   "execution_count": 78,
   "metadata": {
    "colab": {
     "base_uri": "https://localhost:8080/",
     "height": 312
    },
    "id": "P5mKqjPVmFfP",
    "outputId": "90a10979-2258-48aa-9973-b28fb37922c3"
   },
   "outputs": [
    {
     "data": {
      "image/png": "[encoded data removed]",
      "text/plain": [
       "<Figure size 432x288 with 1 Axes>"
      ]
     },
     "metadata": {
      "needs_background": "light"
     },
     "output_type": "display_data"
    },
    {
     "data": {
      "text/plain": [
       "<Figure size 1440x1440 with 0 Axes>"
      ]
     },
     "metadata": {},
     "output_type": "display_data"
    }
   ],
   "source": [
    "plt.plot(history.history['loss'])\n",
    "plt.plot(history.history['val_loss'])\n",
    "plt.title('Model loss')\n",
    "plt.ylabel('loss')\n",
    "plt.xlabel('epoch')\n",
    "plt.legend(['train loss','validation loss'],loc = 'upper left')\n",
    "plt.figure(figsize = [20,20])\n",
    "plt.show()"
   ]
  },
  {
   "cell_type": "code",
   "execution_count": 79,
   "metadata": {
    "colab": {
     "base_uri": "https://localhost:8080/"
    },
    "id": "5QBkqZdimHIf",
    "outputId": "483689df-ec16-423e-8a89-7e99b41bcc02"
   },
   "outputs": [
    {
     "name": "stdout",
     "output_type": "stream",
     "text": [
      "54/54 [==============================] - 4s 42ms/step\n",
      "54/54 [==============================] - 3s 54ms/step\n"
     ]
    }
   ],
   "source": [
    "### Lets Do the prediction and check performance metrics\n",
    "train_predict=trained_model.predict(x_train_multi)\n",
    "test_predict=trained_model.predict(x_val_multi)"
   ]
  },
  {
   "cell_type": "code",
   "execution_count": 80,
   "metadata": {
    "colab": {
     "base_uri": "https://localhost:8080/"
    },
    "id": "nSrhSXu4mKke",
    "outputId": "ea05fd2e-1063-4a4c-8c9c-a78f805512d9"
   },
   "outputs": [
    {
     "data": {
      "text/plain": [
       "1706"
      ]
     },
     "execution_count": 80,
     "metadata": {},
     "output_type": "execute_result"
    }
   ],
   "source": [
    "len(test_predict)"
   ]
  },
  {
   "cell_type": "code",
   "execution_count": 81,
   "metadata": {
    "colab": {
     "base_uri": "https://localhost:8080/"
    },
    "id": "zUBhdvuUo_q-",
    "outputId": "a932868d-c0a1-4d11-e3bd-bdeaeb7dc718"
   },
   "outputs": [
    {
     "data": {
      "text/plain": [
       "1706"
      ]
     },
     "execution_count": 81,
     "metadata": {},
     "output_type": "execute_result"
    }
   ],
   "source": [
    "len(train_predict)"
   ]
  },
  {
   "cell_type": "code",
   "execution_count": 82,
   "metadata": {
    "id": "puBnrpm6pDot"
   },
   "outputs": [],
   "source": [
    "##Transformback to original form\n",
    "train_predict = y_scaler.inverse_transform(train_predict)\n",
    "test_predict = y_scaler.inverse_transform(test_predict)"
   ]
  },
  {
   "cell_type": "code",
   "execution_count": 83,
   "metadata": {
    "colab": {
     "base_uri": "https://localhost:8080/"
    },
    "id": "7fwTunSYjYUX",
    "outputId": "e66003f0-fb17-434c-dd90-029f95becd3e"
   },
   "outputs": [
    {
     "data": {
      "text/plain": [
       "array([[79410.73  ,  6931.995 ],\n",
       "       [79284.266 ,  6922.75  ],\n",
       "       [79197.38  ,  6916.4497],\n",
       "       ...,\n",
       "       [29418.201 ,  2628.397 ],\n",
       "       [26508.754 ,  2377.6199],\n",
       "       [23553.73  ,  2111.0303]], dtype=float32)"
      ]
     },
     "execution_count": 83,
     "metadata": {},
     "output_type": "execute_result"
    }
   ],
   "source": [
    "train_predict"
   ]
  },
  {
   "cell_type": "code",
   "execution_count": 84,
   "metadata": {
    "colab": {
     "base_uri": "https://localhost:8080/"
    },
    "id": "_oyO2BycjZms",
    "outputId": "747661c0-378c-45c9-cd61-2595b07d1546"
   },
   "outputs": [
    {
     "data": {
      "text/plain": [
       "array([[79410.73  ,  6931.995 ],\n",
       "       [79284.266 ,  6922.75  ],\n",
       "       [79197.38  ,  6916.4497],\n",
       "       ...,\n",
       "       [29418.201 ,  2628.397 ],\n",
       "       [26508.754 ,  2377.6199],\n",
       "       [23553.73  ,  2111.0303]], dtype=float32)"
      ]
     },
     "execution_count": 84,
     "metadata": {},
     "output_type": "execute_result"
    }
   ],
   "source": [
    "test_predict"
   ]
  },
  {
   "cell_type": "code",
   "execution_count": 85,
   "metadata": {
    "id": "uSIciTNIpWsd"
   },
   "outputs": [],
   "source": [
    "l = []\n",
    "for i in train_predict:\n",
    "    l.append(i[0])"
   ]
  },
  {
   "cell_type": "code",
   "execution_count": 86,
   "metadata": {
    "colab": {
     "base_uri": "https://localhost:8080/"
    },
    "id": "yfpHOmA6pqOj",
    "outputId": "7163534a-d6c9-4fcc-a3e4-5666b34b3346"
   },
   "outputs": [
    {
     "data": {
      "text/plain": [
       "79410.73"
      ]
     },
     "execution_count": 86,
     "metadata": {},
     "output_type": "execute_result"
    }
   ],
   "source": [
    "max(l)"
   ]
  },
  {
   "cell_type": "code",
   "execution_count": 87,
   "metadata": {
    "colab": {
     "base_uri": "https://localhost:8080/"
    },
    "id": "TeSdvq5FprHw",
    "outputId": "52c8ef27-2d6f-490b-d301-59642c6c6c7d"
   },
   "outputs": [
    {
     "data": {
      "text/plain": [
       "2584.2236"
      ]
     },
     "execution_count": 87,
     "metadata": {},
     "output_type": "execute_result"
    }
   ],
   "source": [
    "min(l)"
   ]
  },
  {
   "cell_type": "code",
   "execution_count": 88,
   "metadata": {
    "colab": {
     "base_uri": "https://localhost:8080/"
    },
    "id": "soqeicJ4palV",
    "outputId": "626e0441-0392-473e-e015-6c8edc8a70e6"
   },
   "outputs": [
    {
     "data": {
      "text/plain": [
       "1706"
      ]
     },
     "execution_count": 88,
     "metadata": {},
     "output_type": "execute_result"
    }
   ],
   "source": [
    "len(train_predict)"
   ]
  },
  {
   "cell_type": "code",
   "execution_count": 89,
   "metadata": {
    "colab": {
     "base_uri": "https://localhost:8080/"
    },
    "id": "QXU2KuMypZV-",
    "outputId": "afa27c0c-715a-4d28-d30e-3643e187619f"
   },
   "outputs": [
    {
     "data": {
      "text/plain": [
       "array([[79410.73  ,  6931.995 ],\n",
       "       [79284.266 ,  6922.75  ],\n",
       "       [79197.38  ,  6916.4497],\n",
       "       ...,\n",
       "       [29418.201 ,  2628.397 ],\n",
       "       [26508.754 ,  2377.6199],\n",
       "       [23553.73  ,  2111.0303]], dtype=float32)"
      ]
     },
     "execution_count": 89,
     "metadata": {},
     "output_type": "execute_result"
    }
   ],
   "source": [
    "test_predict"
   ]
  },
  {
   "cell_type": "code",
   "execution_count": 90,
   "metadata": {
    "id": "-gA1xfteNmOq"
   },
   "outputs": [],
   "source": [
    "l = []\n",
    "for i in test_predict:\n",
    "    l.append(i[0])"
   ]
  },
  {
   "cell_type": "code",
   "execution_count": 91,
   "metadata": {
    "colab": {
     "base_uri": "https://localhost:8080/"
    },
    "id": "qSb02zGYNse-",
    "outputId": "c4c2794c-755b-44e1-adf1-c625c21de992"
   },
   "outputs": [
    {
     "data": {
      "text/plain": [
       "79410.73"
      ]
     },
     "execution_count": 91,
     "metadata": {},
     "output_type": "execute_result"
    }
   ],
   "source": [
    "test_predict[0][0]"
   ]
  },
  {
   "cell_type": "code",
   "execution_count": 92,
   "metadata": {
    "colab": {
     "base_uri": "https://localhost:8080/"
    },
    "id": "djZjTzGTEhSN",
    "outputId": "b4f037a4-75a1-4c4b-fb7d-ce066cbf0949"
   },
   "outputs": [
    {
     "data": {
      "text/plain": [
       "array([[79410.73  ,  6931.995 ],\n",
       "       [79284.266 ,  6922.75  ],\n",
       "       [79197.38  ,  6916.4497],\n",
       "       ...,\n",
       "       [29418.201 ,  2628.397 ],\n",
       "       [26508.754 ,  2377.6199],\n",
       "       [23553.73  ,  2111.0303]], dtype=float32)"
      ]
     },
     "execution_count": 92,
     "metadata": {},
     "output_type": "execute_result"
    }
   ],
   "source": [
    "train_predict"
   ]
  },
  {
   "cell_type": "code",
   "execution_count": 93,
   "metadata": {
    "colab": {
     "base_uri": "https://localhost:8080/"
    },
    "id": "JKWDP-XqEjJ0",
    "outputId": "ac985f30-b7b6-4125-dbfd-f8ee312c9d36"
   },
   "outputs": [
    {
     "data": {
      "text/plain": [
       "0.0"
      ]
     },
     "execution_count": 93,
     "metadata": {},
     "output_type": "execute_result"
    }
   ],
   "source": [
    "min(account_data['sales'])"
   ]
  },
  {
   "cell_type": "code",
   "execution_count": 94,
   "metadata": {
    "id": "t9AyQLxBOMP8"
   },
   "outputs": [],
   "source": [
    "test_predict = l"
   ]
  },
  {
   "cell_type": "code",
   "execution_count": 95,
   "metadata": {
    "colab": {
     "base_uri": "https://localhost:8080/"
    },
    "id": "49n1Nj0XcaXt",
    "outputId": "ee976323-29ca-4690-89cf-60f43ccc3dea"
   },
   "outputs": [
    {
     "data": {
      "text/plain": [
       "2584.2236"
      ]
     },
     "execution_count": 95,
     "metadata": {},
     "output_type": "execute_result"
    }
   ],
   "source": [
    "min(l)"
   ]
  },
  {
   "cell_type": "code",
   "execution_count": 96,
   "metadata": {
    "id": "hVU8ZZ8cJhBm"
   },
   "outputs": [],
   "source": [
    "testing = account_data[:-15].copy()\n",
    "testing['pred_sales'] = test_predict"
   ]
  },
  {
   "cell_type": "code",
   "execution_count": 97,
   "metadata": {
    "colab": {
     "base_uri": "https://localhost:8080/",
     "height": 661
    },
    "id": "M2xnuB6GMwBX",
    "outputId": "5165ec0c-a8db-4bb1-e6e2-416a9199b6cd"
   },
   "outputs": [
    {
     "data": {
      "text/html": [
       "\n",
       "  <div id=\"df-bacb087a-806a-4199-8ff1-e2f0b91a884e\">\n",
       "    <div class=\"colab-df-container\">\n",
       "      <div>\n",
       "<style scoped>\n",
       "    .dataframe tbody tr th:only-of-type {\n",
       "        vertical-align: middle;\n",
       "    }\n",
       "\n",
       "    .dataframe tbody tr th {\n",
       "        vertical-align: top;\n",
       "    }\n",
       "\n",
       "    .dataframe thead th {\n",
       "        text-align: right;\n",
       "    }\n",
       "</style>\n",
       "<table border=\"1\" class=\"dataframe\">\n",
       "  <thead>\n",
       "    <tr style=\"text-align: right;\">\n",
       "      <th></th>\n",
       "      <th>accountId</th>\n",
       "      <th>adGroupId</th>\n",
       "      <th>campaignId</th>\n",
       "      <th>keywordId</th>\n",
       "      <th>date</th>\n",
       "      <th>sales</th>\n",
       "      <th>spend</th>\n",
       "      <th>clicks</th>\n",
       "      <th>impressions</th>\n",
       "      <th>orders</th>\n",
       "      <th>cpc</th>\n",
       "      <th>pred_sales</th>\n",
       "    </tr>\n",
       "  </thead>\n",
       "  <tbody>\n",
       "    <tr>\n",
       "      <th>0</th>\n",
       "      <td>5ffdb895b08512986422b08c</td>\n",
       "      <td>175642569815727</td>\n",
       "      <td>85580432953015</td>\n",
       "      <td>129388728370771</td>\n",
       "      <td>2022-01-20</td>\n",
       "      <td>142838.120000</td>\n",
       "      <td>12583.680000</td>\n",
       "      <td>1281</td>\n",
       "      <td>29878</td>\n",
       "      <td>111</td>\n",
       "      <td>9.823326</td>\n",
       "      <td>79410.726562</td>\n",
       "    </tr>\n",
       "    <tr>\n",
       "      <th>1</th>\n",
       "      <td>5ffdb895b08512986422b08c</td>\n",
       "      <td>175642569815727</td>\n",
       "      <td>85580432953015</td>\n",
       "      <td>129388728370771</td>\n",
       "      <td>2022-01-21</td>\n",
       "      <td>116525.377143</td>\n",
       "      <td>10593.249643</td>\n",
       "      <td>1168</td>\n",
       "      <td>25691</td>\n",
       "      <td>85</td>\n",
       "      <td>9.069563</td>\n",
       "      <td>79284.265625</td>\n",
       "    </tr>\n",
       "    <tr>\n",
       "      <th>2</th>\n",
       "      <td>5ffdb895b08512986422b08c</td>\n",
       "      <td>175642569815727</td>\n",
       "      <td>85580432953015</td>\n",
       "      <td>129388728370771</td>\n",
       "      <td>2022-01-22</td>\n",
       "      <td>112508.444448</td>\n",
       "      <td>9819.077878</td>\n",
       "      <td>1158</td>\n",
       "      <td>26380</td>\n",
       "      <td>85</td>\n",
       "      <td>8.479342</td>\n",
       "      <td>79197.382812</td>\n",
       "    </tr>\n",
       "    <tr>\n",
       "      <th>3</th>\n",
       "      <td>5ffdb895b08512986422b08c</td>\n",
       "      <td>175642569815727</td>\n",
       "      <td>85580432953015</td>\n",
       "      <td>129388728370771</td>\n",
       "      <td>2022-01-23</td>\n",
       "      <td>113365.773241</td>\n",
       "      <td>9397.466625</td>\n",
       "      <td>1170</td>\n",
       "      <td>27465</td>\n",
       "      <td>83</td>\n",
       "      <td>8.032023</td>\n",
       "      <td>79091.750000</td>\n",
       "    </tr>\n",
       "    <tr>\n",
       "      <th>4</th>\n",
       "      <td>5ffdb895b08512986422b08c</td>\n",
       "      <td>175642569815727</td>\n",
       "      <td>85580432953015</td>\n",
       "      <td>129388728370771</td>\n",
       "      <td>2022-01-24</td>\n",
       "      <td>108217.496805</td>\n",
       "      <td>8806.986435</td>\n",
       "      <td>1136</td>\n",
       "      <td>27727</td>\n",
       "      <td>81</td>\n",
       "      <td>7.752629</td>\n",
       "      <td>78936.054688</td>\n",
       "    </tr>\n",
       "    <tr>\n",
       "      <th>...</th>\n",
       "      <td>...</td>\n",
       "      <td>...</td>\n",
       "      <td>...</td>\n",
       "      <td>...</td>\n",
       "      <td>...</td>\n",
       "      <td>...</td>\n",
       "      <td>...</td>\n",
       "      <td>...</td>\n",
       "      <td>...</td>\n",
       "      <td>...</td>\n",
       "      <td>...</td>\n",
       "      <td>...</td>\n",
       "    </tr>\n",
       "    <tr>\n",
       "      <th>1701</th>\n",
       "      <td>5ffdb895b08512986422b08c</td>\n",
       "      <td>145787982816138</td>\n",
       "      <td>258268578317508</td>\n",
       "      <td>190918643002238</td>\n",
       "      <td>2022-09-15</td>\n",
       "      <td>15706.403750</td>\n",
       "      <td>1339.989567</td>\n",
       "      <td>134</td>\n",
       "      <td>7697</td>\n",
       "      <td>10</td>\n",
       "      <td>9.999922</td>\n",
       "      <td>33621.312500</td>\n",
       "    </tr>\n",
       "    <tr>\n",
       "      <th>1702</th>\n",
       "      <td>5ffdb895b08512986422b08c</td>\n",
       "      <td>145787982816138</td>\n",
       "      <td>258268578317508</td>\n",
       "      <td>190918643002238</td>\n",
       "      <td>2022-09-16</td>\n",
       "      <td>17559.343264</td>\n",
       "      <td>1325.690958</td>\n",
       "      <td>153</td>\n",
       "      <td>7998</td>\n",
       "      <td>12</td>\n",
       "      <td>8.664647</td>\n",
       "      <td>32025.539062</td>\n",
       "    </tr>\n",
       "    <tr>\n",
       "      <th>1703</th>\n",
       "      <td>5ffdb895b08512986422b08c</td>\n",
       "      <td>145787982816138</td>\n",
       "      <td>258268578317508</td>\n",
       "      <td>190918643002238</td>\n",
       "      <td>2022-09-17</td>\n",
       "      <td>20873.362849</td>\n",
       "      <td>1338.424164</td>\n",
       "      <td>177</td>\n",
       "      <td>8797</td>\n",
       "      <td>15</td>\n",
       "      <td>7.561718</td>\n",
       "      <td>29418.201172</td>\n",
       "    </tr>\n",
       "    <tr>\n",
       "      <th>1704</th>\n",
       "      <td>5ffdb895b08512986422b08c</td>\n",
       "      <td>145787982816138</td>\n",
       "      <td>258268578317508</td>\n",
       "      <td>190918643002238</td>\n",
       "      <td>2022-09-18</td>\n",
       "      <td>19309.911794</td>\n",
       "      <td>1248.290275</td>\n",
       "      <td>167</td>\n",
       "      <td>9170</td>\n",
       "      <td>14</td>\n",
       "      <td>7.474792</td>\n",
       "      <td>26508.753906</td>\n",
       "    </tr>\n",
       "    <tr>\n",
       "      <th>1705</th>\n",
       "      <td>5ffdb895b08512986422b08c</td>\n",
       "      <td>145787982816138</td>\n",
       "      <td>258268578317508</td>\n",
       "      <td>190918643002238</td>\n",
       "      <td>2022-09-19</td>\n",
       "      <td>18553.339551</td>\n",
       "      <td>1170.002238</td>\n",
       "      <td>160</td>\n",
       "      <td>9700</td>\n",
       "      <td>14</td>\n",
       "      <td>7.312514</td>\n",
       "      <td>23553.730469</td>\n",
       "    </tr>\n",
       "  </tbody>\n",
       "</table>\n",
       "<p>1706 rows × 12 columns</p>\n",
       "</div>\n",
       "      <button class=\"colab-df-convert\" onclick=\"convertToInteractive('df-bacb087a-806a-4199-8ff1-e2f0b91a884e')\"\n",
       "              title=\"Convert this dataframe to an interactive table.\"\n",
       "              style=\"display:none;\">\n",
       "        \n",
       "  <svg xmlns=\"http://www.w3.org/2000/svg\" height=\"24px\"viewBox=\"0 0 24 24\"\n",
       "       width=\"24px\">\n",
       "    <path d=\"M0 0h24v24H0V0z\" fill=\"none\"/>\n",
       "    <path d=\"M18.56 5.44l.94 2.06.94-2.06 2.06-.94-2.06-.94-.94-2.06-.94 2.06-2.06.94zm-11 1L8.5 8.5l.94-2.06 2.06-.94-2.06-.94L8.5 2.5l-.94 2.06-2.06.94zm10 10l.94 2.06.94-2.06 2.06-.94-2.06-.94-.94-2.06-.94 2.06-2.06.94z\"/><path d=\"M17.41 7.96l-1.37-1.37c-.4-.4-.92-.59-1.43-.59-.52 0-1.04.2-1.43.59L10.3 9.45l-7.72 7.72c-.78.78-.78 2.05 0 2.83L4 21.41c.39.39.9.59 1.41.59.51 0 1.02-.2 1.41-.59l7.78-7.78 2.81-2.81c.8-.78.8-2.07 0-2.86zM5.41 20L4 18.59l7.72-7.72 1.47 1.35L5.41 20z\"/>\n",
       "  </svg>\n",
       "      </button>\n",
       "      \n",
       "  <style>\n",
       "    .colab-df-container {\n",
       "      display:flex;\n",
       "      flex-wrap:wrap;\n",
       "      gap: 12px;\n",
       "    }\n",
       "\n",
       "    .colab-df-convert {\n",
       "      background-color: #E8F0FE;\n",
       "      border: none;\n",
       "      border-radius: 50%;\n",
       "      cursor: pointer;\n",
       "      display: none;\n",
       "      fill: #1967D2;\n",
       "      height: 32px;\n",
       "      padding: 0 0 0 0;\n",
       "      width: 32px;\n",
       "    }\n",
       "\n",
       "    .colab-df-convert:hover {\n",
       "      background-color: #E2EBFA;\n",
       "      box-shadow: 0px 1px 2px rgba(60, 64, 67, 0.3), 0px 1px 3px 1px rgba(60, 64, 67, 0.15);\n",
       "      fill: #174EA6;\n",
       "    }\n",
       "\n",
       "    [theme=dark] .colab-df-convert {\n",
       "      background-color: #3B4455;\n",
       "      fill: #D2E3FC;\n",
       "    }\n",
       "\n",
       "    [theme=dark] .colab-df-convert:hover {\n",
       "      background-color: #434B5C;\n",
       "      box-shadow: 0px 1px 3px 1px rgba(0, 0, 0, 0.15);\n",
       "      filter: drop-shadow(0px 1px 2px rgba(0, 0, 0, 0.3));\n",
       "      fill: #FFFFFF;\n",
       "    }\n",
       "  </style>\n",
       "\n",
       "      <script>\n",
       "        const buttonEl =\n",
       "          document.querySelector('#df-bacb087a-806a-4199-8ff1-e2f0b91a884e button.colab-df-convert');\n",
       "        buttonEl.style.display =\n",
       "          google.colab.kernel.accessAllowed ? 'block' : 'none';\n",
       "\n",
       "        async function convertToInteractive(key) {\n",
       "          const element = document.querySelector('#df-bacb087a-806a-4199-8ff1-e2f0b91a884e');\n",
       "          const dataTable =\n",
       "            await google.colab.kernel.invokeFunction('convertToInteractive',\n",
       "                                                     [key], {});\n",
       "          if (!dataTable) return;\n",
       "\n",
       "          const docLinkHtml = 'Like what you see? Visit the ' +\n",
       "            '<a target=\"_blank\" href=https://colab.research.google.com/notebooks/data_table.ipynb>data table notebook</a>'\n",
       "            + ' to learn more about interactive tables.';\n",
       "          element.innerHTML = '';\n",
       "          dataTable['output_type'] = 'display_data';\n",
       "          await google.colab.output.renderOutput(dataTable, element);\n",
       "          const docLink = document.createElement('div');\n",
       "          docLink.innerHTML = docLinkHtml;\n",
       "          element.appendChild(docLink);\n",
       "        }\n",
       "      </script>\n",
       "    </div>\n",
       "  </div>\n",
       "  "
      ],
      "text/plain": [
       "                     accountId        adGroupId       campaignId  \\\n",
       "0     5ffdb895b08512986422b08c  175642569815727   85580432953015   \n",
       "1     5ffdb895b08512986422b08c  175642569815727   85580432953015   \n",
       "2     5ffdb895b08512986422b08c  175642569815727   85580432953015   \n",
       "3     5ffdb895b08512986422b08c  175642569815727   85580432953015   \n",
       "4     5ffdb895b08512986422b08c  175642569815727   85580432953015   \n",
       "...                        ...              ...              ...   \n",
       "1701  5ffdb895b08512986422b08c  145787982816138  258268578317508   \n",
       "1702  5ffdb895b08512986422b08c  145787982816138  258268578317508   \n",
       "1703  5ffdb895b08512986422b08c  145787982816138  258268578317508   \n",
       "1704  5ffdb895b08512986422b08c  145787982816138  258268578317508   \n",
       "1705  5ffdb895b08512986422b08c  145787982816138  258268578317508   \n",
       "\n",
       "            keywordId       date          sales         spend  clicks  \\\n",
       "0     129388728370771 2022-01-20  142838.120000  12583.680000    1281   \n",
       "1     129388728370771 2022-01-21  116525.377143  10593.249643    1168   \n",
       "2     129388728370771 2022-01-22  112508.444448   9819.077878    1158   \n",
       "3     129388728370771 2022-01-23  113365.773241   9397.466625    1170   \n",
       "4     129388728370771 2022-01-24  108217.496805   8806.986435    1136   \n",
       "...               ...        ...            ...           ...     ...   \n",
       "1701  190918643002238 2022-09-15   15706.403750   1339.989567     134   \n",
       "1702  190918643002238 2022-09-16   17559.343264   1325.690958     153   \n",
       "1703  190918643002238 2022-09-17   20873.362849   1338.424164     177   \n",
       "1704  190918643002238 2022-09-18   19309.911794   1248.290275     167   \n",
       "1705  190918643002238 2022-09-19   18553.339551   1170.002238     160   \n",
       "\n",
       "      impressions  orders       cpc    pred_sales  \n",
       "0           29878     111  9.823326  79410.726562  \n",
       "1           25691      85  9.069563  79284.265625  \n",
       "2           26380      85  8.479342  79197.382812  \n",
       "3           27465      83  8.032023  79091.750000  \n",
       "4           27727      81  7.752629  78936.054688  \n",
       "...           ...     ...       ...           ...  \n",
       "1701         7697      10  9.999922  33621.312500  \n",
       "1702         7998      12  8.664647  32025.539062  \n",
       "1703         8797      15  7.561718  29418.201172  \n",
       "1704         9170      14  7.474792  26508.753906  \n",
       "1705         9700      14  7.312514  23553.730469  \n",
       "\n",
       "[1706 rows x 12 columns]"
      ]
     },
     "execution_count": 97,
     "metadata": {},
     "output_type": "execute_result"
    }
   ],
   "source": [
    "testing"
   ]
  },
  {
   "cell_type": "code",
   "execution_count": 98,
   "metadata": {
    "colab": {
     "base_uri": "https://localhost:8080/",
     "height": 661
    },
    "id": "bm2fhHWnM5KH",
    "outputId": "f92a2ecd-c6a5-4dc3-ba3c-055c4aabee56"
   },
   "outputs": [
    {
     "data": {
      "text/html": [
       "\n",
       "  <div id=\"df-e51a4ad6-1d5d-456d-9166-bd3c389c5d65\">\n",
       "    <div class=\"colab-df-container\">\n",
       "      <div>\n",
       "<style scoped>\n",
       "    .dataframe tbody tr th:only-of-type {\n",
       "        vertical-align: middle;\n",
       "    }\n",
       "\n",
       "    .dataframe tbody tr th {\n",
       "        vertical-align: top;\n",
       "    }\n",
       "\n",
       "    .dataframe thead th {\n",
       "        text-align: right;\n",
       "    }\n",
       "</style>\n",
       "<table border=\"1\" class=\"dataframe\">\n",
       "  <thead>\n",
       "    <tr style=\"text-align: right;\">\n",
       "      <th></th>\n",
       "      <th>accountId</th>\n",
       "      <th>adGroupId</th>\n",
       "      <th>campaignId</th>\n",
       "      <th>keywordId</th>\n",
       "      <th>date</th>\n",
       "      <th>sales</th>\n",
       "      <th>spend</th>\n",
       "      <th>clicks</th>\n",
       "      <th>impressions</th>\n",
       "      <th>orders</th>\n",
       "      <th>cpc</th>\n",
       "      <th>pred_sales</th>\n",
       "    </tr>\n",
       "  </thead>\n",
       "  <tbody>\n",
       "    <tr>\n",
       "      <th>0</th>\n",
       "      <td>5ffdb895b08512986422b08c</td>\n",
       "      <td>175642569815727</td>\n",
       "      <td>85580432953015</td>\n",
       "      <td>129388728370771</td>\n",
       "      <td>2022-01-20</td>\n",
       "      <td>142838.120000</td>\n",
       "      <td>12583.680000</td>\n",
       "      <td>1281</td>\n",
       "      <td>29878</td>\n",
       "      <td>111</td>\n",
       "      <td>9.823326</td>\n",
       "      <td>79410.726562</td>\n",
       "    </tr>\n",
       "    <tr>\n",
       "      <th>1</th>\n",
       "      <td>5ffdb895b08512986422b08c</td>\n",
       "      <td>175642569815727</td>\n",
       "      <td>85580432953015</td>\n",
       "      <td>129388728370771</td>\n",
       "      <td>2022-01-21</td>\n",
       "      <td>116525.377143</td>\n",
       "      <td>10593.249643</td>\n",
       "      <td>1168</td>\n",
       "      <td>25691</td>\n",
       "      <td>85</td>\n",
       "      <td>9.069563</td>\n",
       "      <td>79284.265625</td>\n",
       "    </tr>\n",
       "    <tr>\n",
       "      <th>2</th>\n",
       "      <td>5ffdb895b08512986422b08c</td>\n",
       "      <td>175642569815727</td>\n",
       "      <td>85580432953015</td>\n",
       "      <td>129388728370771</td>\n",
       "      <td>2022-01-22</td>\n",
       "      <td>112508.444448</td>\n",
       "      <td>9819.077878</td>\n",
       "      <td>1158</td>\n",
       "      <td>26380</td>\n",
       "      <td>85</td>\n",
       "      <td>8.479342</td>\n",
       "      <td>79197.382812</td>\n",
       "    </tr>\n",
       "    <tr>\n",
       "      <th>3</th>\n",
       "      <td>5ffdb895b08512986422b08c</td>\n",
       "      <td>175642569815727</td>\n",
       "      <td>85580432953015</td>\n",
       "      <td>129388728370771</td>\n",
       "      <td>2022-01-23</td>\n",
       "      <td>113365.773241</td>\n",
       "      <td>9397.466625</td>\n",
       "      <td>1170</td>\n",
       "      <td>27465</td>\n",
       "      <td>83</td>\n",
       "      <td>8.032023</td>\n",
       "      <td>79091.750000</td>\n",
       "    </tr>\n",
       "    <tr>\n",
       "      <th>4</th>\n",
       "      <td>5ffdb895b08512986422b08c</td>\n",
       "      <td>175642569815727</td>\n",
       "      <td>85580432953015</td>\n",
       "      <td>129388728370771</td>\n",
       "      <td>2022-01-24</td>\n",
       "      <td>108217.496805</td>\n",
       "      <td>8806.986435</td>\n",
       "      <td>1136</td>\n",
       "      <td>27727</td>\n",
       "      <td>81</td>\n",
       "      <td>7.752629</td>\n",
       "      <td>78936.054688</td>\n",
       "    </tr>\n",
       "    <tr>\n",
       "      <th>...</th>\n",
       "      <td>...</td>\n",
       "      <td>...</td>\n",
       "      <td>...</td>\n",
       "      <td>...</td>\n",
       "      <td>...</td>\n",
       "      <td>...</td>\n",
       "      <td>...</td>\n",
       "      <td>...</td>\n",
       "      <td>...</td>\n",
       "      <td>...</td>\n",
       "      <td>...</td>\n",
       "      <td>...</td>\n",
       "    </tr>\n",
       "    <tr>\n",
       "      <th>63</th>\n",
       "      <td>5ffdb895b08512986422b08c</td>\n",
       "      <td>175642569815727</td>\n",
       "      <td>85580432953015</td>\n",
       "      <td>129388728370771</td>\n",
       "      <td>2022-03-24</td>\n",
       "      <td>7673.235991</td>\n",
       "      <td>846.428403</td>\n",
       "      <td>76</td>\n",
       "      <td>5135</td>\n",
       "      <td>5</td>\n",
       "      <td>11.137216</td>\n",
       "      <td>35101.839844</td>\n",
       "    </tr>\n",
       "    <tr>\n",
       "      <th>64</th>\n",
       "      <td>5ffdb895b08512986422b08c</td>\n",
       "      <td>175642569815727</td>\n",
       "      <td>85580432953015</td>\n",
       "      <td>129388728370771</td>\n",
       "      <td>2022-03-25</td>\n",
       "      <td>6830.738288</td>\n",
       "      <td>740.386936</td>\n",
       "      <td>67</td>\n",
       "      <td>4973</td>\n",
       "      <td>5</td>\n",
       "      <td>11.050551</td>\n",
       "      <td>34641.195312</td>\n",
       "    </tr>\n",
       "    <tr>\n",
       "      <th>65</th>\n",
       "      <td>5ffdb895b08512986422b08c</td>\n",
       "      <td>175642569815727</td>\n",
       "      <td>85580432953015</td>\n",
       "      <td>129388728370771</td>\n",
       "      <td>2022-03-26</td>\n",
       "      <td>5919.901125</td>\n",
       "      <td>648.366732</td>\n",
       "      <td>59</td>\n",
       "      <td>4857</td>\n",
       "      <td>4</td>\n",
       "      <td>10.989267</td>\n",
       "      <td>33957.402344</td>\n",
       "    </tr>\n",
       "    <tr>\n",
       "      <th>66</th>\n",
       "      <td>5ffdb895b08512986422b08c</td>\n",
       "      <td>175642569815727</td>\n",
       "      <td>85580432953015</td>\n",
       "      <td>129388728370771</td>\n",
       "      <td>2022-03-27</td>\n",
       "      <td>5130.526853</td>\n",
       "      <td>570.111135</td>\n",
       "      <td>52</td>\n",
       "      <td>4636</td>\n",
       "      <td>3</td>\n",
       "      <td>10.963676</td>\n",
       "      <td>33197.039062</td>\n",
       "    </tr>\n",
       "    <tr>\n",
       "      <th>67</th>\n",
       "      <td>5ffdb895b08512986422b08c</td>\n",
       "      <td>175642569815727</td>\n",
       "      <td>85580432953015</td>\n",
       "      <td>129388728370771</td>\n",
       "      <td>2022-03-28</td>\n",
       "      <td>4446.415955</td>\n",
       "      <td>506.304526</td>\n",
       "      <td>46</td>\n",
       "      <td>4530</td>\n",
       "      <td>3</td>\n",
       "      <td>11.006620</td>\n",
       "      <td>32363.541016</td>\n",
       "    </tr>\n",
       "  </tbody>\n",
       "</table>\n",
       "<p>68 rows × 12 columns</p>\n",
       "</div>\n",
       "      <button class=\"colab-df-convert\" onclick=\"convertToInteractive('df-e51a4ad6-1d5d-456d-9166-bd3c389c5d65')\"\n",
       "              title=\"Convert this dataframe to an interactive table.\"\n",
       "              style=\"display:none;\">\n",
       "        \n",
       "  <svg xmlns=\"http://www.w3.org/2000/svg\" height=\"24px\"viewBox=\"0 0 24 24\"\n",
       "       width=\"24px\">\n",
       "    <path d=\"M0 0h24v24H0V0z\" fill=\"none\"/>\n",
       "    <path d=\"M18.56 5.44l.94 2.06.94-2.06 2.06-.94-2.06-.94-.94-2.06-.94 2.06-2.06.94zm-11 1L8.5 8.5l.94-2.06 2.06-.94-2.06-.94L8.5 2.5l-.94 2.06-2.06.94zm10 10l.94 2.06.94-2.06 2.06-.94-2.06-.94-.94-2.06-.94 2.06-2.06.94z\"/><path d=\"M17.41 7.96l-1.37-1.37c-.4-.4-.92-.59-1.43-.59-.52 0-1.04.2-1.43.59L10.3 9.45l-7.72 7.72c-.78.78-.78 2.05 0 2.83L4 21.41c.39.39.9.59 1.41.59.51 0 1.02-.2 1.41-.59l7.78-7.78 2.81-2.81c.8-.78.8-2.07 0-2.86zM5.41 20L4 18.59l7.72-7.72 1.47 1.35L5.41 20z\"/>\n",
       "  </svg>\n",
       "      </button>\n",
       "      \n",
       "  <style>\n",
       "    .colab-df-container {\n",
       "      display:flex;\n",
       "      flex-wrap:wrap;\n",
       "      gap: 12px;\n",
       "    }\n",
       "\n",
       "    .colab-df-convert {\n",
       "      background-color: #E8F0FE;\n",
       "      border: none;\n",
       "      border-radius: 50%;\n",
       "      cursor: pointer;\n",
       "      display: none;\n",
       "      fill: #1967D2;\n",
       "      height: 32px;\n",
       "      padding: 0 0 0 0;\n",
       "      width: 32px;\n",
       "    }\n",
       "\n",
       "    .colab-df-convert:hover {\n",
       "      background-color: #E2EBFA;\n",
       "      box-shadow: 0px 1px 2px rgba(60, 64, 67, 0.3), 0px 1px 3px 1px rgba(60, 64, 67, 0.15);\n",
       "      fill: #174EA6;\n",
       "    }\n",
       "\n",
       "    [theme=dark] .colab-df-convert {\n",
       "      background-color: #3B4455;\n",
       "      fill: #D2E3FC;\n",
       "    }\n",
       "\n",
       "    [theme=dark] .colab-df-convert:hover {\n",
       "      background-color: #434B5C;\n",
       "      box-shadow: 0px 1px 3px 1px rgba(0, 0, 0, 0.15);\n",
       "      filter: drop-shadow(0px 1px 2px rgba(0, 0, 0, 0.3));\n",
       "      fill: #FFFFFF;\n",
       "    }\n",
       "  </style>\n",
       "\n",
       "      <script>\n",
       "        const buttonEl =\n",
       "          document.querySelector('#df-e51a4ad6-1d5d-456d-9166-bd3c389c5d65 button.colab-df-convert');\n",
       "        buttonEl.style.display =\n",
       "          google.colab.kernel.accessAllowed ? 'block' : 'none';\n",
       "\n",
       "        async function convertToInteractive(key) {\n",
       "          const element = document.querySelector('#df-e51a4ad6-1d5d-456d-9166-bd3c389c5d65');\n",
       "          const dataTable =\n",
       "            await google.colab.kernel.invokeFunction('convertToInteractive',\n",
       "                                                     [key], {});\n",
       "          if (!dataTable) return;\n",
       "\n",
       "          const docLinkHtml = 'Like what you see? Visit the ' +\n",
       "            '<a target=\"_blank\" href=https://colab.research.google.com/notebooks/data_table.ipynb>data table notebook</a>'\n",
       "            + ' to learn more about interactive tables.';\n",
       "          element.innerHTML = '';\n",
       "          dataTable['output_type'] = 'display_data';\n",
       "          await google.colab.output.renderOutput(dataTable, element);\n",
       "          const docLink = document.createElement('div');\n",
       "          docLink.innerHTML = docLinkHtml;\n",
       "          element.appendChild(docLink);\n",
       "        }\n",
       "      </script>\n",
       "    </div>\n",
       "  </div>\n",
       "  "
      ],
      "text/plain": [
       "                   accountId        adGroupId      campaignId  \\\n",
       "0   5ffdb895b08512986422b08c  175642569815727  85580432953015   \n",
       "1   5ffdb895b08512986422b08c  175642569815727  85580432953015   \n",
       "2   5ffdb895b08512986422b08c  175642569815727  85580432953015   \n",
       "3   5ffdb895b08512986422b08c  175642569815727  85580432953015   \n",
       "4   5ffdb895b08512986422b08c  175642569815727  85580432953015   \n",
       "..                       ...              ...             ...   \n",
       "63  5ffdb895b08512986422b08c  175642569815727  85580432953015   \n",
       "64  5ffdb895b08512986422b08c  175642569815727  85580432953015   \n",
       "65  5ffdb895b08512986422b08c  175642569815727  85580432953015   \n",
       "66  5ffdb895b08512986422b08c  175642569815727  85580432953015   \n",
       "67  5ffdb895b08512986422b08c  175642569815727  85580432953015   \n",
       "\n",
       "          keywordId       date          sales         spend  clicks  \\\n",
       "0   129388728370771 2022-01-20  142838.120000  12583.680000    1281   \n",
       "1   129388728370771 2022-01-21  116525.377143  10593.249643    1168   \n",
       "2   129388728370771 2022-01-22  112508.444448   9819.077878    1158   \n",
       "3   129388728370771 2022-01-23  113365.773241   9397.466625    1170   \n",
       "4   129388728370771 2022-01-24  108217.496805   8806.986435    1136   \n",
       "..              ...        ...            ...           ...     ...   \n",
       "63  129388728370771 2022-03-24    7673.235991    846.428403      76   \n",
       "64  129388728370771 2022-03-25    6830.738288    740.386936      67   \n",
       "65  129388728370771 2022-03-26    5919.901125    648.366732      59   \n",
       "66  129388728370771 2022-03-27    5130.526853    570.111135      52   \n",
       "67  129388728370771 2022-03-28    4446.415955    506.304526      46   \n",
       "\n",
       "    impressions  orders        cpc    pred_sales  \n",
       "0         29878     111   9.823326  79410.726562  \n",
       "1         25691      85   9.069563  79284.265625  \n",
       "2         26380      85   8.479342  79197.382812  \n",
       "3         27465      83   8.032023  79091.750000  \n",
       "4         27727      81   7.752629  78936.054688  \n",
       "..          ...     ...        ...           ...  \n",
       "63         5135       5  11.137216  35101.839844  \n",
       "64         4973       5  11.050551  34641.195312  \n",
       "65         4857       4  10.989267  33957.402344  \n",
       "66         4636       3  10.963676  33197.039062  \n",
       "67         4530       3  11.006620  32363.541016  \n",
       "\n",
       "[68 rows x 12 columns]"
      ]
     },
     "execution_count": 98,
     "metadata": {},
     "output_type": "execute_result"
    }
   ],
   "source": [
    "testing[testing['keywordId'] == '129388728370771']"
   ]
  },
  {
   "cell_type": "code",
   "execution_count": 99,
   "metadata": {
    "colab": {
     "base_uri": "https://localhost:8080/",
     "height": 1000
    },
    "id": "H7d1LILGXqU-",
    "outputId": "30496b9e-af40-4ecb-8d55-6efd57d654a5"
   },
   "outputs": [
    {
     "name": "stdout",
     "output_type": "stream",
     "text": [
      "Layers are- 128-64-30\n"
     ]
    },
    {
     "data": {
      "image/png": "[encoded data removed]",
      "text/plain": [
       "<Figure size 432x288 with 1 Axes>"
      ]
     },
     "metadata": {
      "needs_background": "light"
     },
     "output_type": "display_data"
    },
    {
     "name": "stdout",
     "output_type": "stream",
     "text": [
      "Layers are- 128-64-30\n"
     ]
    },
    {
     "data": {
      "image/png": "[encoded data removed]",
      "text/plain": [
       "<Figure size 432x288 with 1 Axes>"
      ]
     },
     "metadata": {
      "needs_background": "light"
     },
     "output_type": "display_data"
    },
    {
     "name": "stdout",
     "output_type": "stream",
     "text": [
      "Layers are- 128-64-30\n"
     ]
    },
    {
     "data": {
      "image/png": "[encoded data removed]",
      "text/plain": [
       "<Figure size 432x288 with 1 Axes>"
      ]
     },
     "metadata": {
      "needs_background": "light"
     },
     "output_type": "display_data"
    },
    {
     "name": "stdout",
     "output_type": "stream",
     "text": [
      "Layers are- 128-64-30\n"
     ]
    },
    {
     "data": {
      "image/png": "[encoded data removed]",
      "text/plain": [
       "<Figure size 432x288 with 1 Axes>"
      ]
     },
     "metadata": {
      "needs_background": "light"
     },
     "output_type": "display_data"
    },
    {
     "name": "stdout",
     "output_type": "stream",
     "text": [
      "Layers are- 128-64-30\n"
     ]
    },
    {
     "data": {
      "image/png": "[encoded data removed]",
      "text/plain": [
       "<Figure size 432x288 with 1 Axes>"
      ]
     },
     "metadata": {
      "needs_background": "light"
     },
     "output_type": "display_data"
    },
    {
     "name": "stdout",
     "output_type": "stream",
     "text": [
      "Layers are- 128-64-30\n"
     ]
    },
    {
     "data": {
      "image/png": "[encoded data removed]",
      "text/plain": [
       "<Figure size 432x288 with 1 Axes>"
      ]
     },
     "metadata": {
      "needs_background": "light"
     },
     "output_type": "display_data"
    },
    {
     "name": "stdout",
     "output_type": "stream",
     "text": [
      "Layers are- 128-64-30\n"
     ]
    },
    {
     "data": {
      "image/png": "[encoded data removed]",
      "text/plain": [
       "<Figure size 432x288 with 1 Axes>"
      ]
     },
     "metadata": {
      "needs_background": "light"
     },
     "output_type": "display_data"
    },
    {
     "name": "stdout",
     "output_type": "stream",
     "text": [
      "Layers are- 128-64-30\n"
     ]
    },
    {
     "data": {
      "image/png": "[encoded data removed]",
      "text/plain": [
       "<Figure size 432x288 with 1 Axes>"
      ]
     },
     "metadata": {
      "needs_background": "light"
     },
     "output_type": "display_data"
    },
    {
     "name": "stdout",
     "output_type": "stream",
     "text": [
      "Layers are- 128-64-30\n"
     ]
    },
    {
     "data": {
      "image/png": "[encoded data removed]",
      "text/plain": [
       "<Figure size 432x288 with 1 Axes>"
      ]
     },
     "metadata": {
      "needs_background": "light"
     },
     "output_type": "display_data"
    },
    {
     "name": "stdout",
     "output_type": "stream",
     "text": [
      "Layers are- 128-64-30\n"
     ]
    },
    {
     "data": {
      "image/png": "[encoded data removed]",
      "text/plain": [
       "<Figure size 432x288 with 1 Axes>"
      ]
     },
     "metadata": {
      "needs_background": "light"
     },
     "output_type": "display_data"
    }
   ],
   "source": [
    "import matplotlib.pyplot as plt\n",
    "import numpy as np\n",
    "testing['keywordId'].unique()\n",
    "for i in range(len(testing['keywordId'].unique())):\n",
    "    def plotGraph(y_test,y_pred,s):\n",
    "        if max(y_test) >= max(y_pred):\n",
    "            my_range = int(max(y_test))\n",
    "        else:\n",
    "            my_range = int(max(y_pred))\n",
    "        plt.scatter(range(len(y_test)), y_test, color='blue')\n",
    "        plt.scatter(range(len(y_pred)), y_pred, color='red')\n",
    "        plt.title(s)\n",
    "        plt.show()\n",
    "        return\n",
    "    s = testing['keywordId'].unique()[i]\n",
    "    print(\"Layers are- 128-64-30\")    \n",
    "    y_sales = testing[testing['keywordId'] == s]['sales']\n",
    "    y_pred_sales = testing[testing['keywordId'] == s]['pred_sales']\n",
    "    plotGraph(y_sales, y_pred_sales,s)"
   ]
  },
  {
   "cell_type": "code",
   "execution_count": null,
   "metadata": {
    "id": "bbeB6zj62kAt"
   },
   "outputs": [],
   "source": []
  },
  {
   "cell_type": "code",
   "execution_count": null,
   "metadata": {
    "id": "BR_8zfZS-uoe"
   },
   "outputs": [],
   "source": []
  },
  {
   "cell_type": "code",
   "execution_count": null,
   "metadata": {
    "id": "3CxVVW7shmRz"
   },
   "outputs": [],
   "source": []
  },
  {
   "cell_type": "code",
   "execution_count": null,
   "metadata": {
    "id": "LjGiaxMAhmO8"
   },
   "outputs": [],
   "source": []
  },
  {
   "cell_type": "code",
   "execution_count": null,
   "metadata": {
    "id": "OrS36wVhhmL5"
   },
   "outputs": [],
   "source": []
  },
  {
   "cell_type": "code",
   "execution_count": null,
   "metadata": {
    "id": "6Gx1rWDBhmHI"
   },
   "outputs": [],
   "source": []
  },
  {
   "cell_type": "code",
   "execution_count": null,
   "metadata": {
    "id": "QrPNP-0GhmEM"
   },
   "outputs": [],
   "source": []
  },
  {
   "cell_type": "code",
   "execution_count": null,
   "metadata": {
    "id": "1K85pUNihmBh"
   },
   "outputs": [],
   "source": []
  },
  {
   "cell_type": "code",
   "execution_count": null,
   "metadata": {
    "id": "TUADa6Z0hl-3"
   },
   "outputs": [],
   "source": []
  },
  {
   "cell_type": "code",
   "execution_count": null,
   "metadata": {
    "id": "cmbGx6RThl8I"
   },
   "outputs": [],
   "source": []
  },
  {
   "cell_type": "code",
   "execution_count": null,
   "metadata": {
    "id": "f50q7WpBhl5y"
   },
   "outputs": [],
   "source": []
  },
  {
   "cell_type": "code",
   "execution_count": null,
   "metadata": {
    "id": "Jtm4gJHZhl3J"
   },
   "outputs": [],
   "source": []
  },
  {
   "cell_type": "code",
   "execution_count": null,
   "metadata": {
    "id": "B9k9JAHPhl0O"
   },
   "outputs": [],
   "source": []
  },
  {
   "cell_type": "code",
   "execution_count": null,
   "metadata": {
    "id": "vspNxK4Whlxg"
   },
   "outputs": [],
   "source": []
  },
  {
   "cell_type": "code",
   "execution_count": null,
   "metadata": {
    "id": "21b8du5vhlup"
   },
   "outputs": [],
   "source": []
  },
  {
   "cell_type": "markdown",
   "metadata": {
    "id": "qFQ3uagJmSXT"
   },
   "source": [
    "# Test"
   ]
  },
  {
   "cell_type": "code",
   "execution_count": null,
   "metadata": {
    "id": "933H3Jdnhlrz"
   },
   "outputs": [],
   "source": []
  },
  {
   "cell_type": "code",
   "execution_count": null,
   "metadata": {
    "id": "0uOpVsTFhlpo"
   },
   "outputs": [],
   "source": []
  },
  {
   "cell_type": "code",
   "execution_count": null,
   "metadata": {
    "id": "_yU-GoEuhlmz"
   },
   "outputs": [],
   "source": []
  },
  {
   "cell_type": "code",
   "execution_count": null,
   "metadata": {
    "id": "q4qQJcKEhlkM"
   },
   "outputs": [],
   "source": []
  },
  {
   "cell_type": "code",
   "execution_count": null,
   "metadata": {
    "id": "48YJG6fYhlhm"
   },
   "outputs": [],
   "source": []
  },
  {
   "cell_type": "code",
   "execution_count": null,
   "metadata": {
    "id": "9PpptCHehles"
   },
   "outputs": [],
   "source": []
  },
  {
   "cell_type": "code",
   "execution_count": null,
   "metadata": {
    "id": "-JWhxUqdhlcS"
   },
   "outputs": [],
   "source": []
  },
  {
   "cell_type": "code",
   "execution_count": null,
   "metadata": {
    "id": "8VN5bDzVJ-WB"
   },
   "outputs": [],
   "source": []
  },
  {
   "cell_type": "code",
   "execution_count": null,
   "metadata": {
    "id": "lQdi1oENJ-Tr"
   },
   "outputs": [],
   "source": []
  },
  {
   "cell_type": "code",
   "execution_count": 100,
   "metadata": {
    "id": "9SmIwMQ7J-Rd"
   },
   "outputs": [],
   "source": [
    "df = pd.read_csv(\"/content/drive/MyDrive/colab/account_data.csv\",parse_dates = True)\n",
    "a = list(df['accountId'].unique())\n",
    "df = df[df['accountId']==\"5ffdb895b08512986422b08c\"]\n",
    "df=df.copy()\n",
    "df.date = pd.to_datetime(df.date)\n",
    "df.sort_values(by=\"date\", inplace=True, ignore_index=True)\n",
    "account_data = df\n",
    "keyword_ids = account_data[\"keywordId\"].unique()\n",
    "keywordwise_sales = account_data.groupby(\"keywordId\")[\"sales\"].sum()\n",
    "nonzero_sales_keywords = keywordwise_sales[keywordwise_sales>0]\n",
    "nonzero_sales_keywords.sort_values(ascending=False, inplace=True)\n",
    "keywords_req = list(nonzero_sales_keywords.index)\n",
    "keyword_ids = keywords_req[:10]\n",
    "account_data =  account_data[account_data['keywordId'].isin(keyword_ids)]\n",
    "\n",
    "account_data.reset_index(inplace = True)\n",
    "account_data.sort_values(by=\"date\", inplace=True, ignore_index=True)\n",
    "account_data.drop(columns = \"index\",inplace = True)\n",
    "account_data.sort_values(by = 'date',inplace = True)\n",
    "account_data.reset_index(inplace = True)\n",
    "account_data.drop(columns = \"index\",inplace = True)\n",
    "account_data['clicks'] = account_data[\"clicks\"].astype(\"int64\")\n",
    "account_data['impressions'] = account_data[\"impressions\"].astype(\"int64\")\n",
    "account_data['orders'] = account_data[\"orders\"].astype(\"int64\")\n",
    "account_data[\"keywordId\"] = account_data[\"keywordId\"].astype(str)\n",
    "account_data[\"cpc\"] = account_data[\"spend\"]/account_data[\"clicks\"] \n",
    "account_data[\"cpc\"].interpolate(\"linear\", inplace=True)\n",
    "\n",
    "keyword_ids = account_data['keywordId'].unique()\n",
    "keyword_wise_df = pd.DataFrame(columns = [['accountId', 'adGroupId', 'campaignId', 'keywordId', 'date', 'sales','spend', 'clicks', 'impressions', 'orders', 'cpc']])"
   ]
  },
  {
   "cell_type": "code",
   "execution_count": 101,
   "metadata": {
    "id": "WJaxdVBxJ-PM"
   },
   "outputs": [],
   "source": [
    "frames_test = []\n",
    "for i in range(len(keyword_ids)):\n",
    "     a = int((30*len(account_data[account_data['keywordId'] == keyword_ids[i]]))/100)\n",
    "     b = len(account_data[account_data['keywordId'] == keyword_ids[i]]) - a\n",
    "     new_df_i = account_data[account_data['keywordId'] == keyword_ids[i]][b:]\n",
    "     frames_test.append(new_df_i)"
   ]
  },
  {
   "cell_type": "code",
   "execution_count": 102,
   "metadata": {
    "colab": {
     "base_uri": "https://localhost:8080/"
    },
    "id": "OfHogTBMfnmt",
    "outputId": "c6599ea7-b05d-40b5-b413-3c8c4821d982"
   },
   "outputs": [
    {
     "data": {
      "text/plain": [
       "[                    accountId        adGroupId      campaignId  \\\n",
       " 600  5ffdb895b08512986422b08c  175642569815727  85580432953015   \n",
       " 610  5ffdb895b08512986422b08c  175642569815727  85580432953015   \n",
       " 622  5ffdb895b08512986422b08c  175642569815727  85580432953015   \n",
       " 625  5ffdb895b08512986422b08c  175642569815727  85580432953015   \n",
       " 631  5ffdb895b08512986422b08c  175642569815727  85580432953015   \n",
       " 642  5ffdb895b08512986422b08c  175642569815727  85580432953015   \n",
       " 648  5ffdb895b08512986422b08c  175642569815727  85580432953015   \n",
       " 656  5ffdb895b08512986422b08c  175642569815727  85580432953015   \n",
       " 664  5ffdb895b08512986422b08c  175642569815727  85580432953015   \n",
       " 669  5ffdb895b08512986422b08c  175642569815727  85580432953015   \n",
       " 678  5ffdb895b08512986422b08c  175642569815727  85580432953015   \n",
       " 689  5ffdb895b08512986422b08c  175642569815727  85580432953015   \n",
       " 691  5ffdb895b08512986422b08c  175642569815727  85580432953015   \n",
       " 697  5ffdb895b08512986422b08c  175642569815727  85580432953015   \n",
       " 704  5ffdb895b08512986422b08c  175642569815727  85580432953015   \n",
       " 711  5ffdb895b08512986422b08c  175642569815727  85580432953015   \n",
       " 719  5ffdb895b08512986422b08c  175642569815727  85580432953015   \n",
       " 727  5ffdb895b08512986422b08c  175642569815727  85580432953015   \n",
       " 737  5ffdb895b08512986422b08c  175642569815727  85580432953015   \n",
       " 743  5ffdb895b08512986422b08c  175642569815727  85580432953015   \n",
       " 754  5ffdb895b08512986422b08c  175642569815727  85580432953015   \n",
       " 760  5ffdb895b08512986422b08c  175642569815727  85580432953015   \n",
       " 767  5ffdb895b08512986422b08c  175642569815727  85580432953015   \n",
       " 775  5ffdb895b08512986422b08c  175642569815727  85580432953015   \n",
       " 786  5ffdb895b08512986422b08c  175642569815727  85580432953015   \n",
       " 791  5ffdb895b08512986422b08c  175642569815727  85580432953015   \n",
       " 799  5ffdb895b08512986422b08c  175642569815727  85580432953015   \n",
       " 805  5ffdb895b08512986422b08c  175642569815727  85580432953015   \n",
       " 819  5ffdb895b08512986422b08c  175642569815727  85580432953015   \n",
       " 850  5ffdb895b08512986422b08c  175642569815727  85580432953015   \n",
       " 878  5ffdb895b08512986422b08c  175642569815727  85580432953015   \n",
       " 910  5ffdb895b08512986422b08c  175642569815727  85580432953015   \n",
       " 926  5ffdb895b08512986422b08c  175642569815727  85580432953015   \n",
       " \n",
       "            keywordId       date       sales       spend  clicks  impressions  \\\n",
       " 600  129388728370771 2022-04-10  813.582486  107.091706      10         2024   \n",
       " 610  129388728370771 2022-04-11  705.103952   93.394036       9         1811   \n",
       " 622  129388728370771 2022-04-12  611.089439   80.941411       7         1628   \n",
       " 625  129388728370771 2022-04-13  529.610356   70.149158       6         1557   \n",
       " 631  129388728370771 2022-04-14  458.995274   60.795888       5         1492   \n",
       " 642  129388728370771 2022-04-15  397.795627   52.689733       5         1332   \n",
       " 648  129388728370771 2022-04-16  344.756002   45.664408       4         1164   \n",
       " 656  129388728370771 2022-04-17  298.788379   39.890467       4         1024   \n",
       " 664  129388728370771 2022-04-18  258.949812   34.571723       3          900   \n",
       " 669  129388728370771 2022-04-19  224.423082   29.962148       3          798   \n",
       " 678  129388728370771 2022-04-20  194.499938   25.967186       2          698   \n",
       " 689  129388728370771 2022-04-21  168.566563   22.504888       2          617   \n",
       " 691  129388728370771 2022-04-22  146.090984   19.504231       1          547   \n",
       " 697  129388728370771 2022-04-23  126.612158   16.903663       1          479   \n",
       " 704  129388728370771 2022-04-24  109.730516   14.649839       1          420   \n",
       " 711  129388728370771 2022-04-25   95.099765   12.696525       1          376   \n",
       " 719  129388728370771 2022-04-26   82.419784   11.003653       1          333   \n",
       " 727  129388728370771 2022-04-27   71.430471    9.536498       0          302   \n",
       " 737  129388728370771 2022-04-28   61.906401    8.264964       0          280   \n",
       " 743  129388728370771 2022-04-29   53.652209    7.162968       0          249   \n",
       " 754  129388728370771 2022-04-30   46.498578    6.207905       0          227   \n",
       " 760  129388728370771 2022-05-01   40.298765    5.380184       0          202   \n",
       " 767  129388728370771 2022-05-02   34.925594    4.662826       0          180   \n",
       " 775  129388728370771 2022-05-03   30.268846    4.041116       0          161   \n",
       " 786  129388728370771 2022-05-04   26.232999    3.502300       0          143   \n",
       " 791  129388728370771 2022-05-05   22.735265    3.035327       0          126   \n",
       " 799  129388728370771 2022-05-06   19.703896    2.630616       0          109   \n",
       " 805  129388728370771 2022-05-07   17.076709    2.279867       0           95   \n",
       " 819  129388728370771 2022-05-09   14.799814    1.975885       0           82   \n",
       " 850  129388728370771 2022-05-13   12.826505    1.712434       0           71   \n",
       " 878  129388728370771 2022-05-17   11.116304    1.484109       0           62   \n",
       " 910  129388728370771 2022-05-21    9.634130    1.286228       0           54   \n",
       " 926  129388728370771 2022-05-23    8.349579    1.114731       0           47   \n",
       " \n",
       "      orders        cpc  \n",
       " 600       0  10.709171  \n",
       " 610       0  10.377115  \n",
       " 622       0  11.563059  \n",
       " 625       0  11.691526  \n",
       " 631       0  12.159178  \n",
       " 642       0  10.537947  \n",
       " 648       0  11.416102  \n",
       " 656       0   9.972617  \n",
       " 664       0  11.523908  \n",
       " 669       0   9.987383  \n",
       " 678       0  12.983593  \n",
       " 689       0  11.252444  \n",
       " 691       0  19.504231  \n",
       " 697       0  16.903663  \n",
       " 704       0  14.649839  \n",
       " 711       0  12.696525  \n",
       " 719       0  11.003653  \n",
       " 727       0        inf  \n",
       " 737       0        inf  \n",
       " 743       0        inf  \n",
       " 754       0        inf  \n",
       " 760       0        inf  \n",
       " 767       0        inf  \n",
       " 775       0        inf  \n",
       " 786       0        inf  \n",
       " 791       0        inf  \n",
       " 799       0        inf  \n",
       " 805       0        inf  \n",
       " 819       0        inf  \n",
       " 850       0        inf  \n",
       " 878       0        inf  \n",
       " 910       0        inf  \n",
       " 926       0        inf  ,\n",
       "                      accountId        adGroupId      campaignId  \\\n",
       " 705   5ffdb895b08512986422b08c  155972832827060  85580432953015   \n",
       " 712   5ffdb895b08512986422b08c  155972832827060  85580432953015   \n",
       " 720   5ffdb895b08512986422b08c  155972832827060  85580432953015   \n",
       " 728   5ffdb895b08512986422b08c  155972832827060  85580432953015   \n",
       " 738   5ffdb895b08512986422b08c  155972832827060  85580432953015   \n",
       " 744   5ffdb895b08512986422b08c  155972832827060  85580432953015   \n",
       " 751   5ffdb895b08512986422b08c  155972832827060  85580432953015   \n",
       " 761   5ffdb895b08512986422b08c  155972832827060  85580432953015   \n",
       " 768   5ffdb895b08512986422b08c  155972832827060  85580432953015   \n",
       " 776   5ffdb895b08512986422b08c  155972832827060  85580432953015   \n",
       " 784   5ffdb895b08512986422b08c  155972832827060  85580432953015   \n",
       " 792   5ffdb895b08512986422b08c  155972832827060  85580432953015   \n",
       " 798   5ffdb895b08512986422b08c  155972832827060  85580432953015   \n",
       " 811   5ffdb895b08512986422b08c  155972832827060  85580432953015   \n",
       " 812   5ffdb895b08512986422b08c  155972832827060  85580432953015   \n",
       " 820   5ffdb895b08512986422b08c  155972832827060  85580432953015   \n",
       " 826   5ffdb895b08512986422b08c  155972832827060  85580432953015   \n",
       " 834   5ffdb895b08512986422b08c  155972832827060  85580432953015   \n",
       " 841   5ffdb895b08512986422b08c  155972832827060  85580432953015   \n",
       " 847   5ffdb895b08512986422b08c  155972832827060  85580432953015   \n",
       " 856   5ffdb895b08512986422b08c  155972832827060  85580432953015   \n",
       " 863   5ffdb895b08512986422b08c  155972832827060  85580432953015   \n",
       " 872   5ffdb895b08512986422b08c  155972832827060  85580432953015   \n",
       " 879   5ffdb895b08512986422b08c  155972832827060  85580432953015   \n",
       " 887   5ffdb895b08512986422b08c  155972832827060  85580432953015   \n",
       " 895   5ffdb895b08512986422b08c  155972832827060  85580432953015   \n",
       " 902   5ffdb895b08512986422b08c  155972832827060  85580432953015   \n",
       " 908   5ffdb895b08512986422b08c  155972832827060  85580432953015   \n",
       " 916   5ffdb895b08512986422b08c  155972832827060  85580432953015   \n",
       " 927   5ffdb895b08512986422b08c  155972832827060  85580432953015   \n",
       " 936   5ffdb895b08512986422b08c  155972832827060  85580432953015   \n",
       " 945   5ffdb895b08512986422b08c  155972832827060  85580432953015   \n",
       " 951   5ffdb895b08512986422b08c  155972832827060  85580432953015   \n",
       " 958   5ffdb895b08512986422b08c  155972832827060  85580432953015   \n",
       " 970   5ffdb895b08512986422b08c  155972832827060  85580432953015   \n",
       " 976   5ffdb895b08512986422b08c  155972832827060  85580432953015   \n",
       " 986   5ffdb895b08512986422b08c  155972832827060  85580432953015   \n",
       " 995   5ffdb895b08512986422b08c  155972832827060  85580432953015   \n",
       " 1002  5ffdb895b08512986422b08c  155972832827060  85580432953015   \n",
       " 1013  5ffdb895b08512986422b08c  155972832827060  85580432953015   \n",
       " \n",
       "           keywordId       date         sales        spend  clicks  \\\n",
       " 705   2765709881042 2022-04-24  25615.548155  2960.819434     216   \n",
       " 712   2765709881042 2022-04-25  25090.978501  3079.240971     213   \n",
       " 720   2765709881042 2022-04-26  26719.737560  3132.750225     216   \n",
       " 728   2765709881042 2022-04-27  27109.410202  3145.604872     213   \n",
       " 738   2765709881042 2022-04-28  26922.456710  3129.857545     212   \n",
       " 744   2765709881042 2022-04-29  26072.677964  3087.183180     205   \n",
       " 751   2765709881042 2022-04-30  27327.842899  3116.769438     212   \n",
       " 761   2765709881042 2022-05-01  24790.794683  2911.493419     200   \n",
       " 768   2765709881042 2022-05-02  22095.071655  2716.746219     189   \n",
       " 776   2765709881042 2022-05-03  24049.518774  2794.096083     209   \n",
       " 784   2765709881042 2022-05-04  24847.325842  2805.444609     209   \n",
       " 792   2765709881042 2022-05-05  23962.146167  2743.825312     202   \n",
       " 798   2765709881042 2022-05-06  22732.053070  2647.244582     190   \n",
       " 811   2765709881042 2022-05-07  22586.424632  2649.878638     192   \n",
       " 812   2765709881042 2022-05-08  22858.745394  2576.329474     194   \n",
       " 820   2765709881042 2022-05-09  21911.929870  2508.645534     194   \n",
       " 826   2765709881042 2022-05-10  22858.250007  2491.095461     200   \n",
       " 834   2765709881042 2022-05-11  27563.026521  2635.548082     224   \n",
       " 841   2765709881042 2022-05-12  30727.173952  2821.584355     242   \n",
       " 847   2765709881042 2022-05-13  32524.904239  3004.683790     259   \n",
       " 856   2765709881042 2022-05-14  28188.250032  2612.643256     225   \n",
       " 863   2765709881042 2022-05-15  27150.155297  2376.514808     209   \n",
       " 872   2765709881042 2022-05-16  27819.739960  2516.940841     220   \n",
       " 879   2765709881042 2022-05-17  30076.666736  2794.099408     229   \n",
       " 887   2765709881042 2022-05-18  30391.523184  2890.871491     234   \n",
       " 895   2765709881042 2022-05-19  29295.813388  2811.455289     230   \n",
       " 902   2765709881042 2022-05-20  27015.800868  2574.847910     212   \n",
       " 908   2765709881042 2022-05-21  23413.693991  2231.534847     184   \n",
       " 916   2765709881042 2022-05-22  20291.868055  1933.996860     159   \n",
       " 927   2765709881042 2022-05-23  17586.285594  1676.130607     138   \n",
       " 936   2765709881042 2022-05-24  15241.447475  1452.646522     120   \n",
       " 945   2765709881042 2022-05-25  13209.254448  1258.960317     104   \n",
       " 951   2765709881042 2022-05-26  11448.020499  1091.098939      90   \n",
       " 958   2765709881042 2022-05-27   9921.617749   945.619079      78   \n",
       " 970   2765709881042 2022-05-28   8598.735370   819.536534      67   \n",
       " 976   2765709881042 2022-05-29   7452.237311   710.264995      58   \n",
       " 986   2765709881042 2022-05-30   6458.605662   615.562995      50   \n",
       " 995   2765709881042 2022-05-31   5597.458235   533.487928      44   \n",
       " 1002  2765709881042 2022-06-01   4851.130467   462.356204      38   \n",
       " 1013  2765709881042 2022-06-02   4204.313068   400.708710      33   \n",
       " \n",
       "       impressions  orders        cpc  \n",
       " 705         25253      19  13.707497  \n",
       " 712         26044      19  14.456530  \n",
       " 720         26845      21  14.503473  \n",
       " 728         27176      21  14.768098  \n",
       " 738         27568      21  14.763479  \n",
       " 744         27752      21  15.059430  \n",
       " 751         28148      21  14.701743  \n",
       " 761         28323      19  14.557467  \n",
       " 768         28449      17  14.374319  \n",
       " 776         29059      19  13.368881  \n",
       " 784         29819      20  13.423180  \n",
       " 792         30864      19  13.583294  \n",
       " 798         31920      18  13.932866  \n",
       " 811         33025      17  13.801451  \n",
       " 812         33853      18  13.280049  \n",
       " 820         33939      17  12.931163  \n",
       " 826         33974      17  12.455477  \n",
       " 834         34249      21  11.765840  \n",
       " 841         34152      23  11.659439  \n",
       " 847         34137      25  11.601096  \n",
       " 856         29617      21  11.611748  \n",
       " 863         26841      20  11.370884  \n",
       " 872         28864      20  11.440640  \n",
       " 879         30732      22  12.201307  \n",
       " 887         31762      22  12.354152  \n",
       " 895         32229      21  12.223719  \n",
       " 902         29486      19  12.145509  \n",
       " 908         25554      17  12.127907  \n",
       " 916         22147      14  12.163502  \n",
       " 927         19194      12  12.145874  \n",
       " 936         16635      11  12.105388  \n",
       " 945         14417       9  12.105388  \n",
       " 951         12494       8  12.123322  \n",
       " 958         10828       7  12.123322  \n",
       " 970          9385       6  12.231889  \n",
       " 976          8133       5  12.245948  \n",
       " 986          7049       4  12.311260  \n",
       " 995          6109       4  12.124726  \n",
       " 1002         5294       3  12.167269  \n",
       " 1013         4588       3  12.142688  ,\n",
       "                      accountId       adGroupId      campaignId  \\\n",
       " 2008  5ffdb895b08512986422b08c  92508002788393  49896973267574   \n",
       " 2019  5ffdb895b08512986422b08c  92508002788393  49896973267574   \n",
       " 2023  5ffdb895b08512986422b08c  92508002788393  49896973267574   \n",
       " 2030  5ffdb895b08512986422b08c  92508002788393  49896973267574   \n",
       " 2039  5ffdb895b08512986422b08c  92508002788393  49896973267574   \n",
       " ...                        ...             ...             ...   \n",
       " 2825  5ffdb895b08512986422b08c  92508002788393  49896973267574   \n",
       " 2831  5ffdb895b08512986422b08c  92508002788393  49896973267574   \n",
       " 2839  5ffdb895b08512986422b08c  92508002788393  49896973267574   \n",
       " 2851  5ffdb895b08512986422b08c  92508002788393  49896973267574   \n",
       " 2855  5ffdb895b08512986422b08c  92508002788393  49896973267574   \n",
       " \n",
       "             keywordId       date         sales        spend  clicks  \\\n",
       " 2008  227590663052584 2022-10-04   8553.086400  1133.523889     106   \n",
       " 2019  227590663052584 2022-10-05   7412.674880  1080.910037     102   \n",
       " 2023  227590663052584 2022-10-06   6424.318229  1056.506032     103   \n",
       " 2030  227590663052584 2022-10-07   6245.595798  1006.762561     100   \n",
       " 2039  227590663052584 2022-10-08   6090.703025  1007.026220     100   \n",
       " ...               ...        ...           ...          ...     ...   \n",
       " 2825  227590663052584 2023-01-16  13747.853007  2375.308801     248   \n",
       " 2831  227590663052584 2023-01-17  20961.137939  2831.460961     288   \n",
       " 2839  227590663052584 2023-01-18  21419.088881  3172.207499     317   \n",
       " 2851  227590663052584 2023-01-19  22425.586363  3470.711833     340   \n",
       " 2855  227590663052584 2023-01-20  24811.442848  3849.378255     378   \n",
       " \n",
       "       impressions  orders        cpc  \n",
       " 2008        17608       2  10.693622  \n",
       " 2019        18745       2  10.597157  \n",
       " 2023        19782       1  10.257340  \n",
       " 2030        19966       1  10.067626  \n",
       " 2039        19768       1  10.070262  \n",
       " ...           ...     ...        ...  \n",
       " 2825        33391       3   9.577858  \n",
       " 2831        38766       4   9.831462  \n",
       " 2839        42364       4  10.006964  \n",
       " 2851        44643       5  10.207976  \n",
       " 2855        49387       6  10.183540  \n",
       " \n",
       " [109 rows x 11 columns],\n",
       "                      accountId      adGroupId      campaignId       keywordId  \\\n",
       " 1982  5ffdb895b08512986422b08c  6055910382152  49896973267574  24104861481597   \n",
       " 1991  5ffdb895b08512986422b08c  6055910382152  49896973267574  24104861481597   \n",
       " 1997  5ffdb895b08512986422b08c  6055910382152  49896973267574  24104861481597   \n",
       " 2009  5ffdb895b08512986422b08c  6055910382152  49896973267574  24104861481597   \n",
       " 2012  5ffdb895b08512986422b08c  6055910382152  49896973267574  24104861481597   \n",
       " ...                        ...            ...             ...             ...   \n",
       " 2827  5ffdb895b08512986422b08c  6055910382152  49896973267574  24104861481597   \n",
       " 2832  5ffdb895b08512986422b08c  6055910382152  49896973267574  24104861481597   \n",
       " 2840  5ffdb895b08512986422b08c  6055910382152  49896973267574  24104861481597   \n",
       " 2847  5ffdb895b08512986422b08c  6055910382152  49896973267574  24104861481597   \n",
       " 2856  5ffdb895b08512986422b08c  6055910382152  49896973267574  24104861481597   \n",
       " \n",
       "            date         sales        spend  clicks  impressions  orders  \\\n",
       " 1982 2022-10-01  23650.439235  6090.153214     288        60651       6   \n",
       " 1991 2022-10-02  23027.671337  6008.936785     282        59559       5   \n",
       " 1997 2022-10-03  25242.064492  5885.057214     275        58354       6   \n",
       " 2009 2022-10-04  23774.195893  5737.584252     269        57729       5   \n",
       " 2012 2022-10-05  21236.845774  5542.694352     261        56665       5   \n",
       " ...         ...           ...          ...     ...          ...     ...   \n",
       " 2827 2023-01-16      1.006183    12.704839       2          572       0   \n",
       " 2832 2023-01-17      0.872025    11.010861       2          499       0   \n",
       " 2840 2023-01-18      0.755755     9.542746       1          436       0   \n",
       " 2847 2023-01-19      0.654988     8.270380       1          380       0   \n",
       " 2856 2023-01-20      0.567656     7.167662       1          334       0   \n",
       " \n",
       "             cpc  \n",
       " 1982  21.146365  \n",
       " 1991  21.308286  \n",
       " 1997  21.400208  \n",
       " 2009  21.329309  \n",
       " 2012  21.236377  \n",
       " ...         ...  \n",
       " 2827   6.352420  \n",
       " 2832   5.505430  \n",
       " 2840   9.542746  \n",
       " 2847   8.270380  \n",
       " 2856   7.167662  \n",
       " \n",
       " [108 rows x 11 columns],\n",
       "                      accountId        adGroupId      campaignId  \\\n",
       " 2010  5ffdb895b08512986422b08c  247430411963414  43979301427275   \n",
       " 2014  5ffdb895b08512986422b08c  247430411963414  43979301427275   \n",
       " 2026  5ffdb895b08512986422b08c  247430411963414  43979301427275   \n",
       " 2032  5ffdb895b08512986422b08c  247430411963414  43979301427275   \n",
       " 2040  5ffdb895b08512986422b08c  247430411963414  43979301427275   \n",
       " ...                        ...              ...             ...   \n",
       " 2826  5ffdb895b08512986422b08c  247430411963414  43979301427275   \n",
       " 2837  5ffdb895b08512986422b08c  247430411963414  43979301427275   \n",
       " 2841  5ffdb895b08512986422b08c  247430411963414  43979301427275   \n",
       " 2845  5ffdb895b08512986422b08c  247430411963414  43979301427275   \n",
       " 2857  5ffdb895b08512986422b08c  247430411963414  43979301427275   \n",
       " \n",
       "             keywordId       date        sales        spend  clicks  \\\n",
       " 2010  272721784774857 2022-10-04  8301.182826  1190.524339     111   \n",
       " 2014  272721784774857 2022-10-05  7491.194449  1143.258427     107   \n",
       " 2026  272721784774857 2022-10-06  7839.375189  1105.217303     104   \n",
       " 2032  272721784774857 2022-10-07  7471.639831  1048.678996     100   \n",
       " 2040  272721784774857 2022-10-08  7249.885186  1022.824463      99   \n",
       " ...               ...        ...          ...          ...     ...   \n",
       " 2826  272721784774857 2023-01-16   201.211325    11.028672       2   \n",
       " 2837  272721784774857 2023-01-17   174.383148    11.488849       2   \n",
       " 2841  272721784774857 2023-01-18   151.132062    15.730336       3   \n",
       " 2845  272721784774857 2023-01-19   130.981120    15.104958       2   \n",
       " 2857  272721784774857 2023-01-20   440.522304    16.134963       3   \n",
       " \n",
       "       impressions  orders        cpc  \n",
       " 2010        20683       7  10.725444  \n",
       " 2014        19795       6  10.684658  \n",
       " 2026        19760       7  10.627089  \n",
       " 2032        19181       6  10.486790  \n",
       " 2040        18773       6  10.331560  \n",
       " ...           ...     ...        ...  \n",
       " 2826           55       0   5.514336  \n",
       " 2837           58       0   5.744425  \n",
       " 2841           60       0   5.243445  \n",
       " 2845           58       0   7.552479  \n",
       " 2857           66       0   5.378321  \n",
       " \n",
       " [109 rows x 11 columns],\n",
       "                      accountId       adGroupId      campaignId  \\\n",
       " 2146  5ffdb895b08512986422b08c  16386791421931  43979301427275   \n",
       " 2152  5ffdb895b08512986422b08c  16386791421931  43979301427275   \n",
       " 2161  5ffdb895b08512986422b08c  16386791421931  43979301427275   \n",
       " 2164  5ffdb895b08512986422b08c  16386791421931  43979301427275   \n",
       " 2177  5ffdb895b08512986422b08c  16386791421931  43979301427275   \n",
       " ...                        ...             ...             ...   \n",
       " 2828  5ffdb895b08512986422b08c  16386791421931  43979301427275   \n",
       " 2836  5ffdb895b08512986422b08c  16386791421931  43979301427275   \n",
       " 2842  5ffdb895b08512986422b08c  16386791421931  43979301427275   \n",
       " 2849  5ffdb895b08512986422b08c  16386791421931  43979301427275   \n",
       " 2852  5ffdb895b08512986422b08c  16386791421931  43979301427275   \n",
       " \n",
       "            keywordId       date         sales        spend  clicks  \\\n",
       " 2146  13560133409311 2022-10-21  14674.483496  3117.099212     181   \n",
       " 2152  13560133409311 2022-10-22  12717.885697  2701.485983     157   \n",
       " 2161  13560133409311 2022-10-23  11022.167604  2341.287852     136   \n",
       " 2164  13560133409311 2022-10-24   9552.545257  2029.116139     118   \n",
       " 2177  13560133409311 2022-10-25   8278.872556  1758.567320     102   \n",
       " ...              ...        ...           ...          ...     ...   \n",
       " 2828  13560133409311 2023-01-16  20116.741864  2274.213407     207   \n",
       " 2836  13560133409311 2023-01-17  19458.805616  2135.136953     196   \n",
       " 2842  13560133409311 2023-01-18  21675.826200  2326.868026     212   \n",
       " 2849  13560133409311 2023-01-19  22450.916040  2566.798956     228   \n",
       " 2852  13560133409311 2023-01-20  23635.201901  2727.040428     238   \n",
       " \n",
       "       impressions  orders        cpc  \n",
       " 2146        13630      12  17.221543  \n",
       " 2152        11812      11  17.206917  \n",
       " 2161        10237       9  17.215352  \n",
       " 2164         8872       8  17.195899  \n",
       " 2177         7689       7  17.240856  \n",
       " ...           ...     ...        ...  \n",
       " 2828        13903      17  10.986538  \n",
       " 2836        14146      16  10.893556  \n",
       " 2842        14172      18  10.975793  \n",
       " 2849        14275      19  11.257890  \n",
       " 2852        14461      21  11.458153  \n",
       " \n",
       " [92 rows x 11 columns],\n",
       "                      accountId        adGroupId      campaignId  \\\n",
       " 2042  5ffdb895b08512986422b08c  171114893832742  30363257828591   \n",
       " 2051  5ffdb895b08512986422b08c  171114893832742  30363257828591   \n",
       " 2052  5ffdb895b08512986422b08c  171114893832742  30363257828591   \n",
       " 2065  5ffdb895b08512986422b08c  171114893832742  30363257828591   \n",
       " 2075  5ffdb895b08512986422b08c  171114893832742  30363257828591   \n",
       " ...                        ...              ...             ...   \n",
       " 2829  5ffdb895b08512986422b08c  171114893832742  30363257828591   \n",
       " 2833  5ffdb895b08512986422b08c  171114893832742  30363257828591   \n",
       " 2843  5ffdb895b08512986422b08c  171114893832742  30363257828591   \n",
       " 2848  5ffdb895b08512986422b08c  171114893832742  30363257828591   \n",
       " 2853  5ffdb895b08512986422b08c  171114893832742  30363257828591   \n",
       " \n",
       "            keywordId       date        sales       spend  clicks  impressions  \\\n",
       " 2042  90306352578146 2022-10-08  3742.352186  369.010245      60         9388   \n",
       " 2051  90306352578146 2022-10-09  4151.621228  357.399546      57         8791   \n",
       " 2052  90306352578146 2022-10-10  3598.071731  337.286273      55         8392   \n",
       " 2065  90306352578146 2022-10-11  3558.894167  323.658770      54         7876   \n",
       " 2075  90306352578146 2022-10-12  3524.940278  303.006934      50         7338   \n",
       " ...              ...        ...          ...         ...     ...          ...   \n",
       " 2829  90306352578146 2023-01-16  7108.100409  369.031697     115         6746   \n",
       " 2833  90306352578146 2023-01-17  8421.481688  384.082137     120         6716   \n",
       " 2843  90306352578146 2023-01-18  8343.362796  370.593852     119         6524   \n",
       " 2848  90306352578146 2023-01-19  7626.281090  354.176005     114         7686   \n",
       " 2853  90306352578146 2023-01-20  8021.079611  335.237871     109         7971   \n",
       " \n",
       "       orders       cpc  \n",
       " 2042       1  6.150171  \n",
       " 2051       1  6.270167  \n",
       " 2052       1  6.132478  \n",
       " 2065       1  5.993681  \n",
       " 2075       1  6.060139  \n",
       " ...      ...       ...  \n",
       " 2829       3  3.208971  \n",
       " 2833       3  3.200684  \n",
       " 2843       3  3.114234  \n",
       " 2848       3  3.106807  \n",
       " 2853       3  3.075577  \n",
       " \n",
       " [104 rows x 11 columns],\n",
       "                      accountId       adGroupId     campaignId  \\\n",
       " 1995  5ffdb895b08512986422b08c  22793314923941  2290415637360   \n",
       " 2002  5ffdb895b08512986422b08c  22793314923941  2290415637360   \n",
       " 2005  5ffdb895b08512986422b08c  22793314923941  2290415637360   \n",
       " 2018  5ffdb895b08512986422b08c  22793314923941  2290415637360   \n",
       " 2024  5ffdb895b08512986422b08c  22793314923941  2290415637360   \n",
       " ...                        ...             ...            ...   \n",
       " 2830  5ffdb895b08512986422b08c  22793314923941  2290415637360   \n",
       " 2835  5ffdb895b08512986422b08c  22793314923941  2290415637360   \n",
       " 2844  5ffdb895b08512986422b08c  22793314923941  2290415637360   \n",
       " 2850  5ffdb895b08512986422b08c  22793314923941  2290415637360   \n",
       " 2858  5ffdb895b08512986422b08c  22793314923941  2290415637360   \n",
       " \n",
       "             keywordId       date         sales        spend  clicks  \\\n",
       " 1995  116716807274101 2022-10-02  18854.770752  1863.346089     112   \n",
       " 2002  116716807274101 2022-10-03  16842.834652  1735.747944     105   \n",
       " 2005  116716807274101 2022-10-04  14597.123365  1612.656218      98   \n",
       " 2018  116716807274101 2022-10-05  14446.660250  1533.524722      95   \n",
       " 2024  116716807274101 2022-10-06  13051.398883  1461.186759      90   \n",
       " ...               ...        ...           ...          ...     ...   \n",
       " 2830  116716807274101 2023-01-16  14208.769655  1074.260177      81   \n",
       " 2835  116716807274101 2023-01-17  16329.856367  1184.150820      88   \n",
       " 2844  116716807274101 2023-01-18  15886.438185  1258.802711      94   \n",
       " 2850  116716807274101 2023-01-19  15372.311760  1308.975682      99   \n",
       " 2858  116716807274101 2023-01-20  16338.712859  1388.088258     104   \n",
       " \n",
       "       impressions  orders        cpc  \n",
       " 1995        45275       7  16.637019  \n",
       " 2002        42436       6  16.530933  \n",
       " 2005        39185       5  16.455676  \n",
       " 2018        36768       5  16.142365  \n",
       " 2024        34521       4  16.235408  \n",
       " ...           ...     ...        ...  \n",
       " 2830        38627       6  13.262471  \n",
       " 2835        38153       6  13.456259  \n",
       " 2844        37231       6  13.391518  \n",
       " 2850        36800       6  13.221977  \n",
       " 2858        36492       6  13.347002  \n",
       " \n",
       " [109 rows x 11 columns],\n",
       "                      accountId        adGroupId       campaignId  \\\n",
       " 2281  5ffdb895b08512986422b08c  195821292226328  258268578317508   \n",
       " 2290  5ffdb895b08512986422b08c  195821292226328  258268578317508   \n",
       " 2298  5ffdb895b08512986422b08c  195821292226328  258268578317508   \n",
       " 2308  5ffdb895b08512986422b08c  195821292226328  258268578317508   \n",
       " 2315  5ffdb895b08512986422b08c  195821292226328  258268578317508   \n",
       " ...                        ...              ...              ...   \n",
       " 2824  5ffdb895b08512986422b08c  195821292226328  258268578317508   \n",
       " 2834  5ffdb895b08512986422b08c  195821292226328  258268578317508   \n",
       " 2838  5ffdb895b08512986422b08c  195821292226328  258268578317508   \n",
       " 2846  5ffdb895b08512986422b08c  195821292226328  258268578317508   \n",
       " 2854  5ffdb895b08512986422b08c  195821292226328  258268578317508   \n",
       " \n",
       "             keywordId       date         sales        spend  clicks  \\\n",
       " 2281  202640426426128 2022-11-08  33211.262181  1823.162193     239   \n",
       " 2290  202640426426128 2022-11-09  33136.649891  1914.341900     239   \n",
       " 2298  202640426426128 2022-11-10  33289.167239  1983.061647     238   \n",
       " 2308  202640426426128 2022-11-11  34350.390273  2121.141427     241   \n",
       " 2315  202640426426128 2022-11-12  34665.716904  2298.930570     250   \n",
       " ...               ...        ...           ...          ...     ...   \n",
       " 2824  202640426426128 2023-01-16  29155.101760  1421.377226     224   \n",
       " 2834  202640426426128 2023-01-17  28172.949525  1426.417596     230   \n",
       " 2838  202640426426128 2023-01-18  28238.690922  1431.031250     233   \n",
       " 2846  202640426426128 2023-01-19  28527.193466  1469.171083     239   \n",
       " 2854  202640426426128 2023-01-20  28879.151670  1511.389605     243   \n",
       " \n",
       "       impressions  orders       cpc  \n",
       " 2281        16625      23  7.628294  \n",
       " 2290        16714      23  8.009799  \n",
       " 2298        17068      23  8.332192  \n",
       " 2308        18205      24  8.801417  \n",
       " 2315        19075      25  9.195722  \n",
       " ...           ...     ...       ...  \n",
       " 2824        34754      21  6.345434  \n",
       " 2834        31992      21  6.201816  \n",
       " 2838        29079      21  6.141765  \n",
       " 2846        26846      22  6.147159  \n",
       " 2854        24935      22  6.219710  \n",
       " \n",
       " [74 rows x 11 columns],\n",
       "                      accountId        adGroupId       campaignId  \\\n",
       " 2203  5ffdb895b08512986422b08c  145787982816138  258268578317508   \n",
       " 2212  5ffdb895b08512986422b08c  145787982816138  258268578317508   \n",
       " 2219  5ffdb895b08512986422b08c  145787982816138  258268578317508   \n",
       " 2228  5ffdb895b08512986422b08c  145787982816138  258268578317508   \n",
       " 2236  5ffdb895b08512986422b08c  145787982816138  258268578317508   \n",
       " ...                        ...              ...              ...   \n",
       " 2754  5ffdb895b08512986422b08c  145787982816138  258268578317508   \n",
       " 2761  5ffdb895b08512986422b08c  145787982816138  258268578317508   \n",
       " 2769  5ffdb895b08512986422b08c  145787982816138  258268578317508   \n",
       " 2776  5ffdb895b08512986422b08c  145787982816138  258268578317508   \n",
       " 2786  5ffdb895b08512986422b08c  145787982816138  258268578317508   \n",
       " \n",
       "             keywordId       date        sales       spend  clicks  \\\n",
       " 2203  190918643002238 2022-10-29  3193.533615  140.780031      26   \n",
       " 2212  190918643002238 2022-10-30  3179.933133  131.556027      25   \n",
       " 2219  190918643002238 2022-10-31  3704.530048  145.675223      29   \n",
       " 2228  190918643002238 2022-11-01  3492.966042  144.578527      27   \n",
       " 2236  190918643002238 2022-11-02  4088.819903  152.833390      31   \n",
       " ...               ...        ...          ...         ...     ...   \n",
       " 2754  190918643002238 2023-01-06  1295.111628  125.076648      10   \n",
       " 2761  190918643002238 2023-01-07  1122.430077  108.399762       9   \n",
       " 2769  190918643002238 2023-01-08   972.772734   93.946460       8   \n",
       " 2776  190918643002238 2023-01-09   843.069702   81.420266       7   \n",
       " 2786  190918643002238 2023-01-10   730.660409   70.564230       6   \n",
       " \n",
       "       impressions  orders        cpc  \n",
       " 2203         4054       2   5.414617  \n",
       " 2212         4210       2   5.262241  \n",
       " 2219         4714       2   5.023284  \n",
       " 2228         4733       2   5.354760  \n",
       " 2236         4870       2   4.930109  \n",
       " ...           ...     ...        ...  \n",
       " 2754         2150       0  12.507665  \n",
       " 2761         1864       0  12.044418  \n",
       " 2769         1615       0  11.743308  \n",
       " 2776         1400       0  11.631467  \n",
       " 2786         1213       0  11.760705  \n",
       " \n",
       " [74 rows x 11 columns]]"
      ]
     },
     "execution_count": 102,
     "metadata": {},
     "output_type": "execute_result"
    }
   ],
   "source": [
    "frames_test"
   ]
  },
  {
   "cell_type": "code",
   "execution_count": 103,
   "metadata": {
    "id": "WXwqyV8pSeWm"
   },
   "outputs": [],
   "source": [
    "new_df_test = pd.concat(frames_test)"
   ]
  },
  {
   "cell_type": "code",
   "execution_count": 104,
   "metadata": {
    "colab": {
     "base_uri": "https://localhost:8080/",
     "height": 661
    },
    "id": "-ffHwwBAShDU",
    "outputId": "f3349864-019a-49f7-c32a-269dbf62e983"
   },
   "outputs": [
    {
     "data": {
      "text/html": [
       "\n",
       "  <div id=\"df-5c278e6b-fc94-4e9f-a924-f201fe999168\">\n",
       "    <div class=\"colab-df-container\">\n",
       "      <div>\n",
       "<style scoped>\n",
       "    .dataframe tbody tr th:only-of-type {\n",
       "        vertical-align: middle;\n",
       "    }\n",
       "\n",
       "    .dataframe tbody tr th {\n",
       "        vertical-align: top;\n",
       "    }\n",
       "\n",
       "    .dataframe thead th {\n",
       "        text-align: right;\n",
       "    }\n",
       "</style>\n",
       "<table border=\"1\" class=\"dataframe\">\n",
       "  <thead>\n",
       "    <tr style=\"text-align: right;\">\n",
       "      <th></th>\n",
       "      <th>accountId</th>\n",
       "      <th>adGroupId</th>\n",
       "      <th>campaignId</th>\n",
       "      <th>keywordId</th>\n",
       "      <th>date</th>\n",
       "      <th>sales</th>\n",
       "      <th>spend</th>\n",
       "      <th>clicks</th>\n",
       "      <th>impressions</th>\n",
       "      <th>orders</th>\n",
       "      <th>cpc</th>\n",
       "    </tr>\n",
       "  </thead>\n",
       "  <tbody>\n",
       "    <tr>\n",
       "      <th>600</th>\n",
       "      <td>5ffdb895b08512986422b08c</td>\n",
       "      <td>175642569815727</td>\n",
       "      <td>85580432953015</td>\n",
       "      <td>129388728370771</td>\n",
       "      <td>2022-04-10</td>\n",
       "      <td>813.582486</td>\n",
       "      <td>107.091706</td>\n",
       "      <td>10</td>\n",
       "      <td>2024</td>\n",
       "      <td>0</td>\n",
       "      <td>10.709171</td>\n",
       "    </tr>\n",
       "    <tr>\n",
       "      <th>610</th>\n",
       "      <td>5ffdb895b08512986422b08c</td>\n",
       "      <td>175642569815727</td>\n",
       "      <td>85580432953015</td>\n",
       "      <td>129388728370771</td>\n",
       "      <td>2022-04-11</td>\n",
       "      <td>705.103952</td>\n",
       "      <td>93.394036</td>\n",
       "      <td>9</td>\n",
       "      <td>1811</td>\n",
       "      <td>0</td>\n",
       "      <td>10.377115</td>\n",
       "    </tr>\n",
       "    <tr>\n",
       "      <th>622</th>\n",
       "      <td>5ffdb895b08512986422b08c</td>\n",
       "      <td>175642569815727</td>\n",
       "      <td>85580432953015</td>\n",
       "      <td>129388728370771</td>\n",
       "      <td>2022-04-12</td>\n",
       "      <td>611.089439</td>\n",
       "      <td>80.941411</td>\n",
       "      <td>7</td>\n",
       "      <td>1628</td>\n",
       "      <td>0</td>\n",
       "      <td>11.563059</td>\n",
       "    </tr>\n",
       "    <tr>\n",
       "      <th>625</th>\n",
       "      <td>5ffdb895b08512986422b08c</td>\n",
       "      <td>175642569815727</td>\n",
       "      <td>85580432953015</td>\n",
       "      <td>129388728370771</td>\n",
       "      <td>2022-04-13</td>\n",
       "      <td>529.610356</td>\n",
       "      <td>70.149158</td>\n",
       "      <td>6</td>\n",
       "      <td>1557</td>\n",
       "      <td>0</td>\n",
       "      <td>11.691526</td>\n",
       "    </tr>\n",
       "    <tr>\n",
       "      <th>631</th>\n",
       "      <td>5ffdb895b08512986422b08c</td>\n",
       "      <td>175642569815727</td>\n",
       "      <td>85580432953015</td>\n",
       "      <td>129388728370771</td>\n",
       "      <td>2022-04-14</td>\n",
       "      <td>458.995274</td>\n",
       "      <td>60.795888</td>\n",
       "      <td>5</td>\n",
       "      <td>1492</td>\n",
       "      <td>0</td>\n",
       "      <td>12.159178</td>\n",
       "    </tr>\n",
       "    <tr>\n",
       "      <th>...</th>\n",
       "      <td>...</td>\n",
       "      <td>...</td>\n",
       "      <td>...</td>\n",
       "      <td>...</td>\n",
       "      <td>...</td>\n",
       "      <td>...</td>\n",
       "      <td>...</td>\n",
       "      <td>...</td>\n",
       "      <td>...</td>\n",
       "      <td>...</td>\n",
       "      <td>...</td>\n",
       "    </tr>\n",
       "    <tr>\n",
       "      <th>2754</th>\n",
       "      <td>5ffdb895b08512986422b08c</td>\n",
       "      <td>145787982816138</td>\n",
       "      <td>258268578317508</td>\n",
       "      <td>190918643002238</td>\n",
       "      <td>2023-01-06</td>\n",
       "      <td>1295.111628</td>\n",
       "      <td>125.076648</td>\n",
       "      <td>10</td>\n",
       "      <td>2150</td>\n",
       "      <td>0</td>\n",
       "      <td>12.507665</td>\n",
       "    </tr>\n",
       "    <tr>\n",
       "      <th>2761</th>\n",
       "      <td>5ffdb895b08512986422b08c</td>\n",
       "      <td>145787982816138</td>\n",
       "      <td>258268578317508</td>\n",
       "      <td>190918643002238</td>\n",
       "      <td>2023-01-07</td>\n",
       "      <td>1122.430077</td>\n",
       "      <td>108.399762</td>\n",
       "      <td>9</td>\n",
       "      <td>1864</td>\n",
       "      <td>0</td>\n",
       "      <td>12.044418</td>\n",
       "    </tr>\n",
       "    <tr>\n",
       "      <th>2769</th>\n",
       "      <td>5ffdb895b08512986422b08c</td>\n",
       "      <td>145787982816138</td>\n",
       "      <td>258268578317508</td>\n",
       "      <td>190918643002238</td>\n",
       "      <td>2023-01-08</td>\n",
       "      <td>972.772734</td>\n",
       "      <td>93.946460</td>\n",
       "      <td>8</td>\n",
       "      <td>1615</td>\n",
       "      <td>0</td>\n",
       "      <td>11.743308</td>\n",
       "    </tr>\n",
       "    <tr>\n",
       "      <th>2776</th>\n",
       "      <td>5ffdb895b08512986422b08c</td>\n",
       "      <td>145787982816138</td>\n",
       "      <td>258268578317508</td>\n",
       "      <td>190918643002238</td>\n",
       "      <td>2023-01-09</td>\n",
       "      <td>843.069702</td>\n",
       "      <td>81.420266</td>\n",
       "      <td>7</td>\n",
       "      <td>1400</td>\n",
       "      <td>0</td>\n",
       "      <td>11.631467</td>\n",
       "    </tr>\n",
       "    <tr>\n",
       "      <th>2786</th>\n",
       "      <td>5ffdb895b08512986422b08c</td>\n",
       "      <td>145787982816138</td>\n",
       "      <td>258268578317508</td>\n",
       "      <td>190918643002238</td>\n",
       "      <td>2023-01-10</td>\n",
       "      <td>730.660409</td>\n",
       "      <td>70.564230</td>\n",
       "      <td>6</td>\n",
       "      <td>1213</td>\n",
       "      <td>0</td>\n",
       "      <td>11.760705</td>\n",
       "    </tr>\n",
       "  </tbody>\n",
       "</table>\n",
       "<p>852 rows × 11 columns</p>\n",
       "</div>\n",
       "      <button class=\"colab-df-convert\" onclick=\"convertToInteractive('df-5c278e6b-fc94-4e9f-a924-f201fe999168')\"\n",
       "              title=\"Convert this dataframe to an interactive table.\"\n",
       "              style=\"display:none;\">\n",
       "        \n",
       "  <svg xmlns=\"http://www.w3.org/2000/svg\" height=\"24px\"viewBox=\"0 0 24 24\"\n",
       "       width=\"24px\">\n",
       "    <path d=\"M0 0h24v24H0V0z\" fill=\"none\"/>\n",
       "    <path d=\"M18.56 5.44l.94 2.06.94-2.06 2.06-.94-2.06-.94-.94-2.06-.94 2.06-2.06.94zm-11 1L8.5 8.5l.94-2.06 2.06-.94-2.06-.94L8.5 2.5l-.94 2.06-2.06.94zm10 10l.94 2.06.94-2.06 2.06-.94-2.06-.94-.94-2.06-.94 2.06-2.06.94z\"/><path d=\"M17.41 7.96l-1.37-1.37c-.4-.4-.92-.59-1.43-.59-.52 0-1.04.2-1.43.59L10.3 9.45l-7.72 7.72c-.78.78-.78 2.05 0 2.83L4 21.41c.39.39.9.59 1.41.59.51 0 1.02-.2 1.41-.59l7.78-7.78 2.81-2.81c.8-.78.8-2.07 0-2.86zM5.41 20L4 18.59l7.72-7.72 1.47 1.35L5.41 20z\"/>\n",
       "  </svg>\n",
       "      </button>\n",
       "      \n",
       "  <style>\n",
       "    .colab-df-container {\n",
       "      display:flex;\n",
       "      flex-wrap:wrap;\n",
       "      gap: 12px;\n",
       "    }\n",
       "\n",
       "    .colab-df-convert {\n",
       "      background-color: #E8F0FE;\n",
       "      border: none;\n",
       "      border-radius: 50%;\n",
       "      cursor: pointer;\n",
       "      display: none;\n",
       "      fill: #1967D2;\n",
       "      height: 32px;\n",
       "      padding: 0 0 0 0;\n",
       "      width: 32px;\n",
       "    }\n",
       "\n",
       "    .colab-df-convert:hover {\n",
       "      background-color: #E2EBFA;\n",
       "      box-shadow: 0px 1px 2px rgba(60, 64, 67, 0.3), 0px 1px 3px 1px rgba(60, 64, 67, 0.15);\n",
       "      fill: #174EA6;\n",
       "    }\n",
       "\n",
       "    [theme=dark] .colab-df-convert {\n",
       "      background-color: #3B4455;\n",
       "      fill: #D2E3FC;\n",
       "    }\n",
       "\n",
       "    [theme=dark] .colab-df-convert:hover {\n",
       "      background-color: #434B5C;\n",
       "      box-shadow: 0px 1px 3px 1px rgba(0, 0, 0, 0.15);\n",
       "      filter: drop-shadow(0px 1px 2px rgba(0, 0, 0, 0.3));\n",
       "      fill: #FFFFFF;\n",
       "    }\n",
       "  </style>\n",
       "\n",
       "      <script>\n",
       "        const buttonEl =\n",
       "          document.querySelector('#df-5c278e6b-fc94-4e9f-a924-f201fe999168 button.colab-df-convert');\n",
       "        buttonEl.style.display =\n",
       "          google.colab.kernel.accessAllowed ? 'block' : 'none';\n",
       "\n",
       "        async function convertToInteractive(key) {\n",
       "          const element = document.querySelector('#df-5c278e6b-fc94-4e9f-a924-f201fe999168');\n",
       "          const dataTable =\n",
       "            await google.colab.kernel.invokeFunction('convertToInteractive',\n",
       "                                                     [key], {});\n",
       "          if (!dataTable) return;\n",
       "\n",
       "          const docLinkHtml = 'Like what you see? Visit the ' +\n",
       "            '<a target=\"_blank\" href=https://colab.research.google.com/notebooks/data_table.ipynb>data table notebook</a>'\n",
       "            + ' to learn more about interactive tables.';\n",
       "          element.innerHTML = '';\n",
       "          dataTable['output_type'] = 'display_data';\n",
       "          await google.colab.output.renderOutput(dataTable, element);\n",
       "          const docLink = document.createElement('div');\n",
       "          docLink.innerHTML = docLinkHtml;\n",
       "          element.appendChild(docLink);\n",
       "        }\n",
       "      </script>\n",
       "    </div>\n",
       "  </div>\n",
       "  "
      ],
      "text/plain": [
       "                     accountId        adGroupId       campaignId  \\\n",
       "600   5ffdb895b08512986422b08c  175642569815727   85580432953015   \n",
       "610   5ffdb895b08512986422b08c  175642569815727   85580432953015   \n",
       "622   5ffdb895b08512986422b08c  175642569815727   85580432953015   \n",
       "625   5ffdb895b08512986422b08c  175642569815727   85580432953015   \n",
       "631   5ffdb895b08512986422b08c  175642569815727   85580432953015   \n",
       "...                        ...              ...              ...   \n",
       "2754  5ffdb895b08512986422b08c  145787982816138  258268578317508   \n",
       "2761  5ffdb895b08512986422b08c  145787982816138  258268578317508   \n",
       "2769  5ffdb895b08512986422b08c  145787982816138  258268578317508   \n",
       "2776  5ffdb895b08512986422b08c  145787982816138  258268578317508   \n",
       "2786  5ffdb895b08512986422b08c  145787982816138  258268578317508   \n",
       "\n",
       "            keywordId       date        sales       spend  clicks  \\\n",
       "600   129388728370771 2022-04-10   813.582486  107.091706      10   \n",
       "610   129388728370771 2022-04-11   705.103952   93.394036       9   \n",
       "622   129388728370771 2022-04-12   611.089439   80.941411       7   \n",
       "625   129388728370771 2022-04-13   529.610356   70.149158       6   \n",
       "631   129388728370771 2022-04-14   458.995274   60.795888       5   \n",
       "...               ...        ...          ...         ...     ...   \n",
       "2754  190918643002238 2023-01-06  1295.111628  125.076648      10   \n",
       "2761  190918643002238 2023-01-07  1122.430077  108.399762       9   \n",
       "2769  190918643002238 2023-01-08   972.772734   93.946460       8   \n",
       "2776  190918643002238 2023-01-09   843.069702   81.420266       7   \n",
       "2786  190918643002238 2023-01-10   730.660409   70.564230       6   \n",
       "\n",
       "      impressions  orders        cpc  \n",
       "600          2024       0  10.709171  \n",
       "610          1811       0  10.377115  \n",
       "622          1628       0  11.563059  \n",
       "625          1557       0  11.691526  \n",
       "631          1492       0  12.159178  \n",
       "...           ...     ...        ...  \n",
       "2754         2150       0  12.507665  \n",
       "2761         1864       0  12.044418  \n",
       "2769         1615       0  11.743308  \n",
       "2776         1400       0  11.631467  \n",
       "2786         1213       0  11.760705  \n",
       "\n",
       "[852 rows x 11 columns]"
      ]
     },
     "execution_count": 104,
     "metadata": {},
     "output_type": "execute_result"
    }
   ],
   "source": [
    "new_df_test"
   ]
  },
  {
   "cell_type": "code",
   "execution_count": 105,
   "metadata": {
    "id": "mvYzxlOOJ-Ko"
   },
   "outputs": [],
   "source": [
    "new_df_test = pd.concat(frames_test)\n",
    "new_df_test.reset_index(inplace = True)\n",
    "new_df_test.drop(columns =\"index\", inplace = True)\n",
    "new_df_test[new_df_test['cpc'] != max(new_df_test['cpc'])]\n",
    "mean_cpc = sum(new_df_test[new_df_test['cpc'] != max(new_df_test['cpc'])]['cpc'])/len(new_df_test[new_df_test['cpc'] != max(new_df_test['cpc'])])\n",
    "new_df_test['cpc'] = new_df_test['cpc'].astype(str)\n",
    "new_df_test.replace({\"cpc\":{\"inf\":mean_cpc}},inplace = True)\n",
    "new_df_test['cpc'] = new_df_test['cpc'].astype(float)\n",
    "account_data_test = new_df_test\n",
    "dataX_test = x_scaler.fit_transform(account_data_test[['sales','spend', 'clicks', 'impressions', 'orders','cpc']])\n",
    "dataY_test = y_scaler.fit_transform(account_data_test[['sales','spend']])\n",
    "\n",
    "def create_dataset(dataset, time_step):\n",
    "    import numpy\n",
    "    dataX, dataY = [], []\n",
    "    for i in range(len(dataset)-time_step-1):\n",
    "        a = dataset[i:(i+time_step), 0]   ###i=0, 0,1,2,3-----99   100 \n",
    "        dataX.append(a)\n",
    "        dataY.append(dataset[i + time_step, 0])\n",
    "    return numpy.array(dataX), numpy.array(dataY)\n",
    "\n",
    "x_train_multi,y_train_multi = create_dataset(dataX_test,14)\n",
    "x_val_multi, y_val_multi = create_dataset(dataY_test,14)\n",
    "\n",
    "# reshape input to be [samples, time steps, features] which is required for LSTM\n",
    "x_train_multi =x_train_multi.reshape(x_train_multi.shape[0],x_train_multi.shape[1] , 1)\n",
    "x_val_multi = x_val_multi.reshape(x_val_multi.shape[0],x_val_multi.shape[1] , 1)\n",
    "\n",
    "BATCH_SIZE = 256\n",
    "BUFFER_SIZE = 150\n",
    "\n",
    "train_data_multi = tf.data.Dataset.from_tensor_slices((x_train_multi, y_train_multi))\n",
    "train_data_multi = train_data_multi.cache().shuffle(BUFFER_SIZE).batch(BATCH_SIZE).repeat()\n",
    "\n",
    "val_data_multi = tf.data.Dataset.from_tensor_slices((x_val_multi, y_val_multi))\n",
    "val_data_multi = val_data_multi.batch(BATCH_SIZE).repeat()"
   ]
  },
  {
   "cell_type": "code",
   "execution_count": 106,
   "metadata": {
    "colab": {
     "base_uri": "https://localhost:8080/"
    },
    "id": "RKOvAvo5J-It",
    "outputId": "091f434e-c36a-42af-bda0-6908eade5bb6"
   },
   "outputs": [
    {
     "name": "stdout",
     "output_type": "stream",
     "text": [
      "27/27 [==============================] - 1s 44ms/step\n",
      "27/27 [==============================] - 1s 40ms/step\n"
     ]
    }
   ],
   "source": [
    "### Lets Do the prediction and check performance metrics\n",
    "train_predict=trained_model.predict(x_train_multi)\n",
    "test_predict=trained_model.predict(x_val_multi)"
   ]
  },
  {
   "cell_type": "code",
   "execution_count": 107,
   "metadata": {
    "colab": {
     "base_uri": "https://localhost:8080/"
    },
    "id": "aFOLD31PJ-A4",
    "outputId": "4c3774a5-3c9e-4618-fa52-e1858c50446c"
   },
   "outputs": [
    {
     "data": {
      "text/plain": [
       "837"
      ]
     },
     "execution_count": 107,
     "metadata": {},
     "output_type": "execute_result"
    }
   ],
   "source": [
    "len(test_predict)"
   ]
  },
  {
   "cell_type": "code",
   "execution_count": 108,
   "metadata": {
    "id": "OthqYWYVJ9-x"
   },
   "outputs": [],
   "source": [
    "##Transformback to original form\n",
    "train_predict = y_scaler.inverse_transform(train_predict)\n",
    "test_predict = y_scaler.inverse_transform(test_predict)"
   ]
  },
  {
   "cell_type": "code",
   "execution_count": 109,
   "metadata": {
    "colab": {
     "base_uri": "https://localhost:8080/"
    },
    "id": "0YEoaCogJ98I",
    "outputId": "ee200880-8196-4c5a-c843-7c2d36df4bb9"
   },
   "outputs": [
    {
     "data": {
      "text/plain": [
       "array([[ 732.04675,  120.29445],\n",
       "       [ 729.8851 ,  119.9423 ],\n",
       "       [ 728.0573 ,  119.64477],\n",
       "       ...,\n",
       "       [1689.0929 ,  297.36508],\n",
       "       [1398.3416 ,  254.17413],\n",
       "       [1151.9115 ,  209.31694]], dtype=float32)"
      ]
     },
     "execution_count": 109,
     "metadata": {},
     "output_type": "execute_result"
    }
   ],
   "source": [
    "test_predict"
   ]
  },
  {
   "cell_type": "code",
   "execution_count": 110,
   "metadata": {
    "id": "v4e_qkg2S8ho"
   },
   "outputs": [],
   "source": [
    "l = []\n",
    "for i in test_predict:\n",
    "    l.append(i[0])"
   ]
  },
  {
   "cell_type": "code",
   "execution_count": 111,
   "metadata": {
    "id": "Ws2xu--eTCSA"
   },
   "outputs": [],
   "source": [
    "test_predict = l"
   ]
  },
  {
   "cell_type": "code",
   "execution_count": 112,
   "metadata": {
    "colab": {
     "base_uri": "https://localhost:8080/"
    },
    "id": "o6UgvCqJTLSn",
    "outputId": "2cd189b0-4005-4310-9961-f9035f62d8fd"
   },
   "outputs": [
    {
     "data": {
      "text/plain": [
       "837"
      ]
     },
     "execution_count": 112,
     "metadata": {},
     "output_type": "execute_result"
    }
   ],
   "source": [
    "len(l)"
   ]
  },
  {
   "cell_type": "code",
   "execution_count": 112,
   "metadata": {
    "id": "hykCMT6yTOaf"
   },
   "outputs": [],
   "source": []
  },
  {
   "cell_type": "code",
   "execution_count": 113,
   "metadata": {
    "id": "z5mQ4JLPTG-R"
   },
   "outputs": [],
   "source": [
    "testing = account_data_test[15:].copy()\n",
    "testing['pred_sales'] = test_predict"
   ]
  },
  {
   "cell_type": "code",
   "execution_count": 114,
   "metadata": {
    "colab": {
     "base_uri": "https://localhost:8080/",
     "height": 661
    },
    "id": "6B3vRU8BTJ6p",
    "outputId": "c4888a3b-8636-48e0-82bf-65aec9cfd535"
   },
   "outputs": [
    {
     "data": {
      "text/html": [
       "\n",
       "  <div id=\"df-aa9f178b-a505-4135-b95e-5e1e69ceb27e\">\n",
       "    <div class=\"colab-df-container\">\n",
       "      <div>\n",
       "<style scoped>\n",
       "    .dataframe tbody tr th:only-of-type {\n",
       "        vertical-align: middle;\n",
       "    }\n",
       "\n",
       "    .dataframe tbody tr th {\n",
       "        vertical-align: top;\n",
       "    }\n",
       "\n",
       "    .dataframe thead th {\n",
       "        text-align: right;\n",
       "    }\n",
       "</style>\n",
       "<table border=\"1\" class=\"dataframe\">\n",
       "  <thead>\n",
       "    <tr style=\"text-align: right;\">\n",
       "      <th></th>\n",
       "      <th>accountId</th>\n",
       "      <th>adGroupId</th>\n",
       "      <th>campaignId</th>\n",
       "      <th>keywordId</th>\n",
       "      <th>date</th>\n",
       "      <th>sales</th>\n",
       "      <th>spend</th>\n",
       "      <th>clicks</th>\n",
       "      <th>impressions</th>\n",
       "      <th>orders</th>\n",
       "      <th>cpc</th>\n",
       "      <th>pred_sales</th>\n",
       "    </tr>\n",
       "  </thead>\n",
       "  <tbody>\n",
       "    <tr>\n",
       "      <th>15</th>\n",
       "      <td>5ffdb895b08512986422b08c</td>\n",
       "      <td>175642569815727</td>\n",
       "      <td>85580432953015</td>\n",
       "      <td>129388728370771</td>\n",
       "      <td>2022-04-25</td>\n",
       "      <td>95.099765</td>\n",
       "      <td>12.696525</td>\n",
       "      <td>1</td>\n",
       "      <td>376</td>\n",
       "      <td>0</td>\n",
       "      <td>12.696525</td>\n",
       "      <td>732.046753</td>\n",
       "    </tr>\n",
       "    <tr>\n",
       "      <th>16</th>\n",
       "      <td>5ffdb895b08512986422b08c</td>\n",
       "      <td>175642569815727</td>\n",
       "      <td>85580432953015</td>\n",
       "      <td>129388728370771</td>\n",
       "      <td>2022-04-26</td>\n",
       "      <td>82.419784</td>\n",
       "      <td>11.003653</td>\n",
       "      <td>1</td>\n",
       "      <td>333</td>\n",
       "      <td>0</td>\n",
       "      <td>11.003653</td>\n",
       "      <td>729.885071</td>\n",
       "    </tr>\n",
       "    <tr>\n",
       "      <th>17</th>\n",
       "      <td>5ffdb895b08512986422b08c</td>\n",
       "      <td>175642569815727</td>\n",
       "      <td>85580432953015</td>\n",
       "      <td>129388728370771</td>\n",
       "      <td>2022-04-27</td>\n",
       "      <td>71.430471</td>\n",
       "      <td>9.536498</td>\n",
       "      <td>0</td>\n",
       "      <td>302</td>\n",
       "      <td>0</td>\n",
       "      <td>10.748295</td>\n",
       "      <td>728.057312</td>\n",
       "    </tr>\n",
       "    <tr>\n",
       "      <th>18</th>\n",
       "      <td>5ffdb895b08512986422b08c</td>\n",
       "      <td>175642569815727</td>\n",
       "      <td>85580432953015</td>\n",
       "      <td>129388728370771</td>\n",
       "      <td>2022-04-28</td>\n",
       "      <td>61.906401</td>\n",
       "      <td>8.264964</td>\n",
       "      <td>0</td>\n",
       "      <td>280</td>\n",
       "      <td>0</td>\n",
       "      <td>10.748295</td>\n",
       "      <td>726.514832</td>\n",
       "    </tr>\n",
       "    <tr>\n",
       "      <th>19</th>\n",
       "      <td>5ffdb895b08512986422b08c</td>\n",
       "      <td>175642569815727</td>\n",
       "      <td>85580432953015</td>\n",
       "      <td>129388728370771</td>\n",
       "      <td>2022-04-29</td>\n",
       "      <td>53.652209</td>\n",
       "      <td>7.162968</td>\n",
       "      <td>0</td>\n",
       "      <td>249</td>\n",
       "      <td>0</td>\n",
       "      <td>10.748295</td>\n",
       "      <td>725.196777</td>\n",
       "    </tr>\n",
       "    <tr>\n",
       "      <th>...</th>\n",
       "      <td>...</td>\n",
       "      <td>...</td>\n",
       "      <td>...</td>\n",
       "      <td>...</td>\n",
       "      <td>...</td>\n",
       "      <td>...</td>\n",
       "      <td>...</td>\n",
       "      <td>...</td>\n",
       "      <td>...</td>\n",
       "      <td>...</td>\n",
       "      <td>...</td>\n",
       "      <td>...</td>\n",
       "    </tr>\n",
       "    <tr>\n",
       "      <th>847</th>\n",
       "      <td>5ffdb895b08512986422b08c</td>\n",
       "      <td>145787982816138</td>\n",
       "      <td>258268578317508</td>\n",
       "      <td>190918643002238</td>\n",
       "      <td>2023-01-06</td>\n",
       "      <td>1295.111628</td>\n",
       "      <td>125.076648</td>\n",
       "      <td>10</td>\n",
       "      <td>2150</td>\n",
       "      <td>0</td>\n",
       "      <td>12.507665</td>\n",
       "      <td>2405.567383</td>\n",
       "    </tr>\n",
       "    <tr>\n",
       "      <th>848</th>\n",
       "      <td>5ffdb895b08512986422b08c</td>\n",
       "      <td>145787982816138</td>\n",
       "      <td>258268578317508</td>\n",
       "      <td>190918643002238</td>\n",
       "      <td>2023-01-07</td>\n",
       "      <td>1122.430077</td>\n",
       "      <td>108.399762</td>\n",
       "      <td>9</td>\n",
       "      <td>1864</td>\n",
       "      <td>0</td>\n",
       "      <td>12.044418</td>\n",
       "      <td>2027.871216</td>\n",
       "    </tr>\n",
       "    <tr>\n",
       "      <th>849</th>\n",
       "      <td>5ffdb895b08512986422b08c</td>\n",
       "      <td>145787982816138</td>\n",
       "      <td>258268578317508</td>\n",
       "      <td>190918643002238</td>\n",
       "      <td>2023-01-08</td>\n",
       "      <td>972.772734</td>\n",
       "      <td>93.946460</td>\n",
       "      <td>8</td>\n",
       "      <td>1615</td>\n",
       "      <td>0</td>\n",
       "      <td>11.743308</td>\n",
       "      <td>1689.092896</td>\n",
       "    </tr>\n",
       "    <tr>\n",
       "      <th>850</th>\n",
       "      <td>5ffdb895b08512986422b08c</td>\n",
       "      <td>145787982816138</td>\n",
       "      <td>258268578317508</td>\n",
       "      <td>190918643002238</td>\n",
       "      <td>2023-01-09</td>\n",
       "      <td>843.069702</td>\n",
       "      <td>81.420266</td>\n",
       "      <td>7</td>\n",
       "      <td>1400</td>\n",
       "      <td>0</td>\n",
       "      <td>11.631467</td>\n",
       "      <td>1398.341553</td>\n",
       "    </tr>\n",
       "    <tr>\n",
       "      <th>851</th>\n",
       "      <td>5ffdb895b08512986422b08c</td>\n",
       "      <td>145787982816138</td>\n",
       "      <td>258268578317508</td>\n",
       "      <td>190918643002238</td>\n",
       "      <td>2023-01-10</td>\n",
       "      <td>730.660409</td>\n",
       "      <td>70.564230</td>\n",
       "      <td>6</td>\n",
       "      <td>1213</td>\n",
       "      <td>0</td>\n",
       "      <td>11.760705</td>\n",
       "      <td>1151.911499</td>\n",
       "    </tr>\n",
       "  </tbody>\n",
       "</table>\n",
       "<p>837 rows × 12 columns</p>\n",
       "</div>\n",
       "      <button class=\"colab-df-convert\" onclick=\"convertToInteractive('df-aa9f178b-a505-4135-b95e-5e1e69ceb27e')\"\n",
       "              title=\"Convert this dataframe to an interactive table.\"\n",
       "              style=\"display:none;\">\n",
       "        \n",
       "  <svg xmlns=\"http://www.w3.org/2000/svg\" height=\"24px\"viewBox=\"0 0 24 24\"\n",
       "       width=\"24px\">\n",
       "    <path d=\"M0 0h24v24H0V0z\" fill=\"none\"/>\n",
       "    <path d=\"M18.56 5.44l.94 2.06.94-2.06 2.06-.94-2.06-.94-.94-2.06-.94 2.06-2.06.94zm-11 1L8.5 8.5l.94-2.06 2.06-.94-2.06-.94L8.5 2.5l-.94 2.06-2.06.94zm10 10l.94 2.06.94-2.06 2.06-.94-2.06-.94-.94-2.06-.94 2.06-2.06.94z\"/><path d=\"M17.41 7.96l-1.37-1.37c-.4-.4-.92-.59-1.43-.59-.52 0-1.04.2-1.43.59L10.3 9.45l-7.72 7.72c-.78.78-.78 2.05 0 2.83L4 21.41c.39.39.9.59 1.41.59.51 0 1.02-.2 1.41-.59l7.78-7.78 2.81-2.81c.8-.78.8-2.07 0-2.86zM5.41 20L4 18.59l7.72-7.72 1.47 1.35L5.41 20z\"/>\n",
       "  </svg>\n",
       "      </button>\n",
       "      \n",
       "  <style>\n",
       "    .colab-df-container {\n",
       "      display:flex;\n",
       "      flex-wrap:wrap;\n",
       "      gap: 12px;\n",
       "    }\n",
       "\n",
       "    .colab-df-convert {\n",
       "      background-color: #E8F0FE;\n",
       "      border: none;\n",
       "      border-radius: 50%;\n",
       "      cursor: pointer;\n",
       "      display: none;\n",
       "      fill: #1967D2;\n",
       "      height: 32px;\n",
       "      padding: 0 0 0 0;\n",
       "      width: 32px;\n",
       "    }\n",
       "\n",
       "    .colab-df-convert:hover {\n",
       "      background-color: #E2EBFA;\n",
       "      box-shadow: 0px 1px 2px rgba(60, 64, 67, 0.3), 0px 1px 3px 1px rgba(60, 64, 67, 0.15);\n",
       "      fill: #174EA6;\n",
       "    }\n",
       "\n",
       "    [theme=dark] .colab-df-convert {\n",
       "      background-color: #3B4455;\n",
       "      fill: #D2E3FC;\n",
       "    }\n",
       "\n",
       "    [theme=dark] .colab-df-convert:hover {\n",
       "      background-color: #434B5C;\n",
       "      box-shadow: 0px 1px 3px 1px rgba(0, 0, 0, 0.15);\n",
       "      filter: drop-shadow(0px 1px 2px rgba(0, 0, 0, 0.3));\n",
       "      fill: #FFFFFF;\n",
       "    }\n",
       "  </style>\n",
       "\n",
       "      <script>\n",
       "        const buttonEl =\n",
       "          document.querySelector('#df-aa9f178b-a505-4135-b95e-5e1e69ceb27e button.colab-df-convert');\n",
       "        buttonEl.style.display =\n",
       "          google.colab.kernel.accessAllowed ? 'block' : 'none';\n",
       "\n",
       "        async function convertToInteractive(key) {\n",
       "          const element = document.querySelector('#df-aa9f178b-a505-4135-b95e-5e1e69ceb27e');\n",
       "          const dataTable =\n",
       "            await google.colab.kernel.invokeFunction('convertToInteractive',\n",
       "                                                     [key], {});\n",
       "          if (!dataTable) return;\n",
       "\n",
       "          const docLinkHtml = 'Like what you see? Visit the ' +\n",
       "            '<a target=\"_blank\" href=https://colab.research.google.com/notebooks/data_table.ipynb>data table notebook</a>'\n",
       "            + ' to learn more about interactive tables.';\n",
       "          element.innerHTML = '';\n",
       "          dataTable['output_type'] = 'display_data';\n",
       "          await google.colab.output.renderOutput(dataTable, element);\n",
       "          const docLink = document.createElement('div');\n",
       "          docLink.innerHTML = docLinkHtml;\n",
       "          element.appendChild(docLink);\n",
       "        }\n",
       "      </script>\n",
       "    </div>\n",
       "  </div>\n",
       "  "
      ],
      "text/plain": [
       "                    accountId        adGroupId       campaignId  \\\n",
       "15   5ffdb895b08512986422b08c  175642569815727   85580432953015   \n",
       "16   5ffdb895b08512986422b08c  175642569815727   85580432953015   \n",
       "17   5ffdb895b08512986422b08c  175642569815727   85580432953015   \n",
       "18   5ffdb895b08512986422b08c  175642569815727   85580432953015   \n",
       "19   5ffdb895b08512986422b08c  175642569815727   85580432953015   \n",
       "..                        ...              ...              ...   \n",
       "847  5ffdb895b08512986422b08c  145787982816138  258268578317508   \n",
       "848  5ffdb895b08512986422b08c  145787982816138  258268578317508   \n",
       "849  5ffdb895b08512986422b08c  145787982816138  258268578317508   \n",
       "850  5ffdb895b08512986422b08c  145787982816138  258268578317508   \n",
       "851  5ffdb895b08512986422b08c  145787982816138  258268578317508   \n",
       "\n",
       "           keywordId       date        sales       spend  clicks  impressions  \\\n",
       "15   129388728370771 2022-04-25    95.099765   12.696525       1          376   \n",
       "16   129388728370771 2022-04-26    82.419784   11.003653       1          333   \n",
       "17   129388728370771 2022-04-27    71.430471    9.536498       0          302   \n",
       "18   129388728370771 2022-04-28    61.906401    8.264964       0          280   \n",
       "19   129388728370771 2022-04-29    53.652209    7.162968       0          249   \n",
       "..               ...        ...          ...         ...     ...          ...   \n",
       "847  190918643002238 2023-01-06  1295.111628  125.076648      10         2150   \n",
       "848  190918643002238 2023-01-07  1122.430077  108.399762       9         1864   \n",
       "849  190918643002238 2023-01-08   972.772734   93.946460       8         1615   \n",
       "850  190918643002238 2023-01-09   843.069702   81.420266       7         1400   \n",
       "851  190918643002238 2023-01-10   730.660409   70.564230       6         1213   \n",
       "\n",
       "     orders        cpc   pred_sales  \n",
       "15        0  12.696525   732.046753  \n",
       "16        0  11.003653   729.885071  \n",
       "17        0  10.748295   728.057312  \n",
       "18        0  10.748295   726.514832  \n",
       "19        0  10.748295   725.196777  \n",
       "..      ...        ...          ...  \n",
       "847       0  12.507665  2405.567383  \n",
       "848       0  12.044418  2027.871216  \n",
       "849       0  11.743308  1689.092896  \n",
       "850       0  11.631467  1398.341553  \n",
       "851       0  11.760705  1151.911499  \n",
       "\n",
       "[837 rows x 12 columns]"
      ]
     },
     "execution_count": 114,
     "metadata": {},
     "output_type": "execute_result"
    }
   ],
   "source": [
    "testing"
   ]
  },
  {
   "cell_type": "code",
   "execution_count": 116,
   "metadata": {
    "colab": {
     "base_uri": "https://localhost:8080/",
     "height": 1000
    },
    "id": "7_mTbS3BTTqp",
    "outputId": "f2a3188b-e70f-4df7-c35d-ff0e208b9473"
   },
   "outputs": [
    {
     "name": "stdout",
     "output_type": "stream",
     "text": [
      "Layers are- 128-64-60\n"
     ]
    },
    {
     "data": {
      "image/png": "[encoded data removed]",
      "text/plain": [
       "<Figure size 432x288 with 1 Axes>"
      ]
     },
     "metadata": {
      "needs_background": "light"
     },
     "output_type": "display_data"
    },
    {
     "name": "stdout",
     "output_type": "stream",
     "text": [
      "Layers are- 128-64-60\n"
     ]
    },
    {
     "data": {
      "image/png": "[encoded data removed]",
      "text/plain": [
       "<Figure size 432x288 with 1 Axes>"
      ]
     },
     "metadata": {
      "needs_background": "light"
     },
     "output_type": "display_data"
    },
    {
     "name": "stdout",
     "output_type": "stream",
     "text": [
      "Layers are- 128-64-60\n"
     ]
    },
    {
     "data": {
      "image/png": "[encoded data removed]",
      "text/plain": [
       "<Figure size 432x288 with 1 Axes>"
      ]
     },
     "metadata": {
      "needs_background": "light"
     },
     "output_type": "display_data"
    },
    {
     "name": "stdout",
     "output_type": "stream",
     "text": [
      "Layers are- 128-64-60\n"
     ]
    },
    {
     "data": {
      "image/png": "[encoded data removed]",
      "text/plain": [
       "<Figure size 432x288 with 1 Axes>"
      ]
     },
     "metadata": {
      "needs_background": "light"
     },
     "output_type": "display_data"
    },
    {
     "name": "stdout",
     "output_type": "stream",
     "text": [
      "Layers are- 128-64-60\n"
     ]
    },
    {
     "data": {
      "image/png": "[encoded data removed]",
      "text/plain": [
       "<Figure size 432x288 with 1 Axes>"
      ]
     },
     "metadata": {
      "needs_background": "light"
     },
     "output_type": "display_data"
    },
    {
     "name": "stdout",
     "output_type": "stream",
     "text": [
      "Layers are- 128-64-60\n"
     ]
    },
    {
     "data": {
      "image/png": "[encoded data removed]",
      "text/plain": [
       "<Figure size 432x288 with 1 Axes>"
      ]
     },
     "metadata": {
      "needs_background": "light"
     },
     "output_type": "display_data"
    },
    {
     "name": "stdout",
     "output_type": "stream",
     "text": [
      "Layers are- 128-64-60\n"
     ]
    },
    {
     "data": {
      "image/png": "[encoded data removed]",
      "text/plain": [
       "<Figure size 432x288 with 1 Axes>"
      ]
     },
     "metadata": {
      "needs_background": "light"
     },
     "output_type": "display_data"
    },
    {
     "name": "stdout",
     "output_type": "stream",
     "text": [
      "Layers are- 128-64-60\n"
     ]
    },
    {
     "data": {
      "image/png": "[encoded data removed]",
      "text/plain": [
       "<Figure size 432x288 with 1 Axes>"
      ]
     },
     "metadata": {
      "needs_background": "light"
     },
     "output_type": "display_data"
    },
    {
     "name": "stdout",
     "output_type": "stream",
     "text": [
      "Layers are- 128-64-60\n"
     ]
    },
    {
     "data": {
      "image/png": "[encoded data removed]",
      "text/plain": [
       "<Figure size 432x288 with 1 Axes>"
      ]
     },
     "metadata": {
      "needs_background": "light"
     },
     "output_type": "display_data"
    },
    {
     "name": "stdout",
     "output_type": "stream",
     "text": [
      "Layers are- 128-64-60\n"
     ]
    },
    {
     "data": {
      "image/png": "[encoded data removed]",
      "text/plain": [
       "<Figure size 432x288 with 1 Axes>"
      ]
     },
     "metadata": {
      "needs_background": "light"
     },
     "output_type": "display_data"
    }
   ],
   "source": [
    "import matplotlib.pyplot as plt\n",
    "import numpy as np\n",
    "testing['keywordId'].unique()\n",
    "for i in range(len(testing['keywordId'].unique())):\n",
    "    def plotGraph(y_test,y_pred,s):\n",
    "        if max(y_test) >= max(y_pred):\n",
    "            my_range = int(max(y_test))\n",
    "        else:\n",
    "            my_range = int(max(y_pred))\n",
    "        plt.scatter(range(len(y_test)), y_test, color='blue')\n",
    "        plt.scatter(range(len(y_pred)), y_pred, color='red')\n",
    "        plt.title(s)\n",
    "        plt.show()\n",
    "        return\n",
    "    s = testing['keywordId'].unique()[i]\n",
    "    print(\"Layers are- 128-64-60\")    \n",
    "    y_sales = testing[testing['keywordId'] == s]['sales']\n",
    "    y_pred_sales = testing[testing['keywordId'] == s]['pred_sales']\n",
    "    plotGraph(y_sales, y_pred_sales,s)"
   ]
  },
  {
   "cell_type": "code",
   "execution_count": 115,
   "metadata": {
    "id": "BYOAgCikTagB"
   },
   "outputs": [],
   "source": []
  },
  {
   "cell_type": "code",
   "execution_count": 140,
   "metadata": {
    "id": "BHB3r079TiZq"
   },
   "outputs": [],
   "source": [
    "unique_k_ids = testing['keywordId'].unique()\n",
    "dic = {'keyword':[],\"rows\":[]}\n",
    "for i in unique_k_ids:\n",
    "    data = len(testing[testing['keywordId'] == i])\n",
    "    dic['keyword'].append(i)\n",
    "    dic['rows'].append(data)"
   ]
  },
  {
   "cell_type": "code",
   "execution_count": 142,
   "metadata": {
    "colab": {
     "base_uri": "https://localhost:8080/",
     "height": 363
    },
    "id": "LnKaW2adeGfw",
    "outputId": "5f3d519f-0785-42b7-b4c4-4f3f761d8459"
   },
   "outputs": [
    {
     "data": {
      "text/html": [
       "\n",
       "  <div id=\"df-a5c5a2f0-689f-40c6-baea-9044744f123a\">\n",
       "    <div class=\"colab-df-container\">\n",
       "      <div>\n",
       "<style scoped>\n",
       "    .dataframe tbody tr th:only-of-type {\n",
       "        vertical-align: middle;\n",
       "    }\n",
       "\n",
       "    .dataframe tbody tr th {\n",
       "        vertical-align: top;\n",
       "    }\n",
       "\n",
       "    .dataframe thead th {\n",
       "        text-align: right;\n",
       "    }\n",
       "</style>\n",
       "<table border=\"1\" class=\"dataframe\">\n",
       "  <thead>\n",
       "    <tr style=\"text-align: right;\">\n",
       "      <th></th>\n",
       "      <th>keyword</th>\n",
       "      <th>rows</th>\n",
       "    </tr>\n",
       "  </thead>\n",
       "  <tbody>\n",
       "    <tr>\n",
       "      <th>0</th>\n",
       "      <td>129388728370771</td>\n",
       "      <td>18</td>\n",
       "    </tr>\n",
       "    <tr>\n",
       "      <th>1</th>\n",
       "      <td>2765709881042</td>\n",
       "      <td>40</td>\n",
       "    </tr>\n",
       "    <tr>\n",
       "      <th>2</th>\n",
       "      <td>227590663052584</td>\n",
       "      <td>109</td>\n",
       "    </tr>\n",
       "    <tr>\n",
       "      <th>3</th>\n",
       "      <td>24104861481597</td>\n",
       "      <td>108</td>\n",
       "    </tr>\n",
       "    <tr>\n",
       "      <th>4</th>\n",
       "      <td>272721784774857</td>\n",
       "      <td>109</td>\n",
       "    </tr>\n",
       "    <tr>\n",
       "      <th>5</th>\n",
       "      <td>13560133409311</td>\n",
       "      <td>92</td>\n",
       "    </tr>\n",
       "    <tr>\n",
       "      <th>6</th>\n",
       "      <td>90306352578146</td>\n",
       "      <td>104</td>\n",
       "    </tr>\n",
       "    <tr>\n",
       "      <th>7</th>\n",
       "      <td>116716807274101</td>\n",
       "      <td>109</td>\n",
       "    </tr>\n",
       "    <tr>\n",
       "      <th>8</th>\n",
       "      <td>202640426426128</td>\n",
       "      <td>74</td>\n",
       "    </tr>\n",
       "    <tr>\n",
       "      <th>9</th>\n",
       "      <td>190918643002238</td>\n",
       "      <td>74</td>\n",
       "    </tr>\n",
       "  </tbody>\n",
       "</table>\n",
       "</div>\n",
       "      <button class=\"colab-df-convert\" onclick=\"convertToInteractive('df-a5c5a2f0-689f-40c6-baea-9044744f123a')\"\n",
       "              title=\"Convert this dataframe to an interactive table.\"\n",
       "              style=\"display:none;\">\n",
       "        \n",
       "  <svg xmlns=\"http://www.w3.org/2000/svg\" height=\"24px\"viewBox=\"0 0 24 24\"\n",
       "       width=\"24px\">\n",
       "    <path d=\"M0 0h24v24H0V0z\" fill=\"none\"/>\n",
       "    <path d=\"M18.56 5.44l.94 2.06.94-2.06 2.06-.94-2.06-.94-.94-2.06-.94 2.06-2.06.94zm-11 1L8.5 8.5l.94-2.06 2.06-.94-2.06-.94L8.5 2.5l-.94 2.06-2.06.94zm10 10l.94 2.06.94-2.06 2.06-.94-2.06-.94-.94-2.06-.94 2.06-2.06.94z\"/><path d=\"M17.41 7.96l-1.37-1.37c-.4-.4-.92-.59-1.43-.59-.52 0-1.04.2-1.43.59L10.3 9.45l-7.72 7.72c-.78.78-.78 2.05 0 2.83L4 21.41c.39.39.9.59 1.41.59.51 0 1.02-.2 1.41-.59l7.78-7.78 2.81-2.81c.8-.78.8-2.07 0-2.86zM5.41 20L4 18.59l7.72-7.72 1.47 1.35L5.41 20z\"/>\n",
       "  </svg>\n",
       "      </button>\n",
       "      \n",
       "  <style>\n",
       "    .colab-df-container {\n",
       "      display:flex;\n",
       "      flex-wrap:wrap;\n",
       "      gap: 12px;\n",
       "    }\n",
       "\n",
       "    .colab-df-convert {\n",
       "      background-color: #E8F0FE;\n",
       "      border: none;\n",
       "      border-radius: 50%;\n",
       "      cursor: pointer;\n",
       "      display: none;\n",
       "      fill: #1967D2;\n",
       "      height: 32px;\n",
       "      padding: 0 0 0 0;\n",
       "      width: 32px;\n",
       "    }\n",
       "\n",
       "    .colab-df-convert:hover {\n",
       "      background-color: #E2EBFA;\n",
       "      box-shadow: 0px 1px 2px rgba(60, 64, 67, 0.3), 0px 1px 3px 1px rgba(60, 64, 67, 0.15);\n",
       "      fill: #174EA6;\n",
       "    }\n",
       "\n",
       "    [theme=dark] .colab-df-convert {\n",
       "      background-color: #3B4455;\n",
       "      fill: #D2E3FC;\n",
       "    }\n",
       "\n",
       "    [theme=dark] .colab-df-convert:hover {\n",
       "      background-color: #434B5C;\n",
       "      box-shadow: 0px 1px 3px 1px rgba(0, 0, 0, 0.15);\n",
       "      filter: drop-shadow(0px 1px 2px rgba(0, 0, 0, 0.3));\n",
       "      fill: #FFFFFF;\n",
       "    }\n",
       "  </style>\n",
       "\n",
       "      <script>\n",
       "        const buttonEl =\n",
       "          document.querySelector('#df-a5c5a2f0-689f-40c6-baea-9044744f123a button.colab-df-convert');\n",
       "        buttonEl.style.display =\n",
       "          google.colab.kernel.accessAllowed ? 'block' : 'none';\n",
       "\n",
       "        async function convertToInteractive(key) {\n",
       "          const element = document.querySelector('#df-a5c5a2f0-689f-40c6-baea-9044744f123a');\n",
       "          const dataTable =\n",
       "            await google.colab.kernel.invokeFunction('convertToInteractive',\n",
       "                                                     [key], {});\n",
       "          if (!dataTable) return;\n",
       "\n",
       "          const docLinkHtml = 'Like what you see? Visit the ' +\n",
       "            '<a target=\"_blank\" href=https://colab.research.google.com/notebooks/data_table.ipynb>data table notebook</a>'\n",
       "            + ' to learn more about interactive tables.';\n",
       "          element.innerHTML = '';\n",
       "          dataTable['output_type'] = 'display_data';\n",
       "          await google.colab.output.renderOutput(dataTable, element);\n",
       "          const docLink = document.createElement('div');\n",
       "          docLink.innerHTML = docLinkHtml;\n",
       "          element.appendChild(docLink);\n",
       "        }\n",
       "      </script>\n",
       "    </div>\n",
       "  </div>\n",
       "  "
      ],
      "text/plain": [
       "           keyword  rows\n",
       "0  129388728370771    18\n",
       "1    2765709881042    40\n",
       "2  227590663052584   109\n",
       "3   24104861481597   108\n",
       "4  272721784774857   109\n",
       "5   13560133409311    92\n",
       "6   90306352578146   104\n",
       "7  116716807274101   109\n",
       "8  202640426426128    74\n",
       "9  190918643002238    74"
      ]
     },
     "execution_count": 142,
     "metadata": {},
     "output_type": "execute_result"
    }
   ],
   "source": [
    "pd.DataFrame.from_dict(dic)"
   ]
  }
 ],
 "metadata": {
  "accelerator": "GPU",
  "colab": {
   "provenance": []
  },
  "gpuClass": "standard",
  "kernelspec": {
   "display_name": "Python 3",
   "language": "python",
   "name": "python3"
  },
  "language_info": {
   "codemirror_mode": {
    "name": "ipython",
    "version": 3
   },
   "file_extension": ".py",
   "mimetype": "text/x-python",
   "name": "python",
   "nbconvert_exporter": "python",
   "pygments_lexer": "ipython3",
   "version": "3.8.16"
  }
 },
 "nbformat": 4,
 "nbformat_minor": 4
}
