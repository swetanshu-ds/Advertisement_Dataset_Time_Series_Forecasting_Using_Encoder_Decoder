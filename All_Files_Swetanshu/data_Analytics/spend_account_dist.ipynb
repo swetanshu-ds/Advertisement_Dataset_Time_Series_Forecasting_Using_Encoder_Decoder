{
 "cells": [
  {
   "cell_type": "code",
   "execution_count": 1,
   "metadata": {},
   "outputs": [],
   "source": [
    "# import dependencies"
   ]
  },
  {
   "cell_type": "code",
   "execution_count": 324,
   "metadata": {},
   "outputs": [],
   "source": [
    "from adbrew_core.settings import db\n",
    "import datetime\n",
    "import pandas as pd\n",
    "import matplotlib.pyplot as plt\n",
    "import statistics as sc\n",
    "import numpy as np"
   ]
  },
  {
   "cell_type": "code",
   "execution_count": 325,
   "metadata": {},
   "outputs": [
    {
     "data": {
      "text/plain": [
       "{'_id': ObjectId('5ffdb954b953717abc711679'),\n",
       " 'adGroupId': 191071097198671,\n",
       " 'campaignId': 8947921720820,\n",
       " 'keywordId': 162675238320678,\n",
       " 'profile_id': '1480904248596993',\n",
       " 'query': 'ewell ring light and tripod',\n",
       " 'str_dt': '20210111',\n",
       " 'account_id': '5ffdb895b08512986422b08c',\n",
       " 'attributedSales14d': 0,\n",
       " 'attributedUnitsOrdered14d': 0,\n",
       " 'clicks': 1,\n",
       " 'cost': 9.41,\n",
       " 'dt': datetime.datetime(2021, 1, 11, 0, 0),\n",
       " 'impressions': 11,\n",
       " 'record_type': 'keywords',\n",
       " 'segment': 'query',\n",
       " 'campaign_type': 'sp'}"
      ]
     },
     "execution_count": 325,
     "metadata": {},
     "output_type": "execute_result"
    }
   ],
   "source": [
    "db.report_records.find_one()"
   ]
  },
  {
   "cell_type": "code",
   "execution_count": 326,
   "metadata": {},
   "outputs": [
    {
     "name": "stdout",
     "output_type": "stream",
     "text": [
      "288\r"
     ]
    }
   ],
   "source": [
    "accounts = {}\n",
    "unique_adgs = []\n",
    "\n",
    "idx = 0\n",
    "total_accounts = 300\n",
    "\n",
    "for account in db.account_details.find({\"active\":True, \"fetch_data\":True}):\n",
    "    record = db.report_records.aggregate([\n",
    "        {\n",
    "            \"$match\": {\n",
    "                \"account_id\": str(account[\"_id\"]),\n",
    "                \"dt\": {\n",
    "                    \"$gte\": datetime.datetime.now() - datetime.timedelta(days=360),\n",
    "                    \"$lte\": datetime.datetime.now()\n",
    "                },\n",
    "                \"record_type\":\"accounts\",\n",
    "                \"segment\":None,\n",
    "                \"campaign_type\":\"sp\"\n",
    "            }\n",
    "        },\n",
    "        {\n",
    "            \"$group\": {\n",
    "                \"_id\": {\n",
    "                    \"accountId\":\"$account_id\",\n",
    "                }\n",
    "            }\n",
    "        }\n",
    "    ], allowDiskUse=True)\n",
    "    record = pd.DataFrame(record)\n",
    "    if record.empty:\n",
    "        continue\n",
    "    record[\"accountId\"] = record.apply(lambda x:x[\"_id\"][\"accountId\"], axis=1)\n",
    "    record.drop(columns=[\"_id\"], inplace=True)\n",
    "    if record.empty:\n",
    "        continue\n",
    "    unique_adgs += [record]\n",
    "    print(idx, end='\\r', flush=True)\n",
    "    idx+=1\n",
    "    if idx==total_accounts:\n",
    "        break\n",
    "    "
   ]
  },
  {
   "cell_type": "code",
   "execution_count": 338,
   "metadata": {},
   "outputs": [],
   "source": [
    "unique_accounts = []"
   ]
  },
  {
   "cell_type": "code",
   "execution_count": 339,
   "metadata": {},
   "outputs": [],
   "source": [
    "for i in range(288):\n",
    "    a = unique_adgs[i]['accountId'][0]\n",
    "    unique_accounts.append(a)"
   ]
  },
  {
   "cell_type": "code",
   "execution_count": 240,
   "metadata": {},
   "outputs": [
    {
     "data": {
      "text/plain": [
       "True"
      ]
     },
     "execution_count": 240,
     "metadata": {},
     "output_type": "execute_result"
    }
   ],
   "source": [
    "'635518b2d091908f5e8e7652' in unique_accounts"
   ]
  },
  {
   "cell_type": "code",
   "execution_count": 241,
   "metadata": {},
   "outputs": [],
   "source": [
    "account_cost = []"
   ]
  },
  {
   "cell_type": "code",
   "execution_count": 242,
   "metadata": {},
   "outputs": [],
   "source": [
    "account_cost = []\n",
    "for i in unique_accounts:\n",
    "    a = db.report_records.find_one({\"record_type\":\"accounts\", \"account_id\":  i,\"campaign_type\":\"sp\"})['cost']\n",
    "    account_cost.append([i,a])"
   ]
  },
  {
   "cell_type": "code",
   "execution_count": 243,
   "metadata": {},
   "outputs": [],
   "source": [
    "spend_data = pd.DataFrame(data = account_cost,columns =  [\"account_id\",\"spend\"])"
   ]
  },
  {
   "cell_type": "code",
   "execution_count": 244,
   "metadata": {},
   "outputs": [
    {
     "data": {
      "text/html": [
       "<div>\n",
       "<style scoped>\n",
       "    .dataframe tbody tr th:only-of-type {\n",
       "        vertical-align: middle;\n",
       "    }\n",
       "\n",
       "    .dataframe tbody tr th {\n",
       "        vertical-align: top;\n",
       "    }\n",
       "\n",
       "    .dataframe thead th {\n",
       "        text-align: right;\n",
       "    }\n",
       "</style>\n",
       "<table border=\"1\" class=\"dataframe\">\n",
       "  <thead>\n",
       "    <tr style=\"text-align: right;\">\n",
       "      <th></th>\n",
       "      <th>account_id</th>\n",
       "      <th>spend</th>\n",
       "    </tr>\n",
       "  </thead>\n",
       "  <tbody>\n",
       "    <tr>\n",
       "      <th>0</th>\n",
       "      <td>5ffdb895b08512986422b08c</td>\n",
       "      <td>22219.80</td>\n",
       "    </tr>\n",
       "    <tr>\n",
       "      <th>1</th>\n",
       "      <td>6013fbaaaadf53eb56518f43</td>\n",
       "      <td>140.08</td>\n",
       "    </tr>\n",
       "    <tr>\n",
       "      <th>2</th>\n",
       "      <td>60f927c947e4bd8523649c9d</td>\n",
       "      <td>0.00</td>\n",
       "    </tr>\n",
       "    <tr>\n",
       "      <th>3</th>\n",
       "      <td>612e3e3936240d16135f1944</td>\n",
       "      <td>0.00</td>\n",
       "    </tr>\n",
       "    <tr>\n",
       "      <th>4</th>\n",
       "      <td>613b4e3416cb8c3ddcb60925</td>\n",
       "      <td>0.00</td>\n",
       "    </tr>\n",
       "    <tr>\n",
       "      <th>...</th>\n",
       "      <td>...</td>\n",
       "      <td>...</td>\n",
       "    </tr>\n",
       "    <tr>\n",
       "      <th>283</th>\n",
       "      <td>63cb891adab9c845ba47c740</td>\n",
       "      <td>230.87</td>\n",
       "    </tr>\n",
       "    <tr>\n",
       "      <th>284</th>\n",
       "      <td>63cb9627dab9c845ba47c741</td>\n",
       "      <td>338.67</td>\n",
       "    </tr>\n",
       "    <tr>\n",
       "      <th>285</th>\n",
       "      <td>63ce34e69b66eadd5cfdce2e</td>\n",
       "      <td>28.27</td>\n",
       "    </tr>\n",
       "    <tr>\n",
       "      <th>286</th>\n",
       "      <td>63cfc3cf726c7a0b80fdce39</td>\n",
       "      <td>0.00</td>\n",
       "    </tr>\n",
       "    <tr>\n",
       "      <th>287</th>\n",
       "      <td>63cfc471726c7a0b80fdce3a</td>\n",
       "      <td>0.00</td>\n",
       "    </tr>\n",
       "  </tbody>\n",
       "</table>\n",
       "<p>288 rows × 2 columns</p>\n",
       "</div>"
      ],
      "text/plain": [
       "                   account_id     spend\n",
       "0    5ffdb895b08512986422b08c  22219.80\n",
       "1    6013fbaaaadf53eb56518f43    140.08\n",
       "2    60f927c947e4bd8523649c9d      0.00\n",
       "3    612e3e3936240d16135f1944      0.00\n",
       "4    613b4e3416cb8c3ddcb60925      0.00\n",
       "..                        ...       ...\n",
       "283  63cb891adab9c845ba47c740    230.87\n",
       "284  63cb9627dab9c845ba47c741    338.67\n",
       "285  63ce34e69b66eadd5cfdce2e     28.27\n",
       "286  63cfc3cf726c7a0b80fdce39      0.00\n",
       "287  63cfc471726c7a0b80fdce3a      0.00\n",
       "\n",
       "[288 rows x 2 columns]"
      ]
     },
     "execution_count": 244,
     "metadata": {},
     "output_type": "execute_result"
    }
   ],
   "source": [
    "spend_data"
   ]
  },
  {
   "cell_type": "code",
   "execution_count": 245,
   "metadata": {},
   "outputs": [
    {
     "data": {
      "text/plain": [
       "{'_id': ObjectId('63d0ba0d6ee9dbf2febcdcfb'),\n",
       " 'account_id': '5ffdb895b08512986422b08c',\n",
       " 'campaign_type': 'sp',\n",
       " 'dt': datetime.datetime(2023, 1, 25, 0, 0),\n",
       " 'record_type': 'accounts',\n",
       " 'segment': None,\n",
       " 'attributedConversions14d': 77,\n",
       " 'attributedConversions14dSameSKU': 60,\n",
       " 'attributedConversions1d': 77,\n",
       " 'attributedConversions1dSameSKU': 60,\n",
       " 'attributedConversions30d': 77,\n",
       " 'attributedConversions30dSameSKU': 60,\n",
       " 'attributedConversions7d': 77,\n",
       " 'attributedConversions7dSameSKU': 60,\n",
       " 'attributedSales14d': 100300.2,\n",
       " 'attributedSales14dSameSKU': 86061.53,\n",
       " 'attributedSales1d': 100300.2,\n",
       " 'attributedSales1dSameSKU': 86061.53,\n",
       " 'attributedSales30d': 100300.2,\n",
       " 'attributedSales30dSameSKU': 86061.53,\n",
       " 'attributedSales7d': 100300.2,\n",
       " 'attributedSales7dSameSKU': 86061.53,\n",
       " 'attributedUnitsOrdered14d': 79,\n",
       " 'attributedUnitsOrdered14dSameSKU': 62,\n",
       " 'attributedUnitsOrdered1d': 79,\n",
       " 'attributedUnitsOrdered1dSameSKU': 62,\n",
       " 'attributedUnitsOrdered30d': 79,\n",
       " 'attributedUnitsOrdered30dSameSKU': 62,\n",
       " 'attributedUnitsOrdered7d': 79,\n",
       " 'attributedUnitsOrdered7dSameSKU': 62,\n",
       " 'clicks': 2833,\n",
       " 'cost': 22219.8,\n",
       " 'impressions': 662487,\n",
       " 'last_updated': datetime.datetime(2023, 1, 25, 5, 11, 41, 200000),\n",
       " 'placement': None,\n",
       " 'str_dt': '20230125',\n",
       " 'tactic': None}"
      ]
     },
     "execution_count": 245,
     "metadata": {},
     "output_type": "execute_result"
    }
   ],
   "source": [
    "db.report_records.find_one({\"record_type\":\"accounts\", \"account_id\": \"5ffdb895b08512986422b08c\",\"campaign_type\":\"sp\"})"
   ]
  },
  {
   "cell_type": "code",
   "execution_count": 246,
   "metadata": {},
   "outputs": [],
   "source": [
    "# graph"
   ]
  },
  {
   "cell_type": "code",
   "execution_count": 247,
   "metadata": {},
   "outputs": [],
   "source": [
    "#!pip install seaborn"
   ]
  },
  {
   "cell_type": "code",
   "execution_count": 248,
   "metadata": {},
   "outputs": [],
   "source": [
    "import seaborn as sns"
   ]
  },
  {
   "cell_type": "code",
   "execution_count": 249,
   "metadata": {},
   "outputs": [
    {
     "data": {
      "image/png": "[encoded data removed]",
      "text/plain": [
       "<Figure size 432x288 with 1 Axes>"
      ]
     },
     "metadata": {},
     "output_type": "display_data"
    }
   ],
   "source": [
    "sns.histplot(spend_data['spend'])\n",
    "plt.xlabel(\"Total Spend of particular accounts\")\n",
    "plt.ylabel(\"count of number of accounts having similar spend\")\n",
    "plt.show()"
   ]
  },
  {
   "cell_type": "code",
   "execution_count": 250,
   "metadata": {},
   "outputs": [
    {
     "data": {
      "text/plain": [
       "0      22219.80\n",
       "1        140.08\n",
       "2          0.00\n",
       "3          0.00\n",
       "4          0.00\n",
       "         ...   \n",
       "283      230.87\n",
       "284      338.67\n",
       "285       28.27\n",
       "286        0.00\n",
       "287        0.00\n",
       "Name: spend, Length: 288, dtype: float64"
      ]
     },
     "execution_count": 250,
     "metadata": {},
     "output_type": "execute_result"
    }
   ],
   "source": [
    "total_spend = spend_data['spend']\n",
    "total_spend"
   ]
  },
  {
   "cell_type": "code",
   "execution_count": 251,
   "metadata": {},
   "outputs": [],
   "source": [
    "import math"
   ]
  },
  {
   "cell_type": "code",
   "execution_count": 252,
   "metadata": {},
   "outputs": [],
   "source": [
    "## Mean "
   ]
  },
  {
   "cell_type": "code",
   "execution_count": 253,
   "metadata": {},
   "outputs": [],
   "source": [
    "Mean=  sum(total_spend)/288"
   ]
  },
  {
   "cell_type": "code",
   "execution_count": 254,
   "metadata": {},
   "outputs": [
    {
     "data": {
      "text/plain": [
       "1025.7490277777779"
      ]
     },
     "execution_count": 254,
     "metadata": {},
     "output_type": "execute_result"
    }
   ],
   "source": [
    "Mean"
   ]
  },
  {
   "cell_type": "code",
   "execution_count": 255,
   "metadata": {},
   "outputs": [],
   "source": [
    "# Number of account having 0 spending but active"
   ]
  },
  {
   "cell_type": "code",
   "execution_count": 256,
   "metadata": {},
   "outputs": [
    {
     "data": {
      "text/plain": [
       "117"
      ]
     },
     "execution_count": 256,
     "metadata": {},
     "output_type": "execute_result"
    }
   ],
   "source": [
    "no_of_0_spend_account = spend_data[spend_data['spend']==0].count()[1]\n",
    "no_of_0_spend_account"
   ]
  },
  {
   "cell_type": "code",
   "execution_count": 257,
   "metadata": {},
   "outputs": [],
   "source": [
    "# min spend across all acount "
   ]
  },
  {
   "cell_type": "code",
   "execution_count": 258,
   "metadata": {},
   "outputs": [
    {
     "data": {
      "text/plain": [
       "0.0"
      ]
     },
     "execution_count": 258,
     "metadata": {},
     "output_type": "execute_result"
    }
   ],
   "source": [
    "# min spend across all acount \n",
    "min(total_spend)"
   ]
  },
  {
   "cell_type": "code",
   "execution_count": 259,
   "metadata": {},
   "outputs": [],
   "source": [
    "# max spend across all acount "
   ]
  },
  {
   "cell_type": "code",
   "execution_count": 260,
   "metadata": {},
   "outputs": [
    {
     "data": {
      "text/plain": [
       "36143.19"
      ]
     },
     "execution_count": 260,
     "metadata": {},
     "output_type": "execute_result"
    }
   ],
   "source": [
    "# max spend across all acount \n",
    "max(total_spend)"
   ]
  },
  {
   "cell_type": "code",
   "execution_count": 261,
   "metadata": {},
   "outputs": [
    {
     "data": {
      "text/plain": [
       "105    633444a7d89f609870fcef45\n",
       "Name: account_id, dtype: object"
      ]
     },
     "execution_count": 261,
     "metadata": {},
     "output_type": "execute_result"
    }
   ],
   "source": [
    "# Account_id having maximum spend\n",
    "spend_data[spend_data[\"spend\"]==max(total_spend)]['account_id']"
   ]
  },
  {
   "cell_type": "code",
   "execution_count": 262,
   "metadata": {},
   "outputs": [
    {
     "data": {
      "text/plain": [
       "16"
      ]
     },
     "execution_count": 262,
     "metadata": {},
     "output_type": "execute_result"
    }
   ],
   "source": [
    "## Accounts having spend closer to mean\n",
    "\n",
    "Mean = 1025.7490277777779\n",
    "\n",
    "greater_than_750 = spend_data[spend_data[\"spend\"]>750]\n",
    "\n",
    "Between_750_1200 = greater_than_750[greater_than_750[\"spend\"]<1200]\n",
    "len(Between_750_1200)"
   ]
  },
  {
   "cell_type": "code",
   "execution_count": 263,
   "metadata": {},
   "outputs": [
    {
     "data": {
      "text/plain": [
       "5.555555555555555"
      ]
     },
     "execution_count": 263,
     "metadata": {},
     "output_type": "execute_result"
    }
   ],
   "source": [
    "# Percentage of accounts lying in the above range\n",
    "\n",
    "percentage =  len(Between_750_1200)*100/288\n",
    "percentage"
   ]
  },
  {
   "cell_type": "code",
   "execution_count": 264,
   "metadata": {},
   "outputs": [
    {
     "data": {
      "text/plain": [
       "1"
      ]
     },
     "execution_count": 264,
     "metadata": {},
     "output_type": "execute_result"
    }
   ],
   "source": [
    "# Number of accounts having max_spend\n",
    "no_of_max_spend_account = spend_data[spend_data['spend']==max(total_spend)].count()[1]\n",
    "no_of_max_spend_account"
   ]
  },
  {
   "cell_type": "code",
   "execution_count": 265,
   "metadata": {},
   "outputs": [],
   "source": [
    "# Median "
   ]
  },
  {
   "cell_type": "code",
   "execution_count": 266,
   "metadata": {},
   "outputs": [
    {
     "data": {
      "text/plain": [
       "5.3149999999999995"
      ]
     },
     "execution_count": 266,
     "metadata": {},
     "output_type": "execute_result"
    }
   ],
   "source": [
    "sc.median(sorted(total_spend))"
   ]
  },
  {
   "cell_type": "code",
   "execution_count": 267,
   "metadata": {},
   "outputs": [
    {
     "data": {
      "text/html": [
       "<div>\n",
       "<style scoped>\n",
       "    .dataframe tbody tr th:only-of-type {\n",
       "        vertical-align: middle;\n",
       "    }\n",
       "\n",
       "    .dataframe tbody tr th {\n",
       "        vertical-align: top;\n",
       "    }\n",
       "\n",
       "    .dataframe thead th {\n",
       "        text-align: right;\n",
       "    }\n",
       "</style>\n",
       "<table border=\"1\" class=\"dataframe\">\n",
       "  <thead>\n",
       "    <tr style=\"text-align: right;\">\n",
       "      <th></th>\n",
       "      <th>spend</th>\n",
       "    </tr>\n",
       "  </thead>\n",
       "  <tbody>\n",
       "    <tr>\n",
       "      <th>count</th>\n",
       "      <td>288.000000</td>\n",
       "    </tr>\n",
       "    <tr>\n",
       "      <th>mean</th>\n",
       "      <td>1025.749028</td>\n",
       "    </tr>\n",
       "    <tr>\n",
       "      <th>std</th>\n",
       "      <td>3455.046262</td>\n",
       "    </tr>\n",
       "    <tr>\n",
       "      <th>min</th>\n",
       "      <td>0.000000</td>\n",
       "    </tr>\n",
       "    <tr>\n",
       "      <th>25%</th>\n",
       "      <td>0.000000</td>\n",
       "    </tr>\n",
       "    <tr>\n",
       "      <th>50%</th>\n",
       "      <td>5.315000</td>\n",
       "    </tr>\n",
       "    <tr>\n",
       "      <th>75%</th>\n",
       "      <td>439.450000</td>\n",
       "    </tr>\n",
       "    <tr>\n",
       "      <th>max</th>\n",
       "      <td>36143.190000</td>\n",
       "    </tr>\n",
       "  </tbody>\n",
       "</table>\n",
       "</div>"
      ],
      "text/plain": [
       "              spend\n",
       "count    288.000000\n",
       "mean    1025.749028\n",
       "std     3455.046262\n",
       "min        0.000000\n",
       "25%        0.000000\n",
       "50%        5.315000\n",
       "75%      439.450000\n",
       "max    36143.190000"
      ]
     },
     "execution_count": 267,
     "metadata": {},
     "output_type": "execute_result"
    }
   ],
   "source": [
    "spend_data.describe()"
   ]
  },
  {
   "cell_type": "code",
   "execution_count": 268,
   "metadata": {},
   "outputs": [
    {
     "data": {
      "image/png": "[encoded data removed]",
      "text/plain": [
       "<Figure size 360x360 with 1 Axes>"
      ]
     },
     "metadata": {},
     "output_type": "display_data"
    }
   ],
   "source": [
    "# On x axis - total spend in account is present and on y-axis the count of the \n",
    "# number of account that have spend present in that particular range\n",
    "\n",
    "sns.set_style('whitegrid')\n",
    "sns.displot(spend_data['spend'], kde = False, color ='red', bins = 15)\n",
    "plt.xlabel(\"Total Spend of particular accounts\")\n",
    "plt.ylabel(\"count of number of accounts having similar spend\")\n",
    "plt.show()"
   ]
  },
  {
   "cell_type": "code",
   "execution_count": 269,
   "metadata": {},
   "outputs": [
    {
     "data": {
      "image/png": "[encoded data removed]",
      "text/plain": [
       "<Figure size 720x720 with 1 Axes>"
      ]
     },
     "metadata": {},
     "output_type": "display_data"
    }
   ],
   "source": [
    "plt.figure(figsize = (10,10))\n",
    "plt.scatter(x = spend_data['spend'],y = range(0,288))\n",
    "plt.xlabel('actual_spend_val')\n",
    "plt.ylabel('count_account_number_val')\n",
    "plt.show()"
   ]
  },
  {
   "cell_type": "code",
   "execution_count": 270,
   "metadata": {},
   "outputs": [],
   "source": [
    "#### since standard deviation is coming so high ,so the spend across all accounts is spread out means less reliable "
   ]
  },
  {
   "cell_type": "code",
   "execution_count": 271,
   "metadata": {},
   "outputs": [],
   "source": [
    "##  Checking the spending"
   ]
  },
  {
   "cell_type": "code",
   "execution_count": 272,
   "metadata": {},
   "outputs": [
    {
     "data": {
      "text/html": [
       "<div>\n",
       "<style scoped>\n",
       "    .dataframe tbody tr th:only-of-type {\n",
       "        vertical-align: middle;\n",
       "    }\n",
       "\n",
       "    .dataframe tbody tr th {\n",
       "        vertical-align: top;\n",
       "    }\n",
       "\n",
       "    .dataframe thead th {\n",
       "        text-align: right;\n",
       "    }\n",
       "</style>\n",
       "<table border=\"1\" class=\"dataframe\">\n",
       "  <thead>\n",
       "    <tr style=\"text-align: right;\">\n",
       "      <th></th>\n",
       "      <th>account_id</th>\n",
       "      <th>spend</th>\n",
       "    </tr>\n",
       "  </thead>\n",
       "  <tbody>\n",
       "    <tr>\n",
       "      <th>0</th>\n",
       "      <td>5ffdb895b08512986422b08c</td>\n",
       "      <td>22219.80</td>\n",
       "    </tr>\n",
       "    <tr>\n",
       "      <th>1</th>\n",
       "      <td>6013fbaaaadf53eb56518f43</td>\n",
       "      <td>140.08</td>\n",
       "    </tr>\n",
       "    <tr>\n",
       "      <th>2</th>\n",
       "      <td>60f927c947e4bd8523649c9d</td>\n",
       "      <td>0.00</td>\n",
       "    </tr>\n",
       "    <tr>\n",
       "      <th>3</th>\n",
       "      <td>612e3e3936240d16135f1944</td>\n",
       "      <td>0.00</td>\n",
       "    </tr>\n",
       "    <tr>\n",
       "      <th>4</th>\n",
       "      <td>613b4e3416cb8c3ddcb60925</td>\n",
       "      <td>0.00</td>\n",
       "    </tr>\n",
       "    <tr>\n",
       "      <th>...</th>\n",
       "      <td>...</td>\n",
       "      <td>...</td>\n",
       "    </tr>\n",
       "    <tr>\n",
       "      <th>283</th>\n",
       "      <td>63cb891adab9c845ba47c740</td>\n",
       "      <td>230.87</td>\n",
       "    </tr>\n",
       "    <tr>\n",
       "      <th>284</th>\n",
       "      <td>63cb9627dab9c845ba47c741</td>\n",
       "      <td>338.67</td>\n",
       "    </tr>\n",
       "    <tr>\n",
       "      <th>285</th>\n",
       "      <td>63ce34e69b66eadd5cfdce2e</td>\n",
       "      <td>28.27</td>\n",
       "    </tr>\n",
       "    <tr>\n",
       "      <th>286</th>\n",
       "      <td>63cfc3cf726c7a0b80fdce39</td>\n",
       "      <td>0.00</td>\n",
       "    </tr>\n",
       "    <tr>\n",
       "      <th>287</th>\n",
       "      <td>63cfc471726c7a0b80fdce3a</td>\n",
       "      <td>0.00</td>\n",
       "    </tr>\n",
       "  </tbody>\n",
       "</table>\n",
       "<p>288 rows × 2 columns</p>\n",
       "</div>"
      ],
      "text/plain": [
       "                   account_id     spend\n",
       "0    5ffdb895b08512986422b08c  22219.80\n",
       "1    6013fbaaaadf53eb56518f43    140.08\n",
       "2    60f927c947e4bd8523649c9d      0.00\n",
       "3    612e3e3936240d16135f1944      0.00\n",
       "4    613b4e3416cb8c3ddcb60925      0.00\n",
       "..                        ...       ...\n",
       "283  63cb891adab9c845ba47c740    230.87\n",
       "284  63cb9627dab9c845ba47c741    338.67\n",
       "285  63ce34e69b66eadd5cfdce2e     28.27\n",
       "286  63cfc3cf726c7a0b80fdce39      0.00\n",
       "287  63cfc471726c7a0b80fdce3a      0.00\n",
       "\n",
       "[288 rows x 2 columns]"
      ]
     },
     "execution_count": 272,
     "metadata": {},
     "output_type": "execute_result"
    }
   ],
   "source": [
    "spend_data"
   ]
  },
  {
   "cell_type": "code",
   "execution_count": 273,
   "metadata": {},
   "outputs": [
    {
     "data": {
      "text/plain": [
       "171"
      ]
     },
     "execution_count": 273,
     "metadata": {},
     "output_type": "execute_result"
    }
   ],
   "source": [
    "spend_data[spend_data['spend']>0].count()[1]\n",
    "\n",
    "# There are total 171 accounts where the spending is greater than 0"
   ]
  },
  {
   "cell_type": "code",
   "execution_count": 274,
   "metadata": {},
   "outputs": [
    {
     "data": {
      "text/plain": [
       "108"
      ]
     },
     "execution_count": 274,
     "metadata": {},
     "output_type": "execute_result"
    }
   ],
   "source": [
    "spend_data[spend_data['spend']>100].count()[1]\n",
    "\n",
    "# There are total 108 accounts where the spending is greater than 100"
   ]
  },
  {
   "cell_type": "code",
   "execution_count": 275,
   "metadata": {},
   "outputs": [
    {
     "data": {
      "text/plain": [
       "90"
      ]
     },
     "execution_count": 275,
     "metadata": {},
     "output_type": "execute_result"
    }
   ],
   "source": [
    "spend_data[spend_data['spend']>200].count()[1]\n",
    "\n",
    "# There are total 90 accounts where the spending is greater than 200"
   ]
  },
  {
   "cell_type": "code",
   "execution_count": 276,
   "metadata": {},
   "outputs": [
    {
     "data": {
      "text/plain": [
       "69"
      ]
     },
     "execution_count": 276,
     "metadata": {},
     "output_type": "execute_result"
    }
   ],
   "source": [
    "spend_data[spend_data['spend']>500].count()[1]\n",
    "\n",
    "# There are total 69 accounts where the spending is greater than 500"
   ]
  },
  {
   "cell_type": "code",
   "execution_count": 277,
   "metadata": {},
   "outputs": [
    {
     "data": {
      "text/plain": [
       "43"
      ]
     },
     "execution_count": 277,
     "metadata": {},
     "output_type": "execute_result"
    }
   ],
   "source": [
    "spend_data[spend_data['spend']>1000].count()[1]\n",
    "\n",
    "# There are total 43 accounts where the spending is greater than 1000"
   ]
  },
  {
   "cell_type": "code",
   "execution_count": 278,
   "metadata": {},
   "outputs": [
    {
     "data": {
      "text/plain": [
       "39"
      ]
     },
     "execution_count": 278,
     "metadata": {},
     "output_type": "execute_result"
    }
   ],
   "source": [
    "spend_data[spend_data['spend']>1500].count()[1]\n",
    "\n",
    "# There are total 39 accounts where the spending is greater than 1500"
   ]
  },
  {
   "cell_type": "code",
   "execution_count": 279,
   "metadata": {},
   "outputs": [
    {
     "data": {
      "text/plain": [
       "34"
      ]
     },
     "execution_count": 279,
     "metadata": {},
     "output_type": "execute_result"
    }
   ],
   "source": [
    "spend_data[spend_data['spend']>2000].count()[1]\n",
    "\n",
    "# There are total 34 accounts where the spending is greater than 2000"
   ]
  },
  {
   "cell_type": "code",
   "execution_count": 280,
   "metadata": {},
   "outputs": [
    {
     "data": {
      "text/plain": [
       "24"
      ]
     },
     "execution_count": 280,
     "metadata": {},
     "output_type": "execute_result"
    }
   ],
   "source": [
    "spend_data[spend_data['spend']>3000].count()[1]\n",
    "\n",
    "# There are total 24 accounts where the spending is greater than 3000"
   ]
  },
  {
   "cell_type": "code",
   "execution_count": 281,
   "metadata": {},
   "outputs": [
    {
     "data": {
      "text/plain": [
       "21"
      ]
     },
     "execution_count": 281,
     "metadata": {},
     "output_type": "execute_result"
    }
   ],
   "source": [
    "spend_data[spend_data['spend']>4000].count()[1]\n",
    "\n",
    "# There are total 21 accounts where the spending is greater than 4000"
   ]
  },
  {
   "cell_type": "code",
   "execution_count": 282,
   "metadata": {},
   "outputs": [
    {
     "data": {
      "text/plain": [
       "17"
      ]
     },
     "execution_count": 282,
     "metadata": {},
     "output_type": "execute_result"
    }
   ],
   "source": [
    "spend_data[spend_data['spend']>5000].count()[1]\n",
    "\n",
    "# There are total 17 accounts where the spending is greater than 5000"
   ]
  },
  {
   "cell_type": "code",
   "execution_count": 283,
   "metadata": {},
   "outputs": [
    {
     "data": {
      "text/plain": [
       "12"
      ]
     },
     "execution_count": 283,
     "metadata": {},
     "output_type": "execute_result"
    }
   ],
   "source": [
    "spend_data[spend_data['spend']>6000].count()[1]\n",
    "\n",
    "# There are total 12 accounts where the spending is greater than 6000"
   ]
  },
  {
   "cell_type": "code",
   "execution_count": 284,
   "metadata": {},
   "outputs": [
    {
     "data": {
      "text/plain": [
       "12"
      ]
     },
     "execution_count": 284,
     "metadata": {},
     "output_type": "execute_result"
    }
   ],
   "source": [
    "spend_data[spend_data['spend']>6500].count()[1]\n",
    "\n",
    "# There are total 12 accounts where the spending is greater than 6500"
   ]
  },
  {
   "cell_type": "code",
   "execution_count": 285,
   "metadata": {},
   "outputs": [
    {
     "data": {
      "text/plain": [
       "12"
      ]
     },
     "execution_count": 285,
     "metadata": {},
     "output_type": "execute_result"
    }
   ],
   "source": [
    "spend_data[spend_data['spend']>7000].count()[1]\n",
    "\n",
    "# There are total 12 accounts where the spending is greater than 7000"
   ]
  },
  {
   "cell_type": "code",
   "execution_count": 286,
   "metadata": {},
   "outputs": [
    {
     "data": {
      "text/plain": [
       "7"
      ]
     },
     "execution_count": 286,
     "metadata": {},
     "output_type": "execute_result"
    }
   ],
   "source": [
    "spend_data[spend_data['spend']>8500].count()[1]\n",
    "\n",
    "# There are total 7 accounts where the spending is greater than 8500"
   ]
  },
  {
   "cell_type": "code",
   "execution_count": 287,
   "metadata": {},
   "outputs": [
    {
     "data": {
      "text/plain": [
       "7"
      ]
     },
     "execution_count": 287,
     "metadata": {},
     "output_type": "execute_result"
    }
   ],
   "source": [
    "spend_data[spend_data['spend']>9000].count()[1]\n",
    "\n",
    "# There are total 7 accounts where the spending is greater than 9000"
   ]
  },
  {
   "cell_type": "code",
   "execution_count": 288,
   "metadata": {},
   "outputs": [
    {
     "data": {
      "text/plain": [
       "4"
      ]
     },
     "execution_count": 288,
     "metadata": {},
     "output_type": "execute_result"
    }
   ],
   "source": [
    "spend_data[spend_data['spend']>15000].count()[1]\n",
    "\n",
    "# There are total 4 accounts where the spending is greater than 9000"
   ]
  },
  {
   "cell_type": "code",
   "execution_count": null,
   "metadata": {},
   "outputs": [],
   "source": []
  },
  {
   "cell_type": "code",
   "execution_count": null,
   "metadata": {},
   "outputs": [],
   "source": []
  },
  {
   "cell_type": "code",
   "execution_count": null,
   "metadata": {},
   "outputs": [],
   "source": []
  },
  {
   "cell_type": "markdown",
   "metadata": {},
   "source": [
    "### Removing outliers"
   ]
  },
  {
   "cell_type": "code",
   "execution_count": 289,
   "metadata": {},
   "outputs": [],
   "source": [
    "spend_data_wht_outliers = spend_data[spend_data['spend']<7000]"
   ]
  },
  {
   "cell_type": "code",
   "execution_count": 290,
   "metadata": {},
   "outputs": [
    {
     "data": {
      "text/html": [
       "<div>\n",
       "<style scoped>\n",
       "    .dataframe tbody tr th:only-of-type {\n",
       "        vertical-align: middle;\n",
       "    }\n",
       "\n",
       "    .dataframe tbody tr th {\n",
       "        vertical-align: top;\n",
       "    }\n",
       "\n",
       "    .dataframe thead th {\n",
       "        text-align: right;\n",
       "    }\n",
       "</style>\n",
       "<table border=\"1\" class=\"dataframe\">\n",
       "  <thead>\n",
       "    <tr style=\"text-align: right;\">\n",
       "      <th></th>\n",
       "      <th>account_id</th>\n",
       "      <th>spend</th>\n",
       "    </tr>\n",
       "  </thead>\n",
       "  <tbody>\n",
       "    <tr>\n",
       "      <th>1</th>\n",
       "      <td>6013fbaaaadf53eb56518f43</td>\n",
       "      <td>140.08</td>\n",
       "    </tr>\n",
       "    <tr>\n",
       "      <th>2</th>\n",
       "      <td>60f927c947e4bd8523649c9d</td>\n",
       "      <td>0.00</td>\n",
       "    </tr>\n",
       "    <tr>\n",
       "      <th>3</th>\n",
       "      <td>612e3e3936240d16135f1944</td>\n",
       "      <td>0.00</td>\n",
       "    </tr>\n",
       "    <tr>\n",
       "      <th>4</th>\n",
       "      <td>613b4e3416cb8c3ddcb60925</td>\n",
       "      <td>0.00</td>\n",
       "    </tr>\n",
       "    <tr>\n",
       "      <th>5</th>\n",
       "      <td>613b51d1565006d4e2b60924</td>\n",
       "      <td>7.60</td>\n",
       "    </tr>\n",
       "    <tr>\n",
       "      <th>...</th>\n",
       "      <td>...</td>\n",
       "      <td>...</td>\n",
       "    </tr>\n",
       "    <tr>\n",
       "      <th>283</th>\n",
       "      <td>63cb891adab9c845ba47c740</td>\n",
       "      <td>230.87</td>\n",
       "    </tr>\n",
       "    <tr>\n",
       "      <th>284</th>\n",
       "      <td>63cb9627dab9c845ba47c741</td>\n",
       "      <td>338.67</td>\n",
       "    </tr>\n",
       "    <tr>\n",
       "      <th>285</th>\n",
       "      <td>63ce34e69b66eadd5cfdce2e</td>\n",
       "      <td>28.27</td>\n",
       "    </tr>\n",
       "    <tr>\n",
       "      <th>286</th>\n",
       "      <td>63cfc3cf726c7a0b80fdce39</td>\n",
       "      <td>0.00</td>\n",
       "    </tr>\n",
       "    <tr>\n",
       "      <th>287</th>\n",
       "      <td>63cfc471726c7a0b80fdce3a</td>\n",
       "      <td>0.00</td>\n",
       "    </tr>\n",
       "  </tbody>\n",
       "</table>\n",
       "<p>276 rows × 2 columns</p>\n",
       "</div>"
      ],
      "text/plain": [
       "                   account_id   spend\n",
       "1    6013fbaaaadf53eb56518f43  140.08\n",
       "2    60f927c947e4bd8523649c9d    0.00\n",
       "3    612e3e3936240d16135f1944    0.00\n",
       "4    613b4e3416cb8c3ddcb60925    0.00\n",
       "5    613b51d1565006d4e2b60924    7.60\n",
       "..                        ...     ...\n",
       "283  63cb891adab9c845ba47c740  230.87\n",
       "284  63cb9627dab9c845ba47c741  338.67\n",
       "285  63ce34e69b66eadd5cfdce2e   28.27\n",
       "286  63cfc3cf726c7a0b80fdce39    0.00\n",
       "287  63cfc471726c7a0b80fdce3a    0.00\n",
       "\n",
       "[276 rows x 2 columns]"
      ]
     },
     "execution_count": 290,
     "metadata": {},
     "output_type": "execute_result"
    }
   ],
   "source": [
    "spend_data_wht_outliers"
   ]
  },
  {
   "cell_type": "code",
   "execution_count": 291,
   "metadata": {},
   "outputs": [
    {
     "data": {
      "image/png": "[encoded data removed]",
      "text/plain": [
       "<Figure size 432x288 with 1 Axes>"
      ]
     },
     "metadata": {},
     "output_type": "display_data"
    }
   ],
   "source": [
    "sns.histplot(spend_data_wht_outliers['spend'])\n",
    "plt.xlabel(\"Total Spend of particular accounts\")\n",
    "plt.ylabel(\"count of number of accounts having similar spend\")\n",
    "plt.show()"
   ]
  },
  {
   "cell_type": "code",
   "execution_count": 292,
   "metadata": {},
   "outputs": [
    {
     "data": {
      "image/png": "[encoded data removed]",
      "text/plain": [
       "<Figure size 360x360 with 1 Axes>"
      ]
     },
     "metadata": {},
     "output_type": "display_data"
    }
   ],
   "source": [
    "sns.set_style('whitegrid')\n",
    "sns.displot(spend_data_wht_outliers['spend'], kde = False, color ='red', bins = 15)\n",
    "plt.xlabel(\"Total Spend of particular accounts\")\n",
    "plt.ylabel(\"count of number of accounts having similar spend\")\n",
    "plt.show()"
   ]
  },
  {
   "cell_type": "code",
   "execution_count": 293,
   "metadata": {},
   "outputs": [],
   "source": [
    "total_spend_wht_out = spend_data_wht_outliers['spend']"
   ]
  },
  {
   "cell_type": "code",
   "execution_count": 294,
   "metadata": {},
   "outputs": [],
   "source": [
    "Mean_wht_outliers =  sum(total_spend_wht_out)/288"
   ]
  },
  {
   "cell_type": "code",
   "execution_count": 295,
   "metadata": {},
   "outputs": [
    {
     "data": {
      "text/plain": [
       "424.41475694444455"
      ]
     },
     "execution_count": 295,
     "metadata": {},
     "output_type": "execute_result"
    }
   ],
   "source": [
    "Mean_wht_outliers"
   ]
  },
  {
   "cell_type": "code",
   "execution_count": 296,
   "metadata": {},
   "outputs": [
    {
     "data": {
      "text/plain": [
       "117"
      ]
     },
     "execution_count": 296,
     "metadata": {},
     "output_type": "execute_result"
    }
   ],
   "source": [
    "# Number of account having 0 spending but active\n",
    "no_of_0_spend_account_wht_out = spend_data_wht_outliers[spend_data_wht_outliers['spend']==0].count()[1]\n",
    "no_of_0_spend_account_wht_out"
   ]
  },
  {
   "cell_type": "code",
   "execution_count": 297,
   "metadata": {},
   "outputs": [
    {
     "data": {
      "text/plain": [
       "5885.08"
      ]
     },
     "execution_count": 297,
     "metadata": {},
     "output_type": "execute_result"
    }
   ],
   "source": [
    "# max spend across all acount \n",
    "max(total_spend_wht_out)"
   ]
  },
  {
   "cell_type": "code",
   "execution_count": 298,
   "metadata": {},
   "outputs": [
    {
     "data": {
      "text/plain": [
       "96    6333f1eda6bbd23383fcef44\n",
       "Name: account_id, dtype: object"
      ]
     },
     "execution_count": 298,
     "metadata": {},
     "output_type": "execute_result"
    }
   ],
   "source": [
    "# Account_name having maximum spend\n",
    "spend_data_wht_outliers[spend_data_wht_outliers[\"spend\"]==max(total_spend_wht_out)]['account_id']"
   ]
  },
  {
   "cell_type": "code",
   "execution_count": 299,
   "metadata": {},
   "outputs": [
    {
     "data": {
      "text/plain": [
       "47"
      ]
     },
     "execution_count": 299,
     "metadata": {},
     "output_type": "execute_result"
    }
   ],
   "source": [
    "## Accounts having spend closer to mean\n",
    "\n",
    "Mean_wht_outliers = 424.41475694444455\n",
    "\n",
    "less_than_850 = spend_data_wht_outliers[spend_data_wht_outliers[\"spend\"]<850]\n",
    "\n",
    "Between_850_150 = less_than_850[less_than_850[\"spend\"]>150]\n",
    "len(Between_850_150)"
   ]
  },
  {
   "cell_type": "code",
   "execution_count": 300,
   "metadata": {},
   "outputs": [
    {
     "data": {
      "text/plain": [
       "17.028985507246375"
      ]
     },
     "execution_count": 300,
     "metadata": {},
     "output_type": "execute_result"
    }
   ],
   "source": [
    "47*100/276"
   ]
  },
  {
   "cell_type": "code",
   "execution_count": 301,
   "metadata": {},
   "outputs": [
    {
     "data": {
      "text/html": [
       "<div>\n",
       "<style scoped>\n",
       "    .dataframe tbody tr th:only-of-type {\n",
       "        vertical-align: middle;\n",
       "    }\n",
       "\n",
       "    .dataframe tbody tr th {\n",
       "        vertical-align: top;\n",
       "    }\n",
       "\n",
       "    .dataframe thead th {\n",
       "        text-align: right;\n",
       "    }\n",
       "</style>\n",
       "<table border=\"1\" class=\"dataframe\">\n",
       "  <thead>\n",
       "    <tr style=\"text-align: right;\">\n",
       "      <th></th>\n",
       "      <th>spend</th>\n",
       "    </tr>\n",
       "  </thead>\n",
       "  <tbody>\n",
       "    <tr>\n",
       "      <th>count</th>\n",
       "      <td>276.000000</td>\n",
       "    </tr>\n",
       "    <tr>\n",
       "      <th>mean</th>\n",
       "      <td>442.867572</td>\n",
       "    </tr>\n",
       "    <tr>\n",
       "      <th>std</th>\n",
       "      <td>1052.727495</td>\n",
       "    </tr>\n",
       "    <tr>\n",
       "      <th>min</th>\n",
       "      <td>0.000000</td>\n",
       "    </tr>\n",
       "    <tr>\n",
       "      <th>25%</th>\n",
       "      <td>0.000000</td>\n",
       "    </tr>\n",
       "    <tr>\n",
       "      <th>50%</th>\n",
       "      <td>3.020000</td>\n",
       "    </tr>\n",
       "    <tr>\n",
       "      <th>75%</th>\n",
       "      <td>302.980000</td>\n",
       "    </tr>\n",
       "    <tr>\n",
       "      <th>max</th>\n",
       "      <td>5885.080000</td>\n",
       "    </tr>\n",
       "  </tbody>\n",
       "</table>\n",
       "</div>"
      ],
      "text/plain": [
       "             spend\n",
       "count   276.000000\n",
       "mean    442.867572\n",
       "std    1052.727495\n",
       "min       0.000000\n",
       "25%       0.000000\n",
       "50%       3.020000\n",
       "75%     302.980000\n",
       "max    5885.080000"
      ]
     },
     "execution_count": 301,
     "metadata": {},
     "output_type": "execute_result"
    }
   ],
   "source": [
    "spend_data_wht_outliers.describe()"
   ]
  },
  {
   "cell_type": "code",
   "execution_count": 302,
   "metadata": {},
   "outputs": [
    {
     "data": {
      "image/png": "[encoded data removed]",
      "text/plain": [
       "<Figure size 360x360 with 1 Axes>"
      ]
     },
     "metadata": {},
     "output_type": "display_data"
    }
   ],
   "source": [
    "# On x axis - total spend in account is present and on y-axis the count of the \n",
    "# number of account that have spend present in that particular range\n",
    "\n",
    "sns.set_style('whitegrid')\n",
    "sns.displot(spend_data_wht_outliers['spend'], kde = False, color ='red', bins = 15)\n",
    "plt.show()"
   ]
  },
  {
   "cell_type": "code",
   "execution_count": 323,
   "metadata": {},
   "outputs": [
    {
     "data": {
      "image/png": "[encoded data removed]",
      "text/plain": [
       "<Figure size 576x576 with 1 Axes>"
      ]
     },
     "metadata": {},
     "output_type": "display_data"
    }
   ],
   "source": [
    "# It shows on x axis is the actual spend val on on y axis is the count of the number of accounts that have the same spend\n",
    "\n",
    "plt.figure(figsize = (8,8))\n",
    "plt.scatter(x = spend_data_wht_outliers['spend'],y = range(0,276))\n",
    "plt.xlabel('actual_spend_val')\n",
    "plt.ylabel('account_number_val')\n",
    "plt.show()"
   ]
  },
  {
   "cell_type": "code",
   "execution_count": null,
   "metadata": {},
   "outputs": [],
   "source": []
  },
  {
   "cell_type": "code",
   "execution_count": null,
   "metadata": {},
   "outputs": [],
   "source": []
  },
  {
   "cell_type": "markdown",
   "metadata": {},
   "source": [
    "### Removing only those accounts having total spend 0"
   ]
  },
  {
   "cell_type": "code",
   "execution_count": 304,
   "metadata": {},
   "outputs": [],
   "source": [
    "spend_data_wht_0 = spend_data[spend_data['spend'] != 0]"
   ]
  },
  {
   "cell_type": "code",
   "execution_count": 305,
   "metadata": {},
   "outputs": [
    {
     "data": {
      "text/html": [
       "<div>\n",
       "<style scoped>\n",
       "    .dataframe tbody tr th:only-of-type {\n",
       "        vertical-align: middle;\n",
       "    }\n",
       "\n",
       "    .dataframe tbody tr th {\n",
       "        vertical-align: top;\n",
       "    }\n",
       "\n",
       "    .dataframe thead th {\n",
       "        text-align: right;\n",
       "    }\n",
       "</style>\n",
       "<table border=\"1\" class=\"dataframe\">\n",
       "  <thead>\n",
       "    <tr style=\"text-align: right;\">\n",
       "      <th></th>\n",
       "      <th>account_id</th>\n",
       "      <th>spend</th>\n",
       "    </tr>\n",
       "  </thead>\n",
       "  <tbody>\n",
       "    <tr>\n",
       "      <th>0</th>\n",
       "      <td>5ffdb895b08512986422b08c</td>\n",
       "      <td>22219.80</td>\n",
       "    </tr>\n",
       "    <tr>\n",
       "      <th>1</th>\n",
       "      <td>6013fbaaaadf53eb56518f43</td>\n",
       "      <td>140.08</td>\n",
       "    </tr>\n",
       "    <tr>\n",
       "      <th>5</th>\n",
       "      <td>613b51d1565006d4e2b60924</td>\n",
       "      <td>7.60</td>\n",
       "    </tr>\n",
       "    <tr>\n",
       "      <th>7</th>\n",
       "      <td>61b3133728133e8d9e12b44a</td>\n",
       "      <td>884.40</td>\n",
       "    </tr>\n",
       "    <tr>\n",
       "      <th>10</th>\n",
       "      <td>61b8929c7f1731fdf842d921</td>\n",
       "      <td>69.56</td>\n",
       "    </tr>\n",
       "    <tr>\n",
       "      <th>...</th>\n",
       "      <td>...</td>\n",
       "      <td>...</td>\n",
       "    </tr>\n",
       "    <tr>\n",
       "      <th>277</th>\n",
       "      <td>63c96867b07b5d7a06ab9b53</td>\n",
       "      <td>24.08</td>\n",
       "    </tr>\n",
       "    <tr>\n",
       "      <th>278</th>\n",
       "      <td>63ca957c8b417f8566baab8f</td>\n",
       "      <td>687.22</td>\n",
       "    </tr>\n",
       "    <tr>\n",
       "      <th>283</th>\n",
       "      <td>63cb891adab9c845ba47c740</td>\n",
       "      <td>230.87</td>\n",
       "    </tr>\n",
       "    <tr>\n",
       "      <th>284</th>\n",
       "      <td>63cb9627dab9c845ba47c741</td>\n",
       "      <td>338.67</td>\n",
       "    </tr>\n",
       "    <tr>\n",
       "      <th>285</th>\n",
       "      <td>63ce34e69b66eadd5cfdce2e</td>\n",
       "      <td>28.27</td>\n",
       "    </tr>\n",
       "  </tbody>\n",
       "</table>\n",
       "<p>171 rows × 2 columns</p>\n",
       "</div>"
      ],
      "text/plain": [
       "                   account_id     spend\n",
       "0    5ffdb895b08512986422b08c  22219.80\n",
       "1    6013fbaaaadf53eb56518f43    140.08\n",
       "5    613b51d1565006d4e2b60924      7.60\n",
       "7    61b3133728133e8d9e12b44a    884.40\n",
       "10   61b8929c7f1731fdf842d921     69.56\n",
       "..                        ...       ...\n",
       "277  63c96867b07b5d7a06ab9b53     24.08\n",
       "278  63ca957c8b417f8566baab8f    687.22\n",
       "283  63cb891adab9c845ba47c740    230.87\n",
       "284  63cb9627dab9c845ba47c741    338.67\n",
       "285  63ce34e69b66eadd5cfdce2e     28.27\n",
       "\n",
       "[171 rows x 2 columns]"
      ]
     },
     "execution_count": 305,
     "metadata": {},
     "output_type": "execute_result"
    }
   ],
   "source": [
    "spend_data_wht_0"
   ]
  },
  {
   "cell_type": "code",
   "execution_count": 306,
   "metadata": {},
   "outputs": [],
   "source": [
    "#Graph\n",
    "import seaborn as sns"
   ]
  },
  {
   "cell_type": "code",
   "execution_count": 307,
   "metadata": {},
   "outputs": [
    {
     "data": {
      "image/png": "[encoded data removed]",
      "text/plain": [
       "<Figure size 432x288 with 1 Axes>"
      ]
     },
     "metadata": {},
     "output_type": "display_data"
    }
   ],
   "source": [
    "sns.histplot(spend_data_wht_0['spend'])\n",
    "plt.xlabel(\"Total Spend of particular accounts\")\n",
    "plt.ylabel(\"count of number of accounts having similar spend\")\n",
    "plt.show()"
   ]
  },
  {
   "cell_type": "code",
   "execution_count": 308,
   "metadata": {},
   "outputs": [
    {
     "data": {
      "text/plain": [
       "0      22219.80\n",
       "1        140.08\n",
       "5          7.60\n",
       "7        884.40\n",
       "10        69.56\n",
       "         ...   \n",
       "277       24.08\n",
       "278      687.22\n",
       "283      230.87\n",
       "284      338.67\n",
       "285       28.27\n",
       "Name: spend, Length: 171, dtype: float64"
      ]
     },
     "execution_count": 308,
     "metadata": {},
     "output_type": "execute_result"
    }
   ],
   "source": [
    "total_spend_wht_0 = spend_data_wht_0['spend']\n",
    "total_spend_wht_0"
   ]
  },
  {
   "cell_type": "code",
   "execution_count": 309,
   "metadata": {},
   "outputs": [
    {
     "data": {
      "text/plain": [
       "1727.5773099415208"
      ]
     },
     "execution_count": 309,
     "metadata": {},
     "output_type": "execute_result"
    }
   ],
   "source": [
    "Mean=  sum(total_spend_wht_0)/len(total_spend_wht_0)\n",
    "Mean"
   ]
  },
  {
   "cell_type": "code",
   "execution_count": 310,
   "metadata": {},
   "outputs": [
    {
     "data": {
      "text/plain": [
       "0.03"
      ]
     },
     "execution_count": 310,
     "metadata": {},
     "output_type": "execute_result"
    }
   ],
   "source": [
    "# min spend across all acount \n",
    "min(total_spend_wht_0)"
   ]
  },
  {
   "cell_type": "code",
   "execution_count": 311,
   "metadata": {},
   "outputs": [
    {
     "data": {
      "text/plain": [
       "36143.19"
      ]
     },
     "execution_count": 311,
     "metadata": {},
     "output_type": "execute_result"
    }
   ],
   "source": [
    "# max spend across all acount \n",
    "max(total_spend_wht_0)"
   ]
  },
  {
   "cell_type": "code",
   "execution_count": 312,
   "metadata": {},
   "outputs": [
    {
     "data": {
      "text/plain": [
       "105    633444a7d89f609870fcef45\n",
       "Name: account_id, dtype: object"
      ]
     },
     "execution_count": 312,
     "metadata": {},
     "output_type": "execute_result"
    }
   ],
   "source": [
    "# Account_id having maximum spend\n",
    "spend_data_wht_0[spend_data_wht_0[\"spend\"]==max(total_spend_wht_0)]['account_id']"
   ]
  },
  {
   "cell_type": "code",
   "execution_count": 313,
   "metadata": {},
   "outputs": [
    {
     "data": {
      "text/plain": [
       "12"
      ]
     },
     "execution_count": 313,
     "metadata": {},
     "output_type": "execute_result"
    }
   ],
   "source": [
    "## Accounts having spend closer to mean\n",
    "\n",
    "Mean = 1727.5773099415208\n",
    "\n",
    "greater_than_1250 = spend_data_wht_0[spend_data_wht_0[\"spend\"]>1250]\n",
    "\n",
    "Between_1250_2500 = greater_than_1250[greater_than_1250[\"spend\"]<2500]\n",
    "len(Between_1250_2500)"
   ]
  },
  {
   "cell_type": "code",
   "execution_count": 314,
   "metadata": {},
   "outputs": [
    {
     "data": {
      "text/plain": [
       "7.017543859649122"
      ]
     },
     "execution_count": 314,
     "metadata": {},
     "output_type": "execute_result"
    }
   ],
   "source": [
    "# Percentage of accounts lying in the above range\n",
    "\n",
    "percentage =  len(Between_1250_2500)*100/171\n",
    "percentage"
   ]
  },
  {
   "cell_type": "code",
   "execution_count": 317,
   "metadata": {},
   "outputs": [
    {
     "data": {
      "text/plain": [
       "230.87"
      ]
     },
     "execution_count": 317,
     "metadata": {},
     "output_type": "execute_result"
    }
   ],
   "source": [
    "# Median \n",
    "sc.median(sorted(total_spend_wht_0))"
   ]
  },
  {
   "cell_type": "code",
   "execution_count": 318,
   "metadata": {},
   "outputs": [
    {
     "data": {
      "image/png": "[encoded data removed]",
      "text/plain": [
       "<Figure size 360x360 with 1 Axes>"
      ]
     },
     "metadata": {},
     "output_type": "display_data"
    }
   ],
   "source": [
    "# On x axis - total spend in account is present and on y-axis the count of the \n",
    "# number of account that have spend present in that particular range\n",
    "\n",
    "sns.set_style('whitegrid')\n",
    "sns.displot(spend_data_wht_0['spend'], kde = False, color ='red', bins = 15)\n",
    "plt.xlabel(\"Total Spend of particular accounts\")\n",
    "plt.ylabel(\"count of number of accounts having similar spend\")\n",
    "plt.show()"
   ]
  },
  {
   "cell_type": "code",
   "execution_count": 319,
   "metadata": {},
   "outputs": [
    {
     "data": {
      "text/html": [
       "<div>\n",
       "<style scoped>\n",
       "    .dataframe tbody tr th:only-of-type {\n",
       "        vertical-align: middle;\n",
       "    }\n",
       "\n",
       "    .dataframe tbody tr th {\n",
       "        vertical-align: top;\n",
       "    }\n",
       "\n",
       "    .dataframe thead th {\n",
       "        text-align: right;\n",
       "    }\n",
       "</style>\n",
       "<table border=\"1\" class=\"dataframe\">\n",
       "  <thead>\n",
       "    <tr style=\"text-align: right;\">\n",
       "      <th></th>\n",
       "      <th>spend</th>\n",
       "    </tr>\n",
       "  </thead>\n",
       "  <tbody>\n",
       "    <tr>\n",
       "      <th>count</th>\n",
       "      <td>171.000000</td>\n",
       "    </tr>\n",
       "    <tr>\n",
       "      <th>mean</th>\n",
       "      <td>1727.577310</td>\n",
       "    </tr>\n",
       "    <tr>\n",
       "      <th>std</th>\n",
       "      <td>4351.258651</td>\n",
       "    </tr>\n",
       "    <tr>\n",
       "      <th>min</th>\n",
       "      <td>0.030000</td>\n",
       "    </tr>\n",
       "    <tr>\n",
       "      <th>25%</th>\n",
       "      <td>13.470000</td>\n",
       "    </tr>\n",
       "    <tr>\n",
       "      <th>50%</th>\n",
       "      <td>230.870000</td>\n",
       "    </tr>\n",
       "    <tr>\n",
       "      <th>75%</th>\n",
       "      <td>1060.015000</td>\n",
       "    </tr>\n",
       "    <tr>\n",
       "      <th>max</th>\n",
       "      <td>36143.190000</td>\n",
       "    </tr>\n",
       "  </tbody>\n",
       "</table>\n",
       "</div>"
      ],
      "text/plain": [
       "              spend\n",
       "count    171.000000\n",
       "mean    1727.577310\n",
       "std     4351.258651\n",
       "min        0.030000\n",
       "25%       13.470000\n",
       "50%      230.870000\n",
       "75%     1060.015000\n",
       "max    36143.190000"
      ]
     },
     "execution_count": 319,
     "metadata": {},
     "output_type": "execute_result"
    }
   ],
   "source": [
    "spend_data_wht_0.describe()"
   ]
  },
  {
   "cell_type": "code",
   "execution_count": 320,
   "metadata": {},
   "outputs": [
    {
     "data": {
      "text/plain": [
       "68"
      ]
     },
     "execution_count": 320,
     "metadata": {},
     "output_type": "execute_result"
    }
   ],
   "source": [
    "## Accounts having spend closer to median\n",
    "\n",
    "Median_wth_0 = 230.87\n",
    "\n",
    "less_than_550 = spend_data_wht_0[spend_data_wht_0[\"spend\"]<550]\n",
    "\n",
    "Between_550_10 = less_than_550[less_than_550[\"spend\"]>10]\n",
    "len(Between_550_10)"
   ]
  },
  {
   "cell_type": "code",
   "execution_count": 322,
   "metadata": {},
   "outputs": [
    {
     "data": {
      "text/plain": [
       "39.76608187134503"
      ]
     },
     "execution_count": 322,
     "metadata": {},
     "output_type": "execute_result"
    }
   ],
   "source": [
    "# Percentage of accounts having spend closer to median\n",
    "\n",
    "percentage = 68*100/171\n",
    "percentage"
   ]
  },
  {
   "cell_type": "code",
   "execution_count": null,
   "metadata": {},
   "outputs": [],
   "source": []
  },
  {
   "cell_type": "code",
   "execution_count": null,
   "metadata": {},
   "outputs": [],
   "source": []
  },
  {
   "cell_type": "code",
   "execution_count": null,
   "metadata": {},
   "outputs": [],
   "source": []
  },
  {
   "cell_type": "code",
   "execution_count": null,
   "metadata": {},
   "outputs": [],
   "source": []
  },
  {
   "cell_type": "code",
   "execution_count": null,
   "metadata": {},
   "outputs": [],
   "source": []
  },
  {
   "cell_type": "code",
   "execution_count": null,
   "metadata": {},
   "outputs": [],
   "source": []
  },
  {
   "cell_type": "code",
   "execution_count": null,
   "metadata": {},
   "outputs": [],
   "source": []
  },
  {
   "cell_type": "code",
   "execution_count": null,
   "metadata": {},
   "outputs": [],
   "source": []
  },
  {
   "cell_type": "code",
   "execution_count": null,
   "metadata": {},
   "outputs": [],
   "source": []
  },
  {
   "cell_type": "code",
   "execution_count": null,
   "metadata": {},
   "outputs": [],
   "source": []
  },
  {
   "cell_type": "code",
   "execution_count": null,
   "metadata": {},
   "outputs": [],
   "source": []
  },
  {
   "cell_type": "code",
   "execution_count": null,
   "metadata": {},
   "outputs": [],
   "source": []
  },
  {
   "cell_type": "code",
   "execution_count": null,
   "metadata": {},
   "outputs": [],
   "source": []
  },
  {
   "cell_type": "code",
   "execution_count": null,
   "metadata": {},
   "outputs": [],
   "source": []
  },
  {
   "cell_type": "code",
   "execution_count": null,
   "metadata": {},
   "outputs": [],
   "source": []
  },
  {
   "cell_type": "code",
   "execution_count": null,
   "metadata": {},
   "outputs": [],
   "source": []
  },
  {
   "cell_type": "code",
   "execution_count": null,
   "metadata": {},
   "outputs": [],
   "source": []
  },
  {
   "cell_type": "code",
   "execution_count": null,
   "metadata": {},
   "outputs": [],
   "source": []
  },
  {
   "cell_type": "code",
   "execution_count": 314,
   "metadata": {},
   "outputs": [],
   "source": [
    "### CLicks and spend included"
   ]
  },
  {
   "cell_type": "code",
   "execution_count": 442,
   "metadata": {},
   "outputs": [],
   "source": [
    "account_cost_clicks = []\n",
    "for i in unique_accounts:\n",
    "    a = db.report_records.find_one({\"record_type\":\"accounts\",\"campaign_type\":\"sp\",\"account_id\":  i})['cost']\n",
    "    b = db.report_records.find_one({\"record_type\":\"accounts\", \"account_id\":  i,\"campaign_type\":\"sp\"})['clicks']\n",
    "    c = db.report_records.find_one({\"record_type\":\"accounts\", \"account_id\":  i,\"campaign_type\":\"sp\"})['impressions']\n",
    "    try:\n",
    "        d = a/b\n",
    "    except:\n",
    "        d = \"NA\"\n",
    "    try:\n",
    "        e = b/c\n",
    "    except:\n",
    "        e = \"NA\"\n",
    "    account_cost_clicks.append([i,a,b,c,d,e])"
   ]
  },
  {
   "cell_type": "code",
   "execution_count": 443,
   "metadata": {},
   "outputs": [],
   "source": [
    "spend_clicks_data = pd.DataFrame(data = account_cost_clicks,columns =  [\"account_id\",\"spend\",\"clicks\",\"impressions\",\"Spend/Click\",\"CTR\"])"
   ]
  },
  {
   "cell_type": "code",
   "execution_count": 444,
   "metadata": {},
   "outputs": [
    {
     "data": {
      "text/html": [
       "<div>\n",
       "<style scoped>\n",
       "    .dataframe tbody tr th:only-of-type {\n",
       "        vertical-align: middle;\n",
       "    }\n",
       "\n",
       "    .dataframe tbody tr th {\n",
       "        vertical-align: top;\n",
       "    }\n",
       "\n",
       "    .dataframe thead th {\n",
       "        text-align: right;\n",
       "    }\n",
       "</style>\n",
       "<table border=\"1\" class=\"dataframe\">\n",
       "  <thead>\n",
       "    <tr style=\"text-align: right;\">\n",
       "      <th></th>\n",
       "      <th>account_id</th>\n",
       "      <th>spend</th>\n",
       "      <th>clicks</th>\n",
       "      <th>impressions</th>\n",
       "      <th>Spend/Click</th>\n",
       "      <th>CTR</th>\n",
       "    </tr>\n",
       "  </thead>\n",
       "  <tbody>\n",
       "    <tr>\n",
       "      <th>0</th>\n",
       "      <td>5ffdb895b08512986422b08c</td>\n",
       "      <td>22219.80</td>\n",
       "      <td>2833</td>\n",
       "      <td>662487</td>\n",
       "      <td>7.84321</td>\n",
       "      <td>0.00427631</td>\n",
       "    </tr>\n",
       "    <tr>\n",
       "      <th>1</th>\n",
       "      <td>6013fbaaaadf53eb56518f43</td>\n",
       "      <td>140.08</td>\n",
       "      <td>40</td>\n",
       "      <td>5800</td>\n",
       "      <td>3.502</td>\n",
       "      <td>0.00689655</td>\n",
       "    </tr>\n",
       "    <tr>\n",
       "      <th>2</th>\n",
       "      <td>60f927c947e4bd8523649c9d</td>\n",
       "      <td>0.00</td>\n",
       "      <td>0</td>\n",
       "      <td>0</td>\n",
       "      <td>NA</td>\n",
       "      <td>NA</td>\n",
       "    </tr>\n",
       "    <tr>\n",
       "      <th>3</th>\n",
       "      <td>612e3e3936240d16135f1944</td>\n",
       "      <td>0.00</td>\n",
       "      <td>0</td>\n",
       "      <td>0</td>\n",
       "      <td>NA</td>\n",
       "      <td>NA</td>\n",
       "    </tr>\n",
       "    <tr>\n",
       "      <th>4</th>\n",
       "      <td>613b4e3416cb8c3ddcb60925</td>\n",
       "      <td>0.00</td>\n",
       "      <td>0</td>\n",
       "      <td>13</td>\n",
       "      <td>NA</td>\n",
       "      <td>0</td>\n",
       "    </tr>\n",
       "    <tr>\n",
       "      <th>...</th>\n",
       "      <td>...</td>\n",
       "      <td>...</td>\n",
       "      <td>...</td>\n",
       "      <td>...</td>\n",
       "      <td>...</td>\n",
       "      <td>...</td>\n",
       "    </tr>\n",
       "    <tr>\n",
       "      <th>283</th>\n",
       "      <td>63cb891adab9c845ba47c740</td>\n",
       "      <td>230.87</td>\n",
       "      <td>23</td>\n",
       "      <td>2680</td>\n",
       "      <td>10.0378</td>\n",
       "      <td>0.00858209</td>\n",
       "    </tr>\n",
       "    <tr>\n",
       "      <th>284</th>\n",
       "      <td>63cb9627dab9c845ba47c741</td>\n",
       "      <td>338.67</td>\n",
       "      <td>40</td>\n",
       "      <td>24097</td>\n",
       "      <td>8.46675</td>\n",
       "      <td>0.00165996</td>\n",
       "    </tr>\n",
       "    <tr>\n",
       "      <th>285</th>\n",
       "      <td>63ce34e69b66eadd5cfdce2e</td>\n",
       "      <td>28.27</td>\n",
       "      <td>26</td>\n",
       "      <td>6149</td>\n",
       "      <td>1.08731</td>\n",
       "      <td>0.00422833</td>\n",
       "    </tr>\n",
       "    <tr>\n",
       "      <th>286</th>\n",
       "      <td>63cfc3cf726c7a0b80fdce39</td>\n",
       "      <td>0.00</td>\n",
       "      <td>0</td>\n",
       "      <td>0</td>\n",
       "      <td>NA</td>\n",
       "      <td>NA</td>\n",
       "    </tr>\n",
       "    <tr>\n",
       "      <th>287</th>\n",
       "      <td>63cfc471726c7a0b80fdce3a</td>\n",
       "      <td>0.00</td>\n",
       "      <td>0</td>\n",
       "      <td>0</td>\n",
       "      <td>NA</td>\n",
       "      <td>NA</td>\n",
       "    </tr>\n",
       "  </tbody>\n",
       "</table>\n",
       "<p>288 rows × 6 columns</p>\n",
       "</div>"
      ],
      "text/plain": [
       "                   account_id     spend  clicks  impressions Spend/Click  \\\n",
       "0    5ffdb895b08512986422b08c  22219.80    2833       662487     7.84321   \n",
       "1    6013fbaaaadf53eb56518f43    140.08      40         5800       3.502   \n",
       "2    60f927c947e4bd8523649c9d      0.00       0            0          NA   \n",
       "3    612e3e3936240d16135f1944      0.00       0            0          NA   \n",
       "4    613b4e3416cb8c3ddcb60925      0.00       0           13          NA   \n",
       "..                        ...       ...     ...          ...         ...   \n",
       "283  63cb891adab9c845ba47c740    230.87      23         2680     10.0378   \n",
       "284  63cb9627dab9c845ba47c741    338.67      40        24097     8.46675   \n",
       "285  63ce34e69b66eadd5cfdce2e     28.27      26         6149     1.08731   \n",
       "286  63cfc3cf726c7a0b80fdce39      0.00       0            0          NA   \n",
       "287  63cfc471726c7a0b80fdce3a      0.00       0            0          NA   \n",
       "\n",
       "            CTR  \n",
       "0    0.00427631  \n",
       "1    0.00689655  \n",
       "2            NA  \n",
       "3            NA  \n",
       "4             0  \n",
       "..          ...  \n",
       "283  0.00858209  \n",
       "284  0.00165996  \n",
       "285  0.00422833  \n",
       "286          NA  \n",
       "287          NA  \n",
       "\n",
       "[288 rows x 6 columns]"
      ]
     },
     "execution_count": 444,
     "metadata": {},
     "output_type": "execute_result"
    }
   ],
   "source": [
    "spend_clicks_data"
   ]
  },
  {
   "cell_type": "code",
   "execution_count": 445,
   "metadata": {},
   "outputs": [],
   "source": [
    "### 0_clicks and 0_spends"
   ]
  },
  {
   "cell_type": "code",
   "execution_count": 446,
   "metadata": {},
   "outputs": [],
   "source": [
    "a = spend_clicks_data.loc[spend_clicks_data[\"clicks\"]== 0]"
   ]
  },
  {
   "cell_type": "code",
   "execution_count": 447,
   "metadata": {},
   "outputs": [
    {
     "data": {
      "text/html": [
       "<div>\n",
       "<style scoped>\n",
       "    .dataframe tbody tr th:only-of-type {\n",
       "        vertical-align: middle;\n",
       "    }\n",
       "\n",
       "    .dataframe tbody tr th {\n",
       "        vertical-align: top;\n",
       "    }\n",
       "\n",
       "    .dataframe thead th {\n",
       "        text-align: right;\n",
       "    }\n",
       "</style>\n",
       "<table border=\"1\" class=\"dataframe\">\n",
       "  <thead>\n",
       "    <tr style=\"text-align: right;\">\n",
       "      <th></th>\n",
       "      <th>account_id</th>\n",
       "      <th>spend</th>\n",
       "      <th>clicks</th>\n",
       "      <th>impressions</th>\n",
       "      <th>Spend/Click</th>\n",
       "      <th>CTR</th>\n",
       "    </tr>\n",
       "  </thead>\n",
       "  <tbody>\n",
       "  </tbody>\n",
       "</table>\n",
       "</div>"
      ],
      "text/plain": [
       "Empty DataFrame\n",
       "Columns: [account_id, spend, clicks, impressions, Spend/Click, CTR]\n",
       "Index: []"
      ]
     },
     "execution_count": 447,
     "metadata": {},
     "output_type": "execute_result"
    }
   ],
   "source": [
    "a[a['spend']>0]"
   ]
  },
  {
   "cell_type": "code",
   "execution_count": 448,
   "metadata": {},
   "outputs": [],
   "source": [
    "# the above dataframe shows that where the clicks are 0 the spend is also 0"
   ]
  },
  {
   "cell_type": "code",
   "execution_count": 449,
   "metadata": {},
   "outputs": [],
   "source": [
    "data_without_0_clicks = spend_clicks_data[spend_clicks_data['clicks']>0]"
   ]
  },
  {
   "cell_type": "code",
   "execution_count": 450,
   "metadata": {},
   "outputs": [
    {
     "data": {
      "text/html": [
       "<div>\n",
       "<style scoped>\n",
       "    .dataframe tbody tr th:only-of-type {\n",
       "        vertical-align: middle;\n",
       "    }\n",
       "\n",
       "    .dataframe tbody tr th {\n",
       "        vertical-align: top;\n",
       "    }\n",
       "\n",
       "    .dataframe thead th {\n",
       "        text-align: right;\n",
       "    }\n",
       "</style>\n",
       "<table border=\"1\" class=\"dataframe\">\n",
       "  <thead>\n",
       "    <tr style=\"text-align: right;\">\n",
       "      <th></th>\n",
       "      <th>account_id</th>\n",
       "      <th>spend</th>\n",
       "      <th>clicks</th>\n",
       "      <th>impressions</th>\n",
       "      <th>Spend/Click</th>\n",
       "      <th>CTR</th>\n",
       "    </tr>\n",
       "  </thead>\n",
       "  <tbody>\n",
       "    <tr>\n",
       "      <th>0</th>\n",
       "      <td>5ffdb895b08512986422b08c</td>\n",
       "      <td>22219.80</td>\n",
       "      <td>2833</td>\n",
       "      <td>662487</td>\n",
       "      <td>7.84321</td>\n",
       "      <td>0.00427631</td>\n",
       "    </tr>\n",
       "    <tr>\n",
       "      <th>1</th>\n",
       "      <td>6013fbaaaadf53eb56518f43</td>\n",
       "      <td>140.08</td>\n",
       "      <td>40</td>\n",
       "      <td>5800</td>\n",
       "      <td>3.502</td>\n",
       "      <td>0.00689655</td>\n",
       "    </tr>\n",
       "    <tr>\n",
       "      <th>5</th>\n",
       "      <td>613b51d1565006d4e2b60924</td>\n",
       "      <td>7.60</td>\n",
       "      <td>9</td>\n",
       "      <td>7196</td>\n",
       "      <td>0.844444</td>\n",
       "      <td>0.00125069</td>\n",
       "    </tr>\n",
       "    <tr>\n",
       "      <th>7</th>\n",
       "      <td>61b3133728133e8d9e12b44a</td>\n",
       "      <td>884.40</td>\n",
       "      <td>78</td>\n",
       "      <td>8617</td>\n",
       "      <td>11.3385</td>\n",
       "      <td>0.00905187</td>\n",
       "    </tr>\n",
       "    <tr>\n",
       "      <th>10</th>\n",
       "      <td>61b8929c7f1731fdf842d921</td>\n",
       "      <td>69.56</td>\n",
       "      <td>8</td>\n",
       "      <td>11301</td>\n",
       "      <td>8.695</td>\n",
       "      <td>0.000707902</td>\n",
       "    </tr>\n",
       "    <tr>\n",
       "      <th>...</th>\n",
       "      <td>...</td>\n",
       "      <td>...</td>\n",
       "      <td>...</td>\n",
       "      <td>...</td>\n",
       "      <td>...</td>\n",
       "      <td>...</td>\n",
       "    </tr>\n",
       "    <tr>\n",
       "      <th>277</th>\n",
       "      <td>63c96867b07b5d7a06ab9b53</td>\n",
       "      <td>24.08</td>\n",
       "      <td>26</td>\n",
       "      <td>4969</td>\n",
       "      <td>0.926154</td>\n",
       "      <td>0.00523244</td>\n",
       "    </tr>\n",
       "    <tr>\n",
       "      <th>278</th>\n",
       "      <td>63ca957c8b417f8566baab8f</td>\n",
       "      <td>687.22</td>\n",
       "      <td>24</td>\n",
       "      <td>12565</td>\n",
       "      <td>28.6342</td>\n",
       "      <td>0.00191007</td>\n",
       "    </tr>\n",
       "    <tr>\n",
       "      <th>283</th>\n",
       "      <td>63cb891adab9c845ba47c740</td>\n",
       "      <td>230.87</td>\n",
       "      <td>23</td>\n",
       "      <td>2680</td>\n",
       "      <td>10.0378</td>\n",
       "      <td>0.00858209</td>\n",
       "    </tr>\n",
       "    <tr>\n",
       "      <th>284</th>\n",
       "      <td>63cb9627dab9c845ba47c741</td>\n",
       "      <td>338.67</td>\n",
       "      <td>40</td>\n",
       "      <td>24097</td>\n",
       "      <td>8.46675</td>\n",
       "      <td>0.00165996</td>\n",
       "    </tr>\n",
       "    <tr>\n",
       "      <th>285</th>\n",
       "      <td>63ce34e69b66eadd5cfdce2e</td>\n",
       "      <td>28.27</td>\n",
       "      <td>26</td>\n",
       "      <td>6149</td>\n",
       "      <td>1.08731</td>\n",
       "      <td>0.00422833</td>\n",
       "    </tr>\n",
       "  </tbody>\n",
       "</table>\n",
       "<p>171 rows × 6 columns</p>\n",
       "</div>"
      ],
      "text/plain": [
       "                   account_id     spend  clicks  impressions Spend/Click  \\\n",
       "0    5ffdb895b08512986422b08c  22219.80    2833       662487     7.84321   \n",
       "1    6013fbaaaadf53eb56518f43    140.08      40         5800       3.502   \n",
       "5    613b51d1565006d4e2b60924      7.60       9         7196    0.844444   \n",
       "7    61b3133728133e8d9e12b44a    884.40      78         8617     11.3385   \n",
       "10   61b8929c7f1731fdf842d921     69.56       8        11301       8.695   \n",
       "..                        ...       ...     ...          ...         ...   \n",
       "277  63c96867b07b5d7a06ab9b53     24.08      26         4969    0.926154   \n",
       "278  63ca957c8b417f8566baab8f    687.22      24        12565     28.6342   \n",
       "283  63cb891adab9c845ba47c740    230.87      23         2680     10.0378   \n",
       "284  63cb9627dab9c845ba47c741    338.67      40        24097     8.46675   \n",
       "285  63ce34e69b66eadd5cfdce2e     28.27      26         6149     1.08731   \n",
       "\n",
       "             CTR  \n",
       "0     0.00427631  \n",
       "1     0.00689655  \n",
       "5     0.00125069  \n",
       "7     0.00905187  \n",
       "10   0.000707902  \n",
       "..           ...  \n",
       "277   0.00523244  \n",
       "278   0.00191007  \n",
       "283   0.00858209  \n",
       "284   0.00165996  \n",
       "285   0.00422833  \n",
       "\n",
       "[171 rows x 6 columns]"
      ]
     },
     "execution_count": 450,
     "metadata": {},
     "output_type": "execute_result"
    }
   ],
   "source": [
    "data_without_0_clicks"
   ]
  },
  {
   "cell_type": "code",
   "execution_count": null,
   "metadata": {},
   "outputs": [],
   "source": []
  },
  {
   "cell_type": "code",
   "execution_count": null,
   "metadata": {},
   "outputs": [],
   "source": []
  },
  {
   "cell_type": "code",
   "execution_count": null,
   "metadata": {},
   "outputs": [],
   "source": []
  },
  {
   "cell_type": "code",
   "execution_count": null,
   "metadata": {},
   "outputs": [],
   "source": []
  },
  {
   "cell_type": "code",
   "execution_count": null,
   "metadata": {},
   "outputs": [],
   "source": []
  }
 ],
 "metadata": {
  "kernelspec": {
   "display_name": "Python 3",
   "language": "python",
   "name": "python3"
  },
  "language_info": {
   "codemirror_mode": {
    "name": "ipython",
    "version": 3
   },
   "file_extension": ".py",
   "mimetype": "text/x-python",
   "name": "python",
   "nbconvert_exporter": "python",
   "pygments_lexer": "ipython3",
   "version": "3.8.16"
  }
 },
 "nbformat": 4,
 "nbformat_minor": 4
}
