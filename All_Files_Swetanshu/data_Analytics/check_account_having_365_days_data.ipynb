{
 "cells": [
  {
   "cell_type": "markdown",
   "metadata": {},
   "source": [
    "# import dependencies"
   ]
  },
  {
   "cell_type": "code",
   "execution_count": 247,
   "metadata": {},
   "outputs": [],
   "source": [
    "import numpy as np\n",
    "import pandas as pd\n",
    "import datetime"
   ]
  },
  {
   "cell_type": "code",
   "execution_count": 248,
   "metadata": {},
   "outputs": [],
   "source": [
    "from adbrew_core.settings import db\n",
    "from adbrew_core.db import accessor\n",
    "from adbrew_core.utils import conversion_rates\n",
    "from adbrew_core.rule_engine import rule_engine_variables\n",
    "from adbrew_core.db import bid_management_task"
   ]
  },
  {
   "cell_type": "code",
   "execution_count": 177,
   "metadata": {},
   "outputs": [
    {
     "name": "stdout",
     "output_type": "stream",
     "text": [
      "269\r"
     ]
    }
   ],
   "source": [
    "accounts = {}\n",
    "unique_adgs = []\n",
    "\n",
    "idx = 0\n",
    "total_accounts = 300\n",
    "\n",
    "for account in db.account_details.find({\"active\":True, \"fetch_data\":True}):\n",
    "    record = db.report_records.aggregate([\n",
    "        {\n",
    "            \"$match\": {\n",
    "                \"account_id\": str(account[\"_id\"]),\n",
    "                \"dt\": {\n",
    "                    \"$gte\": datetime.datetime.now() - datetime.timedelta(days=381),\n",
    "                    \"$lte\": datetime.datetime.now()\n",
    "                },\n",
    "                \"record_type\":\"keywords\",\n",
    "                \"segment\":None,\n",
    "                \"campaign_type\":\"sp\"\n",
    "            }\n",
    "        },\n",
    "        {\n",
    "            \"$group\": {\n",
    "                \"_id\": {\n",
    "                    \"accountId\":\"$account_id\",\n",
    "                    \"adGroupId\":\"$adGroupId\",\n",
    "                    \"campaignId\":\"$campaignId\",\n",
    "                    \"date\":\"$dt\"\n",
    "                }\n",
    "            }\n",
    "        }\n",
    "    ], allowDiskUse=True)\n",
    "    record = pd.DataFrame(record)\n",
    "    if record.empty:\n",
    "        continue\n",
    "    record[\"accountId\"] = record.apply(lambda x:x[\"_id\"][\"accountId\"], axis=1)\n",
    "    record[\"campaignId\"] = record.apply(lambda x:x[\"_id\"][\"campaignId\"], axis=1)\n",
    "    record[\"adGroupId\"] = record.apply(lambda x:x[\"_id\"][\"adGroupId\"], axis=1)\n",
    "    record[\"date\"] = record.apply(lambda x:x[\"_id\"][\"date\"], axis=1)\n",
    "    record.drop(columns=[\"_id\"], inplace=True)\n",
    "    if record.empty:\n",
    "        continue\n",
    "    unique_adgs += [record]\n",
    "    print(idx, end='\\r', flush=True)\n",
    "    idx+=1\n",
    "    if idx==total_accounts:\n",
    "        break\n",
    "    \n",
    "unique_adgs = pd.concat(unique_adgs)\n"
   ]
  },
  {
   "cell_type": "code",
   "execution_count": 180,
   "metadata": {},
   "outputs": [],
   "source": [
    "df = pd.DataFrame(columns = [\"accoundID\",\"no_of_days\"])"
   ]
  },
  {
   "cell_type": "code",
   "execution_count": 203,
   "metadata": {},
   "outputs": [],
   "source": [
    "#unique_adgs[\"accountId\"].unique()"
   ]
  },
  {
   "cell_type": "code",
   "execution_count": 182,
   "metadata": {},
   "outputs": [],
   "source": [
    "unique_adgs.to_csv(\"all_account_date.csv\")"
   ]
  },
  {
   "cell_type": "code",
   "execution_count": 195,
   "metadata": {},
   "outputs": [],
   "source": [
    "df  =  pd.read_csv(\"all_account_date.csv\")"
   ]
  },
  {
   "cell_type": "code",
   "execution_count": 196,
   "metadata": {},
   "outputs": [],
   "source": [
    "df.drop(columns =  \"Unnamed: 0\",axis = 1,inplace = True)"
   ]
  },
  {
   "cell_type": "code",
   "execution_count": 197,
   "metadata": {},
   "outputs": [
    {
     "data": {
      "text/html": [
       "<div>\n",
       "<style scoped>\n",
       "    .dataframe tbody tr th:only-of-type {\n",
       "        vertical-align: middle;\n",
       "    }\n",
       "\n",
       "    .dataframe tbody tr th {\n",
       "        vertical-align: top;\n",
       "    }\n",
       "\n",
       "    .dataframe thead th {\n",
       "        text-align: right;\n",
       "    }\n",
       "</style>\n",
       "<table border=\"1\" class=\"dataframe\">\n",
       "  <thead>\n",
       "    <tr style=\"text-align: right;\">\n",
       "      <th></th>\n",
       "      <th>accountId</th>\n",
       "      <th>campaignId</th>\n",
       "      <th>adGroupId</th>\n",
       "      <th>date</th>\n",
       "    </tr>\n",
       "  </thead>\n",
       "  <tbody>\n",
       "    <tr>\n",
       "      <th>0</th>\n",
       "      <td>5ffdb895b08512986422b08c</td>\n",
       "      <td>63953084720638</td>\n",
       "      <td>205031194777134</td>\n",
       "      <td>2022-07-02</td>\n",
       "    </tr>\n",
       "    <tr>\n",
       "      <th>1</th>\n",
       "      <td>5ffdb895b08512986422b08c</td>\n",
       "      <td>53447402597745</td>\n",
       "      <td>83907262803345</td>\n",
       "      <td>2022-10-04</td>\n",
       "    </tr>\n",
       "    <tr>\n",
       "      <th>2</th>\n",
       "      <td>5ffdb895b08512986422b08c</td>\n",
       "      <td>244602722806295</td>\n",
       "      <td>232064376697851</td>\n",
       "      <td>2022-03-04</td>\n",
       "    </tr>\n",
       "    <tr>\n",
       "      <th>3</th>\n",
       "      <td>5ffdb895b08512986422b08c</td>\n",
       "      <td>15252806899425</td>\n",
       "      <td>149688287548263</td>\n",
       "      <td>2022-11-15</td>\n",
       "    </tr>\n",
       "    <tr>\n",
       "      <th>4</th>\n",
       "      <td>5ffdb895b08512986422b08c</td>\n",
       "      <td>116390676982095</td>\n",
       "      <td>151018566086404</td>\n",
       "      <td>2022-07-10</td>\n",
       "    </tr>\n",
       "    <tr>\n",
       "      <th>...</th>\n",
       "      <td>...</td>\n",
       "      <td>...</td>\n",
       "      <td>...</td>\n",
       "      <td>...</td>\n",
       "    </tr>\n",
       "    <tr>\n",
       "      <th>1168818</th>\n",
       "      <td>63cfc3cf726c7a0b80fdce39</td>\n",
       "      <td>75984766596650</td>\n",
       "      <td>124955822344976</td>\n",
       "      <td>2022-12-22</td>\n",
       "    </tr>\n",
       "    <tr>\n",
       "      <th>1168819</th>\n",
       "      <td>63cfc3cf726c7a0b80fdce39</td>\n",
       "      <td>75984766596650</td>\n",
       "      <td>124955822344976</td>\n",
       "      <td>2023-01-09</td>\n",
       "    </tr>\n",
       "    <tr>\n",
       "      <th>1168820</th>\n",
       "      <td>63cfc3cf726c7a0b80fdce39</td>\n",
       "      <td>75984766596650</td>\n",
       "      <td>124955822344976</td>\n",
       "      <td>2022-12-26</td>\n",
       "    </tr>\n",
       "    <tr>\n",
       "      <th>1168821</th>\n",
       "      <td>63cfc3cf726c7a0b80fdce39</td>\n",
       "      <td>75984766596650</td>\n",
       "      <td>124955822344976</td>\n",
       "      <td>2022-12-02</td>\n",
       "    </tr>\n",
       "    <tr>\n",
       "      <th>1168822</th>\n",
       "      <td>63cfc3cf726c7a0b80fdce39</td>\n",
       "      <td>75984766596650</td>\n",
       "      <td>124955822344976</td>\n",
       "      <td>2023-01-20</td>\n",
       "    </tr>\n",
       "  </tbody>\n",
       "</table>\n",
       "<p>1168823 rows × 4 columns</p>\n",
       "</div>"
      ],
      "text/plain": [
       "                        accountId       campaignId        adGroupId  \\\n",
       "0        5ffdb895b08512986422b08c   63953084720638  205031194777134   \n",
       "1        5ffdb895b08512986422b08c   53447402597745   83907262803345   \n",
       "2        5ffdb895b08512986422b08c  244602722806295  232064376697851   \n",
       "3        5ffdb895b08512986422b08c   15252806899425  149688287548263   \n",
       "4        5ffdb895b08512986422b08c  116390676982095  151018566086404   \n",
       "...                           ...              ...              ...   \n",
       "1168818  63cfc3cf726c7a0b80fdce39   75984766596650  124955822344976   \n",
       "1168819  63cfc3cf726c7a0b80fdce39   75984766596650  124955822344976   \n",
       "1168820  63cfc3cf726c7a0b80fdce39   75984766596650  124955822344976   \n",
       "1168821  63cfc3cf726c7a0b80fdce39   75984766596650  124955822344976   \n",
       "1168822  63cfc3cf726c7a0b80fdce39   75984766596650  124955822344976   \n",
       "\n",
       "               date  \n",
       "0        2022-07-02  \n",
       "1        2022-10-04  \n",
       "2        2022-03-04  \n",
       "3        2022-11-15  \n",
       "4        2022-07-10  \n",
       "...             ...  \n",
       "1168818  2022-12-22  \n",
       "1168819  2023-01-09  \n",
       "1168820  2022-12-26  \n",
       "1168821  2022-12-02  \n",
       "1168822  2023-01-20  \n",
       "\n",
       "[1168823 rows x 4 columns]"
      ]
     },
     "execution_count": 197,
     "metadata": {},
     "output_type": "execute_result"
    }
   ],
   "source": [
    "df"
   ]
  },
  {
   "cell_type": "code",
   "execution_count": 201,
   "metadata": {},
   "outputs": [
    {
     "data": {
      "text/plain": [
       "270"
      ]
     },
     "execution_count": 201,
     "metadata": {},
     "output_type": "execute_result"
    }
   ],
   "source": [
    "df['accountId'].nunique()"
   ]
  },
  {
   "cell_type": "code",
   "execution_count": 208,
   "metadata": {},
   "outputs": [
    {
     "data": {
      "text/plain": [
       "51"
      ]
     },
     "execution_count": 208,
     "metadata": {},
     "output_type": "execute_result"
    }
   ],
   "source": [
    "df[df['accountId']==\"63cfc3cf726c7a0b80fdce39\"]['date'].nunique()"
   ]
  },
  {
   "cell_type": "code",
   "execution_count": 211,
   "metadata": {},
   "outputs": [],
   "source": [
    "dic = {\"ac_Id\":[],\"no_of_days\":[]}"
   ]
  },
  {
   "cell_type": "code",
   "execution_count": 213,
   "metadata": {},
   "outputs": [],
   "source": [
    "for  i in df['accountId'].unique():\n",
    "    a = df[df['accountId']==i]['date'].nunique()\n",
    "    dic[\"ac_Id\"].append(i)\n",
    "    dic['no_of_days'].append(a)"
   ]
  },
  {
   "cell_type": "code",
   "execution_count": 216,
   "metadata": {},
   "outputs": [],
   "source": [
    "df_days = pd.DataFrame(dic)"
   ]
  },
  {
   "cell_type": "code",
   "execution_count": 215,
   "metadata": {},
   "outputs": [],
   "source": [
    "# accounts having less than 350 days of data"
   ]
  },
  {
   "cell_type": "code",
   "execution_count": 220,
   "metadata": {},
   "outputs": [],
   "source": [
    "df_days.to_csv(\"df_days.csv\")"
   ]
  },
  {
   "cell_type": "code",
   "execution_count": 229,
   "metadata": {},
   "outputs": [
    {
     "data": {
      "text/html": [
       "<div>\n",
       "<style scoped>\n",
       "    .dataframe tbody tr th:only-of-type {\n",
       "        vertical-align: middle;\n",
       "    }\n",
       "\n",
       "    .dataframe tbody tr th {\n",
       "        vertical-align: top;\n",
       "    }\n",
       "\n",
       "    .dataframe thead th {\n",
       "        text-align: right;\n",
       "    }\n",
       "</style>\n",
       "<table border=\"1\" class=\"dataframe\">\n",
       "  <thead>\n",
       "    <tr style=\"text-align: right;\">\n",
       "      <th></th>\n",
       "      <th>ac_Id</th>\n",
       "      <th>no_of_days</th>\n",
       "    </tr>\n",
       "  </thead>\n",
       "  <tbody>\n",
       "    <tr>\n",
       "      <th>0</th>\n",
       "      <td>5ffdb895b08512986422b08c</td>\n",
       "      <td>365</td>\n",
       "    </tr>\n",
       "    <tr>\n",
       "      <th>1</th>\n",
       "      <td>6013fbaaaadf53eb56518f43</td>\n",
       "      <td>365</td>\n",
       "    </tr>\n",
       "    <tr>\n",
       "      <th>4</th>\n",
       "      <td>613b51d1565006d4e2b60924</td>\n",
       "      <td>365</td>\n",
       "    </tr>\n",
       "    <tr>\n",
       "      <th>5</th>\n",
       "      <td>615451dfe1e966fb58822ed6</td>\n",
       "      <td>365</td>\n",
       "    </tr>\n",
       "    <tr>\n",
       "      <th>6</th>\n",
       "      <td>61b3133728133e8d9e12b44a</td>\n",
       "      <td>365</td>\n",
       "    </tr>\n",
       "    <tr>\n",
       "      <th>7</th>\n",
       "      <td>61b7ea05aa9248e907a3a4fe</td>\n",
       "      <td>364</td>\n",
       "    </tr>\n",
       "    <tr>\n",
       "      <th>9</th>\n",
       "      <td>61b8929c7f1731fdf842d921</td>\n",
       "      <td>365</td>\n",
       "    </tr>\n",
       "    <tr>\n",
       "      <th>10</th>\n",
       "      <td>61e83a4740598119fc405f5f</td>\n",
       "      <td>365</td>\n",
       "    </tr>\n",
       "    <tr>\n",
       "      <th>12</th>\n",
       "      <td>61f7720e169a5b91c7df71d3</td>\n",
       "      <td>365</td>\n",
       "    </tr>\n",
       "    <tr>\n",
       "      <th>13</th>\n",
       "      <td>6215bded0e0c2c6c8cdff5c1</td>\n",
       "      <td>365</td>\n",
       "    </tr>\n",
       "    <tr>\n",
       "      <th>14</th>\n",
       "      <td>621e270ca49d1163c27d1f49</td>\n",
       "      <td>365</td>\n",
       "    </tr>\n",
       "    <tr>\n",
       "      <th>15</th>\n",
       "      <td>621f017b51283da3bc7d1f4c</td>\n",
       "      <td>364</td>\n",
       "    </tr>\n",
       "    <tr>\n",
       "      <th>16</th>\n",
       "      <td>621f1d9c67922326997d1f6a</td>\n",
       "      <td>344</td>\n",
       "    </tr>\n",
       "    <tr>\n",
       "      <th>17</th>\n",
       "      <td>62301d0a4388ed0eb0998a54</td>\n",
       "      <td>359</td>\n",
       "    </tr>\n",
       "    <tr>\n",
       "      <th>18</th>\n",
       "      <td>62301d3d2f79a2538b998a53</td>\n",
       "      <td>365</td>\n",
       "    </tr>\n",
       "    <tr>\n",
       "      <th>19</th>\n",
       "      <td>6230371963f4565d8b998a53</td>\n",
       "      <td>363</td>\n",
       "    </tr>\n",
       "    <tr>\n",
       "      <th>20</th>\n",
       "      <td>6235a30e5cfcdd57405aa343</td>\n",
       "      <td>364</td>\n",
       "    </tr>\n",
       "    <tr>\n",
       "      <th>21</th>\n",
       "      <td>623dda2d7c55e7180704dfca</td>\n",
       "      <td>360</td>\n",
       "    </tr>\n",
       "    <tr>\n",
       "      <th>22</th>\n",
       "      <td>623dda6df77df1d4d204dfc9</td>\n",
       "      <td>356</td>\n",
       "    </tr>\n",
       "    <tr>\n",
       "      <th>23</th>\n",
       "      <td>6261426cc1024ef2d95110c3</td>\n",
       "      <td>333</td>\n",
       "    </tr>\n",
       "    <tr>\n",
       "      <th>25</th>\n",
       "      <td>6263acc5367e283277f9a0ef</td>\n",
       "      <td>335</td>\n",
       "    </tr>\n",
       "  </tbody>\n",
       "</table>\n",
       "</div>"
      ],
      "text/plain": [
       "                       ac_Id  no_of_days\n",
       "0   5ffdb895b08512986422b08c         365\n",
       "1   6013fbaaaadf53eb56518f43         365\n",
       "4   613b51d1565006d4e2b60924         365\n",
       "5   615451dfe1e966fb58822ed6         365\n",
       "6   61b3133728133e8d9e12b44a         365\n",
       "7   61b7ea05aa9248e907a3a4fe         364\n",
       "9   61b8929c7f1731fdf842d921         365\n",
       "10  61e83a4740598119fc405f5f         365\n",
       "12  61f7720e169a5b91c7df71d3         365\n",
       "13  6215bded0e0c2c6c8cdff5c1         365\n",
       "14  621e270ca49d1163c27d1f49         365\n",
       "15  621f017b51283da3bc7d1f4c         364\n",
       "16  621f1d9c67922326997d1f6a         344\n",
       "17  62301d0a4388ed0eb0998a54         359\n",
       "18  62301d3d2f79a2538b998a53         365\n",
       "19  6230371963f4565d8b998a53         363\n",
       "20  6235a30e5cfcdd57405aa343         364\n",
       "21  623dda2d7c55e7180704dfca         360\n",
       "22  623dda6df77df1d4d204dfc9         356\n",
       "23  6261426cc1024ef2d95110c3         333\n",
       "25  6263acc5367e283277f9a0ef         335"
      ]
     },
     "execution_count": 229,
     "metadata": {},
     "output_type": "execute_result"
    }
   ],
   "source": [
    "df_days[df_days['no_of_days']>330]"
   ]
  },
  {
   "cell_type": "code",
   "execution_count": 239,
   "metadata": {},
   "outputs": [
    {
     "name": "stderr",
     "output_type": "stream",
     "text": [
      "<ipython-input-239-321c6c1c5e64>:1: DeprecationWarning: count is deprecated. Use estimated_document_count or count_documents instead. Please note that $where must be replaced by $expr, $near must be replaced by $geoWithin with $center, and $nearSphere must be replaced by $geoWithin with $centerSphere\n",
      "  db.account_details.count()\n"
     ]
    },
    {
     "data": {
      "text/plain": [
       "720"
      ]
     },
     "execution_count": 239,
     "metadata": {},
     "output_type": "execute_result"
    }
   ],
   "source": [
    "db.account_details.count()"
   ]
  },
  {
   "cell_type": "code",
   "execution_count": 249,
   "metadata": {},
   "outputs": [
    {
     "name": "stdout",
     "output_type": "stream",
     "text": [
      "389\r"
     ]
    }
   ],
   "source": [
    "accounts = {}\n",
    "unique_adgs = []\n",
    "\n",
    "idx = 0\n",
    "total_accounts = 800\n",
    "\n",
    "for account in db.account_details.find():\n",
    "    record = db.report_records.aggregate([\n",
    "        {\n",
    "            \"$match\": {\n",
    "                \"account_id\": str(account[\"_id\"]),\n",
    "                \"dt\": {\n",
    "                    \"$gte\": datetime.datetime.now() - datetime.timedelta(days=381),\n",
    "                    \"$lte\": datetime.datetime.now()\n",
    "                },\n",
    "                \"record_type\":\"keywords\",\n",
    "                \"segment\":None,\n",
    "                \"campaign_type\":\"sp\"\n",
    "            }\n",
    "        },\n",
    "        {\n",
    "            \"$group\": {\n",
    "                \"_id\": {\n",
    "                    \"accountId\":\"$account_id\",\n",
    "                    \"adGroupId\":\"$adGroupId\",\n",
    "                    \"campaignId\":\"$campaignId\",\n",
    "                    \"date\":\"$dt\"\n",
    "                }\n",
    "            }\n",
    "        }\n",
    "    ], allowDiskUse=True)\n",
    "    record = pd.DataFrame(record)\n",
    "    if record.empty:\n",
    "        continue\n",
    "    record[\"accountId\"] = record.apply(lambda x:x[\"_id\"][\"accountId\"], axis=1)\n",
    "    record[\"campaignId\"] = record.apply(lambda x:x[\"_id\"][\"campaignId\"], axis=1)\n",
    "    record[\"adGroupId\"] = record.apply(lambda x:x[\"_id\"][\"adGroupId\"], axis=1)\n",
    "    record[\"date\"] = record.apply(lambda x:x[\"_id\"][\"date\"], axis=1)\n",
    "    record.drop(columns=[\"_id\"], inplace=True)\n",
    "    if record.empty:\n",
    "        continue\n",
    "    unique_adgs += [record]\n",
    "    print(idx, end='\\r', flush=True)\n",
    "    idx+=1\n",
    "    if idx==total_accounts:\n",
    "        break\n",
    "    \n",
    "unique_adgs = pd.concat(unique_adgs)\n"
   ]
  },
  {
   "cell_type": "code",
   "execution_count": 250,
   "metadata": {},
   "outputs": [
    {
     "name": "stdout",
     "output_type": "stream",
     "text": [
      "716\r"
     ]
    }
   ],
   "source": [
    "accounts = {}\n",
    "unique_adgs = []\n",
    "\n",
    "idx = 0\n",
    "total_accounts = 800\n",
    "\n",
    "for account in db.account_details.find():\n",
    "    record = db.report_records.aggregate([\n",
    "        {\n",
    "            \"$match\": {\n",
    "                \"account_id\": str(account[\"_id\"]),\n",
    "                \"dt\": {\n",
    "                    \"$gte\": datetime.datetime.now() - datetime.timedelta(days=381),\n",
    "                    \"$lte\": datetime.datetime.now()\n",
    "                },\n",
    "                \"record_type\":\"keywords\",\n",
    "                \"segment\":None,\n",
    "                \"campaign_type\":\"sp\"\n",
    "            }\n",
    "        },\n",
    "        {\n",
    "            \"$group\": {\n",
    "                \"_id\": {\n",
    "                    \"accountId\":\"$account_id\",\n",
    "                    \"adGroupId\":\"$adGroupId\",\n",
    "                    \"campaignId\":\"$campaignId\",\n",
    "                    \"date\":\"$dt\"\n",
    "                }\n",
    "            }\n",
    "        }\n",
    "    ], allowDiskUse=True)\n",
    "    record = pd.DataFrame(record)\n",
    "    if record.empty:\n",
    "        idx+=1\n",
    "        continue\n",
    "    record[\"accountId\"] = record.apply(lambda x:x[\"_id\"][\"accountId\"], axis=1)\n",
    "    record[\"campaignId\"] = record.apply(lambda x:x[\"_id\"][\"campaignId\"], axis=1)\n",
    "    record[\"adGroupId\"] = record.apply(lambda x:x[\"_id\"][\"adGroupId\"], axis=1)\n",
    "    record[\"date\"] = record.apply(lambda x:x[\"_id\"][\"date\"], axis=1)\n",
    "    record.drop(columns=[\"_id\"], inplace=True)\n",
    "    if record.empty:\n",
    "        idx+=1\n",
    "        continue\n",
    "    unique_adgs += [record]\n",
    "    print(idx, end='\\r', flush=True)\n",
    "    idx+=1\n",
    "    if idx==total_accounts:\n",
    "        break\n",
    "    \n",
    "unique_adgs = pd.concat(unique_adgs)\n"
   ]
  },
  {
   "cell_type": "code",
   "execution_count": 252,
   "metadata": {},
   "outputs": [
    {
     "name": "stdout",
     "output_type": "stream",
     "text": [
      "292\r"
     ]
    }
   ],
   "source": [
    "accounts_active = {}\n",
    "unique_adgs_active = []\n",
    "\n",
    "idx = 0\n",
    "total_accounts = 800\n",
    "\n",
    "for account in db.account_details.find({\"active\":True, \"fetch_data\":True}):\n",
    "    record = db.report_records.aggregate([\n",
    "        {\n",
    "            \"$match\": {\n",
    "                \"account_id\": str(account[\"_id\"]),\n",
    "                \"dt\": {\n",
    "                    \"$gte\": datetime.datetime.now() - datetime.timedelta(days=381),\n",
    "                    \"$lte\": datetime.datetime.now()\n",
    "                },\n",
    "                \"record_type\":\"keywords\",\n",
    "                \"segment\":None,\n",
    "                \"campaign_type\":\"sp\"\n",
    "            }\n",
    "        },\n",
    "        {\n",
    "            \"$group\": {\n",
    "                \"_id\": {\n",
    "                    \"accountId\":\"$account_id\",\n",
    "                    \"adGroupId\":\"$adGroupId\",\n",
    "                    \"campaignId\":\"$campaignId\",\n",
    "                    \"date\":\"$dt\"\n",
    "                }\n",
    "            }\n",
    "        }\n",
    "    ], allowDiskUse=True)\n",
    "    record = pd.DataFrame(record)\n",
    "    if record.empty:\n",
    "        idx+=1\n",
    "        continue\n",
    "    record[\"accountId\"] = record.apply(lambda x:x[\"_id\"][\"accountId\"], axis=1)\n",
    "    record[\"campaignId\"] = record.apply(lambda x:x[\"_id\"][\"campaignId\"], axis=1)\n",
    "    record[\"adGroupId\"] = record.apply(lambda x:x[\"_id\"][\"adGroupId\"], axis=1)\n",
    "    record[\"date\"] = record.apply(lambda x:x[\"_id\"][\"date\"], axis=1)\n",
    "    record.drop(columns=[\"_id\"], inplace=True)\n",
    "    if record.empty:\n",
    "        idx+=1\n",
    "        continue\n",
    "    unique_adgs_active += [record]\n",
    "    print(idx, end='\\r', flush=True)\n",
    "    idx+=1\n",
    "    if idx==total_accounts:\n",
    "        break\n",
    "    \n",
    "unique_adgs_active = pd.concat(unique_adgs_active)"
   ]
  },
  {
   "cell_type": "code",
   "execution_count": 262,
   "metadata": {},
   "outputs": [],
   "source": [
    "df = pd.read_csv(\"all_account_with_date_active.csv\")"
   ]
  },
  {
   "cell_type": "code",
   "execution_count": 264,
   "metadata": {},
   "outputs": [],
   "source": [
    "df.drop(columns = \"Unnamed: 0\",inplace = True)"
   ]
  },
  {
   "cell_type": "code",
   "execution_count": 265,
   "metadata": {},
   "outputs": [
    {
     "data": {
      "text/html": [
       "<div>\n",
       "<style scoped>\n",
       "    .dataframe tbody tr th:only-of-type {\n",
       "        vertical-align: middle;\n",
       "    }\n",
       "\n",
       "    .dataframe tbody tr th {\n",
       "        vertical-align: top;\n",
       "    }\n",
       "\n",
       "    .dataframe thead th {\n",
       "        text-align: right;\n",
       "    }\n",
       "</style>\n",
       "<table border=\"1\" class=\"dataframe\">\n",
       "  <thead>\n",
       "    <tr style=\"text-align: right;\">\n",
       "      <th></th>\n",
       "      <th>accountId</th>\n",
       "      <th>campaignId</th>\n",
       "      <th>adGroupId</th>\n",
       "      <th>date</th>\n",
       "    </tr>\n",
       "  </thead>\n",
       "  <tbody>\n",
       "    <tr>\n",
       "      <th>0</th>\n",
       "      <td>5ffdb895b08512986422b08c</td>\n",
       "      <td>30363257828591</td>\n",
       "      <td>124538790368366</td>\n",
       "      <td>2022-04-18</td>\n",
       "    </tr>\n",
       "    <tr>\n",
       "      <th>1</th>\n",
       "      <td>5ffdb895b08512986422b08c</td>\n",
       "      <td>39985714646333</td>\n",
       "      <td>86657809587279</td>\n",
       "      <td>2022-09-16</td>\n",
       "    </tr>\n",
       "    <tr>\n",
       "      <th>2</th>\n",
       "      <td>5ffdb895b08512986422b08c</td>\n",
       "      <td>143147470302164</td>\n",
       "      <td>115183069812422</td>\n",
       "      <td>2022-09-10</td>\n",
       "    </tr>\n",
       "    <tr>\n",
       "      <th>3</th>\n",
       "      <td>5ffdb895b08512986422b08c</td>\n",
       "      <td>228670193375695</td>\n",
       "      <td>39077164361910</td>\n",
       "      <td>2022-06-12</td>\n",
       "    </tr>\n",
       "    <tr>\n",
       "      <th>4</th>\n",
       "      <td>5ffdb895b08512986422b08c</td>\n",
       "      <td>132363851972316</td>\n",
       "      <td>116909827642428</td>\n",
       "      <td>2022-08-22</td>\n",
       "    </tr>\n",
       "  </tbody>\n",
       "</table>\n",
       "</div>"
      ],
      "text/plain": [
       "                  accountId       campaignId        adGroupId        date\n",
       "0  5ffdb895b08512986422b08c   30363257828591  124538790368366  2022-04-18\n",
       "1  5ffdb895b08512986422b08c   39985714646333   86657809587279  2022-09-16\n",
       "2  5ffdb895b08512986422b08c  143147470302164  115183069812422  2022-09-10\n",
       "3  5ffdb895b08512986422b08c  228670193375695   39077164361910  2022-06-12\n",
       "4  5ffdb895b08512986422b08c  132363851972316  116909827642428  2022-08-22"
      ]
     },
     "execution_count": 265,
     "metadata": {},
     "output_type": "execute_result"
    }
   ],
   "source": [
    "df.head()"
   ]
  },
  {
   "cell_type": "code",
   "execution_count": 267,
   "metadata": {},
   "outputs": [],
   "source": [
    "dic_for_active = {\"Id\":[],'no_of_days':[]}"
   ]
  },
  {
   "cell_type": "code",
   "execution_count": 268,
   "metadata": {},
   "outputs": [],
   "source": [
    "for  i in df['accountId'].unique():\n",
    "    a = df[df['accountId']==i]['date'].nunique()\n",
    "    dic_for_active[\"Id\"].append(i)\n",
    "    dic_for_active['no_of_days'].append(a)"
   ]
  },
  {
   "cell_type": "code",
   "execution_count": 272,
   "metadata": {},
   "outputs": [],
   "source": [
    "df_days_active = pd.DataFrame(dic_for_active)"
   ]
  },
  {
   "cell_type": "code",
   "execution_count": 273,
   "metadata": {},
   "outputs": [],
   "source": [
    "df_days_active.to_csv(\"df_days_active.csv\")"
   ]
  },
  {
   "cell_type": "code",
   "execution_count": 274,
   "metadata": {},
   "outputs": [
    {
     "data": {
      "text/html": [
       "<div>\n",
       "<style scoped>\n",
       "    .dataframe tbody tr th:only-of-type {\n",
       "        vertical-align: middle;\n",
       "    }\n",
       "\n",
       "    .dataframe tbody tr th {\n",
       "        vertical-align: top;\n",
       "    }\n",
       "\n",
       "    .dataframe thead th {\n",
       "        text-align: right;\n",
       "    }\n",
       "</style>\n",
       "<table border=\"1\" class=\"dataframe\">\n",
       "  <thead>\n",
       "    <tr style=\"text-align: right;\">\n",
       "      <th></th>\n",
       "      <th>Unnamed: 0</th>\n",
       "      <th>Id</th>\n",
       "      <th>no_of_days</th>\n",
       "    </tr>\n",
       "  </thead>\n",
       "  <tbody>\n",
       "    <tr>\n",
       "      <th>0</th>\n",
       "      <td>0</td>\n",
       "      <td>5ffdb895b08512986422b08c</td>\n",
       "      <td>365</td>\n",
       "    </tr>\n",
       "    <tr>\n",
       "      <th>1</th>\n",
       "      <td>1</td>\n",
       "      <td>6013fbaaaadf53eb56518f43</td>\n",
       "      <td>365</td>\n",
       "    </tr>\n",
       "    <tr>\n",
       "      <th>2</th>\n",
       "      <td>2</td>\n",
       "      <td>612e3e3936240d16135f1944</td>\n",
       "      <td>252</td>\n",
       "    </tr>\n",
       "    <tr>\n",
       "      <th>3</th>\n",
       "      <td>3</td>\n",
       "      <td>613b4e3416cb8c3ddcb60925</td>\n",
       "      <td>52</td>\n",
       "    </tr>\n",
       "    <tr>\n",
       "      <th>4</th>\n",
       "      <td>4</td>\n",
       "      <td>613b51d1565006d4e2b60924</td>\n",
       "      <td>365</td>\n",
       "    </tr>\n",
       "    <tr>\n",
       "      <th>...</th>\n",
       "      <td>...</td>\n",
       "      <td>...</td>\n",
       "      <td>...</td>\n",
       "    </tr>\n",
       "    <tr>\n",
       "      <th>265</th>\n",
       "      <td>265</td>\n",
       "      <td>63ca9d9e543578e72cbaab90</td>\n",
       "      <td>57</td>\n",
       "    </tr>\n",
       "    <tr>\n",
       "      <th>266</th>\n",
       "      <td>266</td>\n",
       "      <td>63cb891adab9c845ba47c740</td>\n",
       "      <td>65</td>\n",
       "    </tr>\n",
       "    <tr>\n",
       "      <th>267</th>\n",
       "      <td>267</td>\n",
       "      <td>63cb9627dab9c845ba47c741</td>\n",
       "      <td>65</td>\n",
       "    </tr>\n",
       "    <tr>\n",
       "      <th>268</th>\n",
       "      <td>268</td>\n",
       "      <td>63ce34e69b66eadd5cfdce2e</td>\n",
       "      <td>63</td>\n",
       "    </tr>\n",
       "    <tr>\n",
       "      <th>269</th>\n",
       "      <td>269</td>\n",
       "      <td>63cfc3cf726c7a0b80fdce39</td>\n",
       "      <td>51</td>\n",
       "    </tr>\n",
       "  </tbody>\n",
       "</table>\n",
       "<p>270 rows × 3 columns</p>\n",
       "</div>"
      ],
      "text/plain": [
       "     Unnamed: 0                        Id  no_of_days\n",
       "0             0  5ffdb895b08512986422b08c         365\n",
       "1             1  6013fbaaaadf53eb56518f43         365\n",
       "2             2  612e3e3936240d16135f1944         252\n",
       "3             3  613b4e3416cb8c3ddcb60925          52\n",
       "4             4  613b51d1565006d4e2b60924         365\n",
       "..          ...                       ...         ...\n",
       "265         265  63ca9d9e543578e72cbaab90          57\n",
       "266         266  63cb891adab9c845ba47c740          65\n",
       "267         267  63cb9627dab9c845ba47c741          65\n",
       "268         268  63ce34e69b66eadd5cfdce2e          63\n",
       "269         269  63cfc3cf726c7a0b80fdce39          51\n",
       "\n",
       "[270 rows x 3 columns]"
      ]
     },
     "execution_count": 274,
     "metadata": {},
     "output_type": "execute_result"
    }
   ],
   "source": [
    "pd.read_csv(\"df_days_active.csv\")"
   ]
  },
  {
   "cell_type": "code",
   "execution_count": 276,
   "metadata": {},
   "outputs": [
    {
     "data": {
      "text/html": [
       "<div>\n",
       "<style scoped>\n",
       "    .dataframe tbody tr th:only-of-type {\n",
       "        vertical-align: middle;\n",
       "    }\n",
       "\n",
       "    .dataframe tbody tr th {\n",
       "        vertical-align: top;\n",
       "    }\n",
       "\n",
       "    .dataframe thead th {\n",
       "        text-align: right;\n",
       "    }\n",
       "</style>\n",
       "<table border=\"1\" class=\"dataframe\">\n",
       "  <thead>\n",
       "    <tr style=\"text-align: right;\">\n",
       "      <th></th>\n",
       "      <th>Id</th>\n",
       "      <th>no_of_days</th>\n",
       "    </tr>\n",
       "  </thead>\n",
       "  <tbody>\n",
       "    <tr>\n",
       "      <th>0</th>\n",
       "      <td>5ffdb895b08512986422b08c</td>\n",
       "      <td>365</td>\n",
       "    </tr>\n",
       "    <tr>\n",
       "      <th>1</th>\n",
       "      <td>6013fbaaaadf53eb56518f43</td>\n",
       "      <td>365</td>\n",
       "    </tr>\n",
       "    <tr>\n",
       "      <th>4</th>\n",
       "      <td>613b51d1565006d4e2b60924</td>\n",
       "      <td>365</td>\n",
       "    </tr>\n",
       "    <tr>\n",
       "      <th>5</th>\n",
       "      <td>615451dfe1e966fb58822ed6</td>\n",
       "      <td>365</td>\n",
       "    </tr>\n",
       "    <tr>\n",
       "      <th>6</th>\n",
       "      <td>61b3133728133e8d9e12b44a</td>\n",
       "      <td>365</td>\n",
       "    </tr>\n",
       "    <tr>\n",
       "      <th>9</th>\n",
       "      <td>61b8929c7f1731fdf842d921</td>\n",
       "      <td>365</td>\n",
       "    </tr>\n",
       "    <tr>\n",
       "      <th>10</th>\n",
       "      <td>61e83a4740598119fc405f5f</td>\n",
       "      <td>365</td>\n",
       "    </tr>\n",
       "    <tr>\n",
       "      <th>12</th>\n",
       "      <td>61f7720e169a5b91c7df71d3</td>\n",
       "      <td>365</td>\n",
       "    </tr>\n",
       "    <tr>\n",
       "      <th>13</th>\n",
       "      <td>6215bded0e0c2c6c8cdff5c1</td>\n",
       "      <td>365</td>\n",
       "    </tr>\n",
       "    <tr>\n",
       "      <th>14</th>\n",
       "      <td>621e270ca49d1163c27d1f49</td>\n",
       "      <td>365</td>\n",
       "    </tr>\n",
       "    <tr>\n",
       "      <th>18</th>\n",
       "      <td>62301d3d2f79a2538b998a53</td>\n",
       "      <td>365</td>\n",
       "    </tr>\n",
       "  </tbody>\n",
       "</table>\n",
       "</div>"
      ],
      "text/plain": [
       "                          Id  no_of_days\n",
       "0   5ffdb895b08512986422b08c         365\n",
       "1   6013fbaaaadf53eb56518f43         365\n",
       "4   613b51d1565006d4e2b60924         365\n",
       "5   615451dfe1e966fb58822ed6         365\n",
       "6   61b3133728133e8d9e12b44a         365\n",
       "9   61b8929c7f1731fdf842d921         365\n",
       "10  61e83a4740598119fc405f5f         365\n",
       "12  61f7720e169a5b91c7df71d3         365\n",
       "13  6215bded0e0c2c6c8cdff5c1         365\n",
       "14  621e270ca49d1163c27d1f49         365\n",
       "18  62301d3d2f79a2538b998a53         365"
      ]
     },
     "execution_count": 276,
     "metadata": {},
     "output_type": "execute_result"
    }
   ],
   "source": [
    "df_days_active[df_days_active['no_of_days'] == 365]"
   ]
  },
  {
   "cell_type": "code",
   "execution_count": 280,
   "metadata": {},
   "outputs": [
    {
     "data": {
      "text/plain": [
       "21"
      ]
     },
     "execution_count": 280,
     "metadata": {},
     "output_type": "execute_result"
    }
   ],
   "source": [
    "df_days_active[df_days_active['no_of_days'] >329]['Id'].nunique()"
   ]
  },
  {
   "cell_type": "code",
   "execution_count": null,
   "metadata": {},
   "outputs": [],
   "source": []
  }
 ],
 "metadata": {
  "kernelspec": {
   "display_name": "Python 3",
   "language": "python",
   "name": "python3"
  },
  "language_info": {
   "codemirror_mode": {
    "name": "ipython",
    "version": 3
   },
   "file_extension": ".py",
   "mimetype": "text/x-python",
   "name": "python",
   "nbconvert_exporter": "python",
   "pygments_lexer": "ipython3",
   "version": "3.8.16"
  }
 },
 "nbformat": 4,
 "nbformat_minor": 4
}
