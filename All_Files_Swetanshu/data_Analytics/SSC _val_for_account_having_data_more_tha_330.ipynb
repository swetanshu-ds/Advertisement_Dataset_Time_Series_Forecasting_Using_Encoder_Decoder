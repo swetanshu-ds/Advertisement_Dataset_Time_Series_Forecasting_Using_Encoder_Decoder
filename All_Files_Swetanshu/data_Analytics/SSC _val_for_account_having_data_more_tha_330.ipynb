{
 "cells": [
  {
   "cell_type": "markdown",
   "metadata": {},
   "source": [
    "# Import dependencies"
   ]
  },
  {
   "cell_type": "code",
   "execution_count": 81,
   "metadata": {},
   "outputs": [],
   "source": [
    "import numpy as np\n",
    "import pandas as pd\n",
    "import datetime\n",
    "import matplotlib.pyplot as plt\n",
    "import seaborn as sns"
   ]
  },
  {
   "cell_type": "code",
   "execution_count": 42,
   "metadata": {},
   "outputs": [],
   "source": [
    "from adbrew_core.settings import db\n",
    "from adbrew_core.db import accessor\n",
    "from adbrew_core.utils import conversion_rates\n",
    "from adbrew_core.rule_engine import rule_engine_variables\n",
    "from adbrew_core.db import bid_management_task"
   ]
  },
  {
   "cell_type": "code",
   "execution_count": 4,
   "metadata": {},
   "outputs": [
    {
     "name": "stdout",
     "output_type": "stream",
     "text": [
      "249\r"
     ]
    }
   ],
   "source": [
    "accounts = {}\n",
    "unique_adgs = []\n",
    "\n",
    "idx = 0\n",
    "total_accounts = 300\n",
    "\n",
    "for account in db.account_details.find({\"active\":True, \"fetch_data\":True}):\n",
    "    \n",
    "    record = db.report_records.aggregate([\n",
    "        {\n",
    "            \"$match\": {\n",
    "                \"account_id\": str(account[\"_id\"]),\n",
    "                \"dt\": {\n",
    "                    \"$gte\": datetime.datetime.now() - datetime.timedelta(days=45),\n",
    "                    \"$lte\": datetime.datetime.now()\n",
    "                },\n",
    "                \"record_type\":\"keywords\",\n",
    "                \"segment\":None,\n",
    "                \"campaign_type\":\"sp\"\n",
    "            }\n",
    "        },\n",
    "        {\n",
    "            \"$group\": {\n",
    "                \"_id\": {\n",
    "                    \"accountId\":\"$account_id\",\n",
    "                    \"adGroupId\":\"$adGroupId\",\n",
    "                    \"campaignId\":\"$campaignId\",\n",
    "                }\n",
    "            }\n",
    "        }\n",
    "    ], allowDiskUse=True)\n",
    "    record = pd.DataFrame(record)\n",
    "    if record.empty:\n",
    "        continue\n",
    "    record[\"accountId\"] = record.apply(lambda x:x[\"_id\"][\"accountId\"], axis=1)\n",
    "    record[\"campaignId\"] = record.apply(lambda x:x[\"_id\"][\"campaignId\"], axis=1)\n",
    "    record[\"adGroupId\"] = record.apply(lambda x:x[\"_id\"][\"adGroupId\"], axis=1)\n",
    "    record.drop(columns=[\"_id\"], inplace=True)\n",
    "    if record.empty:\n",
    "        continue\n",
    "    unique_adgs += [record]\n",
    "    print(idx, end='\\r', flush=True)\n",
    "    idx+=1\n",
    "    if idx==total_accounts:\n",
    "        break\n",
    "    \n",
    "unique_adgs = pd.concat(unique_adgs)\n",
    "for idx in range(len(unique_adgs)):\n",
    "    record = unique_adgs.iloc[idx:idx+1].reset_index(drop=True)\n",
    "    account_id = record[\"accountId\"][0]\n",
    "    campaign_id = record[\"campaignId\"][0]\n",
    "    adgroup_id = record[\"adGroupId\"][0]\n",
    "    if account_id not in accounts:\n",
    "        accounts[account_id] = {campaign_id:[adgroup_id]}\n",
    "    elif campaign_id not in accounts[account_id]:\n",
    "        accounts[account_id][campaign_id] = [adgroup_id]\n",
    "    else:\n",
    "        accounts[account_id][campaign_id] += [adgroup_id]\n",
    "\n",
    "# import pprint\n",
    "# pprint.pprint(accounts)"
   ]
  },
  {
   "cell_type": "code",
   "execution_count": 43,
   "metadata": {},
   "outputs": [],
   "source": [
    "df = pd.read_csv(\"df_days_active.csv\")"
   ]
  },
  {
   "cell_type": "code",
   "execution_count": 44,
   "metadata": {},
   "outputs": [],
   "source": [
    "list1  = df[df['no_of_days']>329]['Id']"
   ]
  },
  {
   "cell_type": "code",
   "execution_count": 45,
   "metadata": {},
   "outputs": [],
   "source": [
    "a = list(list1)"
   ]
  },
  {
   "cell_type": "code",
   "execution_count": 46,
   "metadata": {},
   "outputs": [
    {
     "data": {
      "text/plain": [
       "21"
      ]
     },
     "execution_count": 46,
     "metadata": {},
     "output_type": "execute_result"
    }
   ],
   "source": [
    "len(a)"
   ]
  },
  {
   "cell_type": "code",
   "execution_count": 47,
   "metadata": {},
   "outputs": [],
   "source": [
    "dic = {}\n",
    "for i in a:\n",
    "    dic[i] = accounts[i]"
   ]
  },
  {
   "cell_type": "code",
   "execution_count": 48,
   "metadata": {},
   "outputs": [],
   "source": [
    "accounts = dic"
   ]
  },
  {
   "cell_type": "code",
   "execution_count": 35,
   "metadata": {},
   "outputs": [],
   "source": [
    "only_asin_ppc=True \n",
    "threshold=30\n",
    "cvr_threshold=40\n",
    "use_lookback_dict=False\n",
    "lookback_dict=None"
   ]
  },
  {
   "cell_type": "code",
   "execution_count": 50,
   "metadata": {},
   "outputs": [],
   "source": [
    "ssc_calc_lookback = 180\n",
    "campaign_type = \"sp\"\n",
    "\n",
    "adgroup_ssc = {}\n",
    "adgroup_source = {}\n",
    "\n",
    "class Context:\n",
    "    def __init__(self, overall_cr):\n",
    "        self.overall_cr = overall_cr\n",
    "\n",
    "idx = 0\n",
    "cr_sources = {}\n",
    "\n",
    "for account, campaigns in accounts.items():\n",
    "    for campaign, adgroups in campaigns.items():\n",
    "        for adgroup in adgroups:\n",
    "\n",
    "            # 1. get 14 day data of keywords and targets\n",
    "\n",
    "            keyword_data = accessor.get_targeting_report(account, campaign, adgroup, 45, campaign_type, \"keywords\")\n",
    "            # targets_data = accessor.get_targeting_report(account, campaign, adgroup, lookback_days, campaign_type, \"targets\")\n",
    "            if keyword_data[\"clicks\"].sum() == 0:\n",
    "                idx += 1\n",
    "                continue\n",
    "            keyword_data = keyword_data.loc[keyword_data[\"clicks\"]>0]\n",
    "\n",
    "            # 2. Calculate SSC of adgroup\n",
    "            # 2.1 Get Products in Adgroup\n",
    "\n",
    "            task = bid_management_task.BidManagementTask.from_attributes(account, 0, campaign, adgroup, \"sp\", 0, True)\n",
    "            asins = task.get_adv_asins()\n",
    "\n",
    "            # 2.2 Get CR for ADG\n",
    "\n",
    "            overall_cr, cr_source = conversion_rates.get_overall_conversion_rate_for_asins_daywise(account, asins, ssc_calc_lookback, threshold, cvr_threshold)\n",
    "            if overall_cr is None:\n",
    "                idx += 1\n",
    "                continue\n",
    "            overall_cr/=100.0\n",
    "\n",
    "            if only_asin_ppc:\n",
    "                if cr_source != \"ASIN_PPC\":\n",
    "                    continue\n",
    "\n",
    "            if cr_source not in cr_sources:\n",
    "                cr_sources[cr_source] = 1\n",
    "            else:\n",
    "                cr_sources[cr_source] += 1\n",
    "\n",
    "            # 2.3 Get SSC for ADG\n",
    "\n",
    "            REVC = rule_engine_variables.RuleEngineVariableComputer()\n",
    "            context = Context(overall_cr)\n",
    "            account = str(account)\n",
    "            campaign = str(campaign)\n",
    "            adgroup = str(adgroup)\n",
    "            adgroups_ssc_adg = REVC.statistically_significant_clicks(context, keyword_data)\n",
    "\n",
    "            if account not in adgroup_ssc:\n",
    "                adgroup_ssc[account] = {campaign:{adgroup:adgroups_ssc_adg}}\n",
    "                adgroup_source[account] = {campaign:{adgroup:cr_source}}\n",
    "            elif campaign not in adgroup_ssc:\n",
    "                adgroup_ssc[account][campaign] = {adgroup:adgroups_ssc_adg}\n",
    "                adgroup_source[account][campaign] = {adgroup:cr_source}\n",
    "            elif adgroup not in adgroup_ssc:\n",
    "                adgroup_ssc[account][campaign][adgroup] = adgroups_ssc_adg\n",
    "                adgroup_source[account][campaign][adgroup] = cr_source\n",
    "\n",
    "\n",
    "import json\n",
    "with open(\"ssc_180_accounts.json\", \"w\") as outfile:\n",
    "    json.dump(adgroup_ssc, outfile)\n",
    "\n",
    "with open(\"cr_sources_180_accounts.json\", \"w\") as outfile:\n",
    "    json.dump(adgroup_source, outfile)\n",
    "\n",
    "cr_sources_df = pd.DataFrame(columns=[\"source\", \"count\"])\n",
    "for source, count in cr_sources.items():\n",
    "    cr_sources_df.loc[len(cr_sources_df)] = [source, count]\n"
   ]
  },
  {
   "cell_type": "code",
   "execution_count": 146,
   "metadata": {},
   "outputs": [],
   "source": [
    "import json\n",
    "load = open(\"ssc_365_accounts.json\")\n",
    "ssc_365 = json.load(load)"
   ]
  },
  {
   "cell_type": "code",
   "execution_count": 147,
   "metadata": {},
   "outputs": [],
   "source": [
    "load = open(\"ssc_180_accounts.json\")\n",
    "ssc_180 = json.load(load)"
   ]
  },
  {
   "cell_type": "code",
   "execution_count": 148,
   "metadata": {},
   "outputs": [],
   "source": [
    "load = open(\"ssc_90_accounts.json\")\n",
    "ssc_90 = json.load(load)"
   ]
  },
  {
   "cell_type": "code",
   "execution_count": 149,
   "metadata": {},
   "outputs": [],
   "source": [
    "df = pd.DataFrame(columns = [\"account_id\",\"adgroup_id\",\"365_days\",\"180_days\",\"90_days\"])"
   ]
  },
  {
   "cell_type": "code",
   "execution_count": 150,
   "metadata": {},
   "outputs": [],
   "source": [
    "for i,j in ssc_365.items():\n",
    "    for k,l in j.items():\n",
    "        for m in l:\n",
    "            try:\n",
    "                if ssc_365[i][k][m] and ssc_180[i][k][m] and ssc_90[i][k][m]:\n",
    "                    df.loc[len(df)] = [i,m,ssc_365[i][k][m] , ssc_180[i][k][m] , ssc_90[i][k][m]]\n",
    "            except:pass"
   ]
  },
  {
   "cell_type": "code",
   "execution_count": 151,
   "metadata": {},
   "outputs": [
    {
     "data": {
      "text/html": [
       "<div>\n",
       "<style scoped>\n",
       "    .dataframe tbody tr th:only-of-type {\n",
       "        vertical-align: middle;\n",
       "    }\n",
       "\n",
       "    .dataframe tbody tr th {\n",
       "        vertical-align: top;\n",
       "    }\n",
       "\n",
       "    .dataframe thead th {\n",
       "        text-align: right;\n",
       "    }\n",
       "</style>\n",
       "<table border=\"1\" class=\"dataframe\">\n",
       "  <thead>\n",
       "    <tr style=\"text-align: right;\">\n",
       "      <th></th>\n",
       "      <th>account_id</th>\n",
       "      <th>adgroup_id</th>\n",
       "      <th>365_days</th>\n",
       "      <th>180_days</th>\n",
       "      <th>90_days</th>\n",
       "    </tr>\n",
       "  </thead>\n",
       "  <tbody>\n",
       "    <tr>\n",
       "      <th>0</th>\n",
       "      <td>5ffdb895b08512986422b08c</td>\n",
       "      <td>144980610686053</td>\n",
       "      <td>14</td>\n",
       "      <td>11</td>\n",
       "      <td>11</td>\n",
       "    </tr>\n",
       "    <tr>\n",
       "      <th>1</th>\n",
       "      <td>5ffdb895b08512986422b08c</td>\n",
       "      <td>60175740392859</td>\n",
       "      <td>13</td>\n",
       "      <td>15</td>\n",
       "      <td>17</td>\n",
       "    </tr>\n",
       "    <tr>\n",
       "      <th>2</th>\n",
       "      <td>5ffdb895b08512986422b08c</td>\n",
       "      <td>96484107418934</td>\n",
       "      <td>13</td>\n",
       "      <td>12</td>\n",
       "      <td>12</td>\n",
       "    </tr>\n",
       "    <tr>\n",
       "      <th>3</th>\n",
       "      <td>5ffdb895b08512986422b08c</td>\n",
       "      <td>256692167766571</td>\n",
       "      <td>8</td>\n",
       "      <td>6</td>\n",
       "      <td>4</td>\n",
       "    </tr>\n",
       "    <tr>\n",
       "      <th>4</th>\n",
       "      <td>5ffdb895b08512986422b08c</td>\n",
       "      <td>126012498669947</td>\n",
       "      <td>35</td>\n",
       "      <td>34</td>\n",
       "      <td>32</td>\n",
       "    </tr>\n",
       "    <tr>\n",
       "      <th>...</th>\n",
       "      <td>...</td>\n",
       "      <td>...</td>\n",
       "      <td>...</td>\n",
       "      <td>...</td>\n",
       "      <td>...</td>\n",
       "    </tr>\n",
       "    <tr>\n",
       "      <th>545</th>\n",
       "      <td>623dda6df77df1d4d204dfc9</td>\n",
       "      <td>84078237083028</td>\n",
       "      <td>28</td>\n",
       "      <td>15</td>\n",
       "      <td>11</td>\n",
       "    </tr>\n",
       "    <tr>\n",
       "      <th>546</th>\n",
       "      <td>6261426cc1024ef2d95110c3</td>\n",
       "      <td>255196315299560</td>\n",
       "      <td>11</td>\n",
       "      <td>11</td>\n",
       "      <td>11</td>\n",
       "    </tr>\n",
       "    <tr>\n",
       "      <th>547</th>\n",
       "      <td>6261426cc1024ef2d95110c3</td>\n",
       "      <td>111866482309718</td>\n",
       "      <td>35</td>\n",
       "      <td>36</td>\n",
       "      <td>33</td>\n",
       "    </tr>\n",
       "    <tr>\n",
       "      <th>548</th>\n",
       "      <td>6263acc5367e283277f9a0ef</td>\n",
       "      <td>255196315299560</td>\n",
       "      <td>11</td>\n",
       "      <td>11</td>\n",
       "      <td>11</td>\n",
       "    </tr>\n",
       "    <tr>\n",
       "      <th>549</th>\n",
       "      <td>6263acc5367e283277f9a0ef</td>\n",
       "      <td>111866482309718</td>\n",
       "      <td>35</td>\n",
       "      <td>36</td>\n",
       "      <td>33</td>\n",
       "    </tr>\n",
       "  </tbody>\n",
       "</table>\n",
       "<p>550 rows × 5 columns</p>\n",
       "</div>"
      ],
      "text/plain": [
       "                   account_id       adgroup_id 365_days 180_days 90_days\n",
       "0    5ffdb895b08512986422b08c  144980610686053       14       11      11\n",
       "1    5ffdb895b08512986422b08c   60175740392859       13       15      17\n",
       "2    5ffdb895b08512986422b08c   96484107418934       13       12      12\n",
       "3    5ffdb895b08512986422b08c  256692167766571        8        6       4\n",
       "4    5ffdb895b08512986422b08c  126012498669947       35       34      32\n",
       "..                        ...              ...      ...      ...     ...\n",
       "545  623dda6df77df1d4d204dfc9   84078237083028       28       15      11\n",
       "546  6261426cc1024ef2d95110c3  255196315299560       11       11      11\n",
       "547  6261426cc1024ef2d95110c3  111866482309718       35       36      33\n",
       "548  6263acc5367e283277f9a0ef  255196315299560       11       11      11\n",
       "549  6263acc5367e283277f9a0ef  111866482309718       35       36      33\n",
       "\n",
       "[550 rows x 5 columns]"
      ]
     },
     "execution_count": 151,
     "metadata": {},
     "output_type": "execute_result"
    }
   ],
   "source": [
    "df"
   ]
  },
  {
   "cell_type": "code",
   "execution_count": 73,
   "metadata": {},
   "outputs": [
    {
     "name": "stdout",
     "output_type": "stream",
     "text": [
      "278\n"
     ]
    }
   ],
   "source": [
    "# No of adgroup having greater 365_days_cr  ssc values than 90_days_cr ssc values\n",
    "df[df[\"365_days\"]>df['90_days']]\n",
    "print(len(df[df[\"365_days\"]>df['90_days']]))"
   ]
  },
  {
   "cell_type": "code",
   "execution_count": 74,
   "metadata": {},
   "outputs": [
    {
     "name": "stdout",
     "output_type": "stream",
     "text": [
      "235\n"
     ]
    }
   ],
   "source": [
    "# No of adgroup having greater 365_days_cr  ssc values than 180_days_cr ssc values\n",
    "df[df[\"365_days\"]>df['180_days']]\n",
    "print(len(df[df[\"365_days\"]>df['180_days']]))"
   ]
  },
  {
   "cell_type": "code",
   "execution_count": 75,
   "metadata": {},
   "outputs": [
    {
     "name": "stdout",
     "output_type": "stream",
     "text": [
      "252\n"
     ]
    }
   ],
   "source": [
    "# No of adgroup having greater 180_days_cr  ssc values than 90_days_cr ssc values\n",
    "df[df[\"180_days\"]>df['90_days']]\n",
    "print(len(df[df[\"180_days\"]>df['90_days']]))"
   ]
  },
  {
   "cell_type": "code",
   "execution_count": 76,
   "metadata": {},
   "outputs": [
    {
     "name": "stdout",
     "output_type": "stream",
     "text": [
      "183\n"
     ]
    }
   ],
   "source": [
    "# No of adgroup having less 180_days_cr  ssc values than 90_days_cr ssc values\n",
    "df[df[\"180_days\"]<df['90_days']]\n",
    "print(len(df[df[\"180_days\"]<df['90_days']]))"
   ]
  },
  {
   "cell_type": "code",
   "execution_count": 77,
   "metadata": {},
   "outputs": [
    {
     "name": "stdout",
     "output_type": "stream",
     "text": [
      "153\n"
     ]
    }
   ],
   "source": [
    "# No of adgroup having less 365_days_cr  ssc values than 180_days_cr ssc values\n",
    "df[df[\"365_days\"]<df['180_days']]\n",
    "print(len(df[df[\"365_days\"]<df['180_days']]))"
   ]
  },
  {
   "cell_type": "code",
   "execution_count": 78,
   "metadata": {},
   "outputs": [
    {
     "name": "stdout",
     "output_type": "stream",
     "text": [
      "177\n"
     ]
    }
   ],
   "source": [
    "# No of adgroup having less 365_days_cr  ssc values than 90_days_cr ssc values\n",
    "df[df[\"365_days\"]<df['90_days']]\n",
    "print(len(df[df[\"365_days\"]<df['90_days']]))"
   ]
  },
  {
   "cell_type": "code",
   "execution_count": 82,
   "metadata": {},
   "outputs": [
    {
     "data": {
      "image/png": "[encoded data removed]",
      "text/plain": [
       "<Figure size 432x288 with 1 Axes>"
      ]
     },
     "metadata": {
      "needs_background": "light"
     },
     "output_type": "display_data"
    }
   ],
   "source": [
    "sns.histplot(df['365_days'])\n",
    "plt.show()"
   ]
  },
  {
   "cell_type": "code",
   "execution_count": 93,
   "metadata": {},
   "outputs": [
    {
     "data": {
      "image/png": "[encoded data removed]",
      "text/plain": [
       "<Figure size 432x288 with 1 Axes>"
      ]
     },
     "metadata": {
      "needs_background": "light"
     },
     "output_type": "display_data"
    }
   ],
   "source": [
    "sns.histplot(df['90_days'])\n",
    "plt.show()"
   ]
  },
  {
   "cell_type": "code",
   "execution_count": 92,
   "metadata": {},
   "outputs": [
    {
     "data": {
      "image/png": "[encoded data removed]",
      "text/plain": [
       "<Figure size 432x288 with 1 Axes>"
      ]
     },
     "metadata": {
      "needs_background": "light"
     },
     "output_type": "display_data"
    }
   ],
   "source": [
    "sns.histplot(df['180_days'])\n",
    "plt.show()"
   ]
  },
  {
   "cell_type": "markdown",
   "metadata": {},
   "source": [
    "## SSC difference for 365_days and 90 Days  -Means 365 minus 90"
   ]
  },
  {
   "cell_type": "code",
   "execution_count": 282,
   "metadata": {},
   "outputs": [],
   "source": [
    "df_diff = pd.DataFrame(columns = ['diff_365_90'])"
   ]
  },
  {
   "cell_type": "code",
   "execution_count": 283,
   "metadata": {},
   "outputs": [],
   "source": [
    "for i,j in ssc_365.items():\n",
    "    for k,l in j.items():\n",
    "        for m in l:\n",
    "            try:\n",
    "                if ssc_365[i][k][m] and ssc_90[i][k][m]:\n",
    "                    df_diff.loc[len(df_diff)] = [ssc_365[i][k][m]-ssc_90[i][k][m]]\n",
    "            except:pass"
   ]
  },
  {
   "cell_type": "code",
   "execution_count": 284,
   "metadata": {},
   "outputs": [
    {
     "data": {
      "image/png": "[encoded data removed]",
      "text/plain": [
       "<Figure size 432x288 with 1 Axes>"
      ]
     },
     "metadata": {
      "needs_background": "light"
     },
     "output_type": "display_data"
    }
   ],
   "source": [
    "sns.histplot(df_diff[\"diff_365_90\"],bins = 8)\n",
    "plt.title(\"SSC difference for 365_days minus 90 Days-Means 365 minus 90\")\n",
    "plt.xlabel(\"actual_diff_val\")\n",
    "plt.show()"
   ]
  },
  {
   "cell_type": "code",
   "execution_count": 285,
   "metadata": {},
   "outputs": [
    {
     "data": {
      "image/png": "[encoded data removed]",
      "text/plain": [
       "<Figure size 432x288 with 1 Axes>"
      ]
     },
     "metadata": {
      "needs_background": "light"
     },
     "output_type": "display_data"
    }
   ],
   "source": [
    "sns.histplot(df_diff[df_diff['diff_365_90']>0].values,bins = 30)\n",
    "plt.title(\"SSC difference for 365_days minus 90 Days which are greater than 0\")\n",
    "plt.xlabel(\"actual_diff_val\")\n",
    "plt.show()"
   ]
  },
  {
   "cell_type": "code",
   "execution_count": 286,
   "metadata": {},
   "outputs": [
    {
     "data": {
      "text/plain": [
       "32"
      ]
     },
     "execution_count": 286,
     "metadata": {},
     "output_type": "execute_result"
    }
   ],
   "source": [
    "ssc_diff_greater_than_10 = np.array(df_diff[df_diff['diff_365_90']>10].values)\n",
    "len(ssc_diff_greater_than_10)"
   ]
  },
  {
   "cell_type": "code",
   "execution_count": 193,
   "metadata": {},
   "outputs": [
    {
     "data": {
      "image/png": "[encoded data removed]",
      "text/plain": [
       "<Figure size 432x288 with 1 Axes>"
      ]
     },
     "metadata": {
      "needs_background": "light"
     },
     "output_type": "display_data"
    }
   ],
   "source": [
    "sns.histplot(ssc_diff_greater_than_10,bins = 40)\n",
    "plt.title(\"SSC difference for 365_days minus 90 Days which are greater than 10\")\n",
    "plt.xlabel(\"actual_diff_val\")\n",
    "plt.show()"
   ]
  },
  {
   "cell_type": "code",
   "execution_count": 194,
   "metadata": {},
   "outputs": [
    {
     "data": {
      "image/png": "[encoded data removed]",
      "text/plain": [
       "<Figure size 432x288 with 1 Axes>"
      ]
     },
     "metadata": {
      "needs_background": "light"
     },
     "output_type": "display_data"
    }
   ],
   "source": [
    "sns.histplot(df_diff[df_diff['diff_365_90']<0].values,bins = 30)\n",
    "plt.title(\"SSC difference for 365_days minus 90 Days which are lesser than 0\")\n",
    "plt.xlabel(\"actual_diff_val\")\n",
    "plt.show()"
   ]
  },
  {
   "cell_type": "markdown",
   "metadata": {},
   "source": [
    "# SSC difference for 365_days and 180 Days   - means 365 minus 180"
   ]
  },
  {
   "cell_type": "code",
   "execution_count": 206,
   "metadata": {},
   "outputs": [],
   "source": [
    "df_diff = pd.DataFrame(columns = ['diff_365_180'])"
   ]
  },
  {
   "cell_type": "code",
   "execution_count": 207,
   "metadata": {},
   "outputs": [],
   "source": [
    "for i,j in ssc_365.items():\n",
    "    for k,l in j.items():\n",
    "        for m in l:\n",
    "            try:\n",
    "                if ssc_365[i][k][m] and ssc_180[i][k][m]:\n",
    "                    df_diff.loc[len(df_diff)] = [ssc_365[i][k][m]-ssc_180[i][k][m]]\n",
    "            except:pass"
   ]
  },
  {
   "cell_type": "code",
   "execution_count": 208,
   "metadata": {},
   "outputs": [
    {
     "data": {
      "image/png": "[encoded data removed]",
      "text/plain": [
       "<Figure size 432x288 with 1 Axes>"
      ]
     },
     "metadata": {
      "needs_background": "light"
     },
     "output_type": "display_data"
    }
   ],
   "source": [
    "sns.histplot(df_diff[\"diff_365_180\"],bins = 8)\n",
    "plt.title(\"SSC difference for 365_days minus 180 Days\")\n",
    "plt.xlabel(\"actual_diff_val\")\n",
    "plt.show()"
   ]
  },
  {
   "cell_type": "code",
   "execution_count": 209,
   "metadata": {},
   "outputs": [
    {
     "data": {
      "image/png": "[encoded data removed]",
      "text/plain": [
       "<Figure size 432x288 with 1 Axes>"
      ]
     },
     "metadata": {
      "needs_background": "light"
     },
     "output_type": "display_data"
    }
   ],
   "source": [
    "sns.histplot(df_diff[df_diff['diff_365_180']>0].values,bins = 30)\n",
    "plt.title(\"SSC difference for 365_days minus 180 Days which are greater than>0\")\n",
    "plt.xlabel(\"actual_diff_val\")\n",
    "plt.show()"
   ]
  },
  {
   "cell_type": "code",
   "execution_count": 210,
   "metadata": {},
   "outputs": [
    {
     "data": {
      "text/plain": [
       "35"
      ]
     },
     "execution_count": 210,
     "metadata": {},
     "output_type": "execute_result"
    }
   ],
   "source": [
    "ssc_diff_greater_than_10 = np.array(df_diff[df_diff['diff_365_180']>10].values)\n",
    "len(ssc_diff_greater_than_10)"
   ]
  },
  {
   "cell_type": "code",
   "execution_count": 212,
   "metadata": {},
   "outputs": [
    {
     "data": {
      "image/png": "[encoded data removed]",
      "text/plain": [
       "<Figure size 432x288 with 1 Axes>"
      ]
     },
     "metadata": {
      "needs_background": "light"
     },
     "output_type": "display_data"
    }
   ],
   "source": [
    "sns.histplot(ssc_diff_greater_than_10,bins = 40)\n",
    "plt.title(\"SSC difference for 365_days minus 180 Days which are greater than 10\")\n",
    "plt.xlabel(\"actual_diff_val\")\n",
    "plt.show()"
   ]
  },
  {
   "cell_type": "code",
   "execution_count": 213,
   "metadata": {},
   "outputs": [
    {
     "data": {
      "image/png": "[encoded data removed]",
      "text/plain": [
       "<Figure size 432x288 with 1 Axes>"
      ]
     },
     "metadata": {
      "needs_background": "light"
     },
     "output_type": "display_data"
    }
   ],
   "source": [
    "sns.histplot(df_diff[df_diff['diff_365_180']<0].values,bins = 30)\n",
    "plt.title(\"SSC difference for 365_days minus 180 Days which are lesser than 0\")\n",
    "plt.xlabel(\"actual_diff_val\")\n",
    "plt.show()"
   ]
  },
  {
   "cell_type": "markdown",
   "metadata": {},
   "source": [
    "# SSC difference for 180_days and 90 Days    -  means 180 minus 90"
   ]
  },
  {
   "cell_type": "code",
   "execution_count": 287,
   "metadata": {},
   "outputs": [],
   "source": [
    "df_diff = pd.DataFrame(columns = ['diff_180_90'])"
   ]
  },
  {
   "cell_type": "code",
   "execution_count": 288,
   "metadata": {},
   "outputs": [],
   "source": [
    "for i,j in ssc_180.items():\n",
    "    for k,l in j.items():\n",
    "        for m in l:\n",
    "            try:\n",
    "                if ssc_180[i][k][m] and ssc_90[i][k][m]:\n",
    "                    df_diff.loc[len(df_diff)] = [ssc_180[i][k][m]-ssc_90[i][k][m]]\n",
    "            except:pass"
   ]
  },
  {
   "cell_type": "code",
   "execution_count": 289,
   "metadata": {},
   "outputs": [
    {
     "data": {
      "image/png": "[encoded data removed]",
      "text/plain": [
       "<Figure size 432x288 with 1 Axes>"
      ]
     },
     "metadata": {
      "needs_background": "light"
     },
     "output_type": "display_data"
    }
   ],
   "source": [
    "sns.histplot(df_diff[\"diff_180_90\"],bins = 8)\n",
    "plt.title(\"SSC difference for 180_days minus 90 Days\")\n",
    "plt.xlabel(\"actual_diff_val\")\n",
    "plt.show()"
   ]
  },
  {
   "cell_type": "code",
   "execution_count": 290,
   "metadata": {},
   "outputs": [
    {
     "data": {
      "image/png": "[encoded data removed]",
      "text/plain": [
       "<Figure size 432x288 with 1 Axes>"
      ]
     },
     "metadata": {
      "needs_background": "light"
     },
     "output_type": "display_data"
    }
   ],
   "source": [
    "sns.histplot(df_diff[df_diff['diff_180_90']>0].values,bins = 30)\n",
    "plt.title(\"SSC difference for 180_days minus 90 Days which are greater than 0\")\n",
    "plt.xlabel(\"actual_diff_val\")\n",
    "plt.show()"
   ]
  },
  {
   "cell_type": "code",
   "execution_count": 291,
   "metadata": {},
   "outputs": [
    {
     "data": {
      "text/plain": [
       "30"
      ]
     },
     "execution_count": 291,
     "metadata": {},
     "output_type": "execute_result"
    }
   ],
   "source": [
    "ssc_diff_greater_than_10 = np.array(df_diff[df_diff['diff_180_90']>10].values)\n",
    "len(ssc_diff_greater_than_10)"
   ]
  },
  {
   "cell_type": "code",
   "execution_count": 292,
   "metadata": {},
   "outputs": [
    {
     "data": {
      "image/png": "[encoded data removed]",
      "text/plain": [
       "<Figure size 432x288 with 1 Axes>"
      ]
     },
     "metadata": {
      "needs_background": "light"
     },
     "output_type": "display_data"
    }
   ],
   "source": [
    "sns.histplot(ssc_diff_greater_than_10,bins = 40)\n",
    "plt.title(\"SSC difference for 180_days minus 90 Days which are greater than 10\")\n",
    "plt.xlabel(\"actual_diff_val\")\n",
    "plt.show()"
   ]
  },
  {
   "cell_type": "code",
   "execution_count": 234,
   "metadata": {},
   "outputs": [
    {
     "data": {
      "image/png": "[encoded data removed]",
      "text/plain": [
       "<Figure size 432x288 with 1 Axes>"
      ]
     },
     "metadata": {
      "needs_background": "light"
     },
     "output_type": "display_data"
    }
   ],
   "source": [
    "sns.histplot(df_diff[df_diff['diff_180_90']<0].values,bins = 30)\n",
    "plt.title(\"SSC difference for 180_days minus 90 Days which are lesser than 0\")\n",
    "plt.xlabel(\"actual_diff_val\")\n",
    "plt.show()"
   ]
  },
  {
   "cell_type": "markdown",
   "metadata": {},
   "source": [
    "# SSC difference for 90_days and 365 Days    -  means 90 minus 365"
   ]
  },
  {
   "cell_type": "code",
   "execution_count": 293,
   "metadata": {},
   "outputs": [],
   "source": [
    "df_diff = pd.DataFrame(columns = ['diff_90_365'])"
   ]
  },
  {
   "cell_type": "code",
   "execution_count": 294,
   "metadata": {},
   "outputs": [],
   "source": [
    "for i,j in ssc_365.items():\n",
    "    for k,l in j.items():\n",
    "        for m in l:\n",
    "            try:\n",
    "                if ssc_365[i][k][m] and ssc_90[i][k][m]:\n",
    "                    df_diff.loc[len(df_diff)] = [ssc_90[i][k][m]-ssc_365[i][k][m]]\n",
    "            except:pass"
   ]
  },
  {
   "cell_type": "code",
   "execution_count": 295,
   "metadata": {},
   "outputs": [
    {
     "data": {
      "image/png": "[encoded data removed]",
      "text/plain": [
       "<Figure size 432x288 with 1 Axes>"
      ]
     },
     "metadata": {
      "needs_background": "light"
     },
     "output_type": "display_data"
    }
   ],
   "source": [
    "sns.histplot(df_diff[\"diff_90_365\"],bins = 8)\n",
    "plt.title(\"SSC difference for 90_days minus 365 Days\")\n",
    "plt.xlabel(\"actual_diff_val\")\n",
    "plt.show()"
   ]
  },
  {
   "cell_type": "code",
   "execution_count": 296,
   "metadata": {},
   "outputs": [
    {
     "data": {
      "image/png": "[encoded data removed]",
      "text/plain": [
       "<Figure size 432x288 with 1 Axes>"
      ]
     },
     "metadata": {
      "needs_background": "light"
     },
     "output_type": "display_data"
    }
   ],
   "source": [
    "sns.histplot(df_diff[df_diff['diff_90_365']>0].values,bins = 30)\n",
    "plt.title(\"SSC difference for 90_days minus 365 Days which are greater than 0\")\n",
    "plt.xlabel(\"actual_diff_val\")\n",
    "plt.show()"
   ]
  },
  {
   "cell_type": "code",
   "execution_count": 297,
   "metadata": {},
   "outputs": [
    {
     "data": {
      "text/plain": [
       "17"
      ]
     },
     "execution_count": 297,
     "metadata": {},
     "output_type": "execute_result"
    }
   ],
   "source": [
    "ssc_diff_greater_than_10 = np.array(df_diff[df_diff['diff_90_365']>10].values)\n",
    "len(ssc_diff_greater_than_10)"
   ]
  },
  {
   "cell_type": "code",
   "execution_count": 242,
   "metadata": {},
   "outputs": [
    {
     "data": {
      "image/png": "[encoded data removed]",
      "text/plain": [
       "<Figure size 432x288 with 1 Axes>"
      ]
     },
     "metadata": {
      "needs_background": "light"
     },
     "output_type": "display_data"
    }
   ],
   "source": [
    "sns.histplot(ssc_diff_greater_than_10,bins = 40)\n",
    "plt.title(\"SSC difference for 90_days minus 365 Days which are greater than 10\")\n",
    "plt.xlabel(\"actual_diff_val\")\n",
    "plt.show()"
   ]
  },
  {
   "cell_type": "code",
   "execution_count": 243,
   "metadata": {},
   "outputs": [
    {
     "data": {
      "image/png": "[encoded data removed]",
      "text/plain": [
       "<Figure size 432x288 with 1 Axes>"
      ]
     },
     "metadata": {
      "needs_background": "light"
     },
     "output_type": "display_data"
    }
   ],
   "source": [
    "sns.histplot(df_diff[df_diff['diff_90_365']<0].values,bins = 30)\n",
    "plt.title(\"SSC difference for 90_days minus 365 Days which are lesser than 0\")\n",
    "plt.xlabel(\"actual_diff_val\")\n",
    "plt.show()"
   ]
  },
  {
   "cell_type": "markdown",
   "metadata": {},
   "source": [
    "# SSC difference for 90_days and 180 Days    -  means 90 minus 180"
   ]
  },
  {
   "cell_type": "code",
   "execution_count": 303,
   "metadata": {},
   "outputs": [],
   "source": [
    "df_diff = pd.DataFrame(columns = ['diff_90_180'])"
   ]
  },
  {
   "cell_type": "code",
   "execution_count": 304,
   "metadata": {},
   "outputs": [],
   "source": [
    "for i,j in ssc_90.items():\n",
    "    for k,l in j.items():\n",
    "        for m in l:\n",
    "            try:\n",
    "                if ssc_180[i][k][m] and ssc_90[i][k][m]:\n",
    "                    df_diff.loc[len(df_diff)] = [ssc_90[i][k][m]-ssc_180[i][k][m]]\n",
    "            except:pass"
   ]
  },
  {
   "cell_type": "code",
   "execution_count": 305,
   "metadata": {},
   "outputs": [
    {
     "data": {
      "image/png": "[encoded data removed]",
      "text/plain": [
       "<Figure size 432x288 with 1 Axes>"
      ]
     },
     "metadata": {
      "needs_background": "light"
     },
     "output_type": "display_data"
    }
   ],
   "source": [
    "sns.histplot(df_diff[\"diff_90_180\"],bins = 8)\n",
    "plt.title(\"SSC difference for 90_days minus 180 Days\")\n",
    "plt.xlabel(\"actual_diff_val\")\n",
    "plt.show()"
   ]
  },
  {
   "cell_type": "code",
   "execution_count": 306,
   "metadata": {},
   "outputs": [
    {
     "data": {
      "image/png": "[encoded data removed]",
      "text/plain": [
       "<Figure size 432x288 with 1 Axes>"
      ]
     },
     "metadata": {
      "needs_background": "light"
     },
     "output_type": "display_data"
    }
   ],
   "source": [
    "sns.histplot(df_diff[df_diff['diff_90_180']>0].values,bins = 30)\n",
    "plt.title(\"SSC difference for 90_days minus 180 Days which are greater than 0\")\n",
    "plt.xlabel(\"actual_diff_val\")\n",
    "plt.show()"
   ]
  },
  {
   "cell_type": "code",
   "execution_count": 309,
   "metadata": {},
   "outputs": [
    {
     "data": {
      "text/plain": [
       "14"
      ]
     },
     "execution_count": 309,
     "metadata": {},
     "output_type": "execute_result"
    }
   ],
   "source": [
    "ssc_diff_greater_than_10 = np.array(df_diff[df_diff['diff_90_180']>10].values)\n",
    "len(ssc_diff_greater_than_10)"
   ]
  },
  {
   "cell_type": "code",
   "execution_count": 310,
   "metadata": {},
   "outputs": [
    {
     "data": {
      "image/png": "[encoded data removed]",
      "text/plain": [
       "<Figure size 432x288 with 1 Axes>"
      ]
     },
     "metadata": {
      "needs_background": "light"
     },
     "output_type": "display_data"
    }
   ],
   "source": [
    "sns.histplot(ssc_diff_greater_than_10,bins = 40)\n",
    "plt.title(\"SSC difference for 90_days minus 180 Days which are greater than 10\")\n",
    "plt.xlabel(\"actual_diff_val\")\n",
    "plt.show()"
   ]
  },
  {
   "cell_type": "code",
   "execution_count": 311,
   "metadata": {},
   "outputs": [
    {
     "data": {
      "image/png": "[encoded data removed]",
      "text/plain": [
       "<Figure size 432x288 with 1 Axes>"
      ]
     },
     "metadata": {
      "needs_background": "light"
     },
     "output_type": "display_data"
    }
   ],
   "source": [
    "sns.histplot(df_diff[df_diff['diff_90_180']<0].values,bins = 30)\n",
    "plt.title(\"SSC difference for 90_days minus 180 Days which are lesser than 0\")\n",
    "plt.xlabel(\"actual_diff_val\")\n",
    "plt.show()"
   ]
  },
  {
   "cell_type": "markdown",
   "metadata": {},
   "source": [
    "# SSC difference for 180_days and 365 Days    -  means 180 minus 365"
   ]
  },
  {
   "cell_type": "code",
   "execution_count": 312,
   "metadata": {},
   "outputs": [],
   "source": [
    "df_diff = pd.DataFrame(columns = ['diff_180_365'])"
   ]
  },
  {
   "cell_type": "code",
   "execution_count": 313,
   "metadata": {},
   "outputs": [],
   "source": [
    "for i,j in ssc_180.items():\n",
    "    for k,l in j.items():\n",
    "        for m in l:\n",
    "            try:\n",
    "                if ssc_180[i][k][m] and ssc_365[i][k][m]:\n",
    "                    df_diff.loc[len(df_diff)] = [ssc_180[i][k][m]-ssc_365[i][k][m]]\n",
    "            except:pass"
   ]
  },
  {
   "cell_type": "code",
   "execution_count": 314,
   "metadata": {},
   "outputs": [
    {
     "data": {
      "image/png": "[encoded data removed]",
      "text/plain": [
       "<Figure size 432x288 with 1 Axes>"
      ]
     },
     "metadata": {
      "needs_background": "light"
     },
     "output_type": "display_data"
    }
   ],
   "source": [
    "sns.histplot(df_diff[\"diff_180_365\"],bins = 8)\n",
    "plt.title(\"SSC difference for 180_days minus 365 Days\")\n",
    "plt.xlabel(\"actual_diff_val\")\n",
    "plt.show()"
   ]
  },
  {
   "cell_type": "code",
   "execution_count": 315,
   "metadata": {},
   "outputs": [
    {
     "data": {
      "image/png": "[encoded data removed]",
      "text/plain": [
       "<Figure size 432x288 with 1 Axes>"
      ]
     },
     "metadata": {
      "needs_background": "light"
     },
     "output_type": "display_data"
    }
   ],
   "source": [
    "sns.histplot(df_diff[df_diff['diff_180_365']>0].values,bins = 30)\n",
    "plt.title(\"SSC difference for 180_days minus 365 Days which are greater than 0\")\n",
    "plt.xlabel(\"actual_diff_val\")\n",
    "plt.show()"
   ]
  },
  {
   "cell_type": "code",
   "execution_count": 318,
   "metadata": {},
   "outputs": [
    {
     "data": {
      "text/plain": [
       "34"
      ]
     },
     "execution_count": 318,
     "metadata": {},
     "output_type": "execute_result"
    }
   ],
   "source": [
    "ssc_diff_greater_than_10 = np.array(df_diff[df_diff['diff_180_365']>10].values)\n",
    "len(ssc_diff_greater_than_10)"
   ]
  },
  {
   "cell_type": "code",
   "execution_count": 319,
   "metadata": {},
   "outputs": [
    {
     "data": {
      "image/png": "[encoded data removed]",
      "text/plain": [
       "<Figure size 432x288 with 1 Axes>"
      ]
     },
     "metadata": {
      "needs_background": "light"
     },
     "output_type": "display_data"
    }
   ],
   "source": [
    "sns.histplot(ssc_diff_greater_than_10,bins = 40)\n",
    "plt.title(\"SSC difference for 180_days minus 365 Days which are greater than 10\")\n",
    "plt.xlabel(\"actual_diff_val\")\n",
    "plt.show()"
   ]
  },
  {
   "cell_type": "code",
   "execution_count": 320,
   "metadata": {},
   "outputs": [
    {
     "data": {
      "image/png": "[encoded data removed]",
      "text/plain": [
       "<Figure size 432x288 with 1 Axes>"
      ]
     },
     "metadata": {
      "needs_background": "light"
     },
     "output_type": "display_data"
    }
   ],
   "source": [
    "sns.histplot(df_diff[df_diff['diff_180_365']<0].values,bins = 30)\n",
    "plt.title(\"SSC difference for 180_days minus 365 Days which are lesser than 0\")\n",
    "plt.xlabel(\"actual_diff_val\")\n",
    "plt.show()"
   ]
  },
  {
   "cell_type": "code",
   "execution_count": 321,
   "metadata": {},
   "outputs": [],
   "source": [
    "df[\"365_90\"] = df[\"365_days\"] - df[\"90_days\"]\n",
    "df['365_180'] = df[\"365_days\"]- df[\"180_days\"]\n",
    "df[\"180_90\"] = df[\"180_days\"] - df[\"90_days\"]"
   ]
  },
  {
   "cell_type": "code",
   "execution_count": 154,
   "metadata": {},
   "outputs": [
    {
     "data": {
      "text/html": [
       "<div>\n",
       "<style scoped>\n",
       "    .dataframe tbody tr th:only-of-type {\n",
       "        vertical-align: middle;\n",
       "    }\n",
       "\n",
       "    .dataframe tbody tr th {\n",
       "        vertical-align: top;\n",
       "    }\n",
       "\n",
       "    .dataframe thead th {\n",
       "        text-align: right;\n",
       "    }\n",
       "</style>\n",
       "<table border=\"1\" class=\"dataframe\">\n",
       "  <thead>\n",
       "    <tr style=\"text-align: right;\">\n",
       "      <th></th>\n",
       "      <th>account_id</th>\n",
       "      <th>adgroup_id</th>\n",
       "      <th>365_days</th>\n",
       "      <th>180_days</th>\n",
       "      <th>90_days</th>\n",
       "      <th>365_90</th>\n",
       "      <th>365_180</th>\n",
       "      <th>180_90</th>\n",
       "    </tr>\n",
       "  </thead>\n",
       "  <tbody>\n",
       "    <tr>\n",
       "      <th>0</th>\n",
       "      <td>5ffdb895b08512986422b08c</td>\n",
       "      <td>144980610686053</td>\n",
       "      <td>14</td>\n",
       "      <td>11</td>\n",
       "      <td>11</td>\n",
       "      <td>3</td>\n",
       "      <td>3</td>\n",
       "      <td>0</td>\n",
       "    </tr>\n",
       "    <tr>\n",
       "      <th>1</th>\n",
       "      <td>5ffdb895b08512986422b08c</td>\n",
       "      <td>60175740392859</td>\n",
       "      <td>13</td>\n",
       "      <td>15</td>\n",
       "      <td>17</td>\n",
       "      <td>-4</td>\n",
       "      <td>-2</td>\n",
       "      <td>-2</td>\n",
       "    </tr>\n",
       "    <tr>\n",
       "      <th>2</th>\n",
       "      <td>5ffdb895b08512986422b08c</td>\n",
       "      <td>96484107418934</td>\n",
       "      <td>13</td>\n",
       "      <td>12</td>\n",
       "      <td>12</td>\n",
       "      <td>1</td>\n",
       "      <td>1</td>\n",
       "      <td>0</td>\n",
       "    </tr>\n",
       "    <tr>\n",
       "      <th>3</th>\n",
       "      <td>5ffdb895b08512986422b08c</td>\n",
       "      <td>256692167766571</td>\n",
       "      <td>8</td>\n",
       "      <td>6</td>\n",
       "      <td>4</td>\n",
       "      <td>4</td>\n",
       "      <td>2</td>\n",
       "      <td>2</td>\n",
       "    </tr>\n",
       "    <tr>\n",
       "      <th>4</th>\n",
       "      <td>5ffdb895b08512986422b08c</td>\n",
       "      <td>126012498669947</td>\n",
       "      <td>35</td>\n",
       "      <td>34</td>\n",
       "      <td>32</td>\n",
       "      <td>3</td>\n",
       "      <td>1</td>\n",
       "      <td>2</td>\n",
       "    </tr>\n",
       "    <tr>\n",
       "      <th>...</th>\n",
       "      <td>...</td>\n",
       "      <td>...</td>\n",
       "      <td>...</td>\n",
       "      <td>...</td>\n",
       "      <td>...</td>\n",
       "      <td>...</td>\n",
       "      <td>...</td>\n",
       "      <td>...</td>\n",
       "    </tr>\n",
       "    <tr>\n",
       "      <th>545</th>\n",
       "      <td>623dda6df77df1d4d204dfc9</td>\n",
       "      <td>84078237083028</td>\n",
       "      <td>28</td>\n",
       "      <td>15</td>\n",
       "      <td>11</td>\n",
       "      <td>17</td>\n",
       "      <td>13</td>\n",
       "      <td>4</td>\n",
       "    </tr>\n",
       "    <tr>\n",
       "      <th>546</th>\n",
       "      <td>6261426cc1024ef2d95110c3</td>\n",
       "      <td>255196315299560</td>\n",
       "      <td>11</td>\n",
       "      <td>11</td>\n",
       "      <td>11</td>\n",
       "      <td>0</td>\n",
       "      <td>0</td>\n",
       "      <td>0</td>\n",
       "    </tr>\n",
       "    <tr>\n",
       "      <th>547</th>\n",
       "      <td>6261426cc1024ef2d95110c3</td>\n",
       "      <td>111866482309718</td>\n",
       "      <td>35</td>\n",
       "      <td>36</td>\n",
       "      <td>33</td>\n",
       "      <td>2</td>\n",
       "      <td>-1</td>\n",
       "      <td>3</td>\n",
       "    </tr>\n",
       "    <tr>\n",
       "      <th>548</th>\n",
       "      <td>6263acc5367e283277f9a0ef</td>\n",
       "      <td>255196315299560</td>\n",
       "      <td>11</td>\n",
       "      <td>11</td>\n",
       "      <td>11</td>\n",
       "      <td>0</td>\n",
       "      <td>0</td>\n",
       "      <td>0</td>\n",
       "    </tr>\n",
       "    <tr>\n",
       "      <th>549</th>\n",
       "      <td>6263acc5367e283277f9a0ef</td>\n",
       "      <td>111866482309718</td>\n",
       "      <td>35</td>\n",
       "      <td>36</td>\n",
       "      <td>33</td>\n",
       "      <td>2</td>\n",
       "      <td>-1</td>\n",
       "      <td>3</td>\n",
       "    </tr>\n",
       "  </tbody>\n",
       "</table>\n",
       "<p>550 rows × 8 columns</p>\n",
       "</div>"
      ],
      "text/plain": [
       "                   account_id       adgroup_id 365_days 180_days 90_days  \\\n",
       "0    5ffdb895b08512986422b08c  144980610686053       14       11      11   \n",
       "1    5ffdb895b08512986422b08c   60175740392859       13       15      17   \n",
       "2    5ffdb895b08512986422b08c   96484107418934       13       12      12   \n",
       "3    5ffdb895b08512986422b08c  256692167766571        8        6       4   \n",
       "4    5ffdb895b08512986422b08c  126012498669947       35       34      32   \n",
       "..                        ...              ...      ...      ...     ...   \n",
       "545  623dda6df77df1d4d204dfc9   84078237083028       28       15      11   \n",
       "546  6261426cc1024ef2d95110c3  255196315299560       11       11      11   \n",
       "547  6261426cc1024ef2d95110c3  111866482309718       35       36      33   \n",
       "548  6263acc5367e283277f9a0ef  255196315299560       11       11      11   \n",
       "549  6263acc5367e283277f9a0ef  111866482309718       35       36      33   \n",
       "\n",
       "    365_90 365_180 180_90  \n",
       "0        3       3      0  \n",
       "1       -4      -2     -2  \n",
       "2        1       1      0  \n",
       "3        4       2      2  \n",
       "4        3       1      2  \n",
       "..     ...     ...    ...  \n",
       "545     17      13      4  \n",
       "546      0       0      0  \n",
       "547      2      -1      3  \n",
       "548      0       0      0  \n",
       "549      2      -1      3  \n",
       "\n",
       "[550 rows x 8 columns]"
      ]
     },
     "execution_count": 154,
     "metadata": {},
     "output_type": "execute_result"
    }
   ],
   "source": [
    "df"
   ]
  },
  {
   "cell_type": "code",
   "execution_count": 158,
   "metadata": {},
   "outputs": [
    {
     "data": {
      "text/plain": [
       "95"
      ]
     },
     "execution_count": 158,
     "metadata": {},
     "output_type": "execute_result"
    }
   ],
   "source": [
    "len(df[df['365_90']==0])"
   ]
  },
  {
   "cell_type": "code",
   "execution_count": 159,
   "metadata": {},
   "outputs": [
    {
     "data": {
      "text/plain": [
       "162"
      ]
     },
     "execution_count": 159,
     "metadata": {},
     "output_type": "execute_result"
    }
   ],
   "source": [
    "len(df[df['365_180']==0])"
   ]
  },
  {
   "cell_type": "code",
   "execution_count": 160,
   "metadata": {},
   "outputs": [
    {
     "data": {
      "text/plain": [
       "115"
      ]
     },
     "execution_count": 160,
     "metadata": {},
     "output_type": "execute_result"
    }
   ],
   "source": [
    "len(df[df['180_90']==0])"
   ]
  },
  {
   "cell_type": "code",
   "execution_count": 163,
   "metadata": {},
   "outputs": [
    {
     "data": {
      "text/html": [
       "<div>\n",
       "<style scoped>\n",
       "    .dataframe tbody tr th:only-of-type {\n",
       "        vertical-align: middle;\n",
       "    }\n",
       "\n",
       "    .dataframe tbody tr th {\n",
       "        vertical-align: top;\n",
       "    }\n",
       "\n",
       "    .dataframe thead th {\n",
       "        text-align: right;\n",
       "    }\n",
       "</style>\n",
       "<table border=\"1\" class=\"dataframe\">\n",
       "  <thead>\n",
       "    <tr style=\"text-align: right;\">\n",
       "      <th></th>\n",
       "      <th>account_id</th>\n",
       "      <th>adgroup_id</th>\n",
       "      <th>365_days</th>\n",
       "      <th>180_days</th>\n",
       "      <th>90_days</th>\n",
       "      <th>365_90</th>\n",
       "      <th>365_180</th>\n",
       "      <th>180_90</th>\n",
       "    </tr>\n",
       "  </thead>\n",
       "  <tbody>\n",
       "    <tr>\n",
       "      <th>0</th>\n",
       "      <td>5ffdb895b08512986422b08c</td>\n",
       "      <td>144980610686053</td>\n",
       "      <td>14</td>\n",
       "      <td>11</td>\n",
       "      <td>11</td>\n",
       "      <td>3</td>\n",
       "      <td>3</td>\n",
       "      <td>0</td>\n",
       "    </tr>\n",
       "    <tr>\n",
       "      <th>2</th>\n",
       "      <td>5ffdb895b08512986422b08c</td>\n",
       "      <td>96484107418934</td>\n",
       "      <td>13</td>\n",
       "      <td>12</td>\n",
       "      <td>12</td>\n",
       "      <td>1</td>\n",
       "      <td>1</td>\n",
       "      <td>0</td>\n",
       "    </tr>\n",
       "    <tr>\n",
       "      <th>3</th>\n",
       "      <td>5ffdb895b08512986422b08c</td>\n",
       "      <td>256692167766571</td>\n",
       "      <td>8</td>\n",
       "      <td>6</td>\n",
       "      <td>4</td>\n",
       "      <td>4</td>\n",
       "      <td>2</td>\n",
       "      <td>2</td>\n",
       "    </tr>\n",
       "    <tr>\n",
       "      <th>4</th>\n",
       "      <td>5ffdb895b08512986422b08c</td>\n",
       "      <td>126012498669947</td>\n",
       "      <td>35</td>\n",
       "      <td>34</td>\n",
       "      <td>32</td>\n",
       "      <td>3</td>\n",
       "      <td>1</td>\n",
       "      <td>2</td>\n",
       "    </tr>\n",
       "    <tr>\n",
       "      <th>7</th>\n",
       "      <td>5ffdb895b08512986422b08c</td>\n",
       "      <td>75002577140234</td>\n",
       "      <td>31</td>\n",
       "      <td>30</td>\n",
       "      <td>30</td>\n",
       "      <td>1</td>\n",
       "      <td>1</td>\n",
       "      <td>0</td>\n",
       "    </tr>\n",
       "    <tr>\n",
       "      <th>...</th>\n",
       "      <td>...</td>\n",
       "      <td>...</td>\n",
       "      <td>...</td>\n",
       "      <td>...</td>\n",
       "      <td>...</td>\n",
       "      <td>...</td>\n",
       "      <td>...</td>\n",
       "      <td>...</td>\n",
       "    </tr>\n",
       "    <tr>\n",
       "      <th>545</th>\n",
       "      <td>623dda6df77df1d4d204dfc9</td>\n",
       "      <td>84078237083028</td>\n",
       "      <td>28</td>\n",
       "      <td>15</td>\n",
       "      <td>11</td>\n",
       "      <td>17</td>\n",
       "      <td>13</td>\n",
       "      <td>4</td>\n",
       "    </tr>\n",
       "    <tr>\n",
       "      <th>546</th>\n",
       "      <td>6261426cc1024ef2d95110c3</td>\n",
       "      <td>255196315299560</td>\n",
       "      <td>11</td>\n",
       "      <td>11</td>\n",
       "      <td>11</td>\n",
       "      <td>0</td>\n",
       "      <td>0</td>\n",
       "      <td>0</td>\n",
       "    </tr>\n",
       "    <tr>\n",
       "      <th>547</th>\n",
       "      <td>6261426cc1024ef2d95110c3</td>\n",
       "      <td>111866482309718</td>\n",
       "      <td>35</td>\n",
       "      <td>36</td>\n",
       "      <td>33</td>\n",
       "      <td>2</td>\n",
       "      <td>-1</td>\n",
       "      <td>3</td>\n",
       "    </tr>\n",
       "    <tr>\n",
       "      <th>548</th>\n",
       "      <td>6263acc5367e283277f9a0ef</td>\n",
       "      <td>255196315299560</td>\n",
       "      <td>11</td>\n",
       "      <td>11</td>\n",
       "      <td>11</td>\n",
       "      <td>0</td>\n",
       "      <td>0</td>\n",
       "      <td>0</td>\n",
       "    </tr>\n",
       "    <tr>\n",
       "      <th>549</th>\n",
       "      <td>6263acc5367e283277f9a0ef</td>\n",
       "      <td>111866482309718</td>\n",
       "      <td>35</td>\n",
       "      <td>36</td>\n",
       "      <td>33</td>\n",
       "      <td>2</td>\n",
       "      <td>-1</td>\n",
       "      <td>3</td>\n",
       "    </tr>\n",
       "  </tbody>\n",
       "</table>\n",
       "<p>373 rows × 8 columns</p>\n",
       "</div>"
      ],
      "text/plain": [
       "                   account_id       adgroup_id 365_days 180_days 90_days  \\\n",
       "0    5ffdb895b08512986422b08c  144980610686053       14       11      11   \n",
       "2    5ffdb895b08512986422b08c   96484107418934       13       12      12   \n",
       "3    5ffdb895b08512986422b08c  256692167766571        8        6       4   \n",
       "4    5ffdb895b08512986422b08c  126012498669947       35       34      32   \n",
       "7    5ffdb895b08512986422b08c   75002577140234       31       30      30   \n",
       "..                        ...              ...      ...      ...     ...   \n",
       "545  623dda6df77df1d4d204dfc9   84078237083028       28       15      11   \n",
       "546  6261426cc1024ef2d95110c3  255196315299560       11       11      11   \n",
       "547  6261426cc1024ef2d95110c3  111866482309718       35       36      33   \n",
       "548  6263acc5367e283277f9a0ef  255196315299560       11       11      11   \n",
       "549  6263acc5367e283277f9a0ef  111866482309718       35       36      33   \n",
       "\n",
       "    365_90 365_180 180_90  \n",
       "0        3       3      0  \n",
       "2        1       1      0  \n",
       "3        4       2      2  \n",
       "4        3       1      2  \n",
       "7        1       1      0  \n",
       "..     ...     ...    ...  \n",
       "545     17      13      4  \n",
       "546      0       0      0  \n",
       "547      2      -1      3  \n",
       "548      0       0      0  \n",
       "549      2      -1      3  \n",
       "\n",
       "[373 rows x 8 columns]"
      ]
     },
     "execution_count": 163,
     "metadata": {},
     "output_type": "execute_result"
    }
   ],
   "source": [
    "df[df['365_90']>-1]"
   ]
  },
  {
   "cell_type": "code",
   "execution_count": null,
   "metadata": {},
   "outputs": [],
   "source": []
  }
 ],
 "metadata": {
  "kernelspec": {
   "display_name": "Python 3",
   "language": "python",
   "name": "python3"
  },
  "language_info": {
   "codemirror_mode": {
    "name": "ipython",
    "version": 3
   },
   "file_extension": ".py",
   "mimetype": "text/x-python",
   "name": "python",
   "nbconvert_exporter": "python",
   "pygments_lexer": "ipython3",
   "version": "3.8.16"
  }
 },
 "nbformat": 4,
 "nbformat_minor": 4
}
