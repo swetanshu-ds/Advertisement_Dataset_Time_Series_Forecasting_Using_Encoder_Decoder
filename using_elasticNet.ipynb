{
 "cells": [
  {
   "cell_type": "markdown",
   "id": "e63b8b2d",
   "metadata": {},
   "source": [
    "# Importing the libraries"
   ]
  },
  {
   "cell_type": "code",
   "execution_count": 2,
   "id": "d6fcf8f8",
   "metadata": {},
   "outputs": [],
   "source": [
    "import pandas as pd\n",
    "import numpy as np\n",
    "import seaborn as sns\n",
    "import matplotlib.pyplot as plt\n",
    "%matplotlib inline\n",
    "from sklearn.linear_model import LinearRegression\n",
    "from sklearn.preprocessing import MinMaxScaler\n",
    "from sklearn.model_selection import train_test_split\n",
    "from sklearn.linear_model import Ridge\n",
    "from sklearn.linear_model import Lasso\n",
    "from sklearn.linear_model import ElasticNet\n",
    "from sklearn.preprocessing import StandardScaler\n",
    "from xgboost import XGBRegressor\n",
    "import warnings\n",
    "warnings.filterwarnings('ignore')\n",
    "from sklearn.metrics import accuracy_score,mean_squared_error,r2_score,precision_score,recall_score,f1_score,mean_absolute_error"
   ]
  },
  {
   "cell_type": "markdown",
   "id": "ad38e110",
   "metadata": {},
   "source": [
    "## importing the dataset"
   ]
  },
  {
   "cell_type": "code",
   "execution_count": 3,
   "id": "e0002164",
   "metadata": {},
   "outputs": [],
   "source": [
    "df = pd.read_csv(\"new_data.csv\")"
   ]
  },
  {
   "cell_type": "code",
   "execution_count": 4,
   "id": "14912ff2",
   "metadata": {},
   "outputs": [
    {
     "data": {
      "text/html": [
       "<div>\n",
       "<style scoped>\n",
       "    .dataframe tbody tr th:only-of-type {\n",
       "        vertical-align: middle;\n",
       "    }\n",
       "\n",
       "    .dataframe tbody tr th {\n",
       "        vertical-align: top;\n",
       "    }\n",
       "\n",
       "    .dataframe thead th {\n",
       "        text-align: right;\n",
       "    }\n",
       "</style>\n",
       "<table border=\"1\" class=\"dataframe\">\n",
       "  <thead>\n",
       "    <tr style=\"text-align: right;\">\n",
       "      <th></th>\n",
       "      <th>Unnamed: 0</th>\n",
       "      <th>spend</th>\n",
       "      <th>clicks</th>\n",
       "      <th>impressions</th>\n",
       "      <th>sales</th>\n",
       "      <th>orders</th>\n",
       "      <th>ROAS</th>\n",
       "      <th>bid</th>\n",
       "      <th>price</th>\n",
       "      <th>id</th>\n",
       "      <th>date</th>\n",
       "    </tr>\n",
       "  </thead>\n",
       "  <tbody>\n",
       "    <tr>\n",
       "      <th>0</th>\n",
       "      <td>0</td>\n",
       "      <td>0.0</td>\n",
       "      <td>0.0</td>\n",
       "      <td>1.0</td>\n",
       "      <td>0.0</td>\n",
       "      <td>0.0</td>\n",
       "      <td>0.0</td>\n",
       "      <td>0.0</td>\n",
       "      <td>0.0</td>\n",
       "      <td>6.016817e+10</td>\n",
       "      <td>2022-07-24</td>\n",
       "    </tr>\n",
       "    <tr>\n",
       "      <th>1</th>\n",
       "      <td>1</td>\n",
       "      <td>0.0</td>\n",
       "      <td>0.0</td>\n",
       "      <td>7.0</td>\n",
       "      <td>0.0</td>\n",
       "      <td>0.0</td>\n",
       "      <td>0.0</td>\n",
       "      <td>0.0</td>\n",
       "      <td>0.0</td>\n",
       "      <td>6.016817e+10</td>\n",
       "      <td>2022-07-29</td>\n",
       "    </tr>\n",
       "    <tr>\n",
       "      <th>2</th>\n",
       "      <td>2</td>\n",
       "      <td>0.0</td>\n",
       "      <td>0.0</td>\n",
       "      <td>1.0</td>\n",
       "      <td>0.0</td>\n",
       "      <td>0.0</td>\n",
       "      <td>0.0</td>\n",
       "      <td>0.0</td>\n",
       "      <td>0.0</td>\n",
       "      <td>6.016817e+10</td>\n",
       "      <td>2022-07-30</td>\n",
       "    </tr>\n",
       "    <tr>\n",
       "      <th>3</th>\n",
       "      <td>3</td>\n",
       "      <td>0.0</td>\n",
       "      <td>0.0</td>\n",
       "      <td>1.0</td>\n",
       "      <td>0.0</td>\n",
       "      <td>0.0</td>\n",
       "      <td>0.0</td>\n",
       "      <td>0.0</td>\n",
       "      <td>0.0</td>\n",
       "      <td>6.016817e+10</td>\n",
       "      <td>2022-08-01</td>\n",
       "    </tr>\n",
       "    <tr>\n",
       "      <th>4</th>\n",
       "      <td>4</td>\n",
       "      <td>0.0</td>\n",
       "      <td>0.0</td>\n",
       "      <td>1.0</td>\n",
       "      <td>0.0</td>\n",
       "      <td>0.0</td>\n",
       "      <td>0.0</td>\n",
       "      <td>0.0</td>\n",
       "      <td>0.0</td>\n",
       "      <td>6.016817e+10</td>\n",
       "      <td>2022-08-03</td>\n",
       "    </tr>\n",
       "  </tbody>\n",
       "</table>\n",
       "</div>"
      ],
      "text/plain": [
       "   Unnamed: 0  spend  clicks  impressions  sales  orders  ROAS  bid  price  \\\n",
       "0           0    0.0     0.0          1.0    0.0     0.0   0.0  0.0    0.0   \n",
       "1           1    0.0     0.0          7.0    0.0     0.0   0.0  0.0    0.0   \n",
       "2           2    0.0     0.0          1.0    0.0     0.0   0.0  0.0    0.0   \n",
       "3           3    0.0     0.0          1.0    0.0     0.0   0.0  0.0    0.0   \n",
       "4           4    0.0     0.0          1.0    0.0     0.0   0.0  0.0    0.0   \n",
       "\n",
       "             id        date  \n",
       "0  6.016817e+10  2022-07-24  \n",
       "1  6.016817e+10  2022-07-29  \n",
       "2  6.016817e+10  2022-07-30  \n",
       "3  6.016817e+10  2022-08-01  \n",
       "4  6.016817e+10  2022-08-03  "
      ]
     },
     "execution_count": 4,
     "metadata": {},
     "output_type": "execute_result"
    }
   ],
   "source": [
    "df.head()"
   ]
  },
  {
   "cell_type": "code",
   "execution_count": 5,
   "id": "557fdcc3",
   "metadata": {
    "scrolled": true
   },
   "outputs": [
    {
     "data": {
      "text/plain": [
       "Unnamed: 0       int64\n",
       "spend          float64\n",
       "clicks         float64\n",
       "impressions    float64\n",
       "sales          float64\n",
       "orders         float64\n",
       "ROAS           float64\n",
       "bid            float64\n",
       "price          float64\n",
       "id             float64\n",
       "date            object\n",
       "dtype: object"
      ]
     },
     "execution_count": 5,
     "metadata": {},
     "output_type": "execute_result"
    }
   ],
   "source": [
    "# checking the datatypes\n",
    "df.dtypes"
   ]
  },
  {
   "cell_type": "code",
   "execution_count": 6,
   "id": "cccacb32",
   "metadata": {},
   "outputs": [],
   "source": [
    "# Changing the dates column to datetime datatype and dropping the unnecessary column\n",
    "\n",
    "df.drop(columns = \"Unnamed: 0\",inplace = True)\n",
    "df[\"Dates\"] = pd.to_datetime(df.date,format = \"%Y-%m-%d\")\n",
    "df.drop(columns = \"date\",inplace = True)\n",
    "df[\"day\"] = df[\"Dates\"].dt.day\n",
    "df[\"month\"] = df[\"Dates\"].dt.month\n",
    "df.drop(columns = \"id\",inplace = True)\n",
    "df.drop(columns = \"Dates\",inplace = True)\n",
    "df[\"day\"]   = df[\"day\"].astype(\"float64\")\n",
    "df[\"month\"] = df[\"month\"].astype(\"float64\")"
   ]
  },
  {
   "cell_type": "code",
   "execution_count": 7,
   "id": "87a4664b",
   "metadata": {},
   "outputs": [
    {
     "data": {
      "text/plain": [
       "spend          float64\n",
       "clicks         float64\n",
       "impressions    float64\n",
       "sales          float64\n",
       "orders         float64\n",
       "ROAS           float64\n",
       "bid            float64\n",
       "price          float64\n",
       "day            float64\n",
       "month          float64\n",
       "dtype: object"
      ]
     },
     "execution_count": 7,
     "metadata": {},
     "output_type": "execute_result"
    }
   ],
   "source": [
    "# Checking the datatypes\n",
    "df.dtypes"
   ]
  },
  {
   "cell_type": "markdown",
   "id": "024cb11a",
   "metadata": {},
   "source": [
    "#### Dividing the data into the X and Y datasets"
   ]
  },
  {
   "cell_type": "code",
   "execution_count": 8,
   "id": "6d7a7de2",
   "metadata": {},
   "outputs": [],
   "source": [
    "X = df[['spend', 'clicks', 'impressions', 'sales', 'orders', 'ROAS','price', 'day', 'month']]\n",
    "Y = df[[\"bid\"]]"
   ]
  },
  {
   "cell_type": "code",
   "execution_count": 9,
   "id": "dee57b28",
   "metadata": {},
   "outputs": [],
   "source": [
    "final_dict = {\"Feature\":[],\"Score\":[],\"Model_name\":[],\"rmse_val\":[],\"r2_score\":[],\"mse\":[],\"mae\":[]}\n",
    "def add_record(df,feature,model,rmse,r2,mse,mae):\n",
    "    df['Feature'].append(feature)\n",
    "    df[\"Score\"].append(score)\n",
    "    df[\"Model_name\"].append(model)\n",
    "    df['rmse_val'].append(rmse)\n",
    "    df[\"r2_score\"].append(r2)\n",
    "    df[\"mse\"].append(mse)\n",
    "    df['mae'].append(mae)"
   ]
  },
  {
   "cell_type": "markdown",
   "id": "ee38734f",
   "metadata": {},
   "source": [
    "### Feature Selection"
   ]
  },
  {
   "cell_type": "code",
   "execution_count": 10,
   "id": "e672a4a0",
   "metadata": {},
   "outputs": [],
   "source": [
    "X = df[[\"spend\",\"clicks\", \"impressions\", \"sales\", \"orders\",\"ROAS\",\"price\",\"day\",\"month\"]]\n",
    "Y = df[[\"bid\"]]\n",
    "new_y = Y[['bid']]  \n",
    "a = [\"clicks\",\"impressions\",\"orders\",\"price\",\"day\",\"month\"]"
   ]
  },
  {
   "cell_type": "code",
   "execution_count": 11,
   "id": "d19917a7",
   "metadata": {},
   "outputs": [],
   "source": [
    "for i in a:\n",
    "\n",
    "    new_x = X[['spend','sales','ROAS',i,\"day\",\"month\"]]\n",
    " \n",
    "    # Perform the train test split\n",
    "    \n",
    "    x_train,x_test,y_train,y_test = train_test_split(new_x,new_y,test_size = 0.3,random_state = 42)\n",
    "    \n",
    "    # Standarizing the dataset\n",
    "    \n",
    "    scaler_X = StandardScaler()\n",
    "    scaler_Y = StandardScaler()\n",
    "    x_train_scaled = scaler_X.fit_transform(x_train)\n",
    "    y_train_scaled = scaler_Y.fit_transform(y_train)\n",
    "    x_test_scaled = scaler_X.transform(x_test)\n",
    "    y_test_scaled = scaler_Y.transform(y_test)\n",
    "    \n",
    "    # Model training \n",
    "    model = ElasticNet(alpha = 0.1)\n",
    "    model.fit(x_train_scaled,y_train_scaled)\n",
    "    y_pred = model.predict((x_test_scaled))\n",
    "    \n",
    "    \n",
    "    # Finding the score \n",
    "    score = [model.score(x_train_scaled,y_train_scaled),model.score(x_test_scaled,y_test_scaled)]\n",
    "    mse = mean_squared_error(y_test_scaled,y_pred)\n",
    "    rmse = np.sqrt(mean_squared_error(y_test_scaled,y_pred))\n",
    "    r2 = r2_score(y_test_scaled,y_pred)\n",
    "    mae = mean_absolute_error(y_test_scaled,y_pred)\n",
    "    add_record(final_dict,i,\"ElasticNet Regression\",rmse,r2,mse,mae)"
   ]
  },
  {
   "cell_type": "code",
   "execution_count": 12,
   "id": "5b3180e7",
   "metadata": {},
   "outputs": [
    {
     "data": {
      "text/html": [
       "<div>\n",
       "<style scoped>\n",
       "    .dataframe tbody tr th:only-of-type {\n",
       "        vertical-align: middle;\n",
       "    }\n",
       "\n",
       "    .dataframe tbody tr th {\n",
       "        vertical-align: top;\n",
       "    }\n",
       "\n",
       "    .dataframe thead th {\n",
       "        text-align: right;\n",
       "    }\n",
       "</style>\n",
       "<table border=\"1\" class=\"dataframe\">\n",
       "  <thead>\n",
       "    <tr style=\"text-align: right;\">\n",
       "      <th></th>\n",
       "      <th>Feature</th>\n",
       "      <th>Score</th>\n",
       "      <th>Model_name</th>\n",
       "      <th>rmse_val</th>\n",
       "      <th>r2_score</th>\n",
       "      <th>mse</th>\n",
       "      <th>mae</th>\n",
       "    </tr>\n",
       "  </thead>\n",
       "  <tbody>\n",
       "    <tr>\n",
       "      <th>0</th>\n",
       "      <td>clicks</td>\n",
       "      <td>[0.38214760190344355, 0.3837017838807153]</td>\n",
       "      <td>ElasticNet Regression</td>\n",
       "      <td>0.787778</td>\n",
       "      <td>0.383702</td>\n",
       "      <td>0.620594</td>\n",
       "      <td>0.515842</td>\n",
       "    </tr>\n",
       "    <tr>\n",
       "      <th>1</th>\n",
       "      <td>impressions</td>\n",
       "      <td>[0.38214760190344355, 0.3837017838807153]</td>\n",
       "      <td>ElasticNet Regression</td>\n",
       "      <td>0.787778</td>\n",
       "      <td>0.383702</td>\n",
       "      <td>0.620594</td>\n",
       "      <td>0.515842</td>\n",
       "    </tr>\n",
       "    <tr>\n",
       "      <th>2</th>\n",
       "      <td>orders</td>\n",
       "      <td>[0.38214760190344355, 0.3837017838807153]</td>\n",
       "      <td>ElasticNet Regression</td>\n",
       "      <td>0.787778</td>\n",
       "      <td>0.383702</td>\n",
       "      <td>0.620594</td>\n",
       "      <td>0.515842</td>\n",
       "    </tr>\n",
       "    <tr>\n",
       "      <th>3</th>\n",
       "      <td>price</td>\n",
       "      <td>[0.38214760190344355, 0.3837017838807153]</td>\n",
       "      <td>ElasticNet Regression</td>\n",
       "      <td>0.787778</td>\n",
       "      <td>0.383702</td>\n",
       "      <td>0.620594</td>\n",
       "      <td>0.515842</td>\n",
       "    </tr>\n",
       "    <tr>\n",
       "      <th>4</th>\n",
       "      <td>day</td>\n",
       "      <td>[0.38214760190344355, 0.3837017838807153]</td>\n",
       "      <td>ElasticNet Regression</td>\n",
       "      <td>0.787778</td>\n",
       "      <td>0.383702</td>\n",
       "      <td>0.620594</td>\n",
       "      <td>0.515842</td>\n",
       "    </tr>\n",
       "    <tr>\n",
       "      <th>5</th>\n",
       "      <td>month</td>\n",
       "      <td>[0.38214760190344355, 0.3837017838807153]</td>\n",
       "      <td>ElasticNet Regression</td>\n",
       "      <td>0.787778</td>\n",
       "      <td>0.383702</td>\n",
       "      <td>0.620594</td>\n",
       "      <td>0.515842</td>\n",
       "    </tr>\n",
       "  </tbody>\n",
       "</table>\n",
       "</div>"
      ],
      "text/plain": [
       "       Feature                                      Score  \\\n",
       "0       clicks  [0.38214760190344355, 0.3837017838807153]   \n",
       "1  impressions  [0.38214760190344355, 0.3837017838807153]   \n",
       "2       orders  [0.38214760190344355, 0.3837017838807153]   \n",
       "3        price  [0.38214760190344355, 0.3837017838807153]   \n",
       "4          day  [0.38214760190344355, 0.3837017838807153]   \n",
       "5        month  [0.38214760190344355, 0.3837017838807153]   \n",
       "\n",
       "              Model_name  rmse_val  r2_score       mse       mae  \n",
       "0  ElasticNet Regression  0.787778  0.383702  0.620594  0.515842  \n",
       "1  ElasticNet Regression  0.787778  0.383702  0.620594  0.515842  \n",
       "2  ElasticNet Regression  0.787778  0.383702  0.620594  0.515842  \n",
       "3  ElasticNet Regression  0.787778  0.383702  0.620594  0.515842  \n",
       "4  ElasticNet Regression  0.787778  0.383702  0.620594  0.515842  \n",
       "5  ElasticNet Regression  0.787778  0.383702  0.620594  0.515842  "
      ]
     },
     "execution_count": 12,
     "metadata": {},
     "output_type": "execute_result"
    }
   ],
   "source": [
    "pd.DataFrame(final_dict)"
   ]
  },
  {
   "cell_type": "markdown",
   "id": "20aea8f1",
   "metadata": {},
   "source": [
    "## Building a predictive system"
   ]
  },
  {
   "cell_type": "code",
   "execution_count": 13,
   "id": "2ba5b31e",
   "metadata": {},
   "outputs": [],
   "source": [
    "def predict(model):\n",
    "    new_x = X[['spend','sales','clicks','ROAS',\"day\",\"month\"]]\n",
    "    new_y = Y[[\"bid\"]]\n",
    "\n",
    "    # Perform the train test split\n",
    "\n",
    "    x_train,x_test,y_train,y_test = train_test_split(new_x,new_y,test_size = 0.3,random_state = 42)\n",
    "\n",
    "    # Standarizing the dataset\n",
    "\n",
    "    scaler_X = StandardScaler()\n",
    "    scaler_Y = StandardScaler()\n",
    "    x_train_scaled = scaler_X.fit_transform(x_train)\n",
    "    y_train_scaled = scaler_Y.fit_transform(y_train)\n",
    "    x_test_scaled = scaler_X.transform(x_test)\n",
    "    y_test_scaled = scaler_Y.transform(y_test)\n",
    "\n",
    "    # Model training \n",
    "    model = model()\n",
    "    model.fit(x_train_scaled,y_train_scaled)\n",
    "    y_pred = model.predict((x_test_scaled))\n",
    "\n",
    "\n",
    "    spend = float(input(\"Enter the spend value: \"))\n",
    "    sales = float(input(\"Enter the sales value: \"))\n",
    "    ROAS = float(input(\"Enter the ROAS value: \"))\n",
    "    clicks = float(input(\"Enter the clicks value: \"))\n",
    "    day = float(input(\"Enter the day value: \"))\n",
    "    month = float(input(\"Enter the month value: \"))\n",
    "    \n",
    "    print(\"The Expected bid value is : \",model.predict([[spend,sales,clicks,ROAS,day,month]]))"
   ]
  },
  {
   "cell_type": "markdown",
   "id": "bbe8f078",
   "metadata": {},
   "source": [
    "#### Call the function"
   ]
  },
  {
   "cell_type": "code",
   "execution_count": 14,
   "id": "47c49b92",
   "metadata": {
    "scrolled": true
   },
   "outputs": [
    {
     "name": "stdout",
     "output_type": "stream",
     "text": [
      "Enter the spend value: 23\n",
      "Enter the sales value: 03\n",
      "Enter the ROAS value: 031\n",
      "Enter the clicks value: 2\n",
      "Enter the day value: 9\n",
      "Enter the month value: 2\n",
      "The Expected bid value is :  [1.85633622]\n"
     ]
    }
   ],
   "source": [
    "predict(ElasticNet)"
   ]
  },
  {
   "cell_type": "markdown",
   "id": "1da0081c",
   "metadata": {},
   "source": [
    "# Project Completed by - Swetanshu Pandey"
   ]
  },
  {
   "cell_type": "code",
   "execution_count": null,
   "id": "31f09b89",
   "metadata": {},
   "outputs": [],
   "source": []
  }
 ],
 "metadata": {
  "kernelspec": {
   "display_name": "Python 3 (ipykernel)",
   "language": "python",
   "name": "python3"
  },
  "language_info": {
   "codemirror_mode": {
    "name": "ipython",
    "version": 3
   },
   "file_extension": ".py",
   "mimetype": "text/x-python",
   "name": "python",
   "nbconvert_exporter": "python",
   "pygments_lexer": "ipython3",
   "version": "3.9.13"
  }
 },
 "nbformat": 4,
 "nbformat_minor": 5
}
